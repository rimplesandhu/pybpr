{
 "cells": [
  {
   "cell_type": "markdown",
   "id": "1971f6cf",
   "metadata": {},
   "source": [
    "## ALS example"
   ]
  },
  {
   "cell_type": "code",
   "execution_count": 97,
   "id": "6985b0da",
   "metadata": {},
   "outputs": [
    {
     "name": "stdout",
     "output_type": "stream",
     "text": [
      "The autoreload extension is already loaded. To reload it, use:\n",
      "  %reload_ext autoreload\n"
     ]
    }
   ],
   "source": [
    "#%load_ext watermark\n",
    "%load_ext autoreload \n",
    "%autoreload 2"
   ]
  },
  {
   "cell_type": "code",
   "execution_count": 98,
   "id": "6f571098",
   "metadata": {},
   "outputs": [],
   "source": [
    "import os\n",
    "import sys\n",
    "import numpy as np\n",
    "import pandas as pd\n",
    "import scipy as sp\n",
    "from subprocess import call\n",
    "from pybpr import *\n",
    "import matplotlib.pyplot as plt"
   ]
  },
  {
   "cell_type": "code",
   "execution_count": 115,
   "id": "dc81cb5d",
   "metadata": {},
   "outputs": [],
   "source": [
    "cf = cf_basic\n",
    "#df = load_movielens_data('ml-10M100K') # this takes time\n",
    "df = load_movielens_data('ml-1m')\n",
    "dfshort = df[df['rating'] > 2]\n",
    "cf = RecommenderSetup(\n",
    "    users = dfshort['user_id'], \n",
    "    items = dfshort['item_id'],\n",
    "    timestamps = dfshort['timestamp'],\n",
    "    min_user_interactions=10,\n",
    "    min_item_interactions=10\n",
    ")\n",
    "cf.generate_train_test(\n",
    "    user_test_ratio=0.25,\n",
    "    seed=1234\n",
    ")"
   ]
  },
  {
   "cell_type": "code",
   "execution_count": 116,
   "id": "a1693b6b",
   "metadata": {},
   "outputs": [
    {
     "name": "stdout",
     "output_type": "stream",
     "text": [
      "Pandas df = 9.87 MB\n",
      "Sparse User-Item matrix = 0.8 MB\n"
     ]
    }
   ],
   "source": [
    "cf.get_memory_usage()"
   ]
  },
  {
   "cell_type": "code",
   "execution_count": 117,
   "id": "02166297",
   "metadata": {},
   "outputs": [
    {
     "data": {
      "text/html": [
       "<div>\n",
       "<style scoped>\n",
       "    .dataframe tbody tr th:only-of-type {\n",
       "        vertical-align: middle;\n",
       "    }\n",
       "\n",
       "    .dataframe tbody tr th {\n",
       "        vertical-align: top;\n",
       "    }\n",
       "\n",
       "    .dataframe thead th {\n",
       "        text-align: right;\n",
       "    }\n",
       "</style>\n",
       "<table border=\"1\" class=\"dataframe\">\n",
       "  <thead>\n",
       "    <tr style=\"text-align: right;\">\n",
       "      <th></th>\n",
       "      <th>User</th>\n",
       "      <th>Item</th>\n",
       "      <th>Timestamp</th>\n",
       "    </tr>\n",
       "  </thead>\n",
       "  <tbody>\n",
       "    <tr>\n",
       "      <th>0</th>\n",
       "      <td>1</td>\n",
       "      <td>1193</td>\n",
       "      <td>978300760</td>\n",
       "    </tr>\n",
       "    <tr>\n",
       "      <th>1</th>\n",
       "      <td>1</td>\n",
       "      <td>661</td>\n",
       "      <td>978302109</td>\n",
       "    </tr>\n",
       "    <tr>\n",
       "      <th>2</th>\n",
       "      <td>1</td>\n",
       "      <td>914</td>\n",
       "      <td>978301968</td>\n",
       "    </tr>\n",
       "    <tr>\n",
       "      <th>3</th>\n",
       "      <td>1</td>\n",
       "      <td>3408</td>\n",
       "      <td>978300275</td>\n",
       "    </tr>\n",
       "    <tr>\n",
       "      <th>4</th>\n",
       "      <td>1</td>\n",
       "      <td>2355</td>\n",
       "      <td>978824291</td>\n",
       "    </tr>\n",
       "    <tr>\n",
       "      <th>...</th>\n",
       "      <td>...</td>\n",
       "      <td>...</td>\n",
       "      <td>...</td>\n",
       "    </tr>\n",
       "    <tr>\n",
       "      <th>834114</th>\n",
       "      <td>6040</td>\n",
       "      <td>1090</td>\n",
       "      <td>956715518</td>\n",
       "    </tr>\n",
       "    <tr>\n",
       "      <th>834115</th>\n",
       "      <td>6040</td>\n",
       "      <td>1094</td>\n",
       "      <td>956704887</td>\n",
       "    </tr>\n",
       "    <tr>\n",
       "      <th>834116</th>\n",
       "      <td>6040</td>\n",
       "      <td>562</td>\n",
       "      <td>956704746</td>\n",
       "    </tr>\n",
       "    <tr>\n",
       "      <th>834117</th>\n",
       "      <td>6040</td>\n",
       "      <td>1096</td>\n",
       "      <td>956715648</td>\n",
       "    </tr>\n",
       "    <tr>\n",
       "      <th>834118</th>\n",
       "      <td>6040</td>\n",
       "      <td>1097</td>\n",
       "      <td>956715569</td>\n",
       "    </tr>\n",
       "  </tbody>\n",
       "</table>\n",
       "<p>834119 rows × 3 columns</p>\n",
       "</div>"
      ],
      "text/plain": [
       "        User  Item  Timestamp\n",
       "0          1  1193  978300760\n",
       "1          1   661  978302109\n",
       "2          1   914  978301968\n",
       "3          1  3408  978300275\n",
       "4          1  2355  978824291\n",
       "...      ...   ...        ...\n",
       "834114  6040  1090  956715518\n",
       "834115  6040  1094  956704887\n",
       "834116  6040   562  956704746\n",
       "834117  6040  1096  956715648\n",
       "834118  6040  1097  956715569\n",
       "\n",
       "[834119 rows x 3 columns]"
      ]
     },
     "execution_count": 117,
     "metadata": {},
     "output_type": "execute_result"
    }
   ],
   "source": [
    "cf.df"
   ]
  },
  {
   "cell_type": "code",
   "execution_count": 119,
   "id": "cdb23836",
   "metadata": {},
   "outputs": [
    {
     "data": {
      "text/plain": [
       "<6039x3628 sparse matrix of type '<class 'numpy.int8'>'\n",
       "\twith 623316 stored elements in Compressed Sparse Row format>"
      ]
     },
     "execution_count": 119,
     "metadata": {},
     "output_type": "execute_result"
    }
   ],
   "source": [
    "cf.R_train"
   ]
  },
  {
   "cell_type": "code",
   "execution_count": 120,
   "id": "ee88a5d5",
   "metadata": {},
   "outputs": [],
   "source": [
    "als = ALS(\n",
    "    num_features = 20,\n",
    "    num_users = cf.R.shape[0],\n",
    "    num_items = cf.R.shape[1],\n",
    "    reg_lambda=0.02\n",
    ")\n",
    "als.fit(cf.R_train, cf.R_test, num_iters=10)"
   ]
  },
  {
   "cell_type": "code",
   "execution_count": 129,
   "id": "87a07526",
   "metadata": {},
   "outputs": [
    {
     "name": "stdout",
     "output_type": "stream",
     "text": [
      "3.4 s ± 11 ms per loop (mean ± std. dev. of 7 runs, 1 loop each)\n"
     ]
    }
   ],
   "source": [
    "%%timeit\n",
    "#als.fit(cf.R_train, cf.R_test, num_iters=20)\n",
    "#als.fit(cf.R_train, num_iters=50, store_mse=False)\n",
    "als.fit(cf.R_train, num_iters=50, store_mse=True)"
   ]
  },
  {
   "cell_type": "code",
   "execution_count": 123,
   "id": "a90f26b7",
   "metadata": {},
   "outputs": [
    {
     "data": {
      "image/png": "[encoded data removed]",
      "text/plain": [
       "<Figure size 1000x300 with 2 Axes>"
      ]
     },
     "metadata": {},
     "output_type": "display_data"
    }
   ],
   "source": [
    "fig, ax = plt.subplots(1, 2, figsize=(10,3))\n",
    "als = ALS(\n",
    "    num_features = 20,\n",
    "    num_users = cf.R.shape[0],\n",
    "    num_items = cf.R.shape[1],\n",
    "    reg_lambda=0.01\n",
    ")\n",
    "for _ in range(10):\n",
    "    als.fit(cf.R_train, cf.R_test, num_iters=20, seed=None)\n",
    "    ax[0].plot(als.train_mse, '-r', alpha=0.1)\n",
    "    ax[1].plot(als.test_mse, '-b', alpha=0.1)\n",
    "ax[0].set_ylabel('Training MSE')\n",
    "ax[1].set_ylabel('Testing MSE')\n",
    "for iax in ax:\n",
    "    iax.grid(True)\n",
    "    iax.set_xlim([0, len(als.train_mse)-1])\n",
    "    iax.set_xlabel('Iterations')\n",
    "    iax.set_xticks(np.arange(0,len(als.test_mse),5))"
   ]
  },
  {
   "cell_type": "code",
   "execution_count": null,
   "id": "77bcc810",
   "metadata": {},
   "outputs": [],
   "source": [
    "np.around(als.item_mat,1)\n",
    "np.around(als.user_mat,2)"
   ]
  },
  {
   "cell_type": "code",
   "execution_count": null,
   "id": "d734f60a",
   "metadata": {},
   "outputs": [],
   "source": [
    "cf.get_top_items_for_this_user(0, als.user_mat, als.item_mat, 2)"
   ]
  },
  {
   "cell_type": "code",
   "execution_count": null,
   "id": "d922d4fe",
   "metadata": {},
   "outputs": [],
   "source": [
    "cf.get_similar(als.user_mat, for_this_inds=0, count=4)"
   ]
  },
  {
   "cell_type": "code",
   "execution_count": null,
   "id": "3a7d295c",
   "metadata": {},
   "outputs": [],
   "source": [
    "compute_ndc"
   ]
  }
 ],
 "metadata": {
  "kernelspec": {
   "display_name": "bpr_env",
   "language": "python",
   "name": "bpr_env"
  },
  "language_info": {
   "codemirror_mode": {
    "name": "ipython",
    "version": 3
   },
   "file_extension": ".py",
   "mimetype": "text/x-python",
   "name": "python",
   "nbconvert_exporter": "python",
   "pygments_lexer": "ipython3",
   "version": "3.9.12"
  }
 },
 "nbformat": 4,
 "nbformat_minor": 5
}
