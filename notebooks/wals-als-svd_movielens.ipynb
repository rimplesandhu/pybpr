{
 "cells": [
  {
   "cell_type": "markdown",
   "id": "1971f6cf",
   "metadata": {},
   "source": [
    "## Application of ALS, WALS & SVD on Movielens"
   ]
  },
  {
   "cell_type": "code",
   "execution_count": 11,
   "id": "6985b0da",
   "metadata": {},
   "outputs": [
    {
     "name": "stdout",
     "output_type": "stream",
     "text": [
      "The autoreload extension is already loaded. To reload it, use:\n",
      "  %reload_ext autoreload\n"
     ]
    }
   ],
   "source": [
    "#%load_ext watermark\n",
    "%load_ext autoreload \n",
    "%autoreload 2"
   ]
  },
  {
   "cell_type": "code",
   "execution_count": 12,
   "id": "6f571098",
   "metadata": {},
   "outputs": [],
   "source": [
    "import os\n",
    "import sys\n",
    "import numpy as np\n",
    "import pandas as pd\n",
    "from pybpr import *\n",
    "import matplotlib.pyplot as plt\n",
    "from functools import partial\n",
    "import itertools\n",
    "import scipy.sparse as ss\n",
    "import pathos.multiprocessing as mp\n",
    "import tqdm"
   ]
  },
  {
   "cell_type": "code",
   "execution_count": 13,
   "id": "bcd21924",
   "metadata": {},
   "outputs": [
    {
     "name": "stdout",
     "output_type": "stream",
     "text": [
      "CPU times: user 19.1 ms, sys: 8.04 ms, total: 27.2 ms\n",
      "Wall time: 56.6 ms\n"
     ]
    },
    {
     "data": {
      "text/html": [
       "<div>\n",
       "<style scoped>\n",
       "    .dataframe tbody tr th:only-of-type {\n",
       "        vertical-align: middle;\n",
       "    }\n",
       "\n",
       "    .dataframe tbody tr th {\n",
       "        vertical-align: top;\n",
       "    }\n",
       "\n",
       "    .dataframe thead th {\n",
       "        text-align: right;\n",
       "    }\n",
       "</style>\n",
       "<table border=\"1\" class=\"dataframe\">\n",
       "  <thead>\n",
       "    <tr style=\"text-align: right;\">\n",
       "      <th></th>\n",
       "      <th>user_id</th>\n",
       "      <th>item_id</th>\n",
       "      <th>rating</th>\n",
       "      <th>timestamp</th>\n",
       "    </tr>\n",
       "  </thead>\n",
       "  <tbody>\n",
       "    <tr>\n",
       "      <th>0</th>\n",
       "      <td>196</td>\n",
       "      <td>242</td>\n",
       "      <td>3</td>\n",
       "      <td>881250949</td>\n",
       "    </tr>\n",
       "    <tr>\n",
       "      <th>1</th>\n",
       "      <td>186</td>\n",
       "      <td>302</td>\n",
       "      <td>3</td>\n",
       "      <td>891717742</td>\n",
       "    </tr>\n",
       "    <tr>\n",
       "      <th>2</th>\n",
       "      <td>22</td>\n",
       "      <td>377</td>\n",
       "      <td>1</td>\n",
       "      <td>878887116</td>\n",
       "    </tr>\n",
       "    <tr>\n",
       "      <th>3</th>\n",
       "      <td>244</td>\n",
       "      <td>51</td>\n",
       "      <td>2</td>\n",
       "      <td>880606923</td>\n",
       "    </tr>\n",
       "    <tr>\n",
       "      <th>4</th>\n",
       "      <td>166</td>\n",
       "      <td>346</td>\n",
       "      <td>1</td>\n",
       "      <td>886397596</td>\n",
       "    </tr>\n",
       "  </tbody>\n",
       "</table>\n",
       "</div>"
      ],
      "text/plain": [
       "   user_id  item_id  rating  timestamp\n",
       "0      196      242       3  881250949\n",
       "1      186      302       3  891717742\n",
       "2       22      377       1  878887116\n",
       "3      244       51       2  880606923\n",
       "4      166      346       1  886397596"
      ]
     },
     "execution_count": 13,
     "metadata": {},
     "output_type": "execute_result"
    }
   ],
   "source": [
    "%%time\n",
    "#df = load_movielens_data('ml-1m')\n",
    "df = load_movielens_data('ml-100k')\n",
    "df.head()"
   ]
  },
  {
   "cell_type": "code",
   "execution_count": 14,
   "id": "eec38ecb",
   "metadata": {},
   "outputs": [
    {
     "name": "stdout",
     "output_type": "stream",
     "text": [
      "--- Memory usage for MovieLens-1m:\n",
      "Sparse User-Item matrix = 0.09 MB\n",
      "User-Item dataframe df = 2.85 MB\n",
      "Item dataframe df_item = 0.03 MB\n",
      "Item dataframe df_user = 0.02 MB\n",
      "---\n",
      "CPU times: user 35.3 ms, sys: 3.18 ms, total: 38.5 ms\n",
      "Wall time: 71.2 ms\n"
     ]
    }
   ],
   "source": [
    "%%time\n",
    "dfshort = df[df['rating'] > 0]\n",
    "cf = UserItemInteractions(\n",
    "    name='MovieLens-1m',\n",
    "    users = dfshort['user_id'], \n",
    "    items = dfshort['item_id'],\n",
    "    min_num_rating_per_user=30,\n",
    "    min_num_rating_per_item=10\n",
    ")\n",
    "cf.print_memory_usage()"
   ]
  },
  {
   "cell_type": "code",
   "execution_count": 15,
   "id": "ab98cffc",
   "metadata": {},
   "outputs": [
    {
     "name": "stdout",
     "output_type": "stream",
     "text": [
      "CPU times: user 1.39 s, sys: 0 ns, total: 1.39 s\n",
      "Wall time: 1.72 s\n"
     ]
    }
   ],
   "source": [
    "%%time\n",
    "cf.generate_train_test(user_test_ratio = 0.2)"
   ]
  },
  {
   "cell_type": "code",
   "execution_count": 17,
   "id": "7eb2ba66",
   "metadata": {},
   "outputs": [
    {
     "name": "stderr",
     "output_type": "stream",
     "text": [
      "MF_WALS: 100%|████████████████████████████████████████████| 20/20 [01:25<00:00,  4.27s/it]\n"
     ]
    },
    {
     "name": "stdout",
     "output_type": "stream",
     "text": [
      "CPU times: user 7min 16s, sys: 19min 44s, total: 27min 1s\n",
      "Wall time: 1min 29s\n"
     ]
    }
   ],
   "source": [
    "%%time\n",
    "wals = MF_WALS(\n",
    "    num_features=20, \n",
    "    reg_lambda=0., \n",
    "    weighting_strategy='same', \n",
    "    num_iters=20, \n",
    "    initial_std=0.1, \n",
    "    seed=None\n",
    ")\n",
    "wals.fit(cf.R_train)\n",
    "wals_ndcg_score = cf.get_ndcg_metric(\n",
    "    user_mat = wals.user_mat,\n",
    "    item_mat=wals.item_mat,\n",
    "    num_items = 10,\n",
    "    test=True,\n",
    "    truncate=True\n",
    ")"
   ]
  },
  {
   "cell_type": "code",
   "execution_count": 18,
   "id": "61ed8dbd",
   "metadata": {},
   "outputs": [
    {
     "name": "stderr",
     "output_type": "stream",
     "text": [
      "MF_ALS: 100%|████████████████████████████████████████████| 20/20 [00:00<00:00, 225.67it/s]\n"
     ]
    },
    {
     "name": "stdout",
     "output_type": "stream",
     "text": [
      "CPU times: user 3.51 s, sys: 11.4 s, total: 14.9 s\n",
      "Wall time: 875 ms\n"
     ]
    }
   ],
   "source": [
    "%%time\n",
    "als = MF_ALS(\n",
    "    num_features=20, \n",
    "    reg_lambda=0., \n",
    "    num_iters=20, \n",
    "    initial_std=0.1, \n",
    "    seed=None\n",
    ")\n",
    "als.fit(cf.R_train)\n",
    "als_ndcg_score = cf.get_ndcg_metric(\n",
    "    user_mat = als.user_mat,\n",
    "    item_mat=als.item_mat,\n",
    "    num_items = 10,\n",
    "    test=True,\n",
    "    truncate=True\n",
    ")"
   ]
  },
  {
   "cell_type": "code",
   "execution_count": 19,
   "id": "85674a21",
   "metadata": {},
   "outputs": [
    {
     "name": "stdout",
     "output_type": "stream",
     "text": [
      "CPU times: user 3.1 s, sys: 9.7 s, total: 12.8 s\n",
      "Wall time: 698 ms\n"
     ]
    }
   ],
   "source": [
    "%%time\n",
    "svd = MF_SVD(\n",
    "    num_features=20, \n",
    "    num_iters=100, \n",
    "    seed=None\n",
    ")\n",
    "svd.fit(cf.R_train)\n",
    "svd_ndcg_score = cf.get_ndcg_metric(\n",
    "    user_mat = svd.user_mat, \n",
    "    item_mat=svd.item_mat, \n",
    "    num_items = 10,\n",
    "    test=True,\n",
    "    truncate=True\n",
    ")"
   ]
  },
  {
   "cell_type": "code",
   "execution_count": 20,
   "id": "b5946719",
   "metadata": {},
   "outputs": [
    {
     "data": {
      "text/plain": [
       "(0.45894791526201023, 0.4585099780692262, 0.46026964320490765)"
      ]
     },
     "execution_count": 20,
     "metadata": {},
     "output_type": "execute_result"
    }
   ],
   "source": [
    "als_ndcg_score, wals_ndcg_score, svd_ndcg_score"
   ]
  },
  {
   "cell_type": "markdown",
   "id": "8c96cc2f",
   "metadata": {},
   "source": [
    "### Conclusions\n",
    "- ALS = WALS (with uniform weighting) = SVD"
   ]
  },
  {
   "cell_type": "code",
   "execution_count": null,
   "id": "5a4b0104",
   "metadata": {},
   "outputs": [],
   "source": []
  },
  {
   "cell_type": "code",
   "execution_count": null,
   "id": "fe5ffc92",
   "metadata": {},
   "outputs": [],
   "source": []
  }
 ],
 "metadata": {
  "kernelspec": {
   "display_name": "bpr_env",
   "language": "python",
   "name": "bpr_env"
  },
  "language_info": {
   "codemirror_mode": {
    "name": "ipython",
    "version": 3
   },
   "file_extension": ".py",
   "mimetype": "text/x-python",
   "name": "python",
   "nbconvert_exporter": "python",
   "pygments_lexer": "ipython3",
   "version": "3.10.6"
  }
 },
 "nbformat": 4,
 "nbformat_minor": 5
}
