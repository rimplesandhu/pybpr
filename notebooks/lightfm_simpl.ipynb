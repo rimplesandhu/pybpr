{
 "cells": [
  {
   "cell_type": "code",
   "execution_count": 1,
   "id": "6985b0da",
   "metadata": {},
   "outputs": [],
   "source": [
    "#%load_ext watermark\n",
    "%load_ext autoreload \n",
    "%autoreload 2"
   ]
  },
  {
   "cell_type": "code",
   "execution_count": 3,
   "id": "6f571098",
   "metadata": {},
   "outputs": [],
   "source": [
    "import os\n",
    "import sys\n",
    "import itertools\n",
    "import numpy as np\n",
    "import pandas as pd\n",
    "from subprocess import call\n",
    "# import pybpr\n",
    "import matplotlib.pyplot as plt\n",
    "from functools import partial\n",
    "from sklearn.feature_extraction import DictVectorizer\n",
    "from scipy.special import expit"
   ]
  },
  {
   "cell_type": "code",
   "execution_count": 4,
   "id": "675ae2a9-97ae-4d61-ab52-6ae80e8e4cf5",
   "metadata": {},
   "outputs": [],
   "source": [
    "from pybpr import *"
   ]
  },
  {
   "cell_type": "code",
   "execution_count": 5,
   "id": "95cb9622-10ac-4763-8c6a-6e5fb2da044a",
   "metadata": {},
   "outputs": [
    {
     "data": {
      "text/plain": [
       "UserItemData(\n",
       "  n_users=100\n",
       "  n_items=4\n",
       "  n_interactions=100\n",
       "  n_user_features=100\n",
       "  n_user_feature_data=100\n",
       "  n_item_features=2\n",
       "  n_item_feature_data=4\n",
       ")"
      ]
     },
     "execution_count": 5,
     "metadata": {},
     "output_type": "execute_result"
    }
   ],
   "source": [
    "ui = UserItemData(\n",
    "    n_users=100, \n",
    "    n_items =4,\n",
    "    n_user_features=100,\n",
    "    n_item_features=2\n",
    ")\n",
    "ui.add_interactions(\n",
    "    user_indices=list(range(ui.n_users)), \n",
    "    item_indices=[0 for _ in range(ui.n_users)],\n",
    "    weights=np.ones(ui.n_users)\n",
    ")\n",
    "ui.add_user_features(\n",
    "    user_indices=list(range(ui.n_users)), \n",
    "    feature_indices=list(range(ui.n_users))\n",
    ")\n",
    "ui.add_item_features(\n",
    "    item_indices=[0,1,2,3], \n",
    "    feature_indices=[0,0,1,1]\n",
    ")\n",
    "# # ui_data.add_item_features(item_indices=[10,20],feature_indices=[20,0])\n",
    "# # rs=RecSys(\n",
    "# #     ui_data=ui_data,\n",
    "# #     n_latent=10\n",
    "# # )\n",
    "ui"
   ]
  },
  {
   "cell_type": "code",
   "execution_count": 6,
   "id": "4018d83f-cccd-4bee-8326-14d98e63550a",
   "metadata": {},
   "outputs": [
    {
     "name": "stdout",
     "output_type": "stream",
     "text": [
      "RecSys: Initiating Hybrid Recomender System..\n",
      "RecSys: Got 100/100 +ve interactions\n",
      "RecSys: Got 0/100 -ve interactions\n"
     ]
    },
    {
     "data": {
      "text/plain": [
       "RecSys(\n",
       "data=UserItemData(\n",
       "  n_users=100\n",
       "  n_items=4\n",
       "  n_interactions=100\n",
       "  n_user_features=100\n",
       "  n_user_feature_data=100\n",
       "  n_item_features=2\n",
       "  n_item_feature_data=4\n",
       ")\n",
       "model=HybridMF(\n",
       "  (user_latent): Embedding(100, 2)\n",
       "  (item_latent): Embedding(2, 2)\n",
       "  (item_biases): Embedding(2, 1)\n",
       ")\n",
       "optimizer=SGD (\n",
       "Parameter Group 0\n",
       "    dampening: 0\n",
       "    differentiable: False\n",
       "    foreach: None\n",
       "    fused: None\n",
       "    lr: 0.1\n",
       "    maximize: False\n",
       "    momentum: 0\n",
       "    nesterov: False\n",
       "    weight_decay: 0.01\n",
       ")\n",
       ")"
      ]
     },
     "execution_count": 6,
     "metadata": {},
     "output_type": "execute_result"
    }
   ],
   "source": [
    "optimizer = partial(\n",
    "    torch.optim.SGD,\n",
    "    lr=0.1,\n",
    "    weight_decay=0.01\n",
    ")\n",
    "rs = RecSys(\n",
    "    ui_data = ui,\n",
    "    n_latent=2,\n",
    "    optimizer=optimizer\n",
    ")\n",
    "rs"
   ]
  },
  {
   "cell_type": "code",
   "execution_count": 7,
   "id": "7ba5992a-e133-42e1-999d-c1c90b24eb36",
   "metadata": {},
   "outputs": [
    {
     "name": "stdout",
     "output_type": "stream",
     "text": [
      "RecSys: Setting rng seed to 1234\n",
      "RecSys: # pos interactions = 100\n",
      "RecSys: Batch size(100)>data count(100). Setting batch size=100.\n",
      "RecSys: Batch size = 100\n",
      "RecSys: # of minibatches = 1\n",
      "HybBPR:   0%|          | 1/1000 [00:00<02:16,  7.34it/s]"
     ]
    },
    {
     "name": "stderr",
     "output_type": "stream",
     "text": [
      "/kfs2/projects/zazzle/pybpr/pybpr/utils.py:25: UserWarning: Sparse CSR tensor support is in beta state. If you miss a functionality in the sparse tensor support, please submit a feature request to https://github.com/pytorch/pytorch/issues. (Triggered internally at ../aten/src/ATen/SparseCsrTensorImpl.cpp:53.)\n",
      "  return torch.sparse_csr_tensor(\n"
     ]
    },
    {
     "name": "stdout",
     "output_type": "stream",
     "text": [
      "HybBPR: 100%|██████████| 1000/1000 [00:02<00:00, 419.23it/s]\n"
     ]
    }
   ],
   "source": [
    "rs.fit(n_iter=1000,batch_size=100)"
   ]
  },
  {
   "cell_type": "code",
   "execution_count": 34,
   "id": "f5d7da10-6ec2-4006-af8c-74d6f6c6e175",
   "metadata": {},
   "outputs": [
    {
     "data": {
      "text/plain": [
       "tensor([[ 1.6901,  1.6901, -1.7542, -1.7542],\n",
       "        [ 1.8430,  1.8430, -1.7794, -1.7794],\n",
       "        [ 1.7476,  1.7476, -1.7525, -1.7525],\n",
       "        [ 1.7852,  1.7852, -1.7934, -1.7934],\n",
       "        [ 1.7630,  1.7630, -1.7791, -1.7791],\n",
       "        [ 1.7883,  1.7883, -1.7735, -1.7735],\n",
       "        [ 1.7870,  1.7870, -1.7814, -1.7814],\n",
       "        [ 1.8421,  1.8421, -1.7890, -1.7890],\n",
       "        [ 1.8243,  1.8243, -1.7792, -1.7792],\n",
       "        [ 1.8464,  1.8464, -1.8088, -1.8088],\n",
       "        [ 1.7950,  1.7950, -1.7593, -1.7593],\n",
       "        [ 1.8082,  1.8082, -1.7953, -1.7953],\n",
       "        [ 1.8436,  1.8436, -1.7897, -1.7897],\n",
       "        [ 1.8249,  1.8249, -1.8038, -1.8038],\n",
       "        [ 1.8235,  1.8235, -1.7775, -1.7775],\n",
       "        [ 1.8602,  1.8602, -1.7916, -1.7916],\n",
       "        [ 1.7237,  1.7237, -1.7590, -1.7590],\n",
       "        [ 1.8255,  1.8255, -1.8061, -1.8061],\n",
       "        [ 1.8080,  1.8080, -1.7826, -1.7826],\n",
       "        [ 1.8416,  1.8416, -1.8055, -1.8055],\n",
       "        [ 1.8193,  1.8193, -1.7917, -1.7917],\n",
       "        [ 1.8066,  1.8066, -1.7633, -1.7633],\n",
       "        [ 1.8198,  1.8198, -1.8112, -1.8112],\n",
       "        [ 1.7373,  1.7373, -1.7570, -1.7570],\n",
       "        [ 1.7662,  1.7662, -1.7798, -1.7798],\n",
       "        [ 1.7660,  1.7660, -1.7782, -1.7782],\n",
       "        [ 1.8624,  1.8624, -1.7986, -1.7986],\n",
       "        [ 1.7612,  1.7612, -1.7559, -1.7559],\n",
       "        [ 1.8387,  1.8387, -1.8127, -1.8127],\n",
       "        [ 1.7759,  1.7759, -1.7805, -1.7805],\n",
       "        [ 1.8414,  1.8414, -1.7943, -1.7943],\n",
       "        [ 1.8108,  1.8108, -1.7866, -1.7866],\n",
       "        [ 1.8233,  1.8233, -1.7871, -1.7871],\n",
       "        [ 1.7528,  1.7528, -1.7685, -1.7685],\n",
       "        [ 1.6364,  1.6364, -1.7535, -1.7535],\n",
       "        [ 1.7707,  1.7707, -1.7778, -1.7778],\n",
       "        [ 1.8283,  1.8283, -1.7799, -1.7799],\n",
       "        [ 1.7148,  1.7148, -1.7684, -1.7684],\n",
       "        [ 1.8272,  1.8272, -1.7781, -1.7781],\n",
       "        [ 1.7316,  1.7316, -1.7483, -1.7483],\n",
       "        [ 1.8352,  1.8352, -1.7832, -1.7832],\n",
       "        [ 1.7277,  1.7277, -1.7664, -1.7664],\n",
       "        [ 1.8122,  1.8122, -1.7948, -1.7948],\n",
       "        [ 1.7366,  1.7366, -1.7648, -1.7648],\n",
       "        [ 1.8798,  1.8798, -1.7957, -1.7957],\n",
       "        [ 1.8805,  1.8805, -1.7959, -1.7959],\n",
       "        [ 1.7482,  1.7482, -1.7616, -1.7616],\n",
       "        [ 1.7696,  1.7696, -1.7889, -1.7889],\n",
       "        [ 1.7417,  1.7417, -1.7699, -1.7699],\n",
       "        [ 1.7904,  1.7904, -1.7638, -1.7638],\n",
       "        [ 1.6919,  1.6919, -1.7577, -1.7577],\n",
       "        [ 1.7268,  1.7268, -1.7540, -1.7540],\n",
       "        [ 1.7135,  1.7135, -1.7712, -1.7712],\n",
       "        [ 1.7140,  1.7140, -1.7673, -1.7673],\n",
       "        [ 1.7988,  1.7988, -1.7934, -1.7934],\n",
       "        [ 1.8437,  1.8437, -1.8043, -1.8043],\n",
       "        [ 1.7307,  1.7307, -1.7576, -1.7576],\n",
       "        [ 1.7726,  1.7726, -1.7664, -1.7664],\n",
       "        [ 1.7784,  1.7784, -1.7929, -1.7929],\n",
       "        [ 1.8160,  1.8160, -1.7818, -1.7818],\n",
       "        [ 1.8669,  1.8669, -1.7838, -1.7838],\n",
       "        [ 1.7483,  1.7483, -1.7552, -1.7552],\n",
       "        [ 1.7133,  1.7133, -1.7530, -1.7530],\n",
       "        [ 1.7092,  1.7092, -1.7494, -1.7494],\n",
       "        [ 1.7780,  1.7780, -1.7827, -1.7827],\n",
       "        [ 1.8195,  1.8195, -1.7695, -1.7695],\n",
       "        [ 1.7921,  1.7921, -1.7606, -1.7606],\n",
       "        [ 1.7945,  1.7945, -1.7709, -1.7709],\n",
       "        [ 1.8383,  1.8383, -1.8011, -1.8011],\n",
       "        [ 1.7172,  1.7172, -1.7790, -1.7790],\n",
       "        [ 1.7591,  1.7591, -1.7604, -1.7604],\n",
       "        [ 1.7999,  1.7999, -1.7700, -1.7700],\n",
       "        [ 1.6948,  1.6948, -1.7443, -1.7443],\n",
       "        [ 1.8350,  1.8350, -1.7694, -1.7694],\n",
       "        [ 1.8581,  1.8581, -1.7793, -1.7793],\n",
       "        [ 1.6700,  1.6700, -1.7681, -1.7681],\n",
       "        [ 1.6998,  1.6998, -1.7496, -1.7496],\n",
       "        [ 1.8012,  1.8012, -1.7775, -1.7775],\n",
       "        [ 1.7870,  1.7870, -1.7554, -1.7554],\n",
       "        [ 1.8178,  1.8178, -1.7829, -1.7829],\n",
       "        [ 1.6371,  1.6371, -1.7256, -1.7256],\n",
       "        [ 1.7077,  1.7077, -1.7693, -1.7693],\n",
       "        [ 1.8076,  1.8076, -1.7887, -1.7887],\n",
       "        [ 1.7373,  1.7373, -1.7683, -1.7683],\n",
       "        [ 1.8431,  1.8431, -1.7906, -1.7906],\n",
       "        [ 1.8442,  1.8442, -1.7990, -1.7990],\n",
       "        [ 1.5768,  1.5768, -1.7277, -1.7277],\n",
       "        [ 1.6829,  1.6829, -1.7350, -1.7350],\n",
       "        [ 1.7762,  1.7762, -1.7789, -1.7789],\n",
       "        [ 1.8053,  1.8053, -1.7754, -1.7754],\n",
       "        [ 1.8191,  1.8191, -1.7839, -1.7839],\n",
       "        [ 1.6973,  1.6973, -1.7446, -1.7446],\n",
       "        [ 1.8252,  1.8252, -1.7825, -1.7825],\n",
       "        [ 1.7688,  1.7688, -1.7859, -1.7859],\n",
       "        [ 1.9093,  1.9093, -1.8066, -1.8066],\n",
       "        [ 1.7197,  1.7197, -1.7441, -1.7441],\n",
       "        [ 1.7082,  1.7082, -1.7265, -1.7265],\n",
       "        [ 1.7556,  1.7556, -1.7572, -1.7572],\n",
       "        [ 1.8097,  1.8097, -1.7797, -1.7797],\n",
       "        [ 1.8285,  1.8285, -1.7865, -1.7865]], grad_fn=<AddBackward0>)"
      ]
     },
     "execution_count": 34,
     "metadata": {},
     "output_type": "execute_result"
    }
   ],
   "source": [
    "Fu = csr_scipy_to_torch(rs.Fu_csr)\n",
    "Fi = csr_scipy_to_torch(rs.Fi_csr)\n",
    "Eu = rs.model.user_latent.weight\n",
    "Ei = rs.model.item_latent.weight\n",
    "Bi = rs.model.item_biases.weight\n",
    "\n",
    "xx = torch.sparse.mm(Fu,Eu)\n",
    "yy = torch.sparse.mm(Fi,Ei)\n",
    "yy2 = torch.sparse.mm(Fi,Bi)\n",
    "zz = xx @ yy.T + yy2.T\n",
    "zz"
   ]
  },
  {
   "cell_type": "code",
   "execution_count": null,
   "id": "98623911-ec64-4a60-8a92-9f20deb70c30",
   "metadata": {},
   "outputs": [],
   "source": [
    "rs.Fu"
   ]
  },
  {
   "cell_type": "code",
   "execution_count": 36,
   "id": "5fb6351a-e346-4223-90f1-43e76dffb0cb",
   "metadata": {},
   "outputs": [
    {
     "data": {
      "text/plain": [
       "Parameter containing:\n",
       "tensor([[-0.1849,  0.2607],\n",
       "        [-0.0043, -0.0999]], requires_grad=True)"
      ]
     },
     "execution_count": 36,
     "metadata": {},
     "output_type": "execute_result"
    }
   ],
   "source": [
    "rs.model.item_latent.weight"
   ]
  },
  {
   "cell_type": "code",
   "execution_count": 30,
   "id": "6f2bc5c8-6630-4f76-a1b9-8323499aebdf",
   "metadata": {},
   "outputs": [
    {
     "data": {
      "text/plain": [
       "Parameter containing:\n",
       "tensor([[ 1.7837],\n",
       "        [-1.7837]], requires_grad=True)"
      ]
     },
     "execution_count": 30,
     "metadata": {},
     "output_type": "execute_result"
    }
   ],
   "source": [
    "Bi"
   ]
  },
  {
   "cell_type": "code",
   "execution_count": null,
   "id": "0f90e8f4-8714-40b5-8ff1-8faba7b7759b",
   "metadata": {},
   "outputs": [],
   "source": [
    "torch.sparse.mm(Fi,Bi).shape"
   ]
  },
  {
   "cell_type": "code",
   "execution_count": null,
   "id": "c9bd93a9-1184-4c2b-9389-afc2d8bc0ee1",
   "metadata": {},
   "outputs": [],
   "source": [
    "Bi.shape, Fi.shape"
   ]
  },
  {
   "cell_type": "code",
   "execution_count": null,
   "id": "b8bb1b35-a48f-48f2-93ee-b173d94d9223",
   "metadata": {},
   "outputs": [],
   "source": [
    "p_u = rs.model.user_latent(uid)\n",
    "p_u = p_u*uw[..., None]\n",
    "p_u = p_u.sum(dim=1)"
   ]
  },
  {
   "cell_type": "code",
   "execution_count": null,
   "id": "3a21b3d0-77c8-409b-8723-d76b0b62d4e4",
   "metadata": {},
   "outputs": [],
   "source": [
    "q_all = rs.model.item_latent.weight\n",
    "p_u.shape, q_all.shape"
   ]
  },
  {
   "cell_type": "code",
   "execution_count": null,
   "id": "7f8a7913-4140-476a-a89a-da8e5a8f92bc",
   "metadata": {},
   "outputs": [],
   "source": [
    "xx = np.random.RandomState()\n",
    "xx.set_state(123)"
   ]
  },
  {
   "cell_type": "code",
   "execution_count": null,
   "id": "4fb245d9-c284-4cda-845d-dceaa09d6c25",
   "metadata": {},
   "outputs": [],
   "source": [
    "coo = rs.data.Fu_coo\n",
    "values = coo.data\n",
    "indices = np.vstack((coo.row, coo.col))\n",
    "values.shape, indices.shape\n",
    "\n",
    "i = torch.LongTensor(indices)\n",
    "v = torch.FloatTensor(values)\n",
    "shape = coo.shape\n",
    "\n",
    "xx = torch.sparse_coo_tensor(indices=i, values=v, size=torch.Size(shape))\n",
    "xx"
   ]
  },
  {
   "cell_type": "code",
   "execution_count": null,
   "id": "1c3fbefb-d64b-46a5-8645-752a1e6b81eb",
   "metadata": {},
   "outputs": [],
   "source": [
    "pos_user_ids = [1,3,4]\n",
    "pos_item_ids = [0,1,2]\n",
    "\n",
    "Fu_sliced = csr_scipy_to_torch(rs.Fu_csr[pos_user_ids])\n",
    "Fi_sliced_pos = csr_scipy_to_torch(rs.Fi_csr[pos_item_ids])\n"
   ]
  },
  {
   "cell_type": "code",
   "execution_count": null,
   "id": "6877e21c-006d-4de0-a188-b69e4cca2668",
   "metadata": {},
   "outputs": [],
   "source": [
    "Pu, Qi, Bu, Bi = rs.model.forward(Fu_sliced, Fi_sliced_pos)"
   ]
  },
  {
   "cell_type": "code",
   "execution_count": null,
   "id": "0c643b91-b368-4e50-960f-d1a20bbd6cdd",
   "metadata": {},
   "outputs": [],
   "source": [
    "torch.mul(Pu, Qi).sum(dim=-1).shape"
   ]
  },
  {
   "cell_type": "code",
   "execution_count": null,
   "id": "dc8cd0b0-46c7-4f8c-9f0d-129bc7a0740c",
   "metadata": {},
   "outputs": [],
   "source": [
    "Bu.squeeze().shape"
   ]
  },
  {
   "cell_type": "code",
   "execution_count": null,
   "id": "6f10f185-e6fd-48a1-8e32-34498f7265a1",
   "metadata": {},
   "outputs": [],
   "source": [
    "yy = rs.data.Fu_coo.tocsr()[[2,3]]\n",
    "yy.todense()"
   ]
  },
  {
   "cell_type": "code",
   "execution_count": null,
   "id": "49f6353d-1ec1-4e73-bb5b-eed44a3b1fab",
   "metadata": {},
   "outputs": [],
   "source": [
    "yy.shape"
   ]
  },
  {
   "cell_type": "code",
   "execution_count": null,
   "id": "20f82040-45be-4a72-b07c-f787e4bf4e48",
   "metadata": {},
   "outputs": [],
   "source": [
    "zz = torch.sparse_csr_tensor(\n",
    "    torch.LongTensor(yy.indptr),\n",
    "    torch.LongTensor(yy.indices),\n",
    "    torch.FloatTensor(yy.data),\n",
    "    size=torch.Size(yy.shape)\n",
    ")\n",
    "zz"
   ]
  },
  {
   "cell_type": "code",
   "execution_count": null,
   "id": "98dde196-022e-4e5f-8861-5774cb4cf42b",
   "metadata": {},
   "outputs": [],
   "source": [
    "zz"
   ]
  },
  {
   "cell_type": "code",
   "execution_count": null,
   "id": "e9def867-f5b8-4992-b177-993c66be8105",
   "metadata": {},
   "outputs": [],
   "source": [
    "yy = rs.model.user_latent.weight\n",
    "zz = torch.sparse.mm(xx,yy)"
   ]
  },
  {
   "cell_type": "code",
   "execution_count": null,
   "id": "0e739c99-1b64-437c-8496-ab59fde4d8ea",
   "metadata": {},
   "outputs": [],
   "source": [
    "zz.shape"
   ]
  },
  {
   "cell_type": "code",
   "execution_count": null,
   "id": "91e88ef7-a345-42a5-b85a-3851da5d2769",
   "metadata": {},
   "outputs": [],
   "source": [
    "for i in rs.data.Fi_coo.todok().items():\n",
    "    print(i)"
   ]
  },
  {
   "cell_type": "code",
   "execution_count": null,
   "id": "23e74026-f4f0-45c5-b716-56753fce5ef8",
   "metadata": {},
   "outputs": [],
   "source": [
    "for i in rs.data.Fi_coo.todok()[[0,3]].items():\n",
    "    print(i)"
   ]
  },
  {
   "cell_type": "code",
   "execution_count": null,
   "id": "05c55950-a7df-4395-8360-9ecdc7b34efa",
   "metadata": {},
   "outputs": [],
   "source": [
    "#initiate\n",
    "nlatent = 2\n",
    "user_latent_mat = np.random.normal(loc=0.,scale=0.1,size=(user_df.shape[1],nlatent))\n",
    "item_latent_mat = np.random.normal(loc=0.,scale=0.1,size=(item_df.shape[1],nlatent))\n",
    "print(item_latent_mat.shape, user_latent_mat.shape)\n",
    "np.round(item_latent_mat,2)"
   ]
  },
  {
   "cell_type": "code",
   "execution_count": null,
   "id": "156001d0-3230-4196-89ed-b430dae025dd",
   "metadata": {},
   "outputs": [],
   "source": [
    "item_df.values[:, item_df.shape[0]:]"
   ]
  },
  {
   "cell_type": "code",
   "execution_count": null,
   "id": "d0493c5a-b6f5-443b-b8cd-510a791d1a84",
   "metadata": {},
   "outputs": [],
   "source": [
    "from sklearn.decomposition import PCA\n",
    "pca = PCA(n_components=nlatent).fit(item_df.values[:, item_df.shape[0]:])\n",
    "pca_vecs = np.round(pca.components_,3)\n",
    "pca_vecs.T"
   ]
  },
  {
   "cell_type": "code",
   "execution_count": null,
   "id": "53960007-66f5-4bbf-8a5e-60b2bdec5db1",
   "metadata": {},
   "outputs": [],
   "source": [
    "np.round(np.dot(pca_vecs[0,:], pca_vecs[1,:]),2)"
   ]
  },
  {
   "cell_type": "code",
   "execution_count": null,
   "id": "04cd21aa-39c8-4186-ad5e-a1170de7f754",
   "metadata": {},
   "outputs": [],
   "source": [
    "item_latent_mat[item_df.shape[0]:,:] = pca.components_.T\n",
    "np.round(item_latent_mat,2)"
   ]
  },
  {
   "cell_type": "code",
   "execution_count": null,
   "id": "4d4dce2c-04ba-4cca-8600-18dd73897587",
   "metadata": {},
   "outputs": [],
   "source": [
    "np.round(np.linalg.norm(item_latent_mat, axis=1),2)"
   ]
  },
  {
   "cell_type": "code",
   "execution_count": null,
   "id": "bcf5195e-9a9c-4fdd-a81a-68a228683195",
   "metadata": {},
   "outputs": [],
   "source": [
    "for ix in range(n_items):\n",
    "    item_latent_mat[ix,:] /= 100*np.linalg.norm(item_latent_mat[ix,:])\n",
    "for ix in range(n_features):\n",
    "    item_latent_mat[n_items+ix,:] /= np.linalg.norm(item_latent_mat[n_items+ix,:])\n",
    "for ix in range(user_latent_mat.shape[0]):\n",
    "    user_latent_mat[ix,:] /= 10*np.linalg.norm(user_latent_mat[ix,:])\n",
    "np.round(np.linalg.norm(item_latent_mat, axis=1),2)\n",
    "#np.round(np.linalg.norm(user_latent_mat, axis=1),2)"
   ]
  },
  {
   "cell_type": "code",
   "execution_count": null,
   "id": "fcd3172d-a1d4-418f-82c9-d7548bde57ab",
   "metadata": {},
   "outputs": [],
   "source": [
    "np.round(item_latent_mat,2)"
   ]
  },
  {
   "cell_type": "code",
   "execution_count": null,
   "id": "e60d4464-1acb-4836-a9b2-1c80906947b7",
   "metadata": {},
   "outputs": [],
   "source": [
    "np.round(user_latent_mat,2)"
   ]
  },
  {
   "cell_type": "code",
   "execution_count": null,
   "id": "2f5016a8-faa5-42af-baea-a1089d4ca92f",
   "metadata": {},
   "outputs": [],
   "source": [
    "for user_u in range(n_users):\n",
    "    print('Recs for user: ', user_u)\n",
    "    rec = user_latent_mat[user_u].dot(item_latent_mat.T)\n",
    "    for i in range(n_items):\n",
    "        inds = item_df.iloc[i].values.nonzero()[0]\n",
    "        print(i, ':', np.round(np.sum(rec[inds]),3))"
   ]
  },
  {
   "cell_type": "code",
   "execution_count": null,
   "id": "aac49427-e721-4540-9765-6569180c2127",
   "metadata": {},
   "outputs": [],
   "source": [
    "# interaction\n",
    "user_u = 0\n",
    "item_pos = 0\n",
    "item_neg = 1"
   ]
  },
  {
   "cell_type": "code",
   "execution_count": null,
   "id": "6e91f590-208e-44b8-be23-3997e9ac5e8f",
   "metadata": {},
   "outputs": [],
   "source": [
    "#gradients\n",
    "for ix in range(10): \n",
    "    print(f'::::::::Iter{ix}')\n",
    "    # slice user-item latent mat\n",
    "    user_latent = user_latent_mat[user_u]\n",
    "    #print(np.round(user_latent,2))\n",
    "    pos_inds = item_df.iloc[item_pos].values.nonzero()[0]\n",
    "    item_latent_pos = item_latent_mat[pos_inds,:]\n",
    "    #print(np.round(item_latent_pos,2))\n",
    "    item_latent_pos = np.sum(item_latent_pos,axis=0)\n",
    "    #print(np.round(item_latent_pos,2))\n",
    "    neg_inds = item_df.iloc[item_neg].values.nonzero()[0]\n",
    "    item_latent_neg = item_latent_mat[neg_inds,:]\n",
    "    #print(np.round(item_latent_neg,2))\n",
    "    item_latent_neg = np.sum(item_latent_neg, axis=0)\n",
    "    #print(np.round(item_latent_neg,2))\n",
    "\n",
    "    r_uij = np.dot(user_latent, (item_latent_pos - item_latent_neg))\n",
    "    sigmoid = expit(-r_uij)\n",
    "    sigmoid_tiled = np.tile(sigmoid, (nlatent,))\n",
    "    grad_u = np.multiply(sigmoid_tiled, (item_latent_neg - item_latent_pos))\n",
    "    grad_pos = np.multiply(sigmoid_tiled, -user_latent)\n",
    "    grad_neg = np.multiply(sigmoid_tiled, user_latent)\n",
    "\n",
    "    # bpr update\n",
    "    learning_rate=0.1\n",
    "    user_latent_mat[user_u] -= learning_rate * grad_u\n",
    "    item_latent_mat[item_pos] -= learning_rate * grad_pos\n",
    "    item_latent_mat[item_neg] -= learning_rate * grad_neg\n",
    "    print('User:\\n', np.round(user_latent_mat,3))\n",
    "    print('Item:\\n', np.round(item_latent_mat,3))\n",
    "    rec = user_latent_mat[user_u].dot(item_latent_mat.T)\n",
    "    for i in range(n_items):\n",
    "        inds = item_df.iloc[i].values.nonzero()[0]\n",
    "        print(i, ':', np.round(np.sum(rec[inds]),3))\n",
    "    #print('Recs:', np.round(rec,3))"
   ]
  },
  {
   "cell_type": "code",
   "execution_count": null,
   "id": "e9fd55cc-b86c-4aab-aae0-186e0d1b5734",
   "metadata": {},
   "outputs": [],
   "source": []
  }
 ],
 "metadata": {
  "kernelspec": {
   "display_name": "bpr_env",
   "language": "python",
   "name": "bpr_env"
  },
  "language_info": {
   "codemirror_mode": {
    "name": "ipython",
    "version": 3
   },
   "file_extension": ".py",
   "mimetype": "text/x-python",
   "name": "python",
   "nbconvert_exporter": "python",
   "pygments_lexer": "ipython3",
   "version": "3.13.0"
  }
 },
 "nbformat": 4,
 "nbformat_minor": 5
}
