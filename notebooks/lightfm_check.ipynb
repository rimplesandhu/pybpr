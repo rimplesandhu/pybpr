{
 "cells": [
  {
   "cell_type": "markdown",
   "id": "1971f6cf",
   "metadata": {},
   "source": [
    "## Application of BPR on Movielens"
   ]
  },
  {
   "cell_type": "code",
   "execution_count": 1,
   "id": "6985b0da",
   "metadata": {},
   "outputs": [],
   "source": [
    "#%load_ext watermark\n",
    "%load_ext autoreload \n",
    "%autoreload 2"
   ]
  },
  {
   "cell_type": "code",
   "execution_count": 2,
   "id": "6f571098",
   "metadata": {},
   "outputs": [],
   "source": [
    "import os\n",
    "import sys\n",
    "import itertools\n",
    "import numpy as np\n",
    "import pandas as pd\n",
    "from subprocess import call\n",
    "# import pybpr\n",
    "import matplotlib.pyplot as plt\n",
    "from functools import partial"
   ]
  },
  {
   "cell_type": "code",
   "execution_count": 3,
   "id": "d4b00789-5f97-43df-9f5f-24de0f077fab",
   "metadata": {},
   "outputs": [],
   "source": [
    "import torch\n",
    "\n",
    "class TinyModel(torch.nn.Module):\n",
    "\n",
    "    def __init__(self):\n",
    "        super(TinyModel, self).__init__()\n",
    "\n",
    "        self.linear1 = torch.nn.Linear(100, 200)\n",
    "        self.activation = torch.nn.ReLU()\n",
    "        self.linear2 = torch.nn.Linear(200, 10)\n",
    "        self.softmax = torch.nn.Softmax()\n",
    "\n",
    "    def forward(self, x):\n",
    "        x = self.linear1(x)\n",
    "        x = self.activation(x)\n",
    "        x = self.linear2(x)\n",
    "        x = self.softmax(x)\n",
    "        return x\n",
    "\n",
    "tinymodel = TinyModel()"
   ]
  },
  {
   "cell_type": "code",
   "execution_count": 5,
   "id": "0c0137a5-c483-46e3-a877-1aaaaa7943d3",
   "metadata": {},
   "outputs": [
    {
     "data": {
      "text/plain": [
       "__main__.TinyModel"
      ]
     },
     "execution_count": 5,
     "metadata": {},
     "output_type": "execute_result"
    }
   ],
   "source": [
    "isinstance(tinymodel)"
   ]
  },
  {
   "cell_type": "code",
   "execution_count": 3,
   "id": "ec8366e5-7cb3-444f-b83c-b2015cf4f6f2",
   "metadata": {},
   "outputs": [
    {
     "ename": "NameError",
     "evalue": "name 'DATA_DIR' is not defined",
     "output_type": "error",
     "traceback": [
      "\u001b[0;31m---------------------------------------------------------------------------\u001b[0m",
      "\u001b[0;31mNameError\u001b[0m                                 Traceback (most recent call last)",
      "Input \u001b[0;32mIn [3]\u001b[0m, in \u001b[0;36m<cell line: 1>\u001b[0;34m()\u001b[0m\n\u001b[0;32m----> 1\u001b[0m fpath \u001b[38;5;241m=\u001b[39m os\u001b[38;5;241m.\u001b[39mpath\u001b[38;5;241m.\u001b[39mjoin(\u001b[43mDATA_DIR\u001b[49m, \u001b[38;5;124m'\u001b[39m\u001b[38;5;124mmovie_dataset_public_final\u001b[39m\u001b[38;5;124m'\u001b[39m, \u001b[38;5;124m'\u001b[39m\u001b[38;5;124mprocessed\u001b[39m\u001b[38;5;124m'\u001b[39m, \u001b[38;5;124m'\u001b[39m\u001b[38;5;124mfeatures_r.csv\u001b[39m\u001b[38;5;124m'\u001b[39m)\n\u001b[1;32m      2\u001b[0m df \u001b[38;5;241m=\u001b[39m pd\u001b[38;5;241m.\u001b[39mread_csv(fpath, engine\u001b[38;5;241m=\u001b[39m\u001b[38;5;124m'\u001b[39m\u001b[38;5;124mpython\u001b[39m\u001b[38;5;124m'\u001b[39m)\n\u001b[1;32m      3\u001b[0m df\u001b[38;5;241m.\u001b[39mhead()\n",
      "\u001b[0;31mNameError\u001b[0m: name 'DATA_DIR' is not defined"
     ]
    }
   ],
   "source": [
    "fpath = os.path.join(DATA_DIR, 'movie_dataset_public_final', 'processed', 'features_r.csv')\n",
    "df = pd.read_csv(fpath, engine='python')\n",
    "df.head()"
   ]
  },
  {
   "cell_type": "code",
   "execution_count": null,
   "id": "b511f458-d9fe-4518-9c77-7e081489647d",
   "metadata": {},
   "outputs": [],
   "source": [
    "df.info()"
   ]
  },
  {
   "cell_type": "code",
   "execution_count": null,
   "id": "5feb4eb0-5213-4a27-9a24-6a273b63a840",
   "metadata": {},
   "outputs": [],
   "source": [
    "df[df.item_id==2571]"
   ]
  },
  {
   "cell_type": "code",
   "execution_count": null,
   "id": "81574f01-ece7-424b-b932-a306152b2b4b",
   "metadata": {},
   "outputs": [],
   "source": [
    "df.tag.value_counts()"
   ]
  },
  {
   "cell_type": "code",
   "execution_count": null,
   "id": "452aa89b-60c2-461e-aba9-6b61b39dd86c",
   "metadata": {},
   "outputs": [],
   "source": [
    "df.item_id.value_counts()"
   ]
  },
  {
   "cell_type": "code",
   "execution_count": null,
   "id": "b76694b8-dda7-48b9-a666-556a3ce6e3ee",
   "metadata": {},
   "outputs": [],
   "source": [
    "df.targets.value_counts()"
   ]
  },
  {
   "cell_type": "code",
   "execution_count": null,
   "id": "850e90d9-2b8d-4634-ad99-d63fe55097bb",
   "metadata": {},
   "outputs": [],
   "source": [
    "df.tag_exists.value_counts()"
   ]
  },
  {
   "cell_type": "code",
   "execution_count": null,
   "id": "3c00586d-2a6b-4a5c-989b-067f0e866cab",
   "metadata": {},
   "outputs": [],
   "source": [
    "fig, ax = plt.subplots(figsize=(12,4))\n",
    "for col in ['log_IMDB', 'log_IMDB_nostem','rating_similarity','avg_rating','lsi_tags_75', 'lsi_imdb_175','tag_prob']:\n",
    "    df[col].hist(bins=100, ax=ax, histtype='step', label=col)\n",
    "# df.log_IMDB_nostem.hist(bins=100, ax=ax, histtype='step')\n",
    "ax.set_xlim([-5,5])\n",
    "ax.legend()"
   ]
  },
  {
   "cell_type": "code",
   "execution_count": null,
   "id": "d576f17c-eb3b-49ba-8356-7a8db4c03fe2",
   "metadata": {},
   "outputs": [],
   "source": []
  },
  {
   "cell_type": "code",
   "execution_count": null,
   "id": "0dae490e-b599-48c7-9e19-bc70254a3185",
   "metadata": {},
   "outputs": [],
   "source": [
    "fpath = os.path.join(DATA_DIR, 'movie_dataset_public_final', 'processed', '10folds', 'test0.csv')\n",
    "df = pd.read_csv(fpath, engine='python')\n",
    "df.head()"
   ]
  },
  {
   "cell_type": "code",
   "execution_count": null,
   "id": "427eac0a-7593-455c-9332-c397bf1da890",
   "metadata": {},
   "outputs": [],
   "source": [
    "df.head()"
   ]
  },
  {
   "cell_type": "code",
   "execution_count": null,
   "id": "bcd21924",
   "metadata": {},
   "outputs": [],
   "source": [
    "%%time\n",
    "#df = load_movielens_data('ml-1m')\n",
    "DATA_DIR = '/projects/zazzle/rsandhu/pybpr/examples/data'\n",
    "fpath = os.path.join(DATA_DIR, 'ml-1m', 'ratings.dat')\n",
    "df = pd.read_csv(fpath, sep='::', header=None, engine='python')\n",
    "df.columns=['user_id', 'item_id', 'rating','time']\n",
    "df.head()"
   ]
  },
  {
   "cell_type": "code",
   "execution_count": null,
   "id": "3a1e6c1e-c412-444e-979d-edac3b9d8c93",
   "metadata": {},
   "outputs": [],
   "source": [
    "fpath = os.path.join(DATA_DIR, 'ml-1m', 'movies.dat')\n",
    "df = pd.read_csv(fpath, sep='::', header=None, engine='python')"
   ]
  },
  {
   "cell_type": "code",
   "execution_count": null,
   "id": "e838bcad-f9c5-40e4-80be-9e8bc1bc0404",
   "metadata": {},
   "outputs": [],
   "source": []
  },
  {
   "cell_type": "code",
   "execution_count": null,
   "id": "ec2095c3",
   "metadata": {},
   "outputs": [],
   "source": [
    "df['user_id'] = df['user_id'].astype('category')\n",
    "df['item_id'] = df['item_id'].astype('category')\n",
    "df['user_idx'] = df['user_id'].cat.codes\n",
    "df['item_idx'] = df['item_id'].cat.codes\n",
    "df.head()"
   ]
  },
  {
   "cell_type": "code",
   "execution_count": null,
   "id": "c9d30ff2",
   "metadata": {},
   "outputs": [],
   "source": [
    "df.user_idx.nunique(), df.item_idx.nunique()"
   ]
  },
  {
   "cell_type": "code",
   "execution_count": null,
   "id": "e3ca8994",
   "metadata": {},
   "outputs": [],
   "source": [
    "dfp = df[df['rating'] > 3].copy()\n",
    "dfn = df[df['rating'] <= 3].copy()"
   ]
  },
  {
   "cell_type": "code",
   "execution_count": null,
   "id": "4e673edf",
   "metadata": {},
   "outputs": [],
   "source": [
    "pos_count = dfp.groupby('user_idx')['item_idx'].count().sort_values(ascending=False)\n",
    "pos_count = pos_count[pos_count > 5]\n",
    "neg_count = dfn.groupby('user_idx')['item_idx'].count().sort_values(ascending=False)\n",
    "neg_count = neg_count[neg_count > 5]"
   ]
  },
  {
   "cell_type": "code",
   "execution_count": null,
   "id": "a1cd5b96",
   "metadata": {},
   "outputs": [],
   "source": [
    "uvec = np.intersect1d(neg_count.index.values, pos_count.index.values, assume_unique=True)\n",
    "dfp = dfp[dfp.user_idx.isin(uvec)]\n",
    "dfn = dfn[dfn.user_idx.isin(uvec)]"
   ]
  },
  {
   "cell_type": "code",
   "execution_count": null,
   "id": "d27b2c81",
   "metadata": {},
   "outputs": [],
   "source": [
    "dfp.user_idx.nunique(), dfn.user_idx.nunique()"
   ]
  },
  {
   "cell_type": "code",
   "execution_count": null,
   "id": "c72c2e4a",
   "metadata": {},
   "outputs": [],
   "source": [
    "uvec = np.intersect1d(dfp.user_idx.unique(), dfn.user_idx.unique(), assume_unique=True)\n",
    "dfp = dfp[dfp.user_idx.isin(uvec)]\n",
    "dfn = dfn[dfn.user_idx.isin(uvec)]\n",
    "ivec = np.intersect1d(dfp.item_idx.unique(), dfn.item_idx.unique(), assume_unique=True)\n",
    "dfp = dfp[dfp.item_idx.isin(ivec)]\n",
    "dfn = dfn[dfn.item_idx.isin(ivec)]"
   ]
  },
  {
   "cell_type": "code",
   "execution_count": null,
   "id": "110c4745",
   "metadata": {},
   "outputs": [],
   "source": [
    "dfp['user_idxx'] = 0\n",
    "dfn['user_idxx'] = 0\n",
    "for i, idx in enumerate(dfp.user_idx.unique()):\n",
    "    dfp.loc[dfp.user_idx==idx,'user_idxx'] = i\n",
    "    dfn.loc[dfn.user_idx==idx,'user_idxx'] = i\n",
    "dfp['item_idxx'] = 0\n",
    "dfn['item_idxx'] = 0\n",
    "for i, idx in enumerate(dfp.item_idx.unique()):\n",
    "    dfp.loc[dfp.item_idx==idx,'item_idxx'] = i\n",
    "    dfn.loc[dfn.item_idx==idx,'item_idxx'] = i"
   ]
  },
  {
   "cell_type": "code",
   "execution_count": null,
   "id": "3258a32d",
   "metadata": {},
   "outputs": [],
   "source": [
    "dfp.user_idxx.nunique(), dfp.user_idxx.max()\n",
    "dfn.user_idxx.nunique(), dfn.user_idxx.max()"
   ]
  },
  {
   "cell_type": "code",
   "execution_count": null,
   "id": "c947dee6",
   "metadata": {},
   "outputs": [],
   "source": [
    "cfp = UserItemInteractions(\n",
    "    name='MovieLens-100k',\n",
    "    users=dfp['user_idxx'],\n",
    "    items=dfp['item_idxx'],\n",
    "    min_num_rating_per_user=0,\n",
    "    min_num_rating_per_item=0,\n",
    "    num_cores = 1\n",
    ")\n",
    "cfp.generate_train_test(user_test_ratio=0.2)\n",
    "cfn = UserItemInteractions(\n",
    "    name='MovieLens-100k',\n",
    "    users=dfn['user_idxx'],\n",
    "    items=dfn['item_idxx'],\n",
    "    min_num_rating_per_user=0,\n",
    "    min_num_rating_per_item=0,\n",
    "    num_cores = 1\n",
    ")\n",
    "cfn.generate_train_test(user_test_ratio=0.2)"
   ]
  },
  {
   "cell_type": "code",
   "execution_count": null,
   "id": "dec288c1",
   "metadata": {},
   "outputs": [],
   "source": [
    "cfp.R_train, cfp.R_test, dfp.shape\n",
    "cfn.R_train, cfn.R_test, dfp.shape"
   ]
  },
  {
   "cell_type": "code",
   "execution_count": null,
   "id": "3be7c6fc",
   "metadata": {},
   "outputs": [],
   "source": [
    "cfn.R, dfn.shape"
   ]
  },
  {
   "cell_type": "code",
   "execution_count": null,
   "id": "9d606f0e",
   "metadata": {},
   "outputs": [],
   "source": [
    "np.allclose(np.sort(dfp.user_id.unique()), np.sort(dfn.user_id.unique()))\n",
    "#np.allclose(np.sort(dfp.item_id.unique()), np.sort(dfn.item_id.unique()))"
   ]
  },
  {
   "cell_type": "code",
   "execution_count": null,
   "id": "3fc0b062",
   "metadata": {},
   "outputs": [],
   "source": [
    "bpr = BPR(\n",
    "    num_features=40,\n",
    "    reg_lambda=0.00,\n",
    "    num_iters=500,\n",
    "    learning_rate = 0.04,\n",
    "    batch_size=10,\n",
    "    initial_std=0.001,\n",
    "    seed=None\n",
    ")"
   ]
  },
  {
   "cell_type": "code",
   "execution_count": null,
   "id": "6b394802",
   "metadata": {},
   "outputs": [],
   "source": [
    "#bpr.fit(train_mat=cfp.R, train_mat_neg=cfn.R, ndcg_func=ndcg_fun_p)\n",
    "ndcg_fun_p = partial(\n",
    "    cfp.get_ndcg_metric,\n",
    "    num_items=5\n",
    ")\n",
    "bpr.fit(\n",
    "    train_mat=cfp.R_train, \n",
    "    train_mat_neg=cfn.R, \n",
    "    ndcg_func=ndcg_fun_p)\n",
    "ndcg_df = pd.DataFrame(bpr.ndcg_metric)"
   ]
  },
  {
   "cell_type": "code",
   "execution_count": null,
   "id": "bf1ad17c",
   "metadata": {},
   "outputs": [],
   "source": [
    "bpr.fit(train_mat=cfp.R_train, ndcg_func=ndcg_fun_p)\n",
    "ndcg_df2 = pd.DataFrame(bpr.ndcg_metric)"
   ]
  },
  {
   "cell_type": "code",
   "execution_count": null,
   "id": "3eb9521a",
   "metadata": {},
   "outputs": [],
   "source": [
    "fig, ax = plt.subplots(1,2,figsize=(10,3))\n",
    "ax[0].plot(ndcg_df['train'],'-r', label='Explicit Neg')\n",
    "ax[0].plot(ndcg_df2['train'],'-b', label='AMAN')\n",
    "ax[1].plot(ndcg_df['test'],'-r', label='Explicit Neg')\n",
    "ax[1].plot(ndcg_df2['test'],'-b', label='AMAN')\n",
    "for iax in ax:\n",
    "    iax.legend()"
   ]
  },
  {
   "cell_type": "code",
   "execution_count": null,
   "id": "6abfe3cc",
   "metadata": {},
   "outputs": [],
   "source": [
    "fig, ax = plt.subplots(1,2,figsize=(10,3))\n",
    "ax[0].plot(ndcg_df['train'],'-r', label='Explicit Neg')\n",
    "ax[0].plot(ndcg_df2['train'],'-b', label='AMAN')\n",
    "ax[1].plot(ndcg_df['test'],'-r', label='Explicit Neg')\n",
    "ax[1].plot(ndcg_df2['test'],'-b', label='AMAN')\n",
    "for iax in ax:\n",
    "    iax.legend()"
   ]
  },
  {
   "cell_type": "code",
   "execution_count": null,
   "id": "5cea6dcd",
   "metadata": {},
   "outputs": [],
   "source": [
    "bpr.fit(train_mat=cfp.R, ndcg_func=ndcg_fun_p)"
   ]
  },
  {
   "cell_type": "code",
   "execution_count": null,
   "id": "3054d165",
   "metadata": {},
   "outputs": [],
   "source": [
    "rec1 = cfp.get_top_items_for_this_user(10, bpr.user_mat, bpr.item_mat,5)\n",
    "rec2 = cfp.get_top_items_for_this_user(10, bpr2.user_mat, bpr.item_mat,5)"
   ]
  }
 ],
 "metadata": {
  "kernelspec": {
   "display_name": "bpr_env",
   "language": "python",
   "name": "bpr_env"
  },
  "language_info": {
   "codemirror_mode": {
    "name": "ipython",
    "version": 3
   },
   "file_extension": ".py",
   "mimetype": "text/x-python",
   "name": "python",
   "nbconvert_exporter": "python",
   "pygments_lexer": "ipython3",
   "version": "3.13.0"
  }
 },
 "nbformat": 4,
 "nbformat_minor": 5
}
