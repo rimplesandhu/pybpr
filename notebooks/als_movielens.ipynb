{
 "cells": [
  {
   "cell_type": "markdown",
   "id": "1971f6cf",
   "metadata": {},
   "source": [
    "## Application of ALS and SVD on Movielens"
   ]
  },
  {
   "cell_type": "code",
   "execution_count": 1,
   "id": "6985b0da",
   "metadata": {},
   "outputs": [],
   "source": [
    "#%load_ext watermark\n",
    "%load_ext autoreload \n",
    "%autoreload 2"
   ]
  },
  {
   "cell_type": "code",
   "execution_count": 2,
   "id": "6f571098",
   "metadata": {},
   "outputs": [],
   "source": [
    "import os\n",
    "import sys\n",
    "import numpy as np\n",
    "import pandas as pd\n",
    "from subprocess import call\n",
    "from pybpr import *\n",
    "import matplotlib.pyplot as plt\n",
    "from functools import partial"
   ]
  },
  {
   "cell_type": "code",
   "execution_count": 1,
   "id": "bcd21924",
   "metadata": {},
   "outputs": [
    {
     "ename": "NameError",
     "evalue": "name 'load_movielens_data' is not defined",
     "output_type": "error",
     "traceback": [
      "\u001b[0;31m---------------------------------------------------------------------------\u001b[0m",
      "\u001b[0;31mNameError\u001b[0m                                 Traceback (most recent call last)",
      "File \u001b[0;32m<timed exec>:2\u001b[0m\n",
      "\u001b[0;31mNameError\u001b[0m: name 'load_movielens_data' is not defined"
     ]
    }
   ],
   "source": [
    "%%time\n",
    "#df = load_movielens_data('ml-1m')\n",
    "df = load_movielens_data('ml-100k', sep='::', engine='python')\n",
    "df.head()"
   ]
  },
  {
   "cell_type": "code",
   "execution_count": 4,
   "id": "eec38ecb",
   "metadata": {},
   "outputs": [
    {
     "name": "stdout",
     "output_type": "stream",
     "text": [
      "--- Memory usage for MovieLens-1m:\n",
      "Sparse User-Item matrix = 0.09 MB\n",
      "User-Item dataframe df = 1.89 MB\n",
      "Item dataframe df_item = 0.1 MB\n",
      "Item dataframe df_user = 0.05 MB\n",
      "---\n",
      "CPU times: user 66.3 ms, sys: 6.6 ms, total: 72.9 ms\n",
      "Wall time: 72 ms\n"
     ]
    }
   ],
   "source": [
    "%%time\n",
    "dfshort = df[df['rating'] > 0]\n",
    "cf = UserItemInteractions(\n",
    "    name='MovieLens-1m',\n",
    "    users = dfshort['user_id'], \n",
    "    items = dfshort['item_id'],\n",
    "    min_num_rating_per_user=30,\n",
    "    min_num_rating_per_item=10\n",
    ")\n",
    "cf.print_memory_usage()"
   ]
  },
  {
   "cell_type": "code",
   "execution_count": 5,
   "id": "ab98cffc",
   "metadata": {},
   "outputs": [
    {
     "name": "stdout",
     "output_type": "stream",
     "text": [
      "CPU times: user 1.26 s, sys: 12.9 ms, total: 1.28 s\n",
      "Wall time: 1.28 s\n"
     ]
    }
   ],
   "source": [
    "%%time\n",
    "cf.generate_train_test(user_test_ratio = 0.2)"
   ]
  },
  {
   "cell_type": "code",
   "execution_count": 6,
   "id": "35283aef",
   "metadata": {},
   "outputs": [],
   "source": [
    "als = MF_ALS(num_features=10, reg_lambda=0., num_iters=100, initial_std=0.1, seed=None)"
   ]
  },
  {
   "cell_type": "code",
   "execution_count": 7,
   "id": "40752745",
   "metadata": {},
   "outputs": [
    {
     "name": "stderr",
     "output_type": "stream",
     "text": [
      "MF_ALS: 100%|██████████████████████████████████████████| 100/100 [00:00<00:00, 873.03it/s]\n"
     ]
    }
   ],
   "source": [
    "als.fit(cf.R_train)"
   ]
  },
  {
   "cell_type": "code",
   "execution_count": 8,
   "id": "1ca71fb7",
   "metadata": {},
   "outputs": [],
   "source": [
    "ndcg_score = cf.get_ndcg_metric(\n",
    "    user_mat = als.user_mat,\n",
    "    item_mat=als.item_mat,\n",
    "    num_items = 10,\n",
    "    test=True,\n",
    "    truncate=True\n",
    ")"
   ]
  },
  {
   "cell_type": "code",
   "execution_count": 9,
   "id": "b5946719",
   "metadata": {},
   "outputs": [
    {
     "data": {
      "text/plain": [
       "0.45679663853798047"
      ]
     },
     "execution_count": 9,
     "metadata": {},
     "output_type": "execute_result"
    }
   ],
   "source": [
    "ndcg_score"
   ]
  },
  {
   "cell_type": "markdown",
   "id": "635f488e",
   "metadata": {},
   "source": [
    "## Effect of num of features on ndcg"
   ]
  },
  {
   "cell_type": "code",
   "execution_count": 10,
   "id": "9252037b",
   "metadata": {},
   "outputs": [
    {
     "name": "stdout",
     "output_type": "stream",
     "text": [
      "1-"
     ]
    },
    {
     "name": "stderr",
     "output_type": "stream",
     "text": [
      "MF_ALS: 100%|███████████████████████████████████████████| 10/10 [00:00<00:00, 2231.84it/s]\n"
     ]
    },
    {
     "name": "stdout",
     "output_type": "stream",
     "text": [
      "5-"
     ]
    },
    {
     "name": "stderr",
     "output_type": "stream",
     "text": [
      "MF_ALS: 100%|███████████████████████████████████████████| 10/10 [00:00<00:00, 1049.78it/s]\n"
     ]
    },
    {
     "name": "stdout",
     "output_type": "stream",
     "text": [
      "9-"
     ]
    },
    {
     "name": "stderr",
     "output_type": "stream",
     "text": [
      "MF_ALS: 100%|████████████████████████████████████████████| 10/10 [00:00<00:00, 781.82it/s]\n"
     ]
    },
    {
     "name": "stdout",
     "output_type": "stream",
     "text": [
      "13-"
     ]
    },
    {
     "name": "stderr",
     "output_type": "stream",
     "text": [
      "MF_ALS: 100%|████████████████████████████████████████████| 10/10 [00:00<00:00, 618.05it/s]\n"
     ]
    },
    {
     "name": "stdout",
     "output_type": "stream",
     "text": [
      "17-"
     ]
    },
    {
     "name": "stderr",
     "output_type": "stream",
     "text": [
      "MF_ALS: 100%|████████████████████████████████████████████| 10/10 [00:00<00:00, 483.18it/s]\n"
     ]
    },
    {
     "name": "stdout",
     "output_type": "stream",
     "text": [
      "21-"
     ]
    },
    {
     "name": "stderr",
     "output_type": "stream",
     "text": [
      "MF_ALS: 100%|████████████████████████████████████████████| 10/10 [00:00<00:00, 441.18it/s]\n"
     ]
    },
    {
     "name": "stdout",
     "output_type": "stream",
     "text": [
      "25-"
     ]
    },
    {
     "name": "stderr",
     "output_type": "stream",
     "text": [
      "MF_ALS: 100%|████████████████████████████████████████████| 10/10 [00:00<00:00, 392.12it/s]\n"
     ]
    },
    {
     "name": "stdout",
     "output_type": "stream",
     "text": [
      "29-"
     ]
    },
    {
     "name": "stderr",
     "output_type": "stream",
     "text": [
      "MF_ALS: 100%|████████████████████████████████████████████| 10/10 [00:00<00:00, 345.30it/s]\n"
     ]
    },
    {
     "name": "stdout",
     "output_type": "stream",
     "text": [
      "33-"
     ]
    },
    {
     "name": "stderr",
     "output_type": "stream",
     "text": [
      "MF_ALS: 100%|████████████████████████████████████████████| 10/10 [00:00<00:00, 268.73it/s]\n"
     ]
    },
    {
     "name": "stdout",
     "output_type": "stream",
     "text": [
      "37-"
     ]
    },
    {
     "name": "stderr",
     "output_type": "stream",
     "text": [
      "MF_ALS: 100%|████████████████████████████████████████████| 10/10 [00:00<00:00, 211.24it/s]\n"
     ]
    },
    {
     "name": "stdout",
     "output_type": "stream",
     "text": [
      "41-"
     ]
    },
    {
     "name": "stderr",
     "output_type": "stream",
     "text": [
      "MF_ALS: 100%|████████████████████████████████████████████| 10/10 [00:00<00:00, 212.76it/s]\n"
     ]
    },
    {
     "name": "stdout",
     "output_type": "stream",
     "text": [
      "45-"
     ]
    },
    {
     "name": "stderr",
     "output_type": "stream",
     "text": [
      "MF_ALS: 100%|████████████████████████████████████████████| 10/10 [00:00<00:00, 189.20it/s]\n"
     ]
    },
    {
     "name": "stdout",
     "output_type": "stream",
     "text": [
      "49-"
     ]
    },
    {
     "name": "stderr",
     "output_type": "stream",
     "text": [
      "MF_ALS: 100%|████████████████████████████████████████████| 10/10 [00:00<00:00, 182.25it/s]\n"
     ]
    },
    {
     "name": "stdout",
     "output_type": "stream",
     "text": [
      "53-"
     ]
    },
    {
     "name": "stderr",
     "output_type": "stream",
     "text": [
      "MF_ALS: 100%|████████████████████████████████████████████| 10/10 [00:00<00:00, 167.29it/s]\n"
     ]
    },
    {
     "name": "stdout",
     "output_type": "stream",
     "text": [
      "57-"
     ]
    },
    {
     "name": "stderr",
     "output_type": "stream",
     "text": [
      "MF_ALS: 100%|████████████████████████████████████████████| 10/10 [00:00<00:00, 159.37it/s]\n"
     ]
    },
    {
     "name": "stdout",
     "output_type": "stream",
     "text": [
      "61-"
     ]
    },
    {
     "name": "stderr",
     "output_type": "stream",
     "text": [
      "MF_ALS: 100%|████████████████████████████████████████████| 10/10 [00:00<00:00, 112.58it/s]\n"
     ]
    },
    {
     "name": "stdout",
     "output_type": "stream",
     "text": [
      "65-"
     ]
    },
    {
     "name": "stderr",
     "output_type": "stream",
     "text": [
      "MF_ALS: 100%|████████████████████████████████████████████| 10/10 [00:00<00:00, 119.29it/s]\n"
     ]
    },
    {
     "name": "stdout",
     "output_type": "stream",
     "text": [
      "69-"
     ]
    },
    {
     "name": "stderr",
     "output_type": "stream",
     "text": [
      "MF_ALS: 100%|████████████████████████████████████████████| 10/10 [00:00<00:00, 133.81it/s]\n"
     ]
    },
    {
     "name": "stdout",
     "output_type": "stream",
     "text": [
      "73-"
     ]
    },
    {
     "name": "stderr",
     "output_type": "stream",
     "text": [
      "MF_ALS: 100%|████████████████████████████████████████████| 10/10 [00:00<00:00, 120.83it/s]\n"
     ]
    },
    {
     "name": "stdout",
     "output_type": "stream",
     "text": [
      "77-"
     ]
    },
    {
     "name": "stderr",
     "output_type": "stream",
     "text": [
      "MF_ALS: 100%|████████████████████████████████████████████| 10/10 [00:00<00:00, 102.48it/s]\n"
     ]
    },
    {
     "name": "stdout",
     "output_type": "stream",
     "text": [
      "81-"
     ]
    },
    {
     "name": "stderr",
     "output_type": "stream",
     "text": [
      "MF_ALS: 100%|████████████████████████████████████████████| 10/10 [00:00<00:00, 103.13it/s]\n"
     ]
    },
    {
     "name": "stdout",
     "output_type": "stream",
     "text": [
      "85-"
     ]
    },
    {
     "name": "stderr",
     "output_type": "stream",
     "text": [
      "MF_ALS: 100%|████████████████████████████████████████████| 10/10 [00:00<00:00, 108.66it/s]\n"
     ]
    },
    {
     "name": "stdout",
     "output_type": "stream",
     "text": [
      "89-"
     ]
    },
    {
     "name": "stderr",
     "output_type": "stream",
     "text": [
      "MF_ALS: 100%|████████████████████████████████████████████| 10/10 [00:00<00:00, 107.57it/s]\n"
     ]
    },
    {
     "name": "stdout",
     "output_type": "stream",
     "text": [
      "93-"
     ]
    },
    {
     "name": "stderr",
     "output_type": "stream",
     "text": [
      "MF_ALS: 100%|█████████████████████████████████████████████| 10/10 [00:00<00:00, 88.98it/s]\n"
     ]
    },
    {
     "name": "stdout",
     "output_type": "stream",
     "text": [
      "97-"
     ]
    },
    {
     "name": "stderr",
     "output_type": "stream",
     "text": [
      "MF_ALS: 100%|█████████████████████████████████████████████| 10/10 [00:00<00:00, 98.76it/s]\n"
     ]
    }
   ],
   "source": [
    "num_features_list = np.arange(1,100,4)\n",
    "ndcg_list = []\n",
    "for num_features in num_features_list:\n",
    "    print(num_features, end=\"-\", flush=True)\n",
    "    als = MF_ALS(\n",
    "        num_features=num_features, \n",
    "        reg_lambda=5., \n",
    "        num_iters=10, \n",
    "        initial_std=0.1, \n",
    "        seed=None\n",
    "    )\n",
    "    als.fit(cf.R_train)\n",
    "    als_ndcg_func = partial(\n",
    "        cf.get_ndcg_metric, \n",
    "        user_mat = als.user_mat, \n",
    "        item_mat=als.item_mat, \n",
    "        num_items = 10\n",
    "    )\n",
    "    svd = MF_SVD(num_features=num_features, num_iters=100, seed=None)\n",
    "    svd.fit(cf.R_train)\n",
    "    svd_ndcg_func = partial(\n",
    "        cf.get_ndcg_metric, \n",
    "        user_mat = svd.user_mat, \n",
    "        item_mat=svd.item_mat, \n",
    "        num_items = 10\n",
    "    )\n",
    "    result_dict={\n",
    "        'num_features': num_features,\n",
    "        'als_test': als_ndcg_func(test=True),\n",
    "        'als_train': als_ndcg_func(test=False),\n",
    "        'svd_test': svd_ndcg_func(test=True),\n",
    "        'svd_train': svd_ndcg_func(test=False)\n",
    "    }\n",
    "    ndcg_list.append(result_dict)\n",
    "ndcg_df = pd.DataFrame(ndcg_list)"
   ]
  },
  {
   "cell_type": "code",
   "execution_count": 11,
   "id": "af88e3bd",
   "metadata": {},
   "outputs": [
    {
     "data": {
      "text/html": [
       "<div>\n",
       "<style scoped>\n",
       "    .dataframe tbody tr th:only-of-type {\n",
       "        vertical-align: middle;\n",
       "    }\n",
       "\n",
       "    .dataframe tbody tr th {\n",
       "        vertical-align: top;\n",
       "    }\n",
       "\n",
       "    .dataframe thead th {\n",
       "        text-align: right;\n",
       "    }\n",
       "</style>\n",
       "<table border=\"1\" class=\"dataframe\">\n",
       "  <thead>\n",
       "    <tr style=\"text-align: right;\">\n",
       "      <th></th>\n",
       "      <th>num_features</th>\n",
       "      <th>als_test</th>\n",
       "      <th>als_train</th>\n",
       "      <th>svd_test</th>\n",
       "      <th>svd_train</th>\n",
       "    </tr>\n",
       "  </thead>\n",
       "  <tbody>\n",
       "    <tr>\n",
       "      <th>0</th>\n",
       "      <td>1</td>\n",
       "      <td>0.269689</td>\n",
       "      <td>0.458040</td>\n",
       "      <td>0.269689</td>\n",
       "      <td>0.458040</td>\n",
       "    </tr>\n",
       "    <tr>\n",
       "      <th>1</th>\n",
       "      <td>5</td>\n",
       "      <td>0.414805</td>\n",
       "      <td>0.660150</td>\n",
       "      <td>0.409970</td>\n",
       "      <td>0.658617</td>\n",
       "    </tr>\n",
       "    <tr>\n",
       "      <th>2</th>\n",
       "      <td>9</td>\n",
       "      <td>0.448649</td>\n",
       "      <td>0.713861</td>\n",
       "      <td>0.451182</td>\n",
       "      <td>0.717836</td>\n",
       "    </tr>\n",
       "    <tr>\n",
       "      <th>3</th>\n",
       "      <td>13</td>\n",
       "      <td>0.466199</td>\n",
       "      <td>0.756352</td>\n",
       "      <td>0.462949</td>\n",
       "      <td>0.753311</td>\n",
       "    </tr>\n",
       "    <tr>\n",
       "      <th>4</th>\n",
       "      <td>17</td>\n",
       "      <td>0.473247</td>\n",
       "      <td>0.786736</td>\n",
       "      <td>0.462804</td>\n",
       "      <td>0.797053</td>\n",
       "    </tr>\n",
       "  </tbody>\n",
       "</table>\n",
       "</div>"
      ],
      "text/plain": [
       "   num_features  als_test  als_train  svd_test  svd_train\n",
       "0             1  0.269689   0.458040  0.269689   0.458040\n",
       "1             5  0.414805   0.660150  0.409970   0.658617\n",
       "2             9  0.448649   0.713861  0.451182   0.717836\n",
       "3            13  0.466199   0.756352  0.462949   0.753311\n",
       "4            17  0.473247   0.786736  0.462804   0.797053"
      ]
     },
     "execution_count": 11,
     "metadata": {},
     "output_type": "execute_result"
    }
   ],
   "source": [
    "ndcg_df.head()"
   ]
  },
  {
   "cell_type": "code",
   "execution_count": 34,
   "id": "955bf9b0",
   "metadata": {},
   "outputs": [
    {
     "data": {
      "image/png": "[encoded data removed]",
      "text/plain": [
       "<Figure size 1000x300 with 2 Axes>"
      ]
     },
     "metadata": {},
     "output_type": "display_data"
    }
   ],
   "source": [
    "fig, ax = plt.subplots(1, 2, figsize=(10,3))\n",
    "ax[0].plot(ndcg_df['num_features'], ndcg_df['als_train'], '-r', label='ALS-Train')\n",
    "ax[0].plot(ndcg_df['num_features'], ndcg_df['als_test'], '-b', label='ALS-Test')\n",
    "ax[1].plot(ndcg_df['num_features'], ndcg_df['svd_train'], '-r', label='SVD-Train')\n",
    "ax[1].plot(ndcg_df['num_features'], ndcg_df['svd_test'], '-b', label='SVD-Test')\n",
    "for iax in ax:\n",
    "    iax.grid(True)\n",
    "    #iax.set_ylim([0, 1])\n",
    "    iax.set_ylabel('NDCG')\n",
    "    iax.set_xlabel('Num of features')\n",
    "    iax.legend(loc=2, borderaxespad=0.1)"
   ]
  },
  {
   "cell_type": "code",
   "execution_count": 12,
   "id": "64549a02",
   "metadata": {},
   "outputs": [
    {
     "data": {
      "image/png": "[encoded data removed]",
      "text/plain": [
       "<Figure size 1000x300 with 2 Axes>"
      ]
     },
     "metadata": {},
     "output_type": "display_data"
    }
   ],
   "source": [
    "fig, ax = plt.subplots(1, 2, figsize=(10,3))\n",
    "ax[0].plot(ndcg_df['num_features'], ndcg_df['als_train'], '-r', label='ALS-Train')\n",
    "ax[0].plot(ndcg_df['num_features'], ndcg_df['als_test'], '-b', label='ALS-Test')\n",
    "ax[1].plot(ndcg_df['num_features'], ndcg_df['svd_train'], '-r', label='SVD-Train')\n",
    "ax[1].plot(ndcg_df['num_features'], ndcg_df['svd_test'], '-b', label='SVD-Test')\n",
    "for iax in ax:\n",
    "    iax.grid(True)\n",
    "    #iax.set_ylim([0, 1])\n",
    "    iax.set_ylabel('NDCG')\n",
    "    iax.set_xlabel('Num of features')\n",
    "    iax.legend(loc=2, borderaxespad=0.1)"
   ]
  },
  {
   "cell_type": "markdown",
   "id": "84277d23",
   "metadata": {},
   "source": [
    "## Conclusions\n",
    "- Around 10-20 features seems to provide best NDCG for Movielens-100k data\n",
    "- ALS and SVD have same solution when using no regularization on ALS cost function\n",
    "- Changing the num_items when computing NDCG just scales the NDCG-num_of_features relation\n",
    "- Adding reularization to ALS makes sure it does not overfit for large num of features\n",
    "- ALS with regularization has the same optimal NDCG and num of features as SVD\n",
    "- ALS solution seems to converging at around 10 iterations"
   ]
  },
  {
   "cell_type": "code",
   "execution_count": 33,
   "id": "1e2e19c5",
   "metadata": {},
   "outputs": [
    {
     "data": {
      "text/plain": [
       "1.0"
      ]
     },
     "execution_count": 33,
     "metadata": {},
     "output_type": "execute_result"
    }
   ],
   "source": [
    "compute_ndcg([0], K=1)"
   ]
  },
  {
   "cell_type": "code",
   "execution_count": null,
   "id": "ff324cb7",
   "metadata": {},
   "outputs": [],
   "source": []
  }
 ],
 "metadata": {
  "kernelspec": {
   "display_name": "bpr_env",
   "language": "python",
   "name": "bpr_env"
  },
  "language_info": {
   "codemirror_mode": {
    "name": "ipython",
    "version": 3
   },
   "file_extension": ".py",
   "mimetype": "text/x-python",
   "name": "python",
   "nbconvert_exporter": "python",
   "pygments_lexer": "ipython3",
   "version": "3.13.0"
  }
 },
 "nbformat": 4,
 "nbformat_minor": 5
}
