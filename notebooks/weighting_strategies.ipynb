{
 "cells": [
  {
   "cell_type": "markdown",
   "id": "1971f6cf",
   "metadata": {},
   "source": [
    "## Different weighting strategy"
   ]
  },
  {
   "cell_type": "code",
   "execution_count": 1,
   "id": "6985b0da",
   "metadata": {},
   "outputs": [],
   "source": [
    "#%load_ext watermark\n",
    "%load_ext autoreload \n",
    "%autoreload 2"
   ]
  },
  {
   "cell_type": "code",
   "execution_count": 2,
   "id": "6f571098",
   "metadata": {},
   "outputs": [],
   "source": [
    "import os\n",
    "import sys\n",
    "import numpy as np\n",
    "import scipy as sp\n",
    "import pandas as pd\n",
    "from pybpr import *\n",
    "import matplotlib.pyplot as plt\n",
    "from functools import partial\n",
    "import itertools\n",
    "import scipy.sparse as ss\n",
    "import pathos.multiprocessing as mp\n",
    "import tqdm"
   ]
  },
  {
   "cell_type": "code",
   "execution_count": 3,
   "id": "4cd99a8f",
   "metadata": {},
   "outputs": [],
   "source": [
    "cf = cf_4user_5item"
   ]
  },
  {
   "cell_type": "code",
   "execution_count": 4,
   "id": "ec1e4114",
   "metadata": {},
   "outputs": [
    {
     "name": "stdout",
     "output_type": "stream",
     "text": [
      "--UserItemInteractions: Sample\n",
      "  Number of users = 4\n",
      "  Number of items = 5\n",
      "  Number of interactions = 10\n",
      "\n"
     ]
    }
   ],
   "source": [
    "print(cf)"
   ]
  },
  {
   "cell_type": "code",
   "execution_count": 5,
   "id": "1f045ff4",
   "metadata": {},
   "outputs": [
    {
     "data": {
      "text/plain": [
       "matrix([[1, 1, 1, 0, 1],\n",
       "        [1, 0, 1, 1, 0],\n",
       "        [1, 1, 0, 0, 0],\n",
       "        [0, 1, 0, 0, 0]], dtype=int8)"
      ]
     },
     "execution_count": 5,
     "metadata": {},
     "output_type": "execute_result"
    }
   ],
   "source": [
    "cf.R.todense()"
   ]
  },
  {
   "cell_type": "code",
   "execution_count": 6,
   "id": "de2305af",
   "metadata": {},
   "outputs": [
    {
     "data": {
      "text/plain": [
       "array([[1., 1., 1., 1., 1.],\n",
       "       [1., 1., 1., 1., 1.],\n",
       "       [1., 1., 1., 1., 1.],\n",
       "       [1., 1., 1., 1., 1.]])"
      ]
     },
     "execution_count": 6,
     "metadata": {},
     "output_type": "execute_result"
    }
   ],
   "source": [
    "get_interaction_weights(cf.R, strategy='same')"
   ]
  },
  {
   "cell_type": "code",
   "execution_count": 7,
   "id": "faa1875a",
   "metadata": {},
   "outputs": [
    {
     "data": {
      "text/plain": [
       "array([[1., 1., 1., 0., 1.],\n",
       "       [1., 0., 1., 1., 0.],\n",
       "       [1., 1., 0., 0., 0.],\n",
       "       [0., 1., 0., 0., 0.]])"
      ]
     },
     "execution_count": 7,
     "metadata": {},
     "output_type": "execute_result"
    }
   ],
   "source": [
    "np.around(get_interaction_weights(cf.R, strategy='positive-only'),2)"
   ]
  },
  {
   "cell_type": "code",
   "execution_count": 8,
   "id": "a2d686e3",
   "metadata": {},
   "outputs": [
    {
     "data": {
      "text/plain": [
       "array([[1.  , 1.  , 1.  , 0.99, 1.  ],\n",
       "       [1.  , 0.56, 1.  , 1.  , 0.87],\n",
       "       [1.  , 1.  , 0.21, 0.98, 0.33],\n",
       "       [0.94, 1.  , 0.42, 0.74, 0.95]])"
      ]
     },
     "execution_count": 8,
     "metadata": {},
     "output_type": "execute_result"
    }
   ],
   "source": [
    "np.around(get_interaction_weights(cf.R, strategy='uniformly-negative'),2)"
   ]
  },
  {
   "cell_type": "code",
   "execution_count": 9,
   "id": "cdfbe0d6",
   "metadata": {},
   "outputs": [
    {
     "data": {
      "text/plain": [
       "array([[1.  , 1.  , 1.  , 1.  , 1.  ],\n",
       "       [1.  , 0.75, 1.  , 1.  , 0.75],\n",
       "       [1.  , 1.  , 0.5 , 0.5 , 0.5 ],\n",
       "       [0.25, 1.  , 0.25, 0.25, 0.25]])"
      ]
     },
     "execution_count": 9,
     "metadata": {},
     "output_type": "execute_result"
    }
   ],
   "source": [
    "np.around(get_interaction_weights(cf.R, strategy='user-oriented'),2)"
   ]
  },
  {
   "cell_type": "code",
   "execution_count": 10,
   "id": "a6b47eef",
   "metadata": {},
   "outputs": [
    {
     "data": {
      "text/plain": [
       "array([[1.  , 1.  , 1.  , 0.67, 1.  ],\n",
       "       [1.  , 0.  , 1.  , 1.  , 0.67],\n",
       "       [1.  , 1.  , 0.33, 0.67, 0.67],\n",
       "       [0.  , 1.  , 0.33, 0.67, 0.67]])"
      ]
     },
     "execution_count": 10,
     "metadata": {},
     "output_type": "execute_result"
    }
   ],
   "source": [
    "np.around(get_interaction_weights(cf.R, strategy='item-oriented'),2)"
   ]
  },
  {
   "cell_type": "markdown",
   "id": "84c90c29",
   "metadata": {},
   "source": [
    "## Junk"
   ]
  },
  {
   "cell_type": "code",
   "execution_count": 11,
   "id": "cf64fd63",
   "metadata": {},
   "outputs": [],
   "source": [
    "df = load_movielens_data('ml-100k')\n",
    "dfshort = df[df['rating'] > 0]\n",
    "cf = UserItemInteractions(\n",
    "    name='MovieLens-1m',\n",
    "    users = dfshort['user_id'], \n",
    "    items = dfshort['item_id'],\n",
    "    min_num_rating_per_user=10,\n",
    "    min_num_rating_per_item=10\n",
    ")\n",
    "cf.generate_train_test(user_test_ratio=0.2)\n",
    "num_users, num_items = cf.R.shape"
   ]
  },
  {
   "cell_type": "code",
   "execution_count": 20,
   "id": "bf077f8b",
   "metadata": {},
   "outputs": [
    {
     "data": {
      "text/plain": [
       "(943, 1152, 0.090168)"
      ]
     },
     "execution_count": 20,
     "metadata": {},
     "output_type": "execute_result"
    }
   ],
   "source": [
    "num_users, num_items, cf.sparsity"
   ]
  },
  {
   "cell_type": "code",
   "execution_count": 18,
   "id": "f5fe6a12",
   "metadata": {},
   "outputs": [
    {
     "data": {
      "text/plain": [
       "Text(0.5, 0, 'Weights for negative samples')"
      ]
     },
     "execution_count": 18,
     "metadata": {},
     "output_type": "execute_result"
    },
    {
     "data": {
      "image/png": "[encoded data removed]",
      "text/plain": [
       "<Figure size 1000x600 with 4 Axes>"
      ]
     },
     "metadata": {},
     "output_type": "display_data"
    }
   ],
   "source": [
    "fig, ax = plt.subplots(2,2,figsize=(10,6))\n",
    "ax = ax.flatten()\n",
    "cf.df_user.NumRatings.hist(bins=50, ax=ax[0])\n",
    "ax[0].set_ylabel('Num ratings per user')\n",
    "cf.df_item.NumRatings.hist(bins=50, ax=ax[1])\n",
    "ax[1].set_ylabel('Num ratings per item')\n",
    "wgt = get_interaction_weights(cf.R, strategy='item-oriented', fac=500)\n",
    "_ = ax[2].hist(wgt[wgt<1.], bins=50, range=(0,1))\n",
    "ax[2].set_xlabel('Weights for negative samples')\n",
    "wgt = get_interaction_weights(cf.R, strategy='user-oriented', fac=500)\n",
    "_ = ax[3].hist(wgt[wgt<1.], bins=50,range=(0,1))\n",
    "ax[3].set_xlabel('Weights for negative samples')"
   ]
  },
  {
   "cell_type": "code",
   "execution_count": null,
   "id": "8dce7b5d",
   "metadata": {},
   "outputs": [],
   "source": []
  },
  {
   "cell_type": "code",
   "execution_count": null,
   "id": "e4a36737",
   "metadata": {},
   "outputs": [],
   "source": []
  },
  {
   "cell_type": "code",
   "execution_count": 1,
   "id": "72cf1756",
   "metadata": {},
   "outputs": [
    {
     "ename": "NameError",
     "evalue": "name 'np' is not defined",
     "output_type": "error",
     "traceback": [
      "\u001b[0;31m---------------------------------------------------------------------------\u001b[0m",
      "\u001b[0;31mNameError\u001b[0m                                 Traceback (most recent call last)",
      "File \u001b[0;32m<timed exec>:1\u001b[0m, in \u001b[0;36m<module>\u001b[0;34m\u001b[0m\n",
      "\u001b[0;31mNameError\u001b[0m: name 'np' is not defined"
     ]
    }
   ],
   "source": [
    "%%time\n",
    "wgt_mat = np.around(get_interaction_weights(cf.R, strategy='user-oriented'),2)\n",
    "item_wgt_tensor = np.zeros([num_users, num_items, num_items],dtype='float32')\n",
    "item_index = np.arange(num_items)\n",
    "item_wgt_tensor[:, item_index, item_index] = wgt_mat\n",
    "\n",
    "user_wgt_tensor = np.zeros([num_items, num_users, num_users])\n",
    "user_index = np.arange(num_users)\n",
    "user_wgt_tensor[:, user_index, user_index] = wgt_mat.T"
   ]
  },
  {
   "cell_type": "code",
   "execution_count": 16,
   "id": "58724fac",
   "metadata": {},
   "outputs": [
    {
     "data": {
      "text/plain": [
       "dtype('float32')"
      ]
     },
     "execution_count": 16,
     "metadata": {},
     "output_type": "execute_result"
    }
   ],
   "source": [
    "item_wgt_tensor.dtype"
   ]
  },
  {
   "cell_type": "code",
   "execution_count": 17,
   "id": "aa56406f",
   "metadata": {},
   "outputs": [],
   "source": [
    "item_mat = np.random.normal(\n",
    "    loc=0.,\n",
    "    scale=0.01,\n",
    "    size=(num_items, 20)\n",
    ").astype('float32')\n",
    "user_mat = np.zeros((num_users, 20),dtype='float32')\n",
    "def update(data_mat, latent_mat, wgt_tensor):\n",
    "        \"\"\"WALS update step\"\"\"\n",
    "        Tmat = np.linalg.inv(latent_mat.T @ wgt_tensor @ latent_mat + np.eye(20))\n",
    "        Smat = np.expand_dims(data_mat @ latent_mat,1) @ Tmat\n",
    "        return Smat[:,0,:]"
   ]
  },
  {
   "cell_type": "code",
   "execution_count": null,
   "id": "db0bcd28",
   "metadata": {},
   "outputs": [],
   "source": [
    "for i in range(10):\n",
    "    print(i)\n",
    "    user_mat = update(cf.R, item_mat, item_wgt_tensor)\n",
    "    item_mat = update(cf.R.T, user_mat, user_wgt_tensor)"
   ]
  },
  {
   "cell_type": "code",
   "execution_count": null,
   "id": "51acf7cc",
   "metadata": {},
   "outputs": [],
   "source": [
    "%%time\n",
    "latent_mat = item_mat\n",
    "wgt_tensor = item_wgt_tensor\n",
    "data_mat = cf.R\n",
    "#Tmat = np.moveaxis(latent_mat.T.dot(wgt_tensor).dot(latent_mat), 1, 0)\n",
    "#Tmat = latent_mat.T.dot(wgt_tensor)\n",
    "Tmat = np.linalg.inv(latent_mat.T @ wgt_tensor @ latent_mat + np.eye(20)*0.1)\n",
    "Smat = np.expand_dims(data_mat @ latent_mat,1) @ Tmat\n",
    "print(latent_mat.T.shape, wgt_tensor.shape, data_mat.shape, Tmat.shape, Smat[:,0,:].shape)"
   ]
  },
  {
   "cell_type": "code",
   "execution_count": 29,
   "id": "def8ad09",
   "metadata": {},
   "outputs": [],
   "source": []
  },
  {
   "cell_type": "code",
   "execution_count": 32,
   "id": "380b606b",
   "metadata": {},
   "outputs": [
    {
     "data": {
      "text/plain": [
       "Index(['product_id', 'user_id', 'click_created', 'search_url',\n",
       "       'search_created', 'title', 'long_description', 'final_department_id',\n",
       "       'price_us_usd', 'date_created', 'date_modified', 'is_customizable',\n",
       "       'seller_id', 'store_id', 'group_id', 'product_url_en_us',\n",
       "       'product_design_image_url_en_us', 'product_image_url_en_us',\n",
       "       'product_type'],\n",
       "      dtype='object')"
      ]
     },
     "execution_count": 32,
     "metadata": {},
     "output_type": "execute_result"
    }
   ],
   "source": [
    "df.columns"
   ]
  },
  {
   "cell_type": "code",
   "execution_count": null,
   "id": "6cec2db4",
   "metadata": {},
   "outputs": [],
   "source": []
  }
 ],
 "metadata": {
  "kernelspec": {
   "display_name": "bpr_env",
   "language": "python",
   "name": "bpr_env"
  },
  "language_info": {
   "codemirror_mode": {
    "name": "ipython",
    "version": 3
   },
   "file_extension": ".py",
   "mimetype": "text/x-python",
   "name": "python",
   "nbconvert_exporter": "python",
   "pygments_lexer": "ipython3",
   "version": "3.12.1"
  }
 },
 "nbformat": 4,
 "nbformat_minor": 5
}
