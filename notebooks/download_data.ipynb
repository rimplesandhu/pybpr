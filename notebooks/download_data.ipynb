{
 "cells": [
  {
   "cell_type": "markdown",
   "id": "7611fcaa",
   "metadata": {},
   "source": [
    "### Download data"
   ]
  },
  {
   "cell_type": "code",
   "execution_count": 1,
   "id": "bca5e9fd",
   "metadata": {},
   "outputs": [],
   "source": [
    "import os\n",
    "from subprocess import call"
   ]
  },
  {
   "cell_type": "markdown",
   "id": "327bd886",
   "metadata": {},
   "source": [
    "### Movielens data"
   ]
  },
  {
   "cell_type": "code",
   "execution_count": 2,
   "id": "3586db43",
   "metadata": {},
   "outputs": [],
   "source": [
    "def download_movielens(flag= 'ml-100k'):\n",
    "    dir_name = os.path.join(os.path.curdir, 'data')\n",
    "    call(['curl', '-O', f'http://files.grouplens.org/datasets/movielens/{flag}.zip'])\n",
    "    call(['unzip', '-o', '-d', dir_name, f'{flag}.zip'])\n",
    "    call(['rm', f'{flag}.zip'])\n",
    "    #call(['mv', file_dir, './data'])"
   ]
  },
  {
   "cell_type": "code",
   "execution_count": 3,
   "id": "ce46cab0",
   "metadata": {},
   "outputs": [
    {
     "name": "stderr",
     "output_type": "stream",
     "text": [
      "  % Total    % Received % Xferd  Average Speed   Time    Time     Time  Current\n",
      "                                 Dload  Upload   Total   Spent    Left  Speed\n",
      "100 4808k  100 4808k    0     0  13.8M      0 --:--:-- --:--:-- --:--:-- 13.8M\n"
     ]
    },
    {
     "name": "stdout",
     "output_type": "stream",
     "text": [
      "Archive:  ml-100k.zip\n",
      "   creating: ./data/ml-100k/\n",
      "  inflating: ./data/ml-100k/allbut.pl  \n",
      "  inflating: ./data/ml-100k/mku.sh   \n",
      "  inflating: ./data/ml-100k/README   \n",
      "  inflating: ./data/ml-100k/u.data   \n",
      "  inflating: ./data/ml-100k/u.genre  \n",
      "  inflating: ./data/ml-100k/u.info   \n",
      "  inflating: ./data/ml-100k/u.item   \n",
      "  inflating: ./data/ml-100k/u.occupation  \n",
      "  inflating: ./data/ml-100k/u.user   \n",
      "  inflating: ./data/ml-100k/u1.base  \n",
      "  inflating: ./data/ml-100k/u1.test  \n",
      "  inflating: ./data/ml-100k/u2.base  \n",
      "  inflating: ./data/ml-100k/u2.test  \n",
      "  inflating: ./data/ml-100k/u3.base  \n",
      "  inflating: ./data/ml-100k/u3.test  \n",
      "  inflating: ./data/ml-100k/u4.base  \n",
      "  inflating: ./data/ml-100k/u4.test  \n",
      "  inflating: ./data/ml-100k/u5.base  \n",
      "  inflating: ./data/ml-100k/u5.test  \n",
      "  inflating: ./data/ml-100k/ua.base  \n",
      "  inflating: ./data/ml-100k/ua.test  \n",
      "  inflating: ./data/ml-100k/ub.base  \n",
      "  inflating: ./data/ml-100k/ub.test  \n"
     ]
    }
   ],
   "source": [
    "download_movielens('ml-100k')"
   ]
  },
  {
   "cell_type": "code",
   "execution_count": 4,
   "id": "b2ec09aa",
   "metadata": {},
   "outputs": [
    {
     "name": "stderr",
     "output_type": "stream",
     "text": [
      "  % Total    % Received % Xferd  Average Speed   Time    Time     Time  Current\n",
      "                                 Dload  Upload   Total   Spent    Left  Speed\n",
      "\r",
      "  0     0    0     0    0     0      0      0 --:--:-- --:--:-- --:--:--     0"
     ]
    },
    {
     "name": "stdout",
     "output_type": "stream",
     "text": [
      "Archive:  ml-1m.zip\n",
      "   creating: ./data/ml-1m/\n",
      "  inflating: ./data/ml-1m/movies.dat  \n",
      "  inflating: ./data/ml-1m/ratings.dat  \n",
      "  inflating: ./data/ml-1m/README     \n",
      "  inflating: ./data/ml-1m/users.dat  \n"
     ]
    },
    {
     "name": "stderr",
     "output_type": "stream",
     "text": [
      "\r",
      "100 5778k  100 5778k    0     0  14.7M      0 --:--:-- --:--:-- --:--:-- 14.7M\n"
     ]
    }
   ],
   "source": [
    "download_movielens('ml-1m')"
   ]
  },
  {
   "cell_type": "code",
   "execution_count": 5,
   "id": "18b04482",
   "metadata": {},
   "outputs": [
    {
     "name": "stderr",
     "output_type": "stream",
     "text": [
      "  % Total    % Received % Xferd  Average Speed   Time    Time     Time  Current\n",
      "                                 Dload  Upload   Total   Spent    Left  Speed\n",
      "100 62.5M  100 62.5M    0     0  31.7M      0  0:00:01  0:00:01 --:--:-- 31.7M\n"
     ]
    },
    {
     "name": "stdout",
     "output_type": "stream",
     "text": [
      "Archive:  ml-10m.zip\n",
      "   creating: ./data/ml-10M100K/\n",
      "  inflating: ./data/ml-10M100K/allbut.pl  \n",
      "  inflating: ./data/ml-10M100K/movies.dat  \n",
      "  inflating: ./data/ml-10M100K/ratings.dat  \n",
      "  inflating: ./data/ml-10M100K/README.html  \n",
      "  inflating: ./data/ml-10M100K/split_ratings.sh  \n",
      "  inflating: ./data/ml-10M100K/tags.dat  \n"
     ]
    }
   ],
   "source": [
    "download_movielens('ml-10m')"
   ]
  },
  {
   "cell_type": "code",
   "execution_count": 6,
   "id": "57735ec6",
   "metadata": {},
   "outputs": [],
   "source": [
    "# link = 'https://www.kaggle.com/datasets/netflix-inc/netflix-prize-data/download?datasetVersionNumber=2'\n",
    "# call(['curl', '-O', link]) "
   ]
  },
  {
   "cell_type": "code",
   "execution_count": null,
   "id": "bae82699",
   "metadata": {},
   "outputs": [],
   "source": []
  }
 ],
 "metadata": {
  "kernelspec": {
   "display_name": "bpr_env",
   "language": "python",
   "name": "bpr_env"
  },
  "language_info": {
   "codemirror_mode": {
    "name": "ipython",
    "version": 3
   },
   "file_extension": ".py",
   "mimetype": "text/x-python",
   "name": "python",
   "nbconvert_exporter": "python",
   "pygments_lexer": "ipython3",
   "version": "3.10.6"
  }
 },
 "nbformat": 4,
 "nbformat_minor": 5
}
