{
 "cells": [
  {
   "cell_type": "markdown",
   "id": "dde5390d",
   "metadata": {},
   "source": [
    "## Application of BPR on Zazzle Data"
   ]
  },
  {
   "cell_type": "code",
   "execution_count": 1,
   "id": "4f4ca103",
   "metadata": {},
   "outputs": [],
   "source": [
    "%load_ext autoreload\n",
    "%autoreload 2"
   ]
  },
  {
   "cell_type": "code",
   "execution_count": 5,
   "id": "4af7d296",
   "metadata": {},
   "outputs": [
    {
     "ename": "SyntaxError",
     "evalue": "invalid syntax (utils.py, line 257)",
     "output_type": "error",
     "traceback": [
      "Traceback \u001b[0;36m(most recent call last)\u001b[0m:\n",
      "  File \u001b[1;32m/nopt/nrel/apps/software/conda2022/lib/python3.9/site-packages/IPython/core/interactiveshell.py:3369\u001b[0m in \u001b[1;35mrun_code\u001b[0m\n    exec(code_obj, self.user_global_ns, self.user_ns)\n",
      "  Input \u001b[1;32mIn [5]\u001b[0m in \u001b[1;35m<cell line: 7>\u001b[0m\n    from pybpr import *\n",
      "  File \u001b[1;32m~/zazzle/rsandhu/pybpr/pybpr/__init__.py:3\u001b[0m in \u001b[1;35m<module>\u001b[0m\n    from .als import *\n",
      "\u001b[0;36m  File \u001b[0;32m~/zazzle/rsandhu/pybpr/pybpr/als.py:12\u001b[0;36m in \u001b[0;35m<module>\u001b[0;36m\u001b[0m\n\u001b[0;31m    from .utils import get_interaction_weights\u001b[0m\n",
      "\u001b[0;36m  File \u001b[0;32m~/zazzle/rsandhu/pybpr/pybpr/utils.py:257\u001b[0;36m\u001b[0m\n\u001b[0;31m    match strategy.lower():\u001b[0m\n\u001b[0m          ^\u001b[0m\n\u001b[0;31mSyntaxError\u001b[0m\u001b[0;31m:\u001b[0m invalid syntax\n"
     ]
    }
   ],
   "source": [
    "import os\n",
    "import sys\n",
    "import itertools\n",
    "import numpy as np\n",
    "import pandas as pd\n",
    "from subprocess import call\n",
    "from pybpr import *\n",
    "import scipy.sparse as sp\n",
    "from functools import reduce\n",
    "import matplotlib.pyplot as plt\n",
    "from functools import partial"
   ]
  },
  {
   "cell_type": "code",
   "execution_count": 4,
   "id": "deb4c611-8075-4869-b641-a9ff86f2a099",
   "metadata": {},
   "outputs": [],
   "source": [
    "import sys\n",
    "sys.path.append('/home/rsandhu/zazzle/rsandhu/pybpr')"
   ]
  },
  {
   "cell_type": "markdown",
   "id": "db159369-ebb0-45ce-9d86-d72abe05153f",
   "metadata": {},
   "source": [
    "## Put Zazzle data in UserItemInteration Class object"
   ]
  },
  {
   "cell_type": "code",
   "execution_count": 3,
   "id": "17296352-cd76-464b-9ce7-dc0cff34d9cd",
   "metadata": {},
   "outputs": [],
   "source": [
    "DATA_DIR = '/kfs2/projects/zazzle/rsandhu/pybpr/examples/data/zazzle_big'\n",
    "df_v = pd.read_parquet(os.path.join(DATA_DIR, 'view_data.parquet'))\n",
    "df_c = pd.read_parquet(os.path.join(DATA_DIR, 'click_data.parquet'))\n",
    "df_o = pd.read_parquet(os.path.join(DATA_DIR, 'order_data.parquet'))\n",
    "df_v_not_c = pd.read_parquet(os.path.join(\n",
    "    DATA_DIR, 'viewed_not_clicked_data.parquet'))\n",
    "df_c_not_o = pd.read_parquet(os.path.join(\n",
    "    DATA_DIR, 'clicked_not_ordered_data.parquet'))"
   ]
  },
  {
   "cell_type": "code",
   "execution_count": 4,
   "id": "d884b8cf-37d3-4fc7-8b3b-ba43c3e85e9f",
   "metadata": {},
   "outputs": [
    {
     "name": "stdout",
     "output_type": "stream",
     "text": [
      "<class 'pandas.core.frame.DataFrame'>\n",
      "RangeIndex: 226069034 entries, 0 to 226069033\n",
      "Data columns (total 5 columns):\n",
      " #   Column           Dtype   \n",
      "---  ------           -----   \n",
      " 0   user_member_id   category\n",
      " 1   date_created     int64   \n",
      " 2   product_id       int64   \n",
      " 3   user_member_idx  int64   \n",
      " 4   product_idx      int64   \n",
      "dtypes: category(1), int64(4)\n",
      "memory usage: 7.6 GB\n"
     ]
    }
   ],
   "source": [
    "df_v.info()"
   ]
  },
  {
   "cell_type": "code",
   "execution_count": 5,
   "id": "819540d0-503f-4c32-b91b-dc832d18c962",
   "metadata": {},
   "outputs": [
    {
     "data": {
      "text/plain": [
       "(593578, 4340406)"
      ]
     },
     "execution_count": 5,
     "metadata": {},
     "output_type": "execute_result"
    }
   ],
   "source": [
    "df_v.user_member_id.nunique(), df_v.product_id.nunique()\n",
    "df_v.user_member_idx.nunique(), df_v.product_idx.nunique()"
   ]
  },
  {
   "cell_type": "code",
   "execution_count": 6,
   "id": "52261621-fc08-47ac-8fcd-d02a133ad222",
   "metadata": {},
   "outputs": [
    {
     "name": "stdout",
     "output_type": "stream",
     "text": [
      "\n",
      "----UserItemInteractions--Sample\n",
      "# of users (active/total): 591695/593578\n",
      "# of items (active/total): 4340403/4340406\n",
      "# of interactions: 221401173\n",
      "Sparsity in the UI mat: 8.6e-05\n",
      "Memory used by sparse UI mat: 211.14 MB\n",
      "Generating train-test split..Warning: Test matrix is set as empty/all-zeros\n",
      "\n",
      "----UserItemInteractions--Sample\n",
      "# of users (active/total): 589939/593578\n",
      "# of items (active/total): 1264949/4340406\n",
      "# of interactions: 4667861\n",
      "Sparsity in the UI mat: 2e-06\n",
      "Memory used by sparse UI mat: 4.45 MB\n",
      "Generating train-test split..Warning: Test matrix is set as empty/all-zeros\n",
      "\n",
      "----UserItemInteractions--Sample\n",
      "# of users (active/total): 468482/593578\n",
      "# of items (active/total): 1051077/4340406\n",
      "# of interactions: 3409467\n",
      "Sparsity in the UI mat: 1e-06\n",
      "Memory used by sparse UI mat: 3.25 MB\n",
      "Generating train-test split..Warning: Test matrix is set as empty/all-zeros\n",
      "\n",
      "----UserItemInteractions--Sample\n",
      "# of users (active/total): 585798/593578\n",
      "# of items (active/total): 543435/4340406\n",
      "# of interactions: 1258394\n",
      "Sparsity in the UI mat: 0.0\n",
      "Memory used by sparse UI mat: 1.2 MB\n",
      "Generating train-test split..Warning: Test matrix is set as empty/all-zeros\n"
     ]
    }
   ],
   "source": [
    "# viewed not clicked\n",
    "num_users = df_v.user_member_id.nunique()\n",
    "num_items = df_v.product_id.nunique()\n",
    "\n",
    "test_ratio = 0.0\n",
    "data_viewed_not_clicked = UserItemInteractions(\n",
    "    users_index=df_v_not_c['user_member_idx'],\n",
    "    items_index=df_v_not_c['product_idx'],\n",
    "    num_users=num_users,\n",
    "    num_items=num_items\n",
    ")\n",
    "data_viewed_not_clicked.generate_train_test(user_test_ratio=test_ratio)\n",
    "\n",
    "# clicked\n",
    "data_clicked = UserItemInteractions(\n",
    "    users_index=df_c['user_member_idx'],\n",
    "    items_index=df_c['product_idx'],\n",
    "    num_users=num_users,\n",
    "    num_items=num_items\n",
    ")\n",
    "data_clicked.generate_train_test(user_test_ratio=test_ratio)\n",
    "\n",
    "# clicked not ordered\n",
    "data_clicked_not_ordered = UserItemInteractions(\n",
    "    users_index=df_c_not_o['user_member_idx'],\n",
    "    items_index=df_c_not_o['product_idx'],\n",
    "    num_users=num_users,\n",
    "    num_items=num_items\n",
    ")\n",
    "data_clicked_not_ordered.generate_train_test(user_test_ratio=test_ratio)\n",
    "\n",
    "# ordered\n",
    "data_ordered = UserItemInteractions(\n",
    "    users_index=df_o['user_member_idx'],\n",
    "    items_index=df_o['product_idx'],\n",
    "    num_users=num_users,\n",
    "    num_items=num_items\n",
    ")\n",
    "data_ordered.generate_train_test(user_test_ratio=test_ratio)"
   ]
  },
  {
   "cell_type": "markdown",
   "id": "a9d6885d-e0f6-4543-8271-821796e48b72",
   "metadata": {},
   "source": [
    "## BPR "
   ]
  },
  {
   "cell_type": "code",
   "execution_count": null,
   "id": "783a4e91-67c5-4602-835f-6582375ef52b",
   "metadata": {},
   "outputs": [],
   "source": [
    "bpr1 = BPR(\n",
    "    num_features=200,\n",
    "    reg_lambda=0.0,\n",
    "    num_iters=200,\n",
    "    learning_rate = 0.1,\n",
    "    batch_size=15000,\n",
    "    initial_std=0.0001,\n",
    ")\n",
    "bpr1.initiate(num_users=num_users, num_items=num_items)"
   ]
  },
  {
   "cell_type": "code",
   "execution_count": null,
   "id": "21267e5e-af25-422a-80d7-7f45632ea236",
   "metadata": {},
   "outputs": [],
   "source": [
    "pos_data = data_ordered\n",
    "neg_data = data_clicked_not_ordered\n",
    "metric_log_train = []\n",
    "neg_sampler = partial(\n",
    "    explicit_negative_sampler,\n",
    "    pos_uimat=pos_data.mat,\n",
    "    neg_uimat=neg_data.mat\n",
    ")\n",
    "\n",
    "for _ in range(5):\n",
    "    results = bpr_fit(\n",
    "        bpr_obj=bpr1, \n",
    "        neg_sampler=neg_sampler, \n",
    "        ncores=104\n",
    "    )\n",
    "    mfunc = partial(\n",
    "        bpr1.get_metric_v1,\n",
    "        perc_active_users=0.1,\n",
    "        perc_active_items=0.1,\n",
    "        num_recs=60,\n",
    "        max_users_per_batch=1000,\n",
    "        percentiles=[0.25,0.5, 0.75],\n",
    "        seed=1234\n",
    "    )\n",
    "    iscore = mfunc(uimat=pos_data.mat)\n",
    "    metric_log_train.append(iscore)\n",
    "    print(iscore)\n",
    "metric_log_train = np.asarray(metric_log_train)"
   ]
  },
  {
   "cell_type": "code",
   "execution_count": null,
   "id": "3560a24e-2464-48e5-ba7b-0ff5e893ab5e",
   "metadata": {},
   "outputs": [],
   "source": [
    "OUT_DIR ='/projects/zazzle/rsandhu/pybpr/examples/output'\n",
    "bpr1.save_model(dir_name=OUT_DIR)\n",
    "bpr1.release_shm()"
   ]
  },
  {
   "cell_type": "code",
   "execution_count": null,
   "id": "a0208e62-5203-49ed-a958-2f0fa9847e7e",
   "metadata": {},
   "outputs": [],
   "source": [
    "bpr1.load_model(OUT_DIR)"
   ]
  },
  {
   "cell_type": "code",
   "execution_count": null,
   "id": "1e9dd143-279b-46df-926a-d90df9bcc4e5",
   "metadata": {},
   "outputs": [],
   "source": [
    "bpr2 = BPR()\n",
    "bpr2.load_model(OUT_DIR)"
   ]
  },
  {
   "cell_type": "code",
   "execution_count": null,
   "id": "7672f388-8965-457d-a256-feefc269a204",
   "metadata": {},
   "outputs": [],
   "source": [
    "np.all(bpr2.umat == bpr1.umat)\n",
    "np.all(bpr2.imat == bpr1.imat)"
   ]
  },
  {
   "cell_type": "code",
   "execution_count": null,
   "id": "8496e277-87c4-4887-b2fd-e8e1ca712dc3",
   "metadata": {},
   "outputs": [],
   "source": [
    "bpr2"
   ]
  },
  {
   "cell_type": "code",
   "execution_count": null,
   "id": "853a0029-d769-436f-852a-8839319f8ac4",
   "metadata": {},
   "outputs": [],
   "source": [
    "bpr1"
   ]
  },
  {
   "cell_type": "code",
   "execution_count": null,
   "id": "277bb224-fc10-4ee9-97ad-8d02c6743999",
   "metadata": {},
   "outputs": [],
   "source": []
  }
 ],
 "metadata": {
  "kernelspec": {
   "display_name": "bpr_env",
   "language": "python",
   "name": "bpr_env"
  },
  "language_info": {
   "codemirror_mode": {
    "name": "ipython",
    "version": 3
   },
   "file_extension": ".py",
   "mimetype": "text/x-python",
   "name": "python",
   "nbconvert_exporter": "python",
   "pygments_lexer": "ipython3",
   "version": "3.13.0"
  }
 },
 "nbformat": 4,
 "nbformat_minor": 5
}
