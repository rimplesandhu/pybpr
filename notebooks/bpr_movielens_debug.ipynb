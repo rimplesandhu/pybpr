{
 "cells": [
  {
   "cell_type": "markdown",
   "id": "1971f6cf",
   "metadata": {},
   "source": [
    "## Application of BPR on Movielens"
   ]
  },
  {
   "cell_type": "code",
   "execution_count": 1,
   "id": "6985b0da",
   "metadata": {},
   "outputs": [],
   "source": [
    "#%load_ext watermark\n",
    "%load_ext autoreload \n",
    "%autoreload 2"
   ]
  },
  {
   "cell_type": "code",
   "execution_count": 2,
   "id": "6f571098",
   "metadata": {},
   "outputs": [
    {
     "name": "stdout",
     "output_type": "stream",
     "text": [
      "Number of users: 8\n",
      "Number of items: 10\n",
      "Number of users: 4\n",
      "Number of items: 5\n"
     ]
    }
   ],
   "source": [
    "import os\n",
    "import sys\n",
    "import itertools\n",
    "import numpy as np\n",
    "import pandas as pd\n",
    "from subprocess import call\n",
    "from pybpr import *\n",
    "import matplotlib.pyplot as plt\n",
    "from functools import partial"
   ]
  },
  {
   "cell_type": "code",
   "execution_count": 273,
   "id": "bcd21924",
   "metadata": {},
   "outputs": [
    {
     "name": "stdout",
     "output_type": "stream",
     "text": [
      "CPU times: user 2.08 ms, sys: 16.7 ms, total: 18.8 ms\n",
      "Wall time: 21 ms\n"
     ]
    },
    {
     "data": {
      "text/html": [
       "<div>\n",
       "<style scoped>\n",
       "    .dataframe tbody tr th:only-of-type {\n",
       "        vertical-align: middle;\n",
       "    }\n",
       "\n",
       "    .dataframe tbody tr th {\n",
       "        vertical-align: top;\n",
       "    }\n",
       "\n",
       "    .dataframe thead th {\n",
       "        text-align: right;\n",
       "    }\n",
       "</style>\n",
       "<table border=\"1\" class=\"dataframe\">\n",
       "  <thead>\n",
       "    <tr style=\"text-align: right;\">\n",
       "      <th></th>\n",
       "      <th>user_id</th>\n",
       "      <th>item_id</th>\n",
       "      <th>rating</th>\n",
       "      <th>timestamp</th>\n",
       "    </tr>\n",
       "  </thead>\n",
       "  <tbody>\n",
       "    <tr>\n",
       "      <th>0</th>\n",
       "      <td>196</td>\n",
       "      <td>242</td>\n",
       "      <td>3</td>\n",
       "      <td>881250949</td>\n",
       "    </tr>\n",
       "    <tr>\n",
       "      <th>1</th>\n",
       "      <td>186</td>\n",
       "      <td>302</td>\n",
       "      <td>3</td>\n",
       "      <td>891717742</td>\n",
       "    </tr>\n",
       "    <tr>\n",
       "      <th>2</th>\n",
       "      <td>22</td>\n",
       "      <td>377</td>\n",
       "      <td>1</td>\n",
       "      <td>878887116</td>\n",
       "    </tr>\n",
       "    <tr>\n",
       "      <th>3</th>\n",
       "      <td>244</td>\n",
       "      <td>51</td>\n",
       "      <td>2</td>\n",
       "      <td>880606923</td>\n",
       "    </tr>\n",
       "    <tr>\n",
       "      <th>4</th>\n",
       "      <td>166</td>\n",
       "      <td>346</td>\n",
       "      <td>1</td>\n",
       "      <td>886397596</td>\n",
       "    </tr>\n",
       "  </tbody>\n",
       "</table>\n",
       "</div>"
      ],
      "text/plain": [
       "   user_id  item_id  rating  timestamp\n",
       "0      196      242       3  881250949\n",
       "1      186      302       3  891717742\n",
       "2       22      377       1  878887116\n",
       "3      244       51       2  880606923\n",
       "4      166      346       1  886397596"
      ]
     },
     "execution_count": 273,
     "metadata": {},
     "output_type": "execute_result"
    }
   ],
   "source": [
    "%%time\n",
    "#df = load_movielens_data('ml-1m')\n",
    "df = load_movielens_data('ml-100k')\n",
    "df.head()"
   ]
  },
  {
   "cell_type": "code",
   "execution_count": 274,
   "id": "ec2095c3",
   "metadata": {},
   "outputs": [
    {
     "data": {
      "text/html": [
       "<div>\n",
       "<style scoped>\n",
       "    .dataframe tbody tr th:only-of-type {\n",
       "        vertical-align: middle;\n",
       "    }\n",
       "\n",
       "    .dataframe tbody tr th {\n",
       "        vertical-align: top;\n",
       "    }\n",
       "\n",
       "    .dataframe thead th {\n",
       "        text-align: right;\n",
       "    }\n",
       "</style>\n",
       "<table border=\"1\" class=\"dataframe\">\n",
       "  <thead>\n",
       "    <tr style=\"text-align: right;\">\n",
       "      <th></th>\n",
       "      <th>user_id</th>\n",
       "      <th>item_id</th>\n",
       "      <th>rating</th>\n",
       "      <th>timestamp</th>\n",
       "      <th>user_idx</th>\n",
       "      <th>item_idx</th>\n",
       "    </tr>\n",
       "  </thead>\n",
       "  <tbody>\n",
       "    <tr>\n",
       "      <th>0</th>\n",
       "      <td>196</td>\n",
       "      <td>242</td>\n",
       "      <td>3</td>\n",
       "      <td>881250949</td>\n",
       "      <td>195</td>\n",
       "      <td>241</td>\n",
       "    </tr>\n",
       "    <tr>\n",
       "      <th>1</th>\n",
       "      <td>186</td>\n",
       "      <td>302</td>\n",
       "      <td>3</td>\n",
       "      <td>891717742</td>\n",
       "      <td>185</td>\n",
       "      <td>301</td>\n",
       "    </tr>\n",
       "    <tr>\n",
       "      <th>2</th>\n",
       "      <td>22</td>\n",
       "      <td>377</td>\n",
       "      <td>1</td>\n",
       "      <td>878887116</td>\n",
       "      <td>21</td>\n",
       "      <td>376</td>\n",
       "    </tr>\n",
       "    <tr>\n",
       "      <th>3</th>\n",
       "      <td>244</td>\n",
       "      <td>51</td>\n",
       "      <td>2</td>\n",
       "      <td>880606923</td>\n",
       "      <td>243</td>\n",
       "      <td>50</td>\n",
       "    </tr>\n",
       "    <tr>\n",
       "      <th>4</th>\n",
       "      <td>166</td>\n",
       "      <td>346</td>\n",
       "      <td>1</td>\n",
       "      <td>886397596</td>\n",
       "      <td>165</td>\n",
       "      <td>345</td>\n",
       "    </tr>\n",
       "  </tbody>\n",
       "</table>\n",
       "</div>"
      ],
      "text/plain": [
       "  user_id item_id  rating  timestamp  user_idx  item_idx\n",
       "0     196     242       3  881250949       195       241\n",
       "1     186     302       3  891717742       185       301\n",
       "2      22     377       1  878887116        21       376\n",
       "3     244      51       2  880606923       243        50\n",
       "4     166     346       1  886397596       165       345"
      ]
     },
     "execution_count": 274,
     "metadata": {},
     "output_type": "execute_result"
    }
   ],
   "source": [
    "df['user_id'] = df['user_id'].astype('category')\n",
    "df['item_id'] = df['item_id'].astype('category')\n",
    "df['user_idx'] = df['user_id'].cat.codes\n",
    "df['item_idx'] = df['item_id'].cat.codes\n",
    "df.head()"
   ]
  },
  {
   "cell_type": "code",
   "execution_count": 277,
   "id": "c9d30ff2",
   "metadata": {},
   "outputs": [
    {
     "data": {
      "text/plain": [
       "(943, 1682)"
      ]
     },
     "execution_count": 277,
     "metadata": {},
     "output_type": "execute_result"
    }
   ],
   "source": [
    "df.user_idx.nunique(), df.item_idx.nunique()"
   ]
  },
  {
   "cell_type": "code",
   "execution_count": 303,
   "id": "e3ca8994",
   "metadata": {},
   "outputs": [],
   "source": [
    "dfp = df[df['rating'] > 3].copy()\n",
    "dfn = df[df['rating'] <= 3].copy()"
   ]
  },
  {
   "cell_type": "code",
   "execution_count": 304,
   "id": "4e673edf",
   "metadata": {},
   "outputs": [],
   "source": [
    "pos_count = dfp.groupby('user_idx')['item_idx'].count().sort_values(ascending=False)\n",
    "pos_count = pos_count[pos_count > 5]\n",
    "neg_count = dfn.groupby('user_idx')['item_idx'].count().sort_values(ascending=False)\n",
    "neg_count = neg_count[neg_count > 5]"
   ]
  },
  {
   "cell_type": "code",
   "execution_count": 305,
   "id": "a1cd5b96",
   "metadata": {},
   "outputs": [],
   "source": [
    "uvec = np.intersect1d(neg_count.index.values, pos_count.index.values, assume_unique=True)\n",
    "dfp = dfp[dfp.user_idx.isin(uvec)]\n",
    "dfn = dfn[dfn.user_idx.isin(uvec)]"
   ]
  },
  {
   "cell_type": "code",
   "execution_count": 306,
   "id": "d27b2c81",
   "metadata": {},
   "outputs": [
    {
     "data": {
      "text/plain": [
       "(885, 885)"
      ]
     },
     "execution_count": 306,
     "metadata": {},
     "output_type": "execute_result"
    }
   ],
   "source": [
    "dfp.user_idx.nunique(), dfn.user_idx.nunique()"
   ]
  },
  {
   "cell_type": "code",
   "execution_count": 307,
   "id": "c72c2e4a",
   "metadata": {},
   "outputs": [],
   "source": [
    "uvec = np.intersect1d(dfp.user_idx.unique(), dfn.user_idx.unique(), assume_unique=True)\n",
    "dfp = dfp[dfp.user_idx.isin(uvec)]\n",
    "dfn = dfn[dfn.user_idx.isin(uvec)]\n",
    "ivec = np.intersect1d(dfp.item_idx.unique(), dfn.item_idx.unique(), assume_unique=True)\n",
    "dfp = dfp[dfp.item_idx.isin(ivec)]\n",
    "dfn = dfn[dfn.item_idx.isin(ivec)]"
   ]
  },
  {
   "cell_type": "code",
   "execution_count": 308,
   "id": "110c4745",
   "metadata": {},
   "outputs": [],
   "source": [
    "dfp['user_idxx'] = 0\n",
    "dfn['user_idxx'] = 0\n",
    "for i, idx in enumerate(dfp.user_idx.unique()):\n",
    "    dfp.loc[dfp.user_idx==idx,'user_idxx'] = i\n",
    "    dfn.loc[dfn.user_idx==idx,'user_idxx'] = i\n",
    "dfp['item_idxx'] = 0\n",
    "dfn['item_idxx'] = 0\n",
    "for i, idx in enumerate(dfp.item_idx.unique()):\n",
    "    dfp.loc[dfp.item_idx==idx,'item_idxx'] = i\n",
    "    dfn.loc[dfn.item_idx==idx,'item_idxx'] = i"
   ]
  },
  {
   "cell_type": "code",
   "execution_count": 309,
   "id": "3258a32d",
   "metadata": {},
   "outputs": [
    {
     "data": {
      "text/plain": [
       "(885, 884)"
      ]
     },
     "execution_count": 309,
     "metadata": {},
     "output_type": "execute_result"
    }
   ],
   "source": [
    "dfp.user_idxx.nunique(), dfp.user_idxx.max()\n",
    "dfn.user_idxx.nunique(), dfn.user_idxx.max()"
   ]
  },
  {
   "cell_type": "code",
   "execution_count": 310,
   "id": "c947dee6",
   "metadata": {},
   "outputs": [
    {
     "name": "stdout",
     "output_type": "stream",
     "text": [
      "Number of users: 885\n",
      "Number of items: 1400\n",
      "Number of users: 885\n",
      "Number of items: 1400\n"
     ]
    }
   ],
   "source": [
    "cfp = UserItemInteractions(\n",
    "    name='MovieLens-100k',\n",
    "    users=dfp['user_idxx'],\n",
    "    items=dfp['item_idxx'],\n",
    "    min_num_rating_per_user=0,\n",
    "    min_num_rating_per_item=0,\n",
    "    num_cores = 1\n",
    ")\n",
    "cfp.generate_train_test(user_test_ratio=0.2)\n",
    "cfn = UserItemInteractions(\n",
    "    name='MovieLens-100k',\n",
    "    users=dfn['user_idxx'],\n",
    "    items=dfn['item_idxx'],\n",
    "    min_num_rating_per_user=0,\n",
    "    min_num_rating_per_item=0,\n",
    "    num_cores = 1\n",
    ")\n",
    "cfn.generate_train_test(user_test_ratio=0.2)"
   ]
  },
  {
   "cell_type": "code",
   "execution_count": 311,
   "id": "dec288c1",
   "metadata": {},
   "outputs": [
    {
     "data": {
      "text/plain": [
       "(<885x1400 sparse matrix of type '<class 'numpy.int8'>'\n",
       " \twith 34485 stored elements in Compressed Sparse Row format>,\n",
       " <885x1400 sparse matrix of type '<class 'numpy.int8'>'\n",
       " \twith 9068 stored elements in Compressed Sparse Row format>,\n",
       " (53984, 8))"
      ]
     },
     "execution_count": 311,
     "metadata": {},
     "output_type": "execute_result"
    }
   ],
   "source": [
    "cfp.R_train, cfp.R_test, dfp.shape\n",
    "cfn.R_train, cfn.R_test, dfp.shape"
   ]
  },
  {
   "cell_type": "code",
   "execution_count": 312,
   "id": "3be7c6fc",
   "metadata": {},
   "outputs": [
    {
     "data": {
      "text/plain": [
       "(<885x1400 sparse matrix of type '<class 'numpy.int8'>'\n",
       " \twith 43553 stored elements in Compressed Sparse Row format>,\n",
       " (43553, 8))"
      ]
     },
     "execution_count": 312,
     "metadata": {},
     "output_type": "execute_result"
    }
   ],
   "source": [
    "cfn.R, dfn.shape"
   ]
  },
  {
   "cell_type": "code",
   "execution_count": 313,
   "id": "9d606f0e",
   "metadata": {},
   "outputs": [
    {
     "data": {
      "text/plain": [
       "True"
      ]
     },
     "execution_count": 313,
     "metadata": {},
     "output_type": "execute_result"
    }
   ],
   "source": [
    "np.allclose(np.sort(dfp.user_id.unique()), np.sort(dfn.user_id.unique()))\n",
    "#np.allclose(np.sort(dfp.item_id.unique()), np.sort(dfn.item_id.unique()))"
   ]
  },
  {
   "cell_type": "code",
   "execution_count": 326,
   "id": "3fc0b062",
   "metadata": {},
   "outputs": [],
   "source": [
    "bpr = BPR(\n",
    "    num_features=40,\n",
    "    reg_lambda=0.00,\n",
    "    num_iters=500,\n",
    "    learning_rate = 0.04,\n",
    "    batch_size=10,\n",
    "    initial_std=0.001,\n",
    "    seed=None\n",
    ")"
   ]
  },
  {
   "cell_type": "code",
   "execution_count": 327,
   "id": "6b394802",
   "metadata": {},
   "outputs": [
    {
     "name": "stderr",
     "output_type": "stream",
     "text": [
      "BPR: 100%|██████████████████████████████████████████████| 500/500 [00:28<00:00, 17.78it/s]\n"
     ]
    }
   ],
   "source": [
    "#bpr.fit(train_mat=cfp.R, train_mat_neg=cfn.R, ndcg_func=ndcg_fun_p)\n",
    "ndcg_fun_p = partial(\n",
    "    cfp.get_ndcg_metric,\n",
    "    num_items=5\n",
    ")\n",
    "bpr.fit(\n",
    "    train_mat=cfp.R_train, \n",
    "    train_mat_neg=cfn.R, \n",
    "    ndcg_func=ndcg_fun_p)\n",
    "ndcg_df = pd.DataFrame(bpr.ndcg_metric)"
   ]
  },
  {
   "cell_type": "code",
   "execution_count": 328,
   "id": "bf1ad17c",
   "metadata": {},
   "outputs": [
    {
     "name": "stderr",
     "output_type": "stream",
     "text": [
      "BPR: 100%|██████████████████████████████████████████████| 500/500 [00:31<00:00, 15.73it/s]\n"
     ]
    }
   ],
   "source": [
    "bpr.fit(train_mat=cfp.R_train, ndcg_func=ndcg_fun_p)\n",
    "ndcg_df2 = pd.DataFrame(bpr.ndcg_metric)"
   ]
  },
  {
   "cell_type": "code",
   "execution_count": 329,
   "id": "3eb9521a",
   "metadata": {},
   "outputs": [
    {
     "data": {
      "image/png": "[encoded data removed]",
      "text/plain": [
       "<Figure size 1000x300 with 2 Axes>"
      ]
     },
     "metadata": {},
     "output_type": "display_data"
    }
   ],
   "source": [
    "fig, ax = plt.subplots(1,2,figsize=(10,3))\n",
    "ax[0].plot(ndcg_df['train'],'-r', label='Explicit Neg')\n",
    "ax[0].plot(ndcg_df2['train'],'-b', label='AMAN')\n",
    "ax[1].plot(ndcg_df['test'],'-r', label='Explicit Neg')\n",
    "ax[1].plot(ndcg_df2['test'],'-b', label='AMAN')\n",
    "for iax in ax:\n",
    "    iax.legend()"
   ]
  },
  {
   "cell_type": "code",
   "execution_count": 317,
   "id": "6abfe3cc",
   "metadata": {},
   "outputs": [
    {
     "data": {
      "image/png": "[encoded data removed]",
      "text/plain": [
       "<Figure size 1000x300 with 2 Axes>"
      ]
     },
     "metadata": {},
     "output_type": "display_data"
    }
   ],
   "source": [
    "fig, ax = plt.subplots(1,2,figsize=(10,3))\n",
    "ax[0].plot(ndcg_df['train'],'-r', label='Explicit Neg')\n",
    "ax[0].plot(ndcg_df2['train'],'-b', label='AMAN')\n",
    "ax[1].plot(ndcg_df['test'],'-r', label='Explicit Neg')\n",
    "ax[1].plot(ndcg_df2['test'],'-b', label='AMAN')\n",
    "for iax in ax:\n",
    "    iax.legend()"
   ]
  },
  {
   "cell_type": "code",
   "execution_count": null,
   "id": "5cea6dcd",
   "metadata": {},
   "outputs": [],
   "source": [
    "bpr.fit(train_mat=cfp.R, ndcg_func=ndcg_fun_p)"
   ]
  },
  {
   "cell_type": "code",
   "execution_count": null,
   "id": "3054d165",
   "metadata": {},
   "outputs": [],
   "source": [
    "rec1 = cfp.get_top_items_for_this_user(10, bpr.user_mat, bpr.item_mat,5)\n",
    "rec2 = cfp.get_top_items_for_this_user(10, bpr2.user_mat, bpr.item_mat,5)"
   ]
  }
 ],
 "metadata": {
  "kernelspec": {
   "display_name": "bpr_env",
   "language": "python",
   "name": "bpr_env"
  },
  "language_info": {
   "codemirror_mode": {
    "name": "ipython",
    "version": 3
   },
   "file_extension": ".py",
   "mimetype": "text/x-python",
   "name": "python",
   "nbconvert_exporter": "python",
   "pygments_lexer": "ipython3",
   "version": "3.10.6"
  }
 },
 "nbformat": 4,
 "nbformat_minor": 5
}
