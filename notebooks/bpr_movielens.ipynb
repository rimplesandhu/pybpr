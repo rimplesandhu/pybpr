{
 "cells": [
  {
   "cell_type": "markdown",
   "id": "1971f6cf",
   "metadata": {},
   "source": [
    "## Application of BPR on Movielens"
   ]
  },
  {
   "cell_type": "code",
   "execution_count": 1,
   "id": "6985b0da",
   "metadata": {},
   "outputs": [],
   "source": [
    "#%load_ext watermark\n",
    "%load_ext autoreload \n",
    "%autoreload 2"
   ]
  },
  {
   "cell_type": "code",
   "execution_count": 2,
   "id": "6f571098",
   "metadata": {},
   "outputs": [],
   "source": [
    "import os\n",
    "import sys\n",
    "import itertools\n",
    "import numpy as np\n",
    "import pandas as pd\n",
    "from subprocess import call\n",
    "from pybpr import *\n",
    "import matplotlib.pyplot as plt\n",
    "from functools import partial"
   ]
  },
  {
   "cell_type": "markdown",
   "id": "bf070642-a9da-42df-815a-bccdc747563f",
   "metadata": {},
   "source": [
    "## Prepare data"
   ]
  },
  {
   "cell_type": "code",
   "execution_count": 7,
   "id": "bcd21924",
   "metadata": {},
   "outputs": [
    {
     "name": "stdout",
     "output_type": "stream",
     "text": [
      "CPU times: user 15.6 ms, sys: 530 µs, total: 16.1 ms\n",
      "Wall time: 15.7 ms\n"
     ]
    },
    {
     "data": {
      "text/html": [
       "<div>\n",
       "<style scoped>\n",
       "    .dataframe tbody tr th:only-of-type {\n",
       "        vertical-align: middle;\n",
       "    }\n",
       "\n",
       "    .dataframe tbody tr th {\n",
       "        vertical-align: top;\n",
       "    }\n",
       "\n",
       "    .dataframe thead th {\n",
       "        text-align: right;\n",
       "    }\n",
       "</style>\n",
       "<table border=\"1\" class=\"dataframe\">\n",
       "  <thead>\n",
       "    <tr style=\"text-align: right;\">\n",
       "      <th></th>\n",
       "      <th>196</th>\n",
       "      <th>242</th>\n",
       "      <th>3</th>\n",
       "      <th>881250949</th>\n",
       "    </tr>\n",
       "  </thead>\n",
       "  <tbody>\n",
       "    <tr>\n",
       "      <th>0</th>\n",
       "      <td>186</td>\n",
       "      <td>302</td>\n",
       "      <td>3</td>\n",
       "      <td>891717742</td>\n",
       "    </tr>\n",
       "    <tr>\n",
       "      <th>1</th>\n",
       "      <td>22</td>\n",
       "      <td>377</td>\n",
       "      <td>1</td>\n",
       "      <td>878887116</td>\n",
       "    </tr>\n",
       "    <tr>\n",
       "      <th>2</th>\n",
       "      <td>244</td>\n",
       "      <td>51</td>\n",
       "      <td>2</td>\n",
       "      <td>880606923</td>\n",
       "    </tr>\n",
       "    <tr>\n",
       "      <th>3</th>\n",
       "      <td>166</td>\n",
       "      <td>346</td>\n",
       "      <td>1</td>\n",
       "      <td>886397596</td>\n",
       "    </tr>\n",
       "    <tr>\n",
       "      <th>4</th>\n",
       "      <td>298</td>\n",
       "      <td>474</td>\n",
       "      <td>4</td>\n",
       "      <td>884182806</td>\n",
       "    </tr>\n",
       "  </tbody>\n",
       "</table>\n",
       "</div>"
      ],
      "text/plain": [
       "   196  242  3  881250949\n",
       "0  186  302  3  891717742\n",
       "1   22  377  1  878887116\n",
       "2  244   51  2  880606923\n",
       "3  166  346  1  886397596\n",
       "4  298  474  4  884182806"
      ]
     },
     "execution_count": 7,
     "metadata": {},
     "output_type": "execute_result"
    }
   ],
   "source": [
    "%%time\n",
    "#df = load_movielens_data('ml-1m')\n",
    "df = load_movielens_data(\n",
    "    data_dir = os.path.join(os.path.curdir, 'data'),\n",
    "    flag = 'ml-100k'\n",
    ")\n",
    "df.head()"
   ]
  },
  {
   "cell_type": "code",
   "execution_count": null,
   "id": "8e359665-d4e0-4e7d-923a-e8804d626c5c",
   "metadata": {},
   "outputs": [],
   "source": []
  },
  {
   "cell_type": "code",
   "execution_count": 4,
   "id": "6c31ad4e-6cd1-4f08-ad22-c5767687ed70",
   "metadata": {},
   "outputs": [],
   "source": [
    "# rating more than or equal to 3 as positive\n",
    "df_pos = df[df['rating'] > 2].copy()\n",
    "df_neg = df[df['rating'] <= 2].copy()\n",
    "df, [df_pos, df_neg] = generate_user_item_indices(parent_df=df, children_dfs=[df_pos, df_neg])"
   ]
  },
  {
   "cell_type": "code",
   "execution_count": 5,
   "id": "adf8f236-129f-41cd-a704-054507921c6b",
   "metadata": {},
   "outputs": [],
   "source": [
    "# df_pos[df_pos.user_idx==45], df_neg[df_neg.user_idx==45]\n",
    "# df_pos[df_pos.item_idx==45], df_neg[df_neg.item_idx==45]"
   ]
  },
  {
   "cell_type": "code",
   "execution_count": 6,
   "id": "fb8e23a7",
   "metadata": {},
   "outputs": [
    {
     "name": "stdout",
     "output_type": "stream",
     "text": [
      "\n",
      "----UserItemInteractions--MovieLens-100k-pos\n",
      "# of users (active/total): 943/943\n",
      "# of items (active/total): 1574/1682\n",
      "# of interactions: 82520\n",
      "Sparsity in the UI mat: 0.052026\n",
      "Memory used by sparse UI mat: 0.08 MB\n",
      "Generating train-test split..done\n",
      "\n",
      "----UserItemInteractions--MovieLens-100k-neg\n",
      "# of users (active/total): 915/943\n",
      "# of items (active/total): 1548/1682\n",
      "# of interactions: 17480\n",
      "Sparsity in the UI mat: 0.011021\n",
      "Memory used by sparse UI mat: 0.02 MB\n",
      "Generating train-test split..Warning: Test matrix is set as empty/all-zeros\n"
     ]
    }
   ],
   "source": [
    "mldata_pos = UserItemInteractions(\n",
    "    name='MovieLens-100k-pos',\n",
    "    users_index=df_pos['user_idx'],\n",
    "    items_index=df_pos['item_idx'],\n",
    "    num_items=df.item_idx.nunique(),\n",
    "    num_users=df.user_idx.nunique()\n",
    ")\n",
    "mldata_pos.generate_train_test(user_test_ratio=0.25)\n",
    "\n",
    "mldata_neg = UserItemInteractions(\n",
    "    name='MovieLens-100k-neg',\n",
    "    users_index=df_neg['user_idx'],\n",
    "    items_index=df_neg['item_idx'],\n",
    "    num_items=df.item_idx.nunique(),\n",
    "    num_users=df.user_idx.nunique()\n",
    ")\n",
    "mldata_neg.generate_train_test(user_test_ratio=0.0)\n"
   ]
  },
  {
   "cell_type": "markdown",
   "id": "4ca792bd-a4c8-4b29-a32e-b8f075449588",
   "metadata": {},
   "source": [
    "## BPR"
   ]
  },
  {
   "cell_type": "code",
   "execution_count": 20,
   "id": "d944aec8",
   "metadata": {},
   "outputs": [],
   "source": [
    "bpr1 = BPR(\n",
    "    num_features=40, # not benefit more than 50\n",
    "    reg_lambda=0.00,\n",
    "    num_iters=50,\n",
    "    learning_rate = 0.01,\n",
    "    batch_size=1000,\n",
    "    initial_std=0.001,\n",
    ")"
   ]
  },
  {
   "cell_type": "code",
   "execution_count": 27,
   "id": "6f525f1f-21d4-4b67-b816-bb00e3e6f588",
   "metadata": {},
   "outputs": [
    {
     "name": "stdout",
     "output_type": "stream",
     "text": [
      "BPR-Fit: 100%|██████████| 94300/94300 [00:00<00:00, 139909.24it/s]\n",
      "BPR-Fit: 100%|██████████| 94300/94300 [00:00<00:00, 142083.72it/s]\n",
      "BPR-Fit: 100%|██████████| 94300/94300 [00:00<00:00, 139280.04it/s]\n",
      "BPR-Fit: 100%|██████████| 94300/94300 [00:00<00:00, 141624.62it/s]\n",
      "BPR-Fit: 100%|██████████| 94300/94300 [00:00<00:00, 144049.85it/s]\n",
      "BPR-Fit: 100%|██████████| 94300/94300 [00:00<00:00, 139171.10it/s]\n",
      "BPR-Fit: 100%|██████████| 94300/94300 [00:00<00:00, 141673.52it/s]\n",
      "BPR-Fit: 100%|██████████| 94300/94300 [00:00<00:00, 140265.79it/s]\n",
      "BPR-Fit: 100%|██████████| 94300/94300 [00:00<00:00, 141185.41it/s]\n",
      "BPR-Fit: 100%|██████████| 94300/94300 [00:00<00:00, 143349.59it/s]\n",
      "BPR-Fit: 100%|██████████| 94300/94300 [00:00<00:00, 139698.43it/s]\n",
      "BPR-Fit: 100%|██████████| 94300/94300 [00:00<00:00, 140052.71it/s]\n",
      "BPR-Fit: 100%|██████████| 94300/94300 [00:00<00:00, 141944.67it/s]\n",
      "BPR-Fit: 100%|██████████| 94300/94300 [00:00<00:00, 142122.88it/s]\n",
      "BPR-Fit: 100%|██████████| 94300/94300 [00:00<00:00, 141453.12it/s]\n",
      "BPR-Fit: 100%|██████████| 94300/94300 [00:00<00:00, 142130.54it/s]\n",
      "BPR-Fit: 100%|██████████| 94300/94300 [00:00<00:00, 141339.29it/s]\n",
      "BPR-Fit: 100%|██████████| 94300/94300 [00:00<00:00, 143679.73it/s]\n",
      "BPR-Fit: 100%|██████████| 94300/94300 [00:00<00:00, 141257.81it/s]\n",
      "BPR-Fit: 100%|██████████| 94300/94300 [00:00<00:00, 140127.54it/s]\n",
      "BPR-Fit: 100%|██████████| 94300/94300 [00:00<00:00, 140686.98it/s]\n",
      "BPR-Fit: 100%|██████████| 94300/94300 [00:00<00:00, 139569.57it/s]\n",
      "BPR-Fit: 100%|██████████| 94300/94300 [00:00<00:00, 139893.90it/s]\n",
      "BPR-Fit: 100%|██████████| 94300/94300 [00:00<00:00, 140833.85it/s]\n",
      "BPR-Fit: 100%|██████████| 94300/94300 [00:00<00:00, 142474.90it/s]\n",
      "BPR-Fit: 100%|██████████| 94300/94300 [00:00<00:00, 141715.60it/s]\n",
      "BPR-Fit: 100%|██████████| 94300/94300 [00:00<00:00, 138482.68it/s]\n",
      "BPR-Fit: 100%|██████████| 94300/94300 [00:00<00:00, 140437.21it/s]\n",
      "BPR-Fit: 100%|██████████| 94300/94300 [00:00<00:00, 137340.72it/s]\n",
      "BPR-Fit: 100%|██████████| 94300/94300 [00:00<00:00, 143419.60it/s]\n",
      "BPR-Fit: 100%|██████████| 94300/94300 [00:00<00:00, 137964.32it/s]\n",
      "BPR-Fit: 100%|██████████| 94300/94300 [00:00<00:00, 141264.57it/s]\n",
      "BPR-Fit: 100%|██████████| 94300/94300 [00:00<00:00, 137623.77it/s]\n",
      "BPR-Fit: 100%|██████████| 94300/94300 [00:00<00:00, 143834.71it/s]\n",
      "BPR-Fit: 100%|██████████| 94300/94300 [00:00<00:00, 143333.38it/s]\n",
      "BPR-Fit: 100%|██████████| 94300/94300 [00:00<00:00, 141937.29it/s]\n",
      "BPR-Fit: 100%|██████████| 94300/94300 [00:00<00:00, 140092.30it/s]\n",
      "BPR-Fit: 100%|██████████| 94300/94300 [00:00<00:00, 139485.16it/s]\n",
      "BPR-Fit: 100%|██████████| 94300/94300 [00:00<00:00, 140155.99it/s]\n",
      "BPR-Fit: 100%|██████████| 94300/94300 [00:00<00:00, 139503.27it/s]\n",
      "BPR-Fit: 100%|██████████| 94300/94300 [00:00<00:00, 140972.55it/s]\n",
      "BPR-Fit: 100%|██████████| 94300/94300 [00:00<00:00, 141079.35it/s]\n",
      "BPR-Fit: 100%|██████████| 94300/94300 [00:00<00:00, 142174.79it/s]\n",
      "BPR-Fit: 100%|██████████| 94300/94300 [00:00<00:00, 143226.25it/s]\n",
      "BPR-Fit: 100%|██████████| 94300/94300 [00:00<00:00, 139242.58it/s]\n",
      "BPR-Fit: 100%|██████████| 94300/94300 [00:00<00:00, 142115.43it/s]\n",
      "BPR-Fit: 100%|██████████| 94300/94300 [00:00<00:00, 140111.60it/s]\n",
      "BPR-Fit: 100%|██████████| 94300/94300 [00:00<00:00, 142013.02it/s]\n",
      "BPR-Fit: 100%|██████████| 94300/94300 [00:00<00:00, 142738.52it/s]\n",
      "BPR-Fit: 100%|██████████| 94300/94300 [00:00<00:00, 143401.98it/s]\n"
     ]
    }
   ],
   "source": [
    "log_uniform = []\n",
    "bpr1.initiate(num_users=mldata_pos.num_users, num_items=mldata_pos.num_items, seed=1234)\n",
    "for _ in range(50):\n",
    "    neg_sampler = partial(\n",
    "        uniform_negative_sampler, \n",
    "        uimat=mldata_pos.mat_train\n",
    "    )\n",
    "    results = bpr_fit(\n",
    "        bpr_obj=bpr1, \n",
    "        neg_sampler=neg_sampler, \n",
    "        ncores=104\n",
    "    )\n",
    "    mfunc = partial(\n",
    "        bpr1.get_metric_v1,\n",
    "        perc_active_users=0.99,\n",
    "        perc_active_items=0.99,\n",
    "        num_recs=20\n",
    "    )\n",
    "    log_uniform.append({\n",
    "        'train': mfunc(uimat=mldata_pos.mat_train),\n",
    "        'test' : mfunc(uimat=mldata_pos.mat_test)\n",
    "    })"
   ]
  },
  {
   "cell_type": "code",
   "execution_count": 32,
   "id": "ed42cbe2-55a3-4e1d-ae28-f7f6cc0e3802",
   "metadata": {},
   "outputs": [
    {
     "name": "stdout",
     "output_type": "stream",
     "text": [
      "BPR-Fit: 100%|██████████| 94300/94300 [00:00<00:00, 141197.70it/s]\n",
      "BPR-Fit: 100%|██████████| 94300/94300 [00:00<00:00, 139300.69it/s]\n",
      "BPR-Fit: 100%|██████████| 94300/94300 [00:00<00:00, 141040.01it/s]\n",
      "BPR-Fit: 100%|██████████| 94300/94300 [00:00<00:00, 139109.52it/s]\n",
      "BPR-Fit: 100%|██████████| 94300/94300 [00:00<00:00, 137850.31it/s]\n",
      "BPR-Fit: 100%|██████████| 94300/94300 [00:00<00:00, 139400.06it/s]\n",
      "BPR-Fit: 100%|██████████| 94300/94300 [00:00<00:00, 138037.75it/s]\n",
      "BPR-Fit: 100%|██████████| 94300/94300 [00:00<00:00, 140473.62it/s]\n",
      "BPR-Fit: 100%|██████████| 94300/94300 [00:00<00:00, 139177.27it/s]\n",
      "BPR-Fit: 100%|██████████| 94300/94300 [00:00<00:00, 135016.96it/s]\n",
      "BPR-Fit: 100%|██████████| 94300/94300 [00:00<00:00, 99388.62it/s] \n",
      "BPR-Fit: 100%|██████████| 94300/94300 [00:00<00:00, 138987.02it/s]\n",
      "BPR-Fit: 100%|██████████| 94300/94300 [00:00<00:00, 137628.17it/s]\n",
      "BPR-Fit: 100%|██████████| 94300/94300 [00:00<00:00, 142182.40it/s]\n",
      "BPR-Fit: 100%|██████████| 94300/94300 [00:00<00:00, 137196.13it/s]\n",
      "BPR-Fit: 100%|██████████| 94300/94300 [00:00<00:00, 140445.69it/s]\n",
      "BPR-Fit: 100%|██████████| 94300/94300 [00:00<00:00, 140633.15it/s]\n",
      "BPR-Fit: 100%|██████████| 94300/94300 [00:00<00:00, 143650.88it/s]\n",
      "BPR-Fit: 100%|██████████| 94300/94300 [00:00<00:00, 140725.02it/s]\n",
      "BPR-Fit: 100%|██████████| 94300/94300 [00:00<00:00, 136734.55it/s]\n",
      "BPR-Fit: 100%|██████████| 94300/94300 [00:00<00:00, 143032.54it/s]\n",
      "BPR-Fit: 100%|██████████| 94300/94300 [00:00<00:00, 146174.86it/s]\n",
      "BPR-Fit: 100%|██████████| 94300/94300 [00:00<00:00, 143158.65it/s]\n",
      "BPR-Fit: 100%|██████████| 94300/94300 [00:00<00:00, 142204.49it/s]\n",
      "BPR-Fit: 100%|██████████| 94300/94300 [00:00<00:00, 138808.01it/s]\n",
      "BPR-Fit: 100%|██████████| 94300/94300 [00:00<00:00, 136767.93it/s]\n",
      "BPR-Fit: 100%|██████████| 94300/94300 [00:00<00:00, 144770.82it/s]\n",
      "BPR-Fit: 100%|██████████| 94300/94300 [00:00<00:00, 142895.55it/s]\n",
      "BPR-Fit: 100%|██████████| 94300/94300 [00:00<00:00, 140553.84it/s]\n",
      "BPR-Fit: 100%|██████████| 94300/94300 [00:00<00:00, 141882.76it/s]\n",
      "BPR-Fit: 100%|██████████| 94300/94300 [00:00<00:00, 139699.42it/s]\n",
      "BPR-Fit: 100%|██████████| 94300/94300 [00:00<00:00, 139800.05it/s]\n",
      "BPR-Fit: 100%|██████████| 94300/94300 [00:00<00:00, 139426.30it/s]\n",
      "BPR-Fit: 100%|██████████| 94300/94300 [00:00<00:00, 143308.81it/s]\n",
      "BPR-Fit: 100%|██████████| 94300/94300 [00:00<00:00, 142709.32it/s]\n",
      "BPR-Fit: 100%|██████████| 94300/94300 [00:00<00:00, 140320.82it/s]\n",
      "BPR-Fit: 100%|██████████| 94300/94300 [00:00<00:00, 140423.70it/s]\n",
      "BPR-Fit: 100%|██████████| 94300/94300 [00:00<00:00, 136440.78it/s]\n",
      "BPR-Fit: 100%|██████████| 94300/94300 [00:00<00:00, 138550.98it/s]\n",
      "BPR-Fit: 100%|██████████| 94300/94300 [00:00<00:00, 143521.14it/s]\n",
      "BPR-Fit: 100%|██████████| 94300/94300 [00:00<00:00, 140283.30it/s]\n",
      "BPR-Fit: 100%|██████████| 94300/94300 [00:00<00:00, 140503.31it/s]\n",
      "BPR-Fit: 100%|██████████| 94300/94300 [00:00<00:00, 139726.02it/s]\n",
      "BPR-Fit: 100%|██████████| 94300/94300 [00:00<00:00, 137553.51it/s]\n",
      "BPR-Fit: 100%|██████████| 94300/94300 [00:00<00:00, 139227.78it/s]\n",
      "BPR-Fit: 100%|██████████| 94300/94300 [00:00<00:00, 135331.42it/s]\n",
      "BPR-Fit: 100%|██████████| 94300/94300 [00:00<00:00, 138511.87it/s]\n",
      "BPR-Fit: 100%|██████████| 94300/94300 [00:00<00:00, 138188.65it/s]\n",
      "BPR-Fit: 100%|██████████| 94300/94300 [00:00<00:00, 139367.40it/s]\n",
      "BPR-Fit: 100%|██████████| 94300/94300 [00:00<00:00, 140160.76it/s]\n"
     ]
    }
   ],
   "source": [
    "log_explicit = []\n",
    "bpr1.initiate(num_users=mldata_pos.num_users, num_items=mldata_pos.num_items, seed=1234)\n",
    "for _ in range(50):\n",
    "    neg_sampler = partial(\n",
    "        explicit_negative_sampler, \n",
    "        pos_uimat=mldata_pos.mat_train,\n",
    "        neg_uimat=mldata_neg.mat\n",
    "    )\n",
    "    results = bpr_fit(\n",
    "        bpr_obj=bpr1, \n",
    "        neg_sampler=neg_sampler, \n",
    "        ncores=104\n",
    "    )\n",
    "    mfunc = partial(\n",
    "        bpr1.get_metric_v1,\n",
    "        perc_active_users=0.99,\n",
    "        perc_active_items=0.99,\n",
    "        num_recs=20\n",
    "    )\n",
    "    log_explicit.append({\n",
    "        'train': mfunc(uimat=mldata_pos.mat_train),\n",
    "        'test' : mfunc(uimat=mldata_pos.mat_test)\n",
    "    })"
   ]
  },
  {
   "cell_type": "code",
   "execution_count": 33,
   "id": "aaaf3c50-ed01-4a07-a2cd-623ac17dbbf0",
   "metadata": {},
   "outputs": [
    {
     "data": {
      "image/png": "[encoded data removed]",
      "text/plain": [
       "<Figure size 1000x300 with 2 Axes>"
      ]
     },
     "metadata": {},
     "output_type": "display_data"
    }
   ],
   "source": [
    "def plot_this(iax, idata, clr):\n",
    "    iax.plot(idata[:,1], color=clr)\n",
    "    xgrid = np.arange(0,idata.shape[0])\n",
    "    iax.fill_between(xgrid, idata[:,0], idata[:,2], color=clr, alpha=0.2, ec=None)\n",
    "    iax.grid(True)\n",
    "    iax.set_xlabel('BPR Iterations')\n",
    "\n",
    "fig, ax = plt.subplots(1, 2, figsize=(10,3))\n",
    "plot_this(ax[0], np.array([ix['train'] for ix in log_uniform]), 'r')\n",
    "plot_this(ax[1], np.array([ix['test'] for ix in log_uniform]), 'b')"
   ]
  },
  {
   "cell_type": "code",
   "execution_count": 34,
   "id": "ba8df20a-cb15-43b6-b12c-9a1495107bc7",
   "metadata": {},
   "outputs": [
    {
     "data": {
      "image/png": "[encoded data removed]",
      "text/plain": [
       "<Figure size 1000x300 with 2 Axes>"
      ]
     },
     "metadata": {},
     "output_type": "display_data"
    }
   ],
   "source": [
    "fig, ax = plt.subplots(1, 2, figsize=(10,3))\n",
    "plot_this(ax[0], np.array([ix['train'] for ix in log_explicit]), 'r')\n",
    "plot_this(ax[1], np.array([ix['test'] for ix in log_explicit]), 'b')"
   ]
  },
  {
   "cell_type": "code",
   "execution_count": null,
   "id": "d8b43370-b3f2-4b63-8771-88200c82e86e",
   "metadata": {},
   "outputs": [],
   "source": []
  }
 ],
 "metadata": {
  "kernelspec": {
   "display_name": "bpr_env",
   "language": "python",
   "name": "bpr_env"
  },
  "language_info": {
   "codemirror_mode": {
    "name": "ipython",
    "version": 3
   },
   "file_extension": ".py",
   "mimetype": "text/x-python",
   "name": "python",
   "nbconvert_exporter": "python",
   "pygments_lexer": "ipython3",
   "version": "3.12.1"
  }
 },
 "nbformat": 4,
 "nbformat_minor": 5
}
