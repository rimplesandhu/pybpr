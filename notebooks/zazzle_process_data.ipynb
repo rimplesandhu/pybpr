{
 "cells": [
  {
   "cell_type": "markdown",
   "id": "dde5390d",
   "metadata": {},
   "source": [
    "## Application of BPR on Zazzle Data"
   ]
  },
  {
   "cell_type": "code",
   "execution_count": 1,
   "id": "4f4ca103",
   "metadata": {},
   "outputs": [],
   "source": [
    "%load_ext autoreload\n",
    "%autoreload 2"
   ]
  },
  {
   "cell_type": "code",
   "execution_count": 2,
   "id": "4af7d296",
   "metadata": {},
   "outputs": [],
   "source": [
    "import os\n",
    "import sys\n",
    "import itertools\n",
    "import numpy as np\n",
    "import pandas as pd\n",
    "from subprocess import call\n",
    "from pybpr import *\n",
    "import scipy.sparse as sp\n",
    "from functools import reduce\n",
    "import matplotlib.pyplot as plt\n",
    "from functools import partial, reduce"
   ]
  },
  {
   "cell_type": "code",
   "execution_count": 3,
   "id": "7faf35fe-10ea-4daa-b981-b05900545e42",
   "metadata": {},
   "outputs": [
    {
     "data": {
      "text/plain": [
       "[0, 6, 12, 18]"
      ]
     },
     "execution_count": 3,
     "metadata": {},
     "output_type": "execute_result"
    }
   ],
   "source": [
    "list(range(0,20,6))"
   ]
  },
  {
   "cell_type": "markdown",
   "id": "43c1561b-beb6-4222-b3a7-1ac4a51e5452",
   "metadata": {},
   "source": [
    "## Process data from Zazzle"
   ]
  },
  {
   "cell_type": "code",
   "execution_count": 4,
   "id": "ee706802",
   "metadata": {},
   "outputs": [
    {
     "name": "stdout",
     "output_type": "stream",
     "text": [
      "CPU times: user 3.56 s, sys: 1.63 s, total: 5.19 s\n",
      "Wall time: 18.6 s\n"
     ]
    }
   ],
   "source": [
    "%%time\n",
    "data_dir = '/kfs2/projects/zazzle/raw_data/NREL'\n",
    "#data_dir = os.path.join(os.path.curdir, 'data', 'NREL')\n",
    "files = [os.path.join(data_dir,f'Clicks_{str(ix).zfill(4)}_part_00.parquet') for ix in range(80)]\n",
    "df_viewed = pd.concat([pd.read_parquet(ifile, engine='fastparquet') for ifile in files])"
   ]
  },
  {
   "cell_type": "code",
   "execution_count": 5,
   "id": "fae7ffba",
   "metadata": {},
   "outputs": [
    {
     "name": "stdout",
     "output_type": "stream",
     "text": [
      "CPU times: user 81.9 ms, sys: 87.6 ms, total: 169 ms\n",
      "Wall time: 3.26 s\n"
     ]
    }
   ],
   "source": [
    "%%time\n",
    "files = [os.path.join(data_dir,f'OrderItems_{str(ix).zfill(4)}_part_00.parquet') for ix in range(80)]\n",
    "df_ordered = pd.concat([pd.read_parquet(ifile) for ifile in files])"
   ]
  },
  {
   "cell_type": "code",
   "execution_count": 6,
   "id": "3b1c792e",
   "metadata": {},
   "outputs": [
    {
     "name": "stdout",
     "output_type": "stream",
     "text": [
      "CPU times: user 1.84 s, sys: 564 ms, total: 2.4 s\n",
      "Wall time: 11.5 s\n"
     ]
    }
   ],
   "source": [
    "%%time\n",
    "files = [os.path.join(data_dir,f'Products_{str(ix).zfill(4)}_part_00.parquet') for ix in range(80)]\n",
    "df_item_info = pd.concat([pd.read_parquet(ifile) for ifile in files])"
   ]
  },
  {
   "cell_type": "code",
   "execution_count": 14,
   "id": "ec613d54-9b1c-48c7-b861-500c5379a25b",
   "metadata": {},
   "outputs": [],
   "source": [
    "#df_item_info.vision_style_id_1.unique()"
   ]
  },
  {
   "cell_type": "code",
   "execution_count": 8,
   "id": "9d0ba06b-a2a1-4bae-8261-8e2630f44074",
   "metadata": {},
   "outputs": [],
   "source": [
    "# %%time\n",
    "# files = [os.path.join(data_dir,f'AddToCarts_{str(ix).zfill(4)}_part_00.parquet') for ix in range(80)]\n",
    "# tdf = pd.concat([pd.read_parquet(ifile) for ifile in files])"
   ]
  },
  {
   "cell_type": "code",
   "execution_count": 9,
   "id": "0ff44497",
   "metadata": {},
   "outputs": [],
   "source": [
    "#vdf.drop(columns=['is_click','cleaned_url'], inplace=True, errors='ignore')\n",
    "#cdf.drop(columns=['is_click','cleaned_url'], inplace=True, errors='ignore')\n",
    "df_clicked_not_ordered = df_viewed[df_viewed['is_click']].copy()\n",
    "df_viewed_not_clicked = df_viewed[~df_viewed['is_click']].copy()\n",
    "df_clicked = pd.concat([df_ordered, df_clicked_not_ordered]) # ensures order data is part of click data"
   ]
  },
  {
   "cell_type": "code",
   "execution_count": 10,
   "id": "126eda60-a497-4fa6-a424-6297de7bd416",
   "metadata": {},
   "outputs": [
    {
     "name": "stdout",
     "output_type": "stream",
     "text": [
      "779192 16511 (28927112, 5)\n",
      "313452 16402 (833698, 5)\n",
      "139654 16302 (266638, 3)\n",
      "779192 16508 (28873270, 5)\n",
      "308622 16370 (805572, 5)\n"
     ]
    }
   ],
   "source": [
    "df_list = [df_viewed, df_clicked, df_ordered, df_viewed_not_clicked, df_clicked_not_ordered]\n",
    "for idf in df_list:\n",
    "    idf.drop_duplicates(subset=['user_id','product_id'], keep='last', inplace=True)\n",
    "    #idf.drop(columns=['is_click','cleaned_url'], inplace=True, errors='ignore')\n",
    "    print(idf.product_id.nunique(), idf.user_id.nunique(), idf.shape)"
   ]
  },
  {
   "cell_type": "code",
   "execution_count": 11,
   "id": "366d564e-aa92-4901-a40a-d0fcd22c7bee",
   "metadata": {},
   "outputs": [
    {
     "data": {
      "text/html": [
       "<div>\n",
       "<style scoped>\n",
       "    .dataframe tbody tr th:only-of-type {\n",
       "        vertical-align: middle;\n",
       "    }\n",
       "\n",
       "    .dataframe tbody tr th {\n",
       "        vertical-align: top;\n",
       "    }\n",
       "\n",
       "    .dataframe thead th {\n",
       "        text-align: right;\n",
       "    }\n",
       "</style>\n",
       "<table border=\"1\" class=\"dataframe\">\n",
       "  <thead>\n",
       "    <tr style=\"text-align: right;\">\n",
       "      <th></th>\n",
       "      <th>user_id</th>\n",
       "      <th>date_created</th>\n",
       "      <th>product_id</th>\n",
       "      <th>is_click</th>\n",
       "      <th>cleaned_url</th>\n",
       "    </tr>\n",
       "  </thead>\n",
       "  <tbody>\n",
       "  </tbody>\n",
       "</table>\n",
       "</div>"
      ],
      "text/plain": [
       "Empty DataFrame\n",
       "Columns: [user_id, date_created, product_id, is_click, cleaned_url]\n",
       "Index: []"
      ]
     },
     "execution_count": 11,
     "metadata": {},
     "output_type": "execute_result"
    }
   ],
   "source": [
    "df1=df_clicked\n",
    "df2=df_viewed_not_clicked[df1.columns]\n",
    "common_rows = pd.merge(\n",
    "    df1.reset_index(drop=True), \n",
    "    df2.reset_index(drop=True),\n",
    "    how='inner'\n",
    ")\n",
    "common_rows"
   ]
  },
  {
   "cell_type": "code",
   "execution_count": 15,
   "id": "aab21c8c-707b-474e-9c78-19ca8c6a8b08",
   "metadata": {},
   "outputs": [
    {
     "name": "stdout",
     "output_type": "stream",
     "text": [
      "<class 'pandas.core.frame.DataFrame'>\n",
      "Index: 833698 entries, 0 to 640678\n",
      "Data columns (total 5 columns):\n",
      " #   Column        Non-Null Count   Dtype \n",
      "---  ------        --------------   ----- \n",
      " 0   user_id       833698 non-null  object\n",
      " 1   date_created  833698 non-null  int64 \n",
      " 2   product_id    833698 non-null  int64 \n",
      " 3   is_click      805572 non-null  object\n",
      " 4   cleaned_url   805572 non-null  object\n",
      "dtypes: int64(2), object(3)\n",
      "memory usage: 38.2+ MB\n"
     ]
    }
   ],
   "source": [
    "df1.info()"
   ]
  },
  {
   "cell_type": "code",
   "execution_count": 16,
   "id": "c77ea6e9-e101-4b2d-ba60-900ba64fc4fa",
   "metadata": {},
   "outputs": [],
   "source": [
    "ui = UserItemData(name='zazzle')\n",
    "ui.add_positive_interactions(\n",
    "        user_ids=df_ordered.user_id,\n",
    "        item_ids=df_ordered.product_id\n",
    ")\n",
    "ui.add_negative_interactions(\n",
    "    user_ids=df_clicked_not_ordered.user_id,\n",
    "    item_ids=df_clicked_not_ordered.product_id\n",
    ")\n",
    "ui.add_user_features(\n",
    "    user_ids=ui.user_ids_in_interactions,\n",
    "    feature_ids=ui.user_ids_in_interactions\n",
    ")\n",
    "idf = df_item_info[df_item_info.product_id.isin(ui.item_ids_in_interactions)]\n",
    "ui.add_item_features(\n",
    "    item_ids=idf.product_id,\n",
    "    feature_ids=idf.final_department_id\n",
    ")"
   ]
  },
  {
   "cell_type": "code",
   "execution_count": 17,
   "id": "ac1727eb-7f36-475e-99f0-857577fc63b2",
   "metadata": {},
   "outputs": [
    {
     "data": {
      "text/plain": [
       "UserItemData(zazzle)\n",
       "  Fuser     :( 16402× 16402) nnz=    16,402 (0.006%), empty rows/cols=     0/     0\n",
       "  Fitem     :(313452×   628) nnz=   309,582 (0.157%), empty rows/cols=  3870/     0\n",
       "  Rpos      :( 16402×313452) nnz=   266,638 (0.005%), empty rows/cols=   100/173798\n",
       "  Rneg      :( 16402×313452) nnz=   805,572 (0.016%), empty rows/cols=    32/  4830"
      ]
     },
     "execution_count": 17,
     "metadata": {},
     "output_type": "execute_result"
    }
   ],
   "source": [
    "ui"
   ]
  },
  {
   "cell_type": "code",
   "execution_count": 18,
   "id": "af22c278-ef29-4535-bd9a-f4daafc0c528",
   "metadata": {},
   "outputs": [
    {
     "name": "stderr",
     "output_type": "stream",
     "text": [
      "Train/Test Split (Rows): 100%|██████████| 165/165 [00:00<00:00, 180.56it/s]\n",
      "Train/Test Split (Cols): 100%|██████████| 193934/193934 [11:27<00:00, 282.25it/s]\n"
     ]
    }
   ],
   "source": [
    "ui.train_test_split(train_ratio_pos=0.8, train_ratio_neg=0.)"
   ]
  },
  {
   "cell_type": "code",
   "execution_count": null,
   "id": "28f084ac-0d86-479a-a079-6e4bd041b5e4",
   "metadata": {},
   "outputs": [],
   "source": [
    "adam = partial(\n",
    "    torch.optim.Adam,\n",
    "    lr=0.02,\n",
    "    weight_decay=0.0\n",
    ")\n",
    "rs = RecSys(\n",
    "    data = ui,\n",
    "    model= HybridMF(ui.n_user_features, ui.n_item_features, n_latent=64),\n",
    "    optimizer=partial(torch.optim.Adam, lr=0.05, weight_decay=0.0),\n",
    "    output_dir='/kfs2/projects/zazzle/pybpr/notebooks/output/ml-run',\n",
    "    loss_function=bpr_loss,\n",
    "    log_level=2\n",
    ")\n",
    "rs"
   ]
  },
  {
   "cell_type": "code",
   "execution_count": null,
   "id": "e9c7f920-9787-423b-8fc8-a26e1b9ab367",
   "metadata": {},
   "outputs": [],
   "source": [
    "rs.fit(n_iter=10, eval_every=20, batch_size=10000, eval_user_size=1000)"
   ]
  },
  {
   "cell_type": "code",
   "execution_count": null,
   "id": "5e5bbe53-2100-4c3c-b256-0aea4c861f6f",
   "metadata": {},
   "outputs": [],
   "source": [
    "rs.metrics"
   ]
  },
  {
   "cell_type": "code",
   "execution_count": null,
   "id": "0c5a9a85-5e8e-46cf-ab64-acb49284cf75",
   "metadata": {},
   "outputs": [],
   "source": [
    "X = ui.Rpos\n",
    "rows, cols = X.nonzero()\n",
    "values = X.data\n",
    "\n",
    "\n",
    "indices = np.arange(len(values))\n",
    "\n",
    "# Find all rows and columns with only one non-zero element\n",
    "unique_rows, row_counts = np.unique(rows, return_counts=True)\n",
    "unique_cols, col_counts = np.unique(cols, return_counts=True)\n",
    "\n",
    "critical_rows = unique_rows[row_counts == 1]\n",
    "critical_cols = unique_cols[col_counts == 1]"
   ]
  },
  {
   "cell_type": "code",
   "execution_count": null,
   "id": "1537dd7d-ed9d-451e-8c07-5a28e83f29b8",
   "metadata": {},
   "outputs": [],
   "source": [
    "critical_cols.shape"
   ]
  },
  {
   "cell_type": "code",
   "execution_count": null,
   "id": "0ac1e15a-dcc7-4cd7-ae3e-cc5db453aa63",
   "metadata": {},
   "outputs": [],
   "source": [
    "df_item_info.final_department_id.nunique()"
   ]
  },
  {
   "cell_type": "code",
   "execution_count": null,
   "id": "3d3290fc-408e-4370-bcf7-281ea089bf91",
   "metadata": {},
   "outputs": [],
   "source": [
    "list(ui._id_to_idx_mappings['user'][0].keys())"
   ]
  },
  {
   "cell_type": "code",
   "execution_count": null,
   "id": "41b53d51-c47f-44d4-939f-c1eb9f22304b",
   "metadata": {},
   "outputs": [],
   "source": [
    "xx = ui.Rpos.multiply(ui.Rneg)\n",
    "xx.eliminate_zeros()\n",
    "xx"
   ]
  },
  {
   "cell_type": "code",
   "execution_count": null,
   "id": "834f0f39-856f-4819-a66a-afa98467113b",
   "metadata": {},
   "outputs": [],
   "source": [
    "idf = df_views[df_views['is_click']].copy()\n",
    "print(idf.product_id.nunique(), idf.user_id.nunique())"
   ]
  },
  {
   "cell_type": "code",
   "execution_count": null,
   "id": "cbc26329-b535-49ce-9eaa-128cb02d893f",
   "metadata": {},
   "outputs": [],
   "source": [
    "df_item_info.product_id.nunique()"
   ]
  },
  {
   "cell_type": "code",
   "execution_count": null,
   "id": "f03bcc0a-1a86-43a7-8465-eb90f63be63b",
   "metadata": {},
   "outputs": [],
   "source": []
  },
  {
   "cell_type": "code",
   "execution_count": null,
   "id": "2c632d62-5974-4a1d-9af3-5edc2374acc8",
   "metadata": {},
   "outputs": [],
   "source": [
    "for icol in ['product_id','final_department_id']:\n",
    "    pdf[icol] = pdf[icol].astype('category')\n",
    "    pdf[f'{icol}_ids'] = pdf[icol].cat.codes.astype(int)\n",
    "for icol in ['product_id','user_id']:\n",
    "    odf[icol] = odf[icol].astype('category')\n",
    "    odf[f'{icol}_ids'] = odf[icol].cat.codes.astype(int)"
   ]
  },
  {
   "cell_type": "code",
   "execution_count": null,
   "id": "f200d66f-5875-4def-a4e4-ef5877e517b0",
   "metadata": {},
   "outputs": [],
   "source": [
    "pdf.final_department_id.unique()"
   ]
  },
  {
   "cell_type": "code",
   "execution_count": null,
   "id": "9cc90136-2c10-42a0-8991-001f9b6c6a46",
   "metadata": {},
   "outputs": [],
   "source": [
    "pdf.head()"
   ]
  },
  {
   "cell_type": "code",
   "execution_count": null,
   "id": "ffcc15be-e4b9-4e0f-ac8f-19778c8fe8bf",
   "metadata": {},
   "outputs": [],
   "source": [
    "rdf=odf\n",
    "n_items = rdf.product_id.nunique()\n",
    "n_users = rdf.user_id.nunique()\n",
    "n_item_mfeatures = pdf.final_department_id.nunique()\n",
    "ui_metadata = UserItemData(\n",
    "    name='User-Metadata-only',\n",
    "    n_users=n_users, \n",
    "    n_items = n_items,\n",
    "    n_user_features=n_users,\n",
    "    n_item_features=n_item_mfeatures\n",
    "    \n",
    ")\n",
    "ui_metadata.add_interactions(\n",
    "    user_indices=rdf.user_id_ids, \n",
    "    item_indices=rdf.product_id_ids,\n",
    "    positive=True\n",
    ")\n",
    "# ui_metadata.add_interactions(\n",
    "#     user_indices=rdf.UserID_ids[rdf.Rating<4.], \n",
    "#     item_indices=rdf.MovieID_ids[rdf.Rating<4.],\n",
    "#     positive=False\n",
    "# )\n",
    "ui_metadata.add_user_features(\n",
    "    user_indices=list(range(n_users)), \n",
    "    feature_indices=list(range(n_users))\n",
    ")\n",
    "ui_metadata.add_item_features(\n",
    "    item_indices=tdf.product_id_ids, \n",
    "    feature_indices=tdf.final_department_id_ids,\n",
    "    #feature_weights=tdf.Relevance\n",
    ")\n",
    "ui_metadata.train_test_split(0.2)\n",
    "ui_metadata"
   ]
  },
  {
   "cell_type": "code",
   "execution_count": null,
   "id": "fb8e6c71-0257-40fe-81cf-67596d6d20b9",
   "metadata": {},
   "outputs": [],
   "source": [
    "# for i in range(100):\n",
    "#     istring = pdf.vision_embedding2.iloc[100+i]\n",
    "#     #print(istring)\n",
    "#     if len(istring)>2:\n",
    "#         ivec = [float(s) for s in istring.split(',')]\n",
    "#         print(i, np.dot(ivec, ivec))"
   ]
  },
  {
   "cell_type": "code",
   "execution_count": null,
   "id": "1abbdd4d-511a-4e69-b3e1-50bad5766be4",
   "metadata": {},
   "outputs": [],
   "source": [
    "[s for s in pdf.vision_embedding2.iloc[107].split(',')]"
   ]
  },
  {
   "cell_type": "code",
   "execution_count": null,
   "id": "1e25a439-26b1-4840-a1a9-1631a1354339",
   "metadata": {},
   "outputs": [],
   "source": [
    "pdf.info()"
   ]
  },
  {
   "cell_type": "code",
   "execution_count": null,
   "id": "dc47b4bd-d3e3-4f7f-a9fd-33cfec606be8",
   "metadata": {},
   "outputs": [],
   "source": [
    "pdf.final_department_id.nunique()"
   ]
  },
  {
   "cell_type": "code",
   "execution_count": null,
   "id": "bb30d18f",
   "metadata": {},
   "outputs": [],
   "source": [
    "# remove repeated entries\n",
    "cdf.drop_duplicates(subset=['user_id','product_id'], keep='last', inplace=True)\n",
    "vdf.drop_duplicates(subset=['user_id','product_id'], keep='last', inplace=True)\n",
    "odf.drop_duplicates(subset=['user_id','product_id'], keep='last', inplace=True)"
   ]
  },
  {
   "cell_type": "code",
   "execution_count": null,
   "id": "696efd75-1cca-4e35-85ca-2279063dc82b",
   "metadata": {},
   "outputs": [],
   "source": [
    "print(f'Views:  int={vdf.shape[0]} u={vdf.user_id.nunique()} i={vdf.product_id.nunique()}')\n",
    "print(f'Clicks: int={cdf.shape[0]} u={cdf.user_id.nunique()} i={cdf.product_id.nunique()}')\n",
    "print(f'Orders: int={odf.shape[0]} u={odf.user_id.nunique()} i={odf.product_id.nunique()}')"
   ]
  },
  {
   "cell_type": "code",
   "execution_count": null,
   "id": "c4d4238b",
   "metadata": {},
   "outputs": [],
   "source": [
    "# make sure atleast some interaction data for each user/item\n",
    "idf = vdf.groupby('user_id')['product_id'].count().gt(5)\n",
    "valid_users = idf[idf].index.to_numpy()\n",
    "jdf = vdf.groupby('product_id')['user_id'].count().gt(5)\n",
    "valid_items = jdf[jdf].index.to_numpy()\n",
    "print(f'Valid Users = {valid_users.shape[0]}')\n",
    "print(f'Valid Items = {valid_items.shape[0]}')"
   ]
  },
  {
   "cell_type": "code",
   "execution_count": null,
   "id": "afa7a1ed-ad0d-4093-9255-a71d32b3ca6f",
   "metadata": {},
   "outputs": [],
   "source": []
  },
  {
   "cell_type": "code",
   "execution_count": null,
   "id": "3ec55c86",
   "metadata": {},
   "outputs": [],
   "source": [
    "common_users = reduce(np.intersect1d, (vdf.user_id, cdf.user_id, odf.user_id, valid_users))\n",
    "common_users = valid_users\n",
    "vdf = vdf[vdf.user_id.isin(common_users)].copy()\n",
    "cdf = cdf[cdf.user_id.isin(common_users)].copy()\n",
    "odf = odf[odf.user_id.isin(common_users)].copy()\n",
    "print(vdf.user_id.nunique(), cdf.user_id.nunique(), odf.user_id.nunique())\n",
    "common_items = reduce(np.intersect1d, (vdf.product_id, cdf.product_id, odf.product_id, valid_items))\n",
    "common_items=valid_items\n",
    "vdf = vdf[vdf.product_id.isin(common_items)].copy()\n",
    "cdf = cdf[cdf.product_id.isin(common_items)].copy()\n",
    "odf = odf[odf.product_id.isin(common_items)].copy()\n",
    "print(vdf.product_id.nunique(), cdf.product_id.nunique(), odf.product_id.nunique())"
   ]
  },
  {
   "cell_type": "code",
   "execution_count": null,
   "id": "de7f0ef1",
   "metadata": {},
   "outputs": [],
   "source": [
    "# %%time\n",
    "# # get indices for users and products\n",
    "# for cname in ['user_id','product_id']:\n",
    "#     vdf[cname] = vdf[cname].astype('category')\n",
    "#     vdf[f'{cname}x'] = vdf[cname].cat.codes.astype(int)\n",
    "#     cdf[cname] = pd.Categorical(\n",
    "#         cdf[cname], \n",
    "#         categories=vdf[cname].unique(), \n",
    "#         ordered=False\n",
    "#     )\n",
    "#     cdf[f'{cname}x'] = cdf[cname].cat.codes.astype(int)\n",
    "#     odf[cname] = pd.Categorical(\n",
    "#         odf[cname], \n",
    "#         categories=vdf[cname].unique(), \n",
    "#         ordered=False\n",
    "#     )\n",
    "#     odf[f'{cname}x'] = odf[cname].cat.codes.astype(int)\n",
    "# cname='product_id'\n",
    "# pdf[cname] = pd.Categorical(\n",
    "#     pdf[cname], \n",
    "#     categories=vdf[cname].unique(), \n",
    "#     ordered=False\n",
    "# )\n",
    "# pdf[f'{cname}x'] = pdf[cname].cat.codes.astype(int)\n",
    "# # odf.groupby('product_id')['user_id'].count().sort_values()"
   ]
  },
  {
   "cell_type": "code",
   "execution_count": null,
   "id": "12a89ba5-47d7-49aa-87e3-39cd350498a7",
   "metadata": {},
   "outputs": [],
   "source": [
    "# add index columns\n",
    "vdf, (cdf, odf, pdf) = generate_user_item_indices(\n",
    "    parent_df = vdf, \n",
    "    children_dfs = [cdf, odf, pdf],\n",
    "    userid_column = 'user_id',\n",
    "    itemid_column = 'product_id',\n",
    "    index_suffix='x'\n",
    ")"
   ]
  },
  {
   "cell_type": "code",
   "execution_count": null,
   "id": "868c62d0-cce9-4e49-8116-fc5c6b9142ed",
   "metadata": {},
   "outputs": [],
   "source": [
    "vdf.reset_index(inplace=True, drop=True)\n",
    "cdf.reset_index(inplace=True, drop=True)\n",
    "odf.reset_index(inplace=True, drop=True)"
   ]
  },
  {
   "cell_type": "code",
   "execution_count": null,
   "id": "73ba399c-c4e7-448b-bba8-492aa6941d5d",
   "metadata": {},
   "outputs": [],
   "source": [
    "out_dir = '/kfs2/projects/zazzle/pybpr/examples/output'\n",
    "vdf.to_parquet(os.path.join(out_dir, 'view_data.parquet'))\n",
    "cdf.to_parquet(os.path.join(out_dir, 'click_data.parquet'))\n",
    "odf.to_parquet(os.path.join(out_dir, 'order_data.parquet'))\n",
    "pdf.to_parquet(os.path.join(out_dir, 'item_data.parquet'))"
   ]
  },
  {
   "cell_type": "markdown",
   "id": "974f429d-1b8c-4fe9-8a8f-329ee323ee06",
   "metadata": {},
   "source": [
    "## Create pos/neg pair datasets"
   ]
  },
  {
   "cell_type": "code",
   "execution_count": null,
   "id": "2b8132ca-83b5-4332-bee0-6341c27c68fe",
   "metadata": {},
   "outputs": [],
   "source": [
    "idf = vdf.merge(cdf, on=['user_id','product_id'], how='left', indicator=True)\n",
    "df_viewed_but_not_clicked = vdf[(idf['_merge']=='left_only').values]"
   ]
  },
  {
   "cell_type": "code",
   "execution_count": null,
   "id": "be5db395-7817-4289-98b6-86a845c2a2be",
   "metadata": {},
   "outputs": [],
   "source": [
    "idf = cdf.merge(odf, on=['user_id','product_id'], how='left', indicator=True)\n",
    "df_clicked_but_not_ordered = cdf[(idf['_merge']=='left_only').values]"
   ]
  },
  {
   "cell_type": "code",
   "execution_count": null,
   "id": "2184f6fe-d3dc-4855-bd81-82dab78a7937",
   "metadata": {},
   "outputs": [],
   "source": [
    "# check if compatible\n",
    "df_viewed_but_not_clicked.shape[0], cdf.shape[0], vdf.shape[0]\n",
    "df_clicked_but_not_ordered.shape[0], odf.shape[0], cdf.shape[0]"
   ]
  },
  {
   "cell_type": "code",
   "execution_count": null,
   "id": "d2a1fb73-bdd8-4bb4-9b6e-521a968651d7",
   "metadata": {},
   "outputs": [],
   "source": [
    "df_viewed_but_not_clicked.to_parquet(os.path.join(os.path.curdir, 'output', 'zazzle_data', 'viewed_not_clicked_data.parquet'))\n",
    "df_clicked_but_not_ordered.to_parquet(os.path.join(os.path.curdir, 'output', 'zazzle_data', 'clicked_not_ordered_data.parquet'))"
   ]
  },
  {
   "cell_type": "markdown",
   "id": "568209fa-a0e8-457b-8caa-ee5ede1bbcc0",
   "metadata": {},
   "source": [
    "## Plotting"
   ]
  },
  {
   "cell_type": "code",
   "execution_count": null,
   "id": "1e9e2329-fbd3-41ed-9f81-5e13d646bdbf",
   "metadata": {},
   "outputs": [],
   "source": [
    "fig, ax = plt.subplots(figsize=(5,3))\n",
    "iter_dict = {'Views': vdf, 'Clicks':cdf, 'Orders':odf}\n",
    "for ilbl, idf in iter_dict.items():\n",
    "    data = idf.groupby('user_idx')['product_idx'].count().values\n",
    "    xbins, ylocs = get_cdf(data, bins=100, range=(0,200))\n",
    "    ax.plot(xbins, ylocs, label=ilbl) \n",
    "ax.legend()\n",
    "ax.grid(True)\n",
    "ax.set_xlabel('Number of interactions')\n",
    "ax.set_ylabel('CDF')"
   ]
  },
  {
   "cell_type": "code",
   "execution_count": null,
   "id": "6ecd775e-b7a8-4aec-b2ea-780ba3cb9303",
   "metadata": {},
   "outputs": [],
   "source": []
  },
  {
   "cell_type": "code",
   "execution_count": null,
   "id": "35f30c5c-629a-49cc-884d-a21e84b2a831",
   "metadata": {},
   "outputs": [],
   "source": [
    "from sklearn.metrics import roc_auc_score"
   ]
  },
  {
   "cell_type": "code",
   "execution_count": null,
   "id": "2cf4cd09-37eb-4ea2-af77-42b494072bca",
   "metadata": {},
   "outputs": [],
   "source": [
    "roc_auc_score(y_true=[1,0,1,0,1,0], y_score=[1,0.9,5,4,5,4]).item()"
   ]
  },
  {
   "cell_type": "code",
   "execution_count": null,
   "id": "5438478c-21b2-4513-bbd7-ab777b3ab8a7",
   "metadata": {},
   "outputs": [],
   "source": [
    "roc_auc_score(y_true=[1,0], y_score=[0,1]).item()"
   ]
  },
  {
   "cell_type": "code",
   "execution_count": null,
   "id": "b7f77b1c-3893-41bf-a0ff-14d943845a1f",
   "metadata": {},
   "outputs": [],
   "source": [
    "from pybpr import *\n",
    "from scipy import sparse"
   ]
  },
  {
   "cell_type": "code",
   "execution_count": null,
   "id": "166ceed6-b9ad-46d6-8c2e-67b2586d4d05",
   "metadata": {},
   "outputs": [],
   "source": [
    "# Create a sample sparse matrix\n",
    "rows, cols = 10, 50\n",
    "matrix = sparse.random(rows, cols, density=0.05, format='csr')\n",
    "\n",
    "# Sample one random entry per row\n",
    "row_indices, col_indices, values = sample_random_entry_per_row(matrix)\n",
    "row_indices, col_indices"
   ]
  },
  {
   "cell_type": "code",
   "execution_count": null,
   "id": "e94f2e47-0b4d-433d-a5f4-f1954a0b7314",
   "metadata": {},
   "outputs": [],
   "source": [
    "xx = matrix.tolil()"
   ]
  },
  {
   "cell_type": "code",
   "execution_count": null,
   "id": "12585a7b-fece-4a32-bfaa-0371f20059e4",
   "metadata": {},
   "outputs": [],
   "source": [
    "for ix in xx.rows:\n",
    "    print(ix)"
   ]
  },
  {
   "cell_type": "code",
   "execution_count": null,
   "id": "10b3ccc7-167c-4371-bfd7-fc6e172ecf55",
   "metadata": {},
   "outputs": [],
   "source": [
    "np.arange(10)"
   ]
  },
  {
   "cell_type": "code",
   "execution_count": null,
   "id": "d206fde8-6745-4c8a-952f-98f63c364232",
   "metadata": {},
   "outputs": [],
   "source": []
  }
 ],
 "metadata": {
  "kernelspec": {
   "display_name": "bpr_env",
   "language": "python",
   "name": "bpr_env"
  },
  "language_info": {
   "codemirror_mode": {
    "name": "ipython",
    "version": 3
   },
   "file_extension": ".py",
   "mimetype": "text/x-python",
   "name": "python",
   "nbconvert_exporter": "python",
   "pygments_lexer": "ipython3",
   "version": "3.13.1"
  }
 },
 "nbformat": 4,
 "nbformat_minor": 5
}
