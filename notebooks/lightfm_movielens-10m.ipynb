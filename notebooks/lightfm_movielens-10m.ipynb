{
 "cells": [
  {
   "cell_type": "code",
   "execution_count": 1,
   "id": "6985b0da",
   "metadata": {},
   "outputs": [],
   "source": [
    "#%load_ext watermark\n",
    "%load_ext autoreload \n",
    "%autoreload 2"
   ]
  },
  {
   "cell_type": "code",
   "execution_count": 2,
   "id": "6f571098",
   "metadata": {},
   "outputs": [],
   "source": [
    "import os\n",
    "import sys\n",
    "import numpy as np\n",
    "import pandas as pd\n",
    "import json\n",
    "from functools import partial\n",
    "import matplotlib.pyplot as plt\n",
    "from pybpr import *"
   ]
  },
  {
   "cell_type": "code",
   "execution_count": 3,
   "id": "4aba674c-ab08-4dcd-aa17-e779ed1beb1f",
   "metadata": {},
   "outputs": [],
   "source": [
    "from pybpr import *\n",
    "data_dir = '/home/rsandhu/zazzle/raw_data'"
   ]
  },
  {
   "cell_type": "code",
   "execution_count": 4,
   "id": "bc18883b-810f-44d5-81c2-53be3b726278",
   "metadata": {},
   "outputs": [
    {
     "data": {
      "text/html": [
       "<div>\n",
       "<style scoped>\n",
       "    .dataframe tbody tr th:only-of-type {\n",
       "        vertical-align: middle;\n",
       "    }\n",
       "\n",
       "    .dataframe tbody tr th {\n",
       "        vertical-align: top;\n",
       "    }\n",
       "\n",
       "    .dataframe thead th {\n",
       "        text-align: right;\n",
       "    }\n",
       "</style>\n",
       "<table border=\"1\" class=\"dataframe\">\n",
       "  <thead>\n",
       "    <tr style=\"text-align: right;\">\n",
       "      <th></th>\n",
       "      <th>TagID</th>\n",
       "      <th>Tag</th>\n",
       "      <th>TagPopularity</th>\n",
       "    </tr>\n",
       "  </thead>\n",
       "  <tbody>\n",
       "    <tr>\n",
       "      <th>0</th>\n",
       "      <td>0</td>\n",
       "      <td>007</td>\n",
       "      <td>61</td>\n",
       "    </tr>\n",
       "    <tr>\n",
       "      <th>1</th>\n",
       "      <td>1</td>\n",
       "      <td>007 (series)</td>\n",
       "      <td>24</td>\n",
       "    </tr>\n",
       "    <tr>\n",
       "      <th>2</th>\n",
       "      <td>2</td>\n",
       "      <td>18th century</td>\n",
       "      <td>37</td>\n",
       "    </tr>\n",
       "    <tr>\n",
       "      <th>3</th>\n",
       "      <td>3</td>\n",
       "      <td>1920s</td>\n",
       "      <td>42</td>\n",
       "    </tr>\n",
       "    <tr>\n",
       "      <th>4</th>\n",
       "      <td>4</td>\n",
       "      <td>1930s</td>\n",
       "      <td>55</td>\n",
       "    </tr>\n",
       "    <tr>\n",
       "      <th>...</th>\n",
       "      <td>...</td>\n",
       "      <td>...</td>\n",
       "      <td>...</td>\n",
       "    </tr>\n",
       "    <tr>\n",
       "      <th>95</th>\n",
       "      <td>95</td>\n",
       "      <td>bad</td>\n",
       "      <td>21</td>\n",
       "    </tr>\n",
       "    <tr>\n",
       "      <th>96</th>\n",
       "      <td>96</td>\n",
       "      <td>bad acting</td>\n",
       "      <td>182</td>\n",
       "    </tr>\n",
       "    <tr>\n",
       "      <th>97</th>\n",
       "      <td>97</td>\n",
       "      <td>bad cgi</td>\n",
       "      <td>34</td>\n",
       "    </tr>\n",
       "    <tr>\n",
       "      <th>98</th>\n",
       "      <td>98</td>\n",
       "      <td>bad ending</td>\n",
       "      <td>104</td>\n",
       "    </tr>\n",
       "    <tr>\n",
       "      <th>99</th>\n",
       "      <td>99</td>\n",
       "      <td>bad plot</td>\n",
       "      <td>95</td>\n",
       "    </tr>\n",
       "  </tbody>\n",
       "</table>\n",
       "<p>100 rows × 3 columns</p>\n",
       "</div>"
      ],
      "text/plain": [
       "    TagID           Tag  TagPopularity\n",
       "0       0           007             61\n",
       "1       1  007 (series)             24\n",
       "2       2  18th century             37\n",
       "3       3         1920s             42\n",
       "4       4         1930s             55\n",
       "..    ...           ...            ...\n",
       "95     95           bad             21\n",
       "96     96    bad acting            182\n",
       "97     97       bad cgi             34\n",
       "98     98    bad ending            104\n",
       "99     99      bad plot             95\n",
       "\n",
       "[100 rows x 3 columns]"
      ]
     },
     "execution_count": 4,
     "metadata": {},
     "output_type": "execute_result"
    }
   ],
   "source": [
    "# tdf = pd.read_csv(os.path.join(data_dir, 'ml-10M100K', 'tags.dat'), sep='::', engine='python', header=None)\n",
    "# tdf.columns = ['UserID','MovieID','Tag','Timestamp']\n",
    "# tdf.head()\n",
    "tdf_tag = pd.read_csv(os.path.join(data_dir, 'tag-genome','tags.dat'), sep='\\t', header=None)\n",
    "tdf_tag.columns = ['TagID','Tag','TagPopularity']\n",
    "tdf_tag.head(100)\n",
    "# tdf_movie = pd.read_csv(os.path.join(data_dir, 'tag-genome','movies.dat'), sep='\\t', header=None)\n",
    "# tdf_movie.columns = ['MovieID','Title','MoviePopularity']\n",
    "# tdf_movie.head()"
   ]
  },
  {
   "cell_type": "code",
   "execution_count": 5,
   "id": "442b46d2-c555-462a-a8bd-cf0c0c30d485",
   "metadata": {},
   "outputs": [
    {
     "data": {
      "text/html": [
       "<div>\n",
       "<style scoped>\n",
       "    .dataframe tbody tr th:only-of-type {\n",
       "        vertical-align: middle;\n",
       "    }\n",
       "\n",
       "    .dataframe tbody tr th {\n",
       "        vertical-align: top;\n",
       "    }\n",
       "\n",
       "    .dataframe thead th {\n",
       "        text-align: right;\n",
       "    }\n",
       "</style>\n",
       "<table border=\"1\" class=\"dataframe\">\n",
       "  <thead>\n",
       "    <tr style=\"text-align: right;\">\n",
       "      <th></th>\n",
       "      <th>MovieID</th>\n",
       "      <th>Title</th>\n",
       "      <th>Genres</th>\n",
       "    </tr>\n",
       "  </thead>\n",
       "  <tbody>\n",
       "    <tr>\n",
       "      <th>0</th>\n",
       "      <td>1</td>\n",
       "      <td>Toy Story (1995)</td>\n",
       "      <td>Adventure|Animation|Children|Comedy|Fantasy</td>\n",
       "    </tr>\n",
       "    <tr>\n",
       "      <th>1</th>\n",
       "      <td>2</td>\n",
       "      <td>Jumanji (1995)</td>\n",
       "      <td>Adventure|Children|Fantasy</td>\n",
       "    </tr>\n",
       "    <tr>\n",
       "      <th>2</th>\n",
       "      <td>3</td>\n",
       "      <td>Grumpier Old Men (1995)</td>\n",
       "      <td>Comedy|Romance</td>\n",
       "    </tr>\n",
       "    <tr>\n",
       "      <th>3</th>\n",
       "      <td>4</td>\n",
       "      <td>Waiting to Exhale (1995)</td>\n",
       "      <td>Comedy|Drama|Romance</td>\n",
       "    </tr>\n",
       "    <tr>\n",
       "      <th>4</th>\n",
       "      <td>5</td>\n",
       "      <td>Father of the Bride Part II (1995)</td>\n",
       "      <td>Comedy</td>\n",
       "    </tr>\n",
       "  </tbody>\n",
       "</table>\n",
       "</div>"
      ],
      "text/plain": [
       "   MovieID                               Title  \\\n",
       "0        1                    Toy Story (1995)   \n",
       "1        2                      Jumanji (1995)   \n",
       "2        3             Grumpier Old Men (1995)   \n",
       "3        4            Waiting to Exhale (1995)   \n",
       "4        5  Father of the Bride Part II (1995)   \n",
       "\n",
       "                                        Genres  \n",
       "0  Adventure|Animation|Children|Comedy|Fantasy  \n",
       "1                   Adventure|Children|Fantasy  \n",
       "2                               Comedy|Romance  \n",
       "3                         Comedy|Drama|Romance  \n",
       "4                                       Comedy  "
      ]
     },
     "execution_count": 5,
     "metadata": {},
     "output_type": "execute_result"
    }
   ],
   "source": [
    "data_dir = '/home/rsandhu/zazzle/raw_data'\n",
    "mdf = pd.read_csv(os.path.join(data_dir, 'ml-10M100K','movies.dat'), sep='::', engine='python', header=None)\n",
    "mdf.columns = ['MovieID', 'Title','Genres']\n",
    "#mdf.set_index('MovieID', inplace=True)\n",
    "mdf.head()"
   ]
  },
  {
   "cell_type": "code",
   "execution_count": 6,
   "id": "7c59bebd-fdec-4dfa-8cb9-bfbce1b5b154",
   "metadata": {},
   "outputs": [
    {
     "data": {
      "text/html": [
       "<div>\n",
       "<style scoped>\n",
       "    .dataframe tbody tr th:only-of-type {\n",
       "        vertical-align: middle;\n",
       "    }\n",
       "\n",
       "    .dataframe tbody tr th {\n",
       "        vertical-align: top;\n",
       "    }\n",
       "\n",
       "    .dataframe thead th {\n",
       "        text-align: right;\n",
       "    }\n",
       "</style>\n",
       "<table border=\"1\" class=\"dataframe\">\n",
       "  <thead>\n",
       "    <tr style=\"text-align: right;\">\n",
       "      <th></th>\n",
       "      <th>MovieID</th>\n",
       "      <th>TagID</th>\n",
       "      <th>Relevance</th>\n",
       "    </tr>\n",
       "  </thead>\n",
       "  <tbody>\n",
       "    <tr>\n",
       "      <th>28</th>\n",
       "      <td>1</td>\n",
       "      <td>28</td>\n",
       "      <td>0.894</td>\n",
       "    </tr>\n",
       "    <tr>\n",
       "      <th>62</th>\n",
       "      <td>1</td>\n",
       "      <td>62</td>\n",
       "      <td>0.979</td>\n",
       "    </tr>\n",
       "    <tr>\n",
       "      <th>63</th>\n",
       "      <td>1</td>\n",
       "      <td>63</td>\n",
       "      <td>0.987</td>\n",
       "    </tr>\n",
       "    <tr>\n",
       "      <th>185</th>\n",
       "      <td>1</td>\n",
       "      <td>185</td>\n",
       "      <td>0.947</td>\n",
       "    </tr>\n",
       "    <tr>\n",
       "      <th>202</th>\n",
       "      <td>1</td>\n",
       "      <td>202</td>\n",
       "      <td>0.898</td>\n",
       "    </tr>\n",
       "  </tbody>\n",
       "</table>\n",
       "</div>"
      ],
      "text/plain": [
       "     MovieID  TagID  Relevance\n",
       "28         1     28      0.894\n",
       "62         1     62      0.979\n",
       "63         1     63      0.987\n",
       "185        1    185      0.947\n",
       "202        1    202      0.898"
      ]
     },
     "execution_count": 6,
     "metadata": {},
     "output_type": "execute_result"
    }
   ],
   "source": [
    "tdf = pd.read_csv(os.path.join(data_dir, 'tag-genome','tag_relevance.dat'), sep='\\t', header=None)\n",
    "tdf.columns = ['MovieID','TagID','Relevance']\n",
    "tdf.drop(index=tdf.index[tdf.Relevance < 0.8], inplace=True)\n",
    "tdf.head()"
   ]
  },
  {
   "cell_type": "code",
   "execution_count": 7,
   "id": "dc5274a3-f499-445e-aa58-af37ae315012",
   "metadata": {},
   "outputs": [
    {
     "data": {
      "text/html": [
       "<div>\n",
       "<style scoped>\n",
       "    .dataframe tbody tr th:only-of-type {\n",
       "        vertical-align: middle;\n",
       "    }\n",
       "\n",
       "    .dataframe tbody tr th {\n",
       "        vertical-align: top;\n",
       "    }\n",
       "\n",
       "    .dataframe thead th {\n",
       "        text-align: right;\n",
       "    }\n",
       "</style>\n",
       "<table border=\"1\" class=\"dataframe\">\n",
       "  <thead>\n",
       "    <tr style=\"text-align: right;\">\n",
       "      <th></th>\n",
       "      <th>UserID</th>\n",
       "      <th>MovieID</th>\n",
       "      <th>Rating</th>\n",
       "      <th>Timestamp</th>\n",
       "    </tr>\n",
       "  </thead>\n",
       "  <tbody>\n",
       "    <tr>\n",
       "      <th>0</th>\n",
       "      <td>1</td>\n",
       "      <td>122</td>\n",
       "      <td>5.0</td>\n",
       "      <td>838985046</td>\n",
       "    </tr>\n",
       "    <tr>\n",
       "      <th>1</th>\n",
       "      <td>1</td>\n",
       "      <td>185</td>\n",
       "      <td>5.0</td>\n",
       "      <td>838983525</td>\n",
       "    </tr>\n",
       "    <tr>\n",
       "      <th>2</th>\n",
       "      <td>1</td>\n",
       "      <td>231</td>\n",
       "      <td>5.0</td>\n",
       "      <td>838983392</td>\n",
       "    </tr>\n",
       "    <tr>\n",
       "      <th>3</th>\n",
       "      <td>1</td>\n",
       "      <td>292</td>\n",
       "      <td>5.0</td>\n",
       "      <td>838983421</td>\n",
       "    </tr>\n",
       "    <tr>\n",
       "      <th>4</th>\n",
       "      <td>1</td>\n",
       "      <td>316</td>\n",
       "      <td>5.0</td>\n",
       "      <td>838983392</td>\n",
       "    </tr>\n",
       "  </tbody>\n",
       "</table>\n",
       "</div>"
      ],
      "text/plain": [
       "   UserID  MovieID  Rating  Timestamp\n",
       "0       1      122     5.0  838985046\n",
       "1       1      185     5.0  838983525\n",
       "2       1      231     5.0  838983392\n",
       "3       1      292     5.0  838983421\n",
       "4       1      316     5.0  838983392"
      ]
     },
     "execution_count": 7,
     "metadata": {},
     "output_type": "execute_result"
    }
   ],
   "source": [
    "rdf = pd.read_csv(os.path.join(data_dir, 'ml-10M100K', 'ratings.dat'), sep='::', engine='python', header=None)\n",
    "rdf.columns= ['UserID','MovieID','Rating','Timestamp']\n",
    "rdf.head()"
   ]
  },
  {
   "cell_type": "code",
   "execution_count": 8,
   "id": "7eea5a54-8f8b-4bb1-a7ce-526f2bb0566a",
   "metadata": {},
   "outputs": [],
   "source": [
    "# rdf = rdf[rdf.MovieID.isin(tdf.MovieID.unique())]\n",
    "# tdf = tdf[tdf.MovieID.isin(rdf.MovieID.unique())]\n",
    "# rdf.MovieID.nunique(), tdf.MovieID.nunique(), tdf.TagID.nunique()"
   ]
  },
  {
   "cell_type": "code",
   "execution_count": 9,
   "id": "83a9d0fa-1465-4d06-8ddf-ffc1fd0bbab9",
   "metadata": {},
   "outputs": [
    {
     "data": {
      "text/plain": [
       "UserItemData(User-Metadata-only)\n",
       "  Fuser     :( 69878× 69878) nnz=    69,878 (0.001%), empty rows/cols=     0/     0\n",
       "  Fitem     :(  9542×  1096) nnz=   101,624 (0.972%), empty rows/cols=     0/     0\n",
       "  Rpos      :( 69878×  9542) nnz= 4,986,252 (0.748%), empty rows/cols=    81/  1326\n",
       "  Rneg      :( 69878×  9542) nnz= 4,940,884 (0.741%), empty rows/cols=    88/  1303"
      ]
     },
     "execution_count": 9,
     "metadata": {},
     "output_type": "execute_result"
    }
   ],
   "source": [
    "ui = UserItemData(name='User-Metadata-only')\n",
    "rdf = rdf[rdf.MovieID.isin(tdf.MovieID.unique())]\n",
    "ui.add_positive_interactions(\n",
    "     user_ids=rdf.UserID[rdf.Rating>=4.], \n",
    "     item_ids=rdf.MovieID[rdf.Rating>=4.]\n",
    ")\n",
    "ui.add_negative_interactions(\n",
    "    user_ids=rdf.UserID[rdf.Rating<4.], \n",
    "    item_ids=rdf.MovieID[rdf.Rating<4.]\n",
    ")\n",
    "ui.add_user_features(\n",
    "    user_ids=rdf.UserID.unique(), \n",
    "    feature_ids=rdf.UserID.unique()\n",
    ")\n",
    "ui.add_item_features(\n",
    "     item_ids=tdf.MovieID, \n",
    "     feature_ids=tdf.TagID\n",
    ")\n",
    "ui"
   ]
  },
  {
   "cell_type": "code",
   "execution_count": 10,
   "id": "9eac9b28-478c-4353-bf44-99649a92dc3b",
   "metadata": {},
   "outputs": [
    {
     "name": "stderr",
     "output_type": "stream",
     "text": [
      "Train/Test Split (Rows): 100%|██████████| 97/97 [00:09<00:00,  9.91it/s]\n",
      "Train/Test Split (Cols): 100%|██████████| 1335/1335 [02:21<00:00,  9.40it/s]\n",
      "Train/Test Split (Rows): 100%|██████████| 130/130 [00:13<00:00,  9.50it/s]\n",
      "Train/Test Split (Cols): 100%|██████████| 1307/1307 [02:19<00:00,  9.39it/s]\n"
     ]
    }
   ],
   "source": [
    "ui.train_test_split(train_ratio_pos=0.8, train_ratio_neg=0.8, show_progress=True)"
   ]
  },
  {
   "cell_type": "code",
   "execution_count": 11,
   "id": "b578cd88-35b2-4736-8f5f-2e011bc5bbd3",
   "metadata": {},
   "outputs": [
    {
     "name": "stderr",
     "output_type": "stream",
     "text": [
      "INFO - Initiating Hybrid Recommender System..\n",
      "INFO - Output directory set to: /kfs2/projects/zazzle/pybpr/notebooks/output/ml-run\n",
      "INFO - Got 68088 users for train/test\n"
     ]
    },
    {
     "data": {
      "text/plain": [
       "RecSys(\n",
       "Data=UserItemData(User-Metadata-only)\n",
       "  Fuser     :( 69878× 69878) nnz=    69,878 (0.001%), empty rows/cols=     0/     0\n",
       "  Fitem     :(  9542×  1096) nnz=   101,624 (0.972%), empty rows/cols=     0/     0\n",
       "  Rpos      :( 69878×  9542) nnz= 4,986,252 (0.748%), empty rows/cols=    81/  1326\n",
       "  Rneg      :( 69878×  9542) nnz= 4,940,884 (0.741%), empty rows/cols=    88/  1303\n",
       "  Rpos_train:( 69878×  9542) nnz= 3,989,026 (0.598%), empty rows/cols=    81/  1326\n",
       "  Rpos_test :( 69878×  9542) nnz=   997,226 (0.150%), empty rows/cols=  1790/  1632\n",
       "  Rneg_train:( 69878×  9542) nnz= 3,952,753 (0.593%), empty rows/cols=    88/  1303\n",
       "  Rneg_test :( 69878×  9542) nnz=   988,131 (0.148%), empty rows/cols=  3340/  1366\n",
       "Model=HybridMF(\n",
       "  (user_latent): Embedding(69878, 64)\n",
       "  (item_latent): Embedding(1096, 64)\n",
       "  (item_biases): Embedding(1096, 1)\n",
       ")\n",
       "Optimizer=Adam (\n",
       "Parameter Group 0\n",
       "    amsgrad: False\n",
       "    betas: (0.9, 0.999)\n",
       "    capturable: False\n",
       "    differentiable: False\n",
       "    eps: 1e-08\n",
       "    foreach: None\n",
       "    fused: None\n",
       "    lr: 0.05\n",
       "    maximize: False\n",
       "    weight_decay: 0.0\n",
       ")\n",
       ")"
      ]
     },
     "execution_count": 11,
     "metadata": {},
     "output_type": "execute_result"
    }
   ],
   "source": [
    "adam = partial(\n",
    "    torch.optim.Adam,\n",
    "    lr=0.02,\n",
    "    weight_decay=0.0\n",
    ")\n",
    "rs = RecSys(\n",
    "    data = ui,\n",
    "    model= HybridMF(ui.n_user_features, ui.n_item_features, n_latent=64),\n",
    "    optimizer=partial(torch.optim.Adam, lr=0.05, weight_decay=0.0),\n",
    "    output_dir='/kfs2/projects/zazzle/pybpr/notebooks/output/ml-run',\n",
    "    loss_function=bpr_loss,\n",
    "    log_level=2\n",
    ")\n",
    "rs"
   ]
  },
  {
   "cell_type": "code",
   "execution_count": 15,
   "id": "dc99b785-ed8e-490b-9a7e-538728ada3f9",
   "metadata": {},
   "outputs": [
    {
     "name": "stderr",
     "output_type": "stream",
     "text": [
      "INFO - # of minibatches = 7\n",
      "INFO - Eval frequency = 1 epochs\n"
     ]
    },
    {
     "name": "stdout",
     "output_type": "stream",
     "text": [
      "HybBPR:   0%|          | 0/10 [00:05<?, ?it/s, loss=0.7017]"
     ]
    },
    {
     "name": "stderr",
     "output_type": "stream",
     "text": [
      "DEBUG - Model state dict saved to /kfs2/projects/zazzle/pybpr/notebooks/output/ml-run/best_model_epoch_7.torch\n",
      "DEBUG - Eval@7: AUC (train/test): 0.740/0.645, Loss (train/test): 0.000/0.000\n"
     ]
    },
    {
     "name": "stdout",
     "output_type": "stream",
     "text": [
      "HybBPR:  10%|█         | 1/10 [00:44<05:35, 37.29s/it, loss=0.7108]"
     ]
    },
    {
     "name": "stderr",
     "output_type": "stream",
     "text": [
      "DEBUG - Model state dict saved to /kfs2/projects/zazzle/pybpr/notebooks/output/ml-run/best_model_epoch_8.torch\n",
      "DEBUG - Eval@8: AUC (train/test): 0.742/0.646, Loss (train/test): 0.000/0.000\n"
     ]
    },
    {
     "name": "stdout",
     "output_type": "stream",
     "text": [
      "HybBPR:  20%|██        | 2/10 [01:21<05:01, 37.66s/it, loss=0.7133]"
     ]
    },
    {
     "name": "stderr",
     "output_type": "stream",
     "text": [
      "DEBUG - Model state dict saved to /kfs2/projects/zazzle/pybpr/notebooks/output/ml-run/best_model_epoch_9.torch\n",
      "DEBUG - Eval@9: AUC (train/test): 0.754/0.648, Loss (train/test): 0.000/0.000\n"
     ]
    },
    {
     "name": "stdout",
     "output_type": "stream",
     "text": [
      "HybBPR:  30%|███       | 3/10 [01:58<04:20, 37.17s/it, loss=0.7159]"
     ]
    },
    {
     "name": "stderr",
     "output_type": "stream",
     "text": [
      "DEBUG - Model state dict saved to /kfs2/projects/zazzle/pybpr/notebooks/output/ml-run/best_model_epoch_10.torch\n",
      "DEBUG - Eval@10: AUC (train/test): 0.758/0.652, Loss (train/test): 0.000/0.000\n"
     ]
    },
    {
     "name": "stdout",
     "output_type": "stream",
     "text": [
      "HybBPR:  40%|████      | 4/10 [02:36<03:46, 37.73s/it, loss=0.7200]"
     ]
    },
    {
     "name": "stderr",
     "output_type": "stream",
     "text": [
      "DEBUG - Eval@11: AUC (train/test): 0.761/0.648, Loss (train/test): 0.000/0.000\n"
     ]
    },
    {
     "name": "stdout",
     "output_type": "stream",
     "text": [
      "HybBPR:  50%|█████     | 5/10 [03:14<03:07, 37.44s/it, loss=0.7235]"
     ]
    },
    {
     "name": "stderr",
     "output_type": "stream",
     "text": [
      "DEBUG - Eval@12: AUC (train/test): 0.766/0.650, Loss (train/test): 0.000/0.000\n"
     ]
    },
    {
     "name": "stdout",
     "output_type": "stream",
     "text": [
      "HybBPR:  60%|██████    | 6/10 [03:53<02:31, 37.90s/it, loss=0.7172]"
     ]
    },
    {
     "name": "stderr",
     "output_type": "stream",
     "text": [
      "DEBUG - Model state dict saved to /kfs2/projects/zazzle/pybpr/notebooks/output/ml-run/best_model_epoch_13.torch\n",
      "DEBUG - Eval@13: AUC (train/test): 0.769/0.654, Loss (train/test): 0.000/0.000\n"
     ]
    },
    {
     "name": "stdout",
     "output_type": "stream",
     "text": [
      "HybBPR:  70%|███████   | 7/10 [04:44<01:54, 38.24s/it, loss=0.7388]"
     ]
    },
    {
     "name": "stderr",
     "output_type": "stream",
     "text": [
      "DEBUG - Eval@14: AUC (train/test): 0.771/0.649, Loss (train/test): 0.000/0.000\n"
     ]
    },
    {
     "name": "stdout",
     "output_type": "stream",
     "text": [
      "HybBPR:  80%|████████  | 8/10 [05:22<01:23, 41.99s/it, loss=0.7391]"
     ]
    },
    {
     "name": "stderr",
     "output_type": "stream",
     "text": [
      "DEBUG - Eval@15: AUC (train/test): 0.775/0.652, Loss (train/test): 0.000/0.000\n"
     ]
    },
    {
     "name": "stdout",
     "output_type": "stream",
     "text": [
      "HybBPR:  90%|█████████ | 9/10 [06:00<00:40, 40.58s/it, loss=0.7560]"
     ]
    },
    {
     "name": "stderr",
     "output_type": "stream",
     "text": [
      "DEBUG - Eval@16: AUC (train/test): 0.776/0.648, Loss (train/test): 0.000/0.000\n"
     ]
    },
    {
     "name": "stdout",
     "output_type": "stream",
     "text": [
      "HybBPR: 100%|██████████| 10/10 [06:34<00:00, 39.42s/it, loss=0.7560]\n"
     ]
    }
   ],
   "source": [
    "rs.fit(n_iter=10, eval_every=1, batch_size=10000, eval_user_size=10000)"
   ]
  },
  {
   "cell_type": "code",
   "execution_count": 14,
   "id": "1436bad0-6f92-4d24-97b3-e6cd2618df80",
   "metadata": {},
   "outputs": [
    {
     "data": {
      "text/plain": [
       "[{'epoch': 1, 'loss': 0.6299952837614374},\n",
       " {'epoch': 2,\n",
       "  'loss': 0.7695699725626163,\n",
       "  'test_auc': 0.653149978432366,\n",
       "  'test_auc_std': 0.2194561228671245,\n",
       "  'test_loss': 0.0007047600746154785,\n",
       "  'train_auc': 0.6939621668687586,\n",
       "  'train_auc_std': 0.10988661526388788,\n",
       "  'train_loss': 0.0006815142631530762},\n",
       " {'epoch': 3,\n",
       "  'loss': 0.724699718833684,\n",
       "  'test_auc': 0.636396860499319,\n",
       "  'test_auc_std': 0.2096017512552128,\n",
       "  'test_loss': 0.0007047143578529358,\n",
       "  'train_auc': 0.6945069483835876,\n",
       "  'train_auc_std': 0.1094402948419376,\n",
       "  'train_loss': 0.0007735777497291565},\n",
       " {'epoch': 4,\n",
       "  'loss': 0.7261757818221933,\n",
       "  'test_auc': 0.6388720433969037,\n",
       "  'test_auc_std': 0.21241097998919076,\n",
       "  'test_loss': 0.000722014307975769,\n",
       "  'train_auc': 0.709095098435218,\n",
       "  'train_auc_std': 0.114037661775915,\n",
       "  'train_loss': 0.0007301946878433228},\n",
       " {'epoch': 5,\n",
       "  'loss': 0.7119454762207581,\n",
       "  'test_auc': 0.6505535029299582,\n",
       "  'test_auc_std': 0.21716113741790566,\n",
       "  'test_loss': 0.0006746781468391418,\n",
       "  'train_auc': 0.7197865826769534,\n",
       "  'train_auc_std': 0.10865602679942842,\n",
       "  'train_loss': 0.0006639118194580078},\n",
       " {'epoch': 6,\n",
       "  'loss': 0.707238356370425,\n",
       "  'test_auc': 0.6513257247063944,\n",
       "  'test_auc_std': 0.2122891122783928,\n",
       "  'test_loss': 0.0006984549760818481,\n",
       "  'train_auc': 0.7328597773394339,\n",
       "  'train_auc_std': 0.10932694193134798,\n",
       "  'train_loss': 0.0006737280488014222}]"
      ]
     },
     "execution_count": 14,
     "metadata": {},
     "output_type": "execute_result"
    }
   ],
   "source": [
    "rs.metrics"
   ]
  },
  {
   "cell_type": "code",
   "execution_count": 54,
   "id": "aa32f4f6-ef33-471e-b7c1-9c0558b704ff",
   "metadata": {},
   "outputs": [
    {
     "name": "stdout",
     "output_type": "stream",
     "text": [
      "CPU times: user 4.32 ms, sys: 21 μs, total: 4.34 ms\n",
      "Wall time: 4.33 ms\n"
     ]
    }
   ],
   "source": [
    "%%time\n",
    "xx = get_user_interactions(users=rs.users[:4000], pos_csr_mat=rs.Rpos_train_csr, neg_csr_mat=rs.Rneg_train_csr, neg_ratio=1.)"
   ]
  },
  {
   "cell_type": "code",
   "execution_count": 55,
   "id": "47e64c29-b612-4dbf-ab18-ff9571083cea",
   "metadata": {},
   "outputs": [
    {
     "name": "stdout",
     "output_type": "stream",
     "text": [
      "CPU times: user 2min 21s, sys: 6.51 s, total: 2min 28s\n",
      "Wall time: 7.06 s\n"
     ]
    }
   ],
   "source": [
    "%%time\n",
    "yy = compute_auc_scores(xx, rs.predict)"
   ]
  },
  {
   "cell_type": "code",
   "execution_count": 61,
   "id": "e89eac3e-f286-41c1-b7bc-77bbdd07aa0d",
   "metadata": {},
   "outputs": [
    {
     "ename": "TypeError",
     "evalue": "Cannot interpret 'torch.float32' as a data type",
     "output_type": "error",
     "traceback": [
      "\u001b[0;31m---------------------------------------------------------------------------\u001b[0m",
      "\u001b[0;31m_RemoteTraceback\u001b[0m                          Traceback (most recent call last)",
      "\u001b[0;31m_RemoteTraceback\u001b[0m: \n\"\"\"\nTraceback (most recent call last):\n  File \"/home/rsandhu/.conda-envs/bpr_env/lib/python3.13/site-packages/joblib/externals/loky/process_executor.py\", line 463, in _process_worker\n    r = call_item()\n  File \"/home/rsandhu/.conda-envs/bpr_env/lib/python3.13/site-packages/joblib/externals/loky/process_executor.py\", line 291, in __call__\n    return self.fn(*self.args, **self.kwargs)\n           ~~~~~~~^^^^^^^^^^^^^^^^^^^^^^^^^^^\n  File \"/home/rsandhu/.conda-envs/bpr_env/lib/python3.13/site-packages/joblib/parallel.py\", line 598, in __call__\n    return [func(*args, **kwargs)\n            ~~~~^^^^^^^^^^^^^^^^^\n  File \"/kfs2/projects/zazzle/pybpr/pybpr/utils.py\", line 211, in process_user_batch\n    y_score = np.empty(n_total, dtype=pred_scores.dtype)\nTypeError: Cannot interpret 'torch.float32' as a data type\n\"\"\"",
      "\nThe above exception was the direct cause of the following exception:\n",
      "\u001b[0;31mTypeError\u001b[0m                                 Traceback (most recent call last)",
      "Cell \u001b[0;32mIn[61], line 1\u001b[0m\n\u001b[0;32m----> 1\u001b[0m \u001b[43mcompute_roc_auc_score_all_items\u001b[49m\u001b[43m(\u001b[49m\n\u001b[1;32m      2\u001b[0m \u001b[43m    \u001b[49m\u001b[43mpred_scores\u001b[49m\u001b[38;5;241;43m=\u001b[39;49m\u001b[43mrs\u001b[49m\u001b[38;5;241;43m.\u001b[39;49m\u001b[43mmodel\u001b[49m\u001b[38;5;241;43m.\u001b[39;49m\u001b[43mpredict\u001b[49m\u001b[43m(\u001b[49m\u001b[43mrs\u001b[49m\u001b[38;5;241;43m.\u001b[39;49m\u001b[43mFu_csr\u001b[49m\u001b[43m,\u001b[49m\u001b[43m \u001b[49m\u001b[43mrs\u001b[49m\u001b[38;5;241;43m.\u001b[39;49m\u001b[43mFi_csr\u001b[49m\u001b[43m)\u001b[49m\u001b[43m,\u001b[49m\n\u001b[1;32m      3\u001b[0m \u001b[43m    \u001b[49m\u001b[43mpos_csr_mat\u001b[49m\u001b[38;5;241;43m=\u001b[39;49m\u001b[43mrs\u001b[49m\u001b[38;5;241;43m.\u001b[39;49m\u001b[43mRpos_train_csr\u001b[49m\u001b[43m,\u001b[49m\n\u001b[1;32m      4\u001b[0m \u001b[43m    \u001b[49m\u001b[43mneg_csr_mat\u001b[49m\u001b[38;5;241;43m=\u001b[39;49m\u001b[43mrs\u001b[49m\u001b[38;5;241;43m.\u001b[39;49m\u001b[43mRneg_train_csr\u001b[49m\u001b[43m,\u001b[49m\n\u001b[1;32m      5\u001b[0m \u001b[43m    \u001b[49m\u001b[43mneg_ratio\u001b[49m\u001b[38;5;241;43m=\u001b[39;49m\u001b[43m \u001b[49m\u001b[38;5;241;43m1.\u001b[39;49m\u001b[43m,\u001b[49m\n\u001b[1;32m      6\u001b[0m \u001b[43m)\u001b[49m\n",
      "File \u001b[0;32m/kfs2/projects/zazzle/pybpr/pybpr/utils.py:234\u001b[0m, in \u001b[0;36mcompute_roc_auc_score_all_items\u001b[0;34m(pred_scores, pos_csr_mat, neg_csr_mat, neg_ratio, n_jobs)\u001b[0m\n\u001b[1;32m    232\u001b[0m all_scores \u001b[38;5;241m=\u001b[39m []\n\u001b[1;32m    233\u001b[0m \u001b[38;5;28;01mwith\u001b[39;00m Parallel(n_jobs\u001b[38;5;241m=\u001b[39mn_jobs, verbose\u001b[38;5;241m=\u001b[39m\u001b[38;5;241m0\u001b[39m) \u001b[38;5;28;01mas\u001b[39;00m parallel:\n\u001b[0;32m--> 234\u001b[0m     batch_results \u001b[38;5;241m=\u001b[39m \u001b[43mparallel\u001b[49m\u001b[43m(\u001b[49m\n\u001b[1;32m    235\u001b[0m \u001b[43m        \u001b[49m\u001b[43mdelayed\u001b[49m\u001b[43m(\u001b[49m\u001b[43mprocess_user_batch\u001b[49m\u001b[43m)\u001b[49m\u001b[43m(\u001b[49m\u001b[43mbatch\u001b[49m\u001b[43m)\u001b[49m\u001b[43m \u001b[49m\u001b[38;5;28;43;01mfor\u001b[39;49;00m\u001b[43m \u001b[49m\u001b[43mbatch\u001b[49m\u001b[43m \u001b[49m\u001b[38;5;129;43;01min\u001b[39;49;00m\u001b[43m \u001b[49m\u001b[43muser_batches\u001b[49m\n\u001b[1;32m    236\u001b[0m \u001b[43m    \u001b[49m\u001b[43m)\u001b[49m\n\u001b[1;32m    238\u001b[0m     \u001b[38;5;66;03m# Flatten the batch results\u001b[39;00m\n\u001b[1;32m    239\u001b[0m     \u001b[38;5;28;01mfor\u001b[39;00m batch_scores \u001b[38;5;129;01min\u001b[39;00m batch_results:\n",
      "File \u001b[0;32m~/.conda-envs/bpr_env/lib/python3.13/site-packages/joblib/parallel.py:2007\u001b[0m, in \u001b[0;36mParallel.__call__\u001b[0;34m(self, iterable)\u001b[0m\n\u001b[1;32m   2001\u001b[0m \u001b[38;5;66;03m# The first item from the output is blank, but it makes the interpreter\u001b[39;00m\n\u001b[1;32m   2002\u001b[0m \u001b[38;5;66;03m# progress until it enters the Try/Except block of the generator and\u001b[39;00m\n\u001b[1;32m   2003\u001b[0m \u001b[38;5;66;03m# reaches the first `yield` statement. This starts the asynchronous\u001b[39;00m\n\u001b[1;32m   2004\u001b[0m \u001b[38;5;66;03m# dispatch of the tasks to the workers.\u001b[39;00m\n\u001b[1;32m   2005\u001b[0m \u001b[38;5;28mnext\u001b[39m(output)\n\u001b[0;32m-> 2007\u001b[0m \u001b[38;5;28;01mreturn\u001b[39;00m output \u001b[38;5;28;01mif\u001b[39;00m \u001b[38;5;28mself\u001b[39m\u001b[38;5;241m.\u001b[39mreturn_generator \u001b[38;5;28;01melse\u001b[39;00m \u001b[38;5;28;43mlist\u001b[39;49m\u001b[43m(\u001b[49m\u001b[43moutput\u001b[49m\u001b[43m)\u001b[49m\n",
      "File \u001b[0;32m~/.conda-envs/bpr_env/lib/python3.13/site-packages/joblib/parallel.py:1650\u001b[0m, in \u001b[0;36mParallel._get_outputs\u001b[0;34m(self, iterator, pre_dispatch)\u001b[0m\n\u001b[1;32m   1647\u001b[0m     \u001b[38;5;28;01myield\u001b[39;00m\n\u001b[1;32m   1649\u001b[0m     \u001b[38;5;28;01mwith\u001b[39;00m \u001b[38;5;28mself\u001b[39m\u001b[38;5;241m.\u001b[39m_backend\u001b[38;5;241m.\u001b[39mretrieval_context():\n\u001b[0;32m-> 1650\u001b[0m         \u001b[38;5;28;01myield from\u001b[39;00m \u001b[38;5;28mself\u001b[39m\u001b[38;5;241m.\u001b[39m_retrieve()\n\u001b[1;32m   1652\u001b[0m \u001b[38;5;28;01mexcept\u001b[39;00m \u001b[38;5;167;01mGeneratorExit\u001b[39;00m:\n\u001b[1;32m   1653\u001b[0m     \u001b[38;5;66;03m# The generator has been garbage collected before being fully\u001b[39;00m\n\u001b[1;32m   1654\u001b[0m     \u001b[38;5;66;03m# consumed. This aborts the remaining tasks if possible and warn\u001b[39;00m\n\u001b[1;32m   1655\u001b[0m     \u001b[38;5;66;03m# the user if necessary.\u001b[39;00m\n\u001b[1;32m   1656\u001b[0m     \u001b[38;5;28mself\u001b[39m\u001b[38;5;241m.\u001b[39m_exception \u001b[38;5;241m=\u001b[39m \u001b[38;5;28;01mTrue\u001b[39;00m\n",
      "File \u001b[0;32m~/.conda-envs/bpr_env/lib/python3.13/site-packages/joblib/parallel.py:1754\u001b[0m, in \u001b[0;36mParallel._retrieve\u001b[0;34m(self)\u001b[0m\n\u001b[1;32m   1747\u001b[0m \u001b[38;5;28;01mwhile\u001b[39;00m \u001b[38;5;28mself\u001b[39m\u001b[38;5;241m.\u001b[39m_wait_retrieval():\n\u001b[1;32m   1748\u001b[0m \n\u001b[1;32m   1749\u001b[0m     \u001b[38;5;66;03m# If the callback thread of a worker has signaled that its task\u001b[39;00m\n\u001b[1;32m   1750\u001b[0m     \u001b[38;5;66;03m# triggered an exception, or if the retrieval loop has raised an\u001b[39;00m\n\u001b[1;32m   1751\u001b[0m     \u001b[38;5;66;03m# exception (e.g. `GeneratorExit`), exit the loop and surface the\u001b[39;00m\n\u001b[1;32m   1752\u001b[0m     \u001b[38;5;66;03m# worker traceback.\u001b[39;00m\n\u001b[1;32m   1753\u001b[0m     \u001b[38;5;28;01mif\u001b[39;00m \u001b[38;5;28mself\u001b[39m\u001b[38;5;241m.\u001b[39m_aborting:\n\u001b[0;32m-> 1754\u001b[0m         \u001b[38;5;28;43mself\u001b[39;49m\u001b[38;5;241;43m.\u001b[39;49m\u001b[43m_raise_error_fast\u001b[49m\u001b[43m(\u001b[49m\u001b[43m)\u001b[49m\n\u001b[1;32m   1755\u001b[0m         \u001b[38;5;28;01mbreak\u001b[39;00m\n\u001b[1;32m   1757\u001b[0m     \u001b[38;5;66;03m# If the next job is not ready for retrieval yet, we just wait for\u001b[39;00m\n\u001b[1;32m   1758\u001b[0m     \u001b[38;5;66;03m# async callbacks to progress.\u001b[39;00m\n",
      "File \u001b[0;32m~/.conda-envs/bpr_env/lib/python3.13/site-packages/joblib/parallel.py:1789\u001b[0m, in \u001b[0;36mParallel._raise_error_fast\u001b[0;34m(self)\u001b[0m\n\u001b[1;32m   1785\u001b[0m \u001b[38;5;66;03m# If this error job exists, immediately raise the error by\u001b[39;00m\n\u001b[1;32m   1786\u001b[0m \u001b[38;5;66;03m# calling get_result. This job might not exists if abort has been\u001b[39;00m\n\u001b[1;32m   1787\u001b[0m \u001b[38;5;66;03m# called directly or if the generator is gc'ed.\u001b[39;00m\n\u001b[1;32m   1788\u001b[0m \u001b[38;5;28;01mif\u001b[39;00m error_job \u001b[38;5;129;01mis\u001b[39;00m \u001b[38;5;129;01mnot\u001b[39;00m \u001b[38;5;28;01mNone\u001b[39;00m:\n\u001b[0;32m-> 1789\u001b[0m     \u001b[43merror_job\u001b[49m\u001b[38;5;241;43m.\u001b[39;49m\u001b[43mget_result\u001b[49m\u001b[43m(\u001b[49m\u001b[38;5;28;43mself\u001b[39;49m\u001b[38;5;241;43m.\u001b[39;49m\u001b[43mtimeout\u001b[49m\u001b[43m)\u001b[49m\n",
      "File \u001b[0;32m~/.conda-envs/bpr_env/lib/python3.13/site-packages/joblib/parallel.py:745\u001b[0m, in \u001b[0;36mBatchCompletionCallBack.get_result\u001b[0;34m(self, timeout)\u001b[0m\n\u001b[1;32m    739\u001b[0m backend \u001b[38;5;241m=\u001b[39m \u001b[38;5;28mself\u001b[39m\u001b[38;5;241m.\u001b[39mparallel\u001b[38;5;241m.\u001b[39m_backend\n\u001b[1;32m    741\u001b[0m \u001b[38;5;28;01mif\u001b[39;00m backend\u001b[38;5;241m.\u001b[39msupports_retrieve_callback:\n\u001b[1;32m    742\u001b[0m     \u001b[38;5;66;03m# We assume that the result has already been retrieved by the\u001b[39;00m\n\u001b[1;32m    743\u001b[0m     \u001b[38;5;66;03m# callback thread, and is stored internally. It's just waiting to\u001b[39;00m\n\u001b[1;32m    744\u001b[0m     \u001b[38;5;66;03m# be returned.\u001b[39;00m\n\u001b[0;32m--> 745\u001b[0m     \u001b[38;5;28;01mreturn\u001b[39;00m \u001b[38;5;28;43mself\u001b[39;49m\u001b[38;5;241;43m.\u001b[39;49m\u001b[43m_return_or_raise\u001b[49m\u001b[43m(\u001b[49m\u001b[43m)\u001b[49m\n\u001b[1;32m    747\u001b[0m \u001b[38;5;66;03m# For other backends, the main thread needs to run the retrieval step.\u001b[39;00m\n\u001b[1;32m    748\u001b[0m \u001b[38;5;28;01mtry\u001b[39;00m:\n",
      "File \u001b[0;32m~/.conda-envs/bpr_env/lib/python3.13/site-packages/joblib/parallel.py:763\u001b[0m, in \u001b[0;36mBatchCompletionCallBack._return_or_raise\u001b[0;34m(self)\u001b[0m\n\u001b[1;32m    761\u001b[0m \u001b[38;5;28;01mtry\u001b[39;00m:\n\u001b[1;32m    762\u001b[0m     \u001b[38;5;28;01mif\u001b[39;00m \u001b[38;5;28mself\u001b[39m\u001b[38;5;241m.\u001b[39mstatus \u001b[38;5;241m==\u001b[39m TASK_ERROR:\n\u001b[0;32m--> 763\u001b[0m         \u001b[38;5;28;01mraise\u001b[39;00m \u001b[38;5;28mself\u001b[39m\u001b[38;5;241m.\u001b[39m_result\n\u001b[1;32m    764\u001b[0m     \u001b[38;5;28;01mreturn\u001b[39;00m \u001b[38;5;28mself\u001b[39m\u001b[38;5;241m.\u001b[39m_result\n\u001b[1;32m    765\u001b[0m \u001b[38;5;28;01mfinally\u001b[39;00m:\n",
      "\u001b[0;31mTypeError\u001b[0m: Cannot interpret 'torch.float32' as a data type"
     ]
    }
   ],
   "source": [
    "compute_roc_auc_score_all_items(\n",
    "    pred_scores=rs.model.predict(rs.Fu_csr, rs.Fi_csr),\n",
    "    pos_csr_mat=rs.Rpos_train_csr,\n",
    "    neg_csr_mat=rs.Rneg_train_csr,\n",
    "    neg_ratio= 1.,\n",
    "    n_jobs\n",
    ")"
   ]
  },
  {
   "cell_type": "code",
   "execution_count": 31,
   "id": "6b0dfbb7-03c0-451c-adae-7280d400d6f1",
   "metadata": {},
   "outputs": [
    {
     "data": {
      "text/plain": [
       "[(array([1, 1, 1, 1, 1, 1, 1, 1, 1, 1, 1, 1, 1, 1, 1, 1, 1, 0, 0, 0, 0, 0,\n",
       "         0, 0, 0, 0, 0, 0, 0, 0, 0, 0, 0, 0], dtype=int8),\n",
       "  array([-0.1479168 , -0.5295189 ,  1.9289935 ,  3.309327  ,  0.11100793,\n",
       "          0.4668362 ,  3.3421235 ,  4.204011  ,  2.1579344 ,  1.1569982 ,\n",
       "          6.5093327 ,  3.0115273 ,  1.1062804 ,  4.5743637 ,  2.1059036 ,\n",
       "          3.8325639 ,  3.31386   , -0.65143704,  2.8454125 , -0.22279662,\n",
       "         -1.9697559 ,  3.6011455 ,  0.23351169, -1.596878  ,  0.13656744,\n",
       "          0.757073  , -0.8124689 ,  0.04837009,  2.1920722 , -0.07151139,\n",
       "         -1.9428208 , -0.20091152,  1.8935213 , -0.41208476], dtype=float32),\n",
       "  0.8131487889273357),\n",
       " (array([1, 1, 0, 0, 0, 0, 0, 0, 0, 0, 0, 0, 0, 0], dtype=int8),\n",
       "  array([13.416822  , 11.780233  ,  3.83111   ,  4.267367  ,  7.849419  ,\n",
       "         -0.18637717, -1.9407303 , -1.8887002 ,  3.8114448 ,  1.2509985 ,\n",
       "          0.7703401 ,  3.213985  , -0.26417336, -0.14909786], dtype=float32),\n",
       "  1.0)]"
      ]
     },
     "execution_count": 31,
     "metadata": {},
     "output_type": "execute_result"
    }
   ],
   "source": [
    "yy[:2]"
   ]
  },
  {
   "cell_type": "code",
   "execution_count": 59,
   "id": "409e79e2-3d86-4d6f-9208-97d1f974c958",
   "metadata": {},
   "outputs": [
    {
     "data": {
      "text/plain": [
       "torch.Size([69878, 9542])"
      ]
     },
     "execution_count": 59,
     "metadata": {},
     "output_type": "execute_result"
    }
   ],
   "source": [
    "yy = rs.model.predict(rs.Fu_csr, rs.Fi_csr)\n",
    "yy.shape"
   ]
  },
  {
   "cell_type": "code",
   "execution_count": 57,
   "id": "6f829e85-835c-493a-972f-7a6f7c109a51",
   "metadata": {},
   "outputs": [],
   "source": [
    "# for (ix, px, nx), (y_true, y_pred, roc) in zip(xx,yy):\n",
    "#     print(ix, len(px), len(nx))"
   ]
  },
  {
   "cell_type": "code",
   "execution_count": 14,
   "id": "d7191403-fa86-4095-b3d4-6de524ab2e98",
   "metadata": {},
   "outputs": [
    {
     "name": "stdout",
     "output_type": "stream",
     "text": [
      "train_loss\n",
      "test_loss\n",
      "train_auc\n",
      "test_auc\n"
     ]
    },
    {
     "name": "stderr",
     "output_type": "stream",
     "text": [
      "INFO - Saved metrics plot to /kfs2/projects/zazzle/pybpr/notebooks/output/ml-run/metrics_plot.png\n"
     ]
    },
    {
     "data": {
      "text/plain": [
       "(<Figure size 1200x800 with 2 Axes>,\n",
       " {'loss': <Axes: xlabel='Epoch', ylabel='BPR Loss'>,\n",
       "  'auc': <Axes: title={'center': 'Train/Test Metrics'}, ylabel='ROC AUC'>},\n",
       "    epoch      loss  test_loss  test_auc  test_n_users_evaluated  train_loss  \\\n",
       " 0      1  0.620579        NaN       NaN                     NaN         NaN   \n",
       " 1      2  0.544853   0.553014  0.706637                  1000.0    0.505721   \n",
       " 2      3  0.521712        NaN       NaN                     NaN         NaN   \n",
       " 3      4  0.502978   0.627560  0.674150                  1000.0    0.534143   \n",
       " 4      5  0.482434        NaN       NaN                     NaN         NaN   \n",
       " 5      6  0.469729   0.601684  0.689567                  1000.0    0.483711   \n",
       " 6      7  0.456158        NaN       NaN                     NaN         NaN   \n",
       " 7      8  0.445131   0.634435  0.682475                  1000.0    0.435836   \n",
       " 8      9  0.429239        NaN       NaN                     NaN         NaN   \n",
       " 9     10  0.422002   0.652046  0.679484                  1000.0    0.381223   \n",
       " \n",
       "    train_auc  train_n_users_evaluated  \n",
       " 0        NaN                      NaN  \n",
       " 1   0.743143                   1000.0  \n",
       " 2        NaN                      NaN  \n",
       " 3   0.738503                   1000.0  \n",
       " 4        NaN                      NaN  \n",
       " 5   0.766522                   1000.0  \n",
       " 6        NaN                      NaN  \n",
       " 7   0.781527                   1000.0  \n",
       " 8        NaN                      NaN  \n",
       " 9   0.810945                   1000.0  )"
      ]
     },
     "execution_count": 14,
     "metadata": {},
     "output_type": "execute_result"
    },
    {
     "data": {
      "image/png": "[encoded data removed]",
      "text/plain": [
       "<Figure size 1200x800 with 2 Axes>"
      ]
     },
     "metadata": {},
     "output_type": "display_data"
    }
   ],
   "source": [
    "RecSys.plot_metrics(metrics_filepath='/kfs2/projects/zazzle/pybpr/notebooks/output/ml-run/metrics.json')"
   ]
  },
  {
   "cell_type": "code",
   "execution_count": null,
   "id": "0990a72c-6528-4515-95e1-8ef986089ed1",
   "metadata": {},
   "outputs": [],
   "source": [
    "pred_scores = rs.model.predict(\n",
    "    user_features=scipy_csr_to_torch_csr(rs.Fu_csr),\n",
    "    item_features=scipy_csr_to_torch_csr(rs.Fi_csr)\n",
    ")\n",
    "pred_scores.shape"
   ]
  },
  {
   "cell_type": "code",
   "execution_count": null,
   "id": "fba61d98-d810-4c44-a563-f2926168cf49",
   "metadata": {},
   "outputs": [],
   "source": [
    "%%time\n",
    "xx = compute_roc_auc_score_for_all_items(\n",
    "    pred_scores=pred_scores.detach().numpy(),\n",
    "    pos_csr_mat=rs.Rpos_train_csr,\n",
    "    neg_csr_mat=rs.Rneg_train_csr,\n",
    "    neg_ratio=1.,\n",
    "    n_jobs=64\n",
    ")"
   ]
  },
  {
   "cell_type": "code",
   "execution_count": null,
   "id": "5e040d5c-ad6b-4511-89ec-af495f801669",
   "metadata": {},
   "outputs": [],
   "source": [
    "np.array_split([0,1,2,3,4,5,6,7],3)"
   ]
  },
  {
   "cell_type": "code",
   "execution_count": null,
   "id": "cd562385-f178-4935-bfa4-d96891c2bc3a",
   "metadata": {},
   "outputs": [],
   "source": [
    "users, pos_items, neg_items = sample_pos_neg_pairs(\n",
    "    pos_csr_mat=rs.Rpos_train_csr,\n",
    "    neg_csr_mat=rs.Rneg_train_csr,\n",
    "    user_indices=[0,1,2,3]\n",
    ")\n",
    "Fu_sliced = scipy_csr_to_torch_csr(rs.Fu_csr[users, :])\n",
    "Fi_sliced_pos = scipy_csr_to_torch_csr(rs.Fi_csr[pos_items, :])\n",
    "Fi_sliced_neg = scipy_csr_to_torch_csr(rs.Fi_csr[neg_items, :])\n",
    "r_ui = rs.model(\n",
    "    user_features=Fu_sliced,\n",
    "    item_features=Fi_sliced_pos\n",
    ")\n",
    "r_uj = rs.model(\n",
    "    user_features=Fu_sliced,\n",
    "    item_features=Fi_sliced_neg\n",
    ")\n",
    "    \n",
    "users, pos_items, neg_items, r_ui, r_uj"
   ]
  },
  {
   "cell_type": "code",
   "execution_count": null,
   "id": "c479f568-d1bb-4c05-a857-7d748d7cc39b",
   "metadata": {},
   "outputs": [],
   "source": [
    "Fi_sliced_pos.to_sparse_coo()"
   ]
  },
  {
   "cell_type": "code",
   "execution_count": null,
   "id": "e63b25fd-e867-42d5-ba69-1d853fc0dca0",
   "metadata": {},
   "outputs": [],
   "source": [
    "rs.Fu_csr, rs.Fi_csr, rs.model.user_latent.weight.shape"
   ]
  },
  {
   "cell_type": "code",
   "execution_count": null,
   "id": "0adb83ab-d6a2-400a-a0d9-220153492cf7",
   "metadata": {},
   "outputs": [],
   "source": [
    "r_ui = rs.model.predict(\n",
    "    user_features=scipy_csr_to_torch_csr(rs.Fu_csr),\n",
    "    item_features=scipy_csr_to_torch_csr(rs.Fi_csr)\n",
    ")"
   ]
  },
  {
   "cell_type": "code",
   "execution_count": null,
   "id": "5047e6b2-6a06-40c9-900f-646bf485e803",
   "metadata": {},
   "outputs": [],
   "source": [
    "xx = rs.Rpos_train_csr - rs.Rneg_train_csr\n",
    "roc_auc_score(xx, r_ui)"
   ]
  },
  {
   "cell_type": "code",
   "execution_count": null,
   "id": "8d5bfc21-070b-4e95-8f12-40f284c4d0e8",
   "metadata": {},
   "outputs": [],
   "source": [
    " rs.Rpos_train_csr ,rs.Rneg_train_csr"
   ]
  },
  {
   "cell_type": "code",
   "execution_count": null,
   "id": "0a5216f8-8dbf-4faa-b551-214e0242ba5e",
   "metadata": {},
   "outputs": [],
   "source": [
    "from sklearn.metrics import roc_auc_score\n",
    "true_labels = rs.Rpos_csr"
   ]
  },
  {
   "cell_type": "code",
   "execution_count": null,
   "id": "319a7dcb-65d1-4a4f-9615-c34a70f453fc",
   "metadata": {},
   "outputs": [],
   "source": [
    "np.sum(rs.Fi_csr.getnnz(axis=1) == 0)"
   ]
  },
  {
   "cell_type": "code",
   "execution_count": null,
   "id": "1708414b-da7c-4c5a-b80e-9f33ba253ed1",
   "metadata": {},
   "outputs": [],
   "source": [
    "ui.Fi.tocsr()[8015]"
   ]
  },
  {
   "cell_type": "code",
   "execution_count": null,
   "id": "9ba05733-d923-49ec-901d-c1b19bab6921",
   "metadata": {},
   "outputs": [],
   "source": [
    "pos = rs.Rpos_train_csr.tolil()\n",
    "neg = rs.Rneg_train_csr.tolil()\n",
    "pos.rows[3], neg.rows[3]"
   ]
  },
  {
   "cell_type": "code",
   "execution_count": null,
   "id": "138079f9-b08b-4dfb-a6c8-2182da2f150a",
   "metadata": {},
   "outputs": [],
   "source": [
    "rs.fit(n_iter=10, batch_size=10000, eval_every=1, eval_user_size=200000, early_stopping_patience=200)"
   ]
  },
  {
   "cell_type": "code",
   "execution_count": null,
   "id": "8e4d2d63-e839-445f-9113-2d3bffd62736",
   "metadata": {},
   "outputs": [],
   "source": [
    "rs.metrics"
   ]
  },
  {
   "cell_type": "code",
   "execution_count": null,
   "id": "2ed948ef-cc3e-465b-9b1d-64a14865311e",
   "metadata": {},
   "outputs": [],
   "source": [
    "row_nnz = rs.Fi_csr.getnnz(axis=1)\n",
    "np.sum(row_nnz==0)"
   ]
  },
  {
   "cell_type": "code",
   "execution_count": null,
   "id": "d4add8bc-6178-423e-9aa1-23c4672897f5",
   "metadata": {},
   "outputs": [],
   "source": [
    "from sklearn.metrics import roc_auc_score\n",
    "roc_auc_score().item()"
   ]
  },
  {
   "cell_type": "code",
   "execution_count": null,
   "id": "3c8a038f-0a8d-4ffc-b652-c1eedd93c9f5",
   "metadata": {},
   "outputs": [],
   "source": [
    "y_true=np.array([1,1,1,1,1,-1,-1,-1,-1,-1])\n",
    "y_score=np.array([5,40,3,0,10,0,-1,-20,-30,-40])\n",
    "batch_roc = roc_auc_score(y_true, y_score).item()\n",
    "user_roc = []\n",
    "n=len(y_true)//2\n",
    "for ix in range(n):\n",
    "    user_roc.append(roc_auc_score(y_true[[ix,ix+n]], y_score[[ix,ix+n]]).item())\n",
    "np.average(user_roc).item(), batch_roc"
   ]
  },
  {
   "cell_type": "code",
   "execution_count": null,
   "id": "2cc80948-a1e5-4d6b-8898-7c79045e676d",
   "metadata": {},
   "outputs": [],
   "source": [
    "user_roc"
   ]
  },
  {
   "cell_type": "code",
   "execution_count": null,
   "id": "978a80f2-47a8-414e-ac0d-c69f72063a59",
   "metadata": {},
   "outputs": [],
   "source": [
    "RecSys.plot_metrics('/kfs2/projects/zazzle/pybpr/notebooks/output/ml-run/metrics.json')"
   ]
  },
  {
   "cell_type": "code",
   "execution_count": null,
   "id": "8d4c7f43-4b8b-476d-a139-d471aeb22526",
   "metadata": {},
   "outputs": [],
   "source": [
    "rs.fit(n_iter=10, batch_size=10000, eval_every=2)"
   ]
  },
  {
   "cell_type": "code",
   "execution_count": null,
   "id": "0af4f1d6-5eb5-496a-9e8b-e8ac9a3a4b12",
   "metadata": {},
   "outputs": [],
   "source": [
    "pos = np.array(ui.Rpos.getnnz(axis=1))\n",
    "neg = np.array(ui.Rneg.getnnz(axis=1))\n",
    "ratio = np.divide(neg, pos)\n",
    "ratio = ratio[~np.isnan(ratio)]\n",
    "ratio = ratio[~np.isinf(ratio)]\n"
   ]
  },
  {
   "cell_type": "code",
   "execution_count": null,
   "id": "a66ddda0-98e3-4701-93b2-a65e4e23f16f",
   "metadata": {},
   "outputs": [],
   "source": [
    "#plt.hist(pos, bins=50)\n",
    "plt.hist(ratio, bins=50, range=(0,4))"
   ]
  },
  {
   "cell_type": "code",
   "execution_count": null,
   "id": "12907e43-4b0b-457c-89ca-78d84b3881db",
   "metadata": {},
   "outputs": [],
   "source": [
    "Rneg_csr = ui.Rneg.tocsr()\n",
    "random_col_for_row(Rneg_csr, [13,13,13])"
   ]
  },
  {
   "cell_type": "code",
   "execution_count": null,
   "id": "709c9224-219d-41a0-a5e7-7902ee0bd3a9",
   "metadata": {},
   "outputs": [],
   "source": [
    "row_index = 1000\n",
    "csr_matrix=ui.Rpos.tocsr()\n",
    "row_start = csr_matrix.indptr[row_index]\n",
    "row_end = csr_matrix.indptr[row_index + 1]\n",
    "\n",
    "# Get the column indices of nonzero elements in this row\n",
    "nonzero_col_indices = csr_matrix.indices[row_start:row_end]\n",
    "nonzero_col_indices"
   ]
  },
  {
   "cell_type": "code",
   "execution_count": null,
   "id": "5524e147-cad3-40ed-93fa-27a4a8ab5499",
   "metadata": {},
   "outputs": [],
   "source": [
    "random_col_for_row(ui.Rneg.tocsr(), [row_index for _ in range(20)])"
   ]
  },
  {
   "cell_type": "code",
   "execution_count": null,
   "id": "259dd0e0-b876-4f2a-9509-85365fe1b9f7",
   "metadata": {},
   "outputs": [],
   "source": [
    "np.concatenate((user_neg_items, np.random.choice([1,2,3,4],3)))\n"
   ]
  },
  {
   "cell_type": "code",
   "execution_count": null,
   "id": "2685c78f-8caa-4f24-8a00-10fe958625ca",
   "metadata": {},
   "outputs": [],
   "source": [
    "adam = partial(\n",
    "    torch.optim.Adam,\n",
    "    lr=0.02,\n",
    "    weight_decay=0.0\n",
    ")\n",
    "rs = RecSys(\n",
    "    data = ui,\n",
    "    model= HybridMF(ui.n_user_features, ui.n_item_features, n_latent=64),\n",
    "    optimizer=partial(torch.optim.Adam, lr=0.02, weight_decay=0.0),\n",
    "    output_dir='/kfs2/projects/zazzle/pybpr/notebooks/output/ml-run',\n",
    "    log_level=1\n",
    ")\n",
    "rs"
   ]
  },
  {
   "cell_type": "code",
   "execution_count": null,
   "id": "30a40788-4fe6-4f6e-8398-e99a3f00546b",
   "metadata": {},
   "outputs": [],
   "source": [
    "rs.model"
   ]
  },
  {
   "cell_type": "code",
   "execution_count": null,
   "id": "7c3675db-8302-4fd0-835c-38f6ae76549d",
   "metadata": {},
   "outputs": [],
   "source": [
    "rs.fit(n_iter=20, eval_every=20, eval_sample_size=5000)"
   ]
  },
  {
   "cell_type": "code",
   "execution_count": null,
   "id": "304b87be-602c-4275-acea-53ba783cae39",
   "metadata": {},
   "outputs": [],
   "source": [
    "rs.model"
   ]
  },
  {
   "cell_type": "code",
   "execution_count": null,
   "id": "38b94336-4511-4c6b-b173-b74fe400b3e3",
   "metadata": {},
   "outputs": [],
   "source": [
    "xx=[1,2,4,5,6,7,8]\n",
    "xx = np.random.choice(xx)\n",
    "xx"
   ]
  },
  {
   "cell_type": "code",
   "execution_count": null,
   "id": "3b76e931-84fc-4d0c-8440-a4903b0e40a2",
   "metadata": {},
   "outputs": [],
   "source": [
    "import json\n",
    "output_dir='/kfs2/projects/zazzle/pybpr/examples/output/movielens'\n",
    "lr = 0.1\n",
    "filepath = os.path.join(output_dir, 'metadata_nl32_lr1_ns', 'metrics.json')\n",
    "fig, axs, metrics = RecSys.plot_metrics(filepath, figsize=(10,4))\n",
    "axs['auc'].set_ylim([0.6,0.8])\n",
    "\n",
    "filepath = os.path.join(output_dir, 'metadata_nl64_lr1_ns', 'metrics.json')\n",
    "fig, axs, metrics = RecSys.plot_metrics(filepath, figsize=(10,4))\n",
    "axs['auc'].set_ylim([0.6,0.8])\n",
    "\n",
    "filepath = os.path.join(output_dir, 'metadata_nl128_lr1_ns', 'metrics.json')\n",
    "fig, axs, metrics = RecSys.plot_metrics(filepath, figsize=(10,4))\n",
    "axs['auc'].set_ylim([0.6,0.8])"
   ]
  },
  {
   "cell_type": "code",
   "execution_count": null,
   "id": "93576388-ca11-4a08-88ca-323b7e717f2d",
   "metadata": {},
   "outputs": [],
   "source": [
    "import json\n",
    "output_dir='/kfs2/projects/zazzle/pybpr/examples/output/movielens'\n",
    "lr = 0.1\n",
    "filepath = os.path.join(output_dir, 'indicator_nl64_lr1_ns', 'metrics.json')\n",
    "fig, axs, metrics = RecSys.plot_metrics(filepath, figsize=(10,4))\n",
    "#axs['auc'].set_ylim([0.6,0.8])\n",
    "\n",
    "filepath = os.path.join(output_dir, 'metadata_nl64_lr1_ns', 'metrics.json')\n",
    "fig, axs, metrics = RecSys.plot_metrics(filepath, figsize=(10,4))\n",
    "#axs['auc'].set_ylim([0.6,0.8])\n",
    "\n",
    "filepath = os.path.join(output_dir, 'both_nl64_lr1_ns', 'metrics.json')\n",
    "fig, axs, metrics = RecSys.plot_metrics(filepath, figsize=(10,4))\n",
    "#axs['auc'].set_ylim([0.6,0.8])"
   ]
  },
  {
   "cell_type": "code",
   "execution_count": null,
   "id": "f56e7fd7-a508-444a-92ac-41a925e8cd89",
   "metadata": {},
   "outputs": [],
   "source": [
    "import json\n",
    "output_dir='/kfs2/projects/zazzle/pybpr/examples/output/movielens'\n",
    "lr = 0.1\n",
    "filepath = os.path.join(output_dir, 'indicator_nl64_lr1', 'metrics.json')\n",
    "fig, axs, metrics = RecSys.plot_metrics(filepath, figsize=(10,4))\n",
    "#axs['auc'].set_ylim([0.6,0.8])\n",
    "\n",
    "filepath = os.path.join(output_dir, 'metadata_nl64_lr1', 'metrics.json')\n",
    "fig, axs, metrics = RecSys.plot_metrics(filepath, figsize=(10,4))\n",
    "#axs['auc'].set_ylim([0.6,0.8])\n",
    "\n",
    "filepath = os.path.join(output_dir, 'both_nl64_lr1', 'metrics.json')\n",
    "fig, axs, metrics = RecSys.plot_metrics(filepath, figsize=(10,4))\n",
    "#axs['auc'].set_ylim([0.6,0.8])"
   ]
  },
  {
   "cell_type": "code",
   "execution_count": null,
   "id": "268d3c0b-0f26-4886-9d72-b8d7e67192ea",
   "metadata": {},
   "outputs": [],
   "source": []
  },
  {
   "cell_type": "code",
   "execution_count": null,
   "id": "bf80ba6e-3cf9-4a92-98c0-bd8dddda1f43",
   "metadata": {},
   "outputs": [],
   "source": [
    "output_dir='/kfs2/projects/zazzle/pybpr/examples/output/movielens_check'\n",
    "filepath = os.path.join(output_dir, 'indicator_nl64_lr1', 'metrics.json')\n",
    "fig, axs, metrics = RecSys.plot_metrics(filepath, figsize=(10,4))\n",
    "\n",
    "filepath = os.path.join(output_dir, 'metadata_nl64_lr1', 'metrics.json')\n",
    "fig, axs, metrics = RecSys.plot_metrics(filepath, figsize=(10,4))\n",
    "\n",
    "filepath = os.path.join(output_dir, 'both_nl64_lr1', 'metrics.json')\n",
    "fig, axs, metrics = RecSys.plot_metrics(filepath, figsize=(10,4))"
   ]
  },
  {
   "cell_type": "code",
   "execution_count": null,
   "id": "19d639b9-6050-43d5-ba6d-f03549721b75",
   "metadata": {},
   "outputs": [],
   "source": [
    "axs['auc']"
   ]
  },
  {
   "cell_type": "code",
   "execution_count": null,
   "id": "456eb759-953f-44fd-8690-52f76cefe3c1",
   "metadata": {},
   "outputs": [],
   "source": []
  },
  {
   "cell_type": "code",
   "execution_count": null,
   "id": "ee7c97e0-aa19-4550-bbac-7fcb6a1d1e77",
   "metadata": {},
   "outputs": [],
   "source": []
  },
  {
   "cell_type": "code",
   "execution_count": null,
   "id": "82f1e9cf-49c3-4f10-bb34-19d275d5236f",
   "metadata": {},
   "outputs": [],
   "source": []
  },
  {
   "cell_type": "code",
   "execution_count": null,
   "id": "6c2a0c30-d208-4e37-b5aa-1b02aad6b1b1",
   "metadata": {},
   "outputs": [],
   "source": [
    "import json\n",
    "output_dir='/kfs2/projects/zazzle/pybpr/examples/output/movielens'\n",
    "filepath = os.path.join(output_dir, 'indicator_nl64_lr5', 'metrics.json')\n",
    "fig, axs, metrics = RecSys.plot_metrics(filepath, figsize=(10,4))\n",
    "\n",
    "filepath = os.path.join(output_dir, 'metadata_nl64_lr5', 'metrics.json')\n",
    "fig, axs, metrics = RecSys.plot_metrics(filepath, figsize=(10,4))\n",
    "\n",
    "filepath = os.path.join(output_dir, 'both_nl64_lr5', 'metrics.json')\n",
    "fig, axs, metrics = RecSys.plot_metrics(filepath, figsize=(10,4))\n"
   ]
  },
  {
   "cell_type": "code",
   "execution_count": null,
   "id": "d12dc8ba-c464-4b53-b1b1-e0ec6b15a81b",
   "metadata": {},
   "outputs": [],
   "source": [
    "metrics"
   ]
  },
  {
   "cell_type": "code",
   "execution_count": null,
   "id": "e8cc7015-8b0c-41fe-901e-966fb6f82a5b",
   "metadata": {},
   "outputs": [],
   "source": [
    "metrics[metrics.test_auc_mean.notna()]"
   ]
  },
  {
   "cell_type": "code",
   "execution_count": null,
   "id": "f84afc2e-df72-4e6c-aeb0-bcf1153b7602",
   "metadata": {},
   "outputs": [],
   "source": [
    "fig"
   ]
  },
  {
   "cell_type": "code",
   "execution_count": null,
   "id": "b136ef1f-6cf9-4d4c-b559-bfd87ae4d752",
   "metadata": {},
   "outputs": [],
   "source": [
    "get_matrix_stats(ui.Rneg), get_matrix_stats(ui.Rneg_train), get_matrix_stats(ui.Rneg_test)"
   ]
  },
  {
   "cell_type": "code",
   "execution_count": null,
   "id": "5188bfed-616a-46ef-a74a-7ba47ac9ec4c",
   "metadata": {},
   "outputs": [],
   "source": []
  },
  {
   "cell_type": "code",
   "execution_count": null,
   "id": "b5456d79-1742-498f-9226-6009fb9b8d02",
   "metadata": {},
   "outputs": [],
   "source": []
  },
  {
   "cell_type": "code",
   "execution_count": null,
   "id": "cba8e0d0-881c-494b-82a1-3594f999d4dc",
   "metadata": {},
   "outputs": [],
   "source": []
  },
  {
   "cell_type": "code",
   "execution_count": null,
   "id": "87e8991e-2f53-4d0a-820d-8984e9c7393c",
   "metadata": {},
   "outputs": [],
   "source": [
    "random_col_for_row(matrix=ui.Rpos, row_idx=[0,0,0,0])\n",
    "random_col_for_row(matrix=ui.Rneg, row_idx=[0,0,0,0])"
   ]
  },
  {
   "cell_type": "code",
   "execution_count": null,
   "id": "326f244f-f8f6-495d-b343-6c276d79b15a",
   "metadata": {},
   "outputs": [],
   "source": [
    "min(12,13,14)"
   ]
  },
  {
   "cell_type": "code",
   "execution_count": null,
   "id": "634c4de6-7e3a-45fd-b0be-af7b3a63e0f8",
   "metadata": {},
   "outputs": [],
   "source": [
    "get_matrix_stats(ui.Rpos), get_matrix_stats(ui.Rpos_train)"
   ]
  },
  {
   "cell_type": "code",
   "execution_count": null,
   "id": "a8d5bd96-16bd-46fd-a0d9-efdff742e62c",
   "metadata": {},
   "outputs": [],
   "source": [
    "csr_pos = ui.Rneg.tocsr()\n",
    "user_row_counts = np.diff(csr_pos.indptr)\n",
    "active_users = np.where(user_row_counts > 0)[0]\n",
    "inactive_users = np.where(user_row_counts == 0)[0]\n",
    "active_user_set = set(active_users)"
   ]
  },
  {
   "cell_type": "code",
   "execution_count": null,
   "id": "13efb615-95aa-4475-9559-37330b5ad276",
   "metadata": {},
   "outputs": [],
   "source": [
    "ui.Rneg, ui.Rpos, ui.Fi, ui.Fu, ui.Rpos_train"
   ]
  },
  {
   "cell_type": "code",
   "execution_count": null,
   "id": "6831e848-d2cc-4e91-b443-74c44178efd0",
   "metadata": {},
   "outputs": [],
   "source": [
    "len(ui._user_id_to_idx),rdf.UserID[rdf.Rating>=4.].nunique(),rdf.UserID[rdf.Rating<4.].nunique(), rdf.UserID.nunique()\n",
    "#len(ui._item_id_to_idx),rdf.MovieID[rdf.Rating>=4.].nunique(), rdf.MovieID[rdf.Rating<4.].nunique(), rdf.MovieID.nunique()"
   ]
  },
  {
   "cell_type": "code",
   "execution_count": null,
   "id": "fc64f102-cebc-487d-a148-e01d11cb3216",
   "metadata": {},
   "outputs": [],
   "source": [
    "len(ui._user_id_to_idx),rdf.UserID[rdf.Rating<4.].nunique()\n",
    "len(ui._item_id_to_idx),"
   ]
  },
  {
   "cell_type": "code",
   "execution_count": null,
   "id": "d6094f25-9207-4494-bdbf-44eff94407b3",
   "metadata": {},
   "outputs": [],
   "source": [
    "len(active_user_set), len(inactive_users)\n",
    "find_empty_rows_cols(ui.Rneg)"
   ]
  },
  {
   "cell_type": "code",
   "execution_count": null,
   "id": "d1c87d71-075e-47ee-a2b0-9f74bcb3c290",
   "metadata": {},
   "outputs": [],
   "source": [
    "adam = partial(\n",
    "    torch.optim.Adam,\n",
    "    lr=0.1,\n",
    "    weight_decay=0.0\n",
    ")\n",
    "rs = RecSys(\n",
    "    ui_data = ui,\n",
    "    n_latent=64,\n",
    "    optimizer=adam,\n",
    "    verbose=False\n",
    ")\n",
    "rs"
   ]
  },
  {
   "cell_type": "code",
   "execution_count": null,
   "id": "95c74827-71de-4a30-aa6d-a42f38216a93",
   "metadata": {},
   "outputs": [],
   "source": [
    "rs.fit(n_iter=100, batch_size=100000)"
   ]
  },
  {
   "cell_type": "code",
   "execution_count": null,
   "id": "4c26ee39-94ac-4258-ae18-562af6432c74",
   "metadata": {},
   "outputs": [],
   "source": [
    "rs._log"
   ]
  },
  {
   "cell_type": "code",
   "execution_count": null,
   "id": "8512f6de-aeeb-4974-9af3-bd05bae0565b",
   "metadata": {},
   "outputs": [],
   "source": [
    "ui.validate_data()"
   ]
  },
  {
   "cell_type": "code",
   "execution_count": null,
   "id": "46a3c956-6034-4107-9557-5704c602fc06",
   "metadata": {},
   "outputs": [],
   "source": [
    "ui.Rneg, ui.Rpos, ui.Fu, ui.Fi"
   ]
  },
  {
   "cell_type": "code",
   "execution_count": null,
   "id": "0f0dbac6-b253-4656-ae52-f7f2b12c10ff",
   "metadata": {},
   "outputs": [],
   "source": [
    "find_empty_rows_cols(ui.Rpos)"
   ]
  },
  {
   "cell_type": "code",
   "execution_count": null,
   "id": "5896b17c-154f-4710-a598-2dbf6bba4d8e",
   "metadata": {},
   "outputs": [],
   "source": [
    "import numpy as np\n",
    "from scipy import sparse\n",
    "\n",
    "def find_empty_rows_cols(coo_matrix):\n",
    "    \"\"\"\n",
    "    Find rows and columns that have no non-zero elements in a scipy sparse COO matrix.\n",
    "    \n",
    "    Parameters:\n",
    "    -----------\n",
    "    coo_matrix : scipy.sparse.coo_matrix\n",
    "        The sparse matrix in COO format\n",
    "    \n",
    "    Returns:\n",
    "    --------\n",
    "    empty_rows : numpy.ndarray\n",
    "        Indices of rows with no non-zero elements\n",
    "    empty_cols : numpy.ndarray\n",
    "        Indices of columns with no non-zero elements\n",
    "    \"\"\"\n",
    "    # Get matrix dimensions\n",
    "    n_rows, n_cols = coo_matrix.shape\n",
    "    \n",
    "    # Find rows that have at least one non-zero element\n",
    "    rows_with_data = np.unique(coo_matrix.row)\n",
    "    \n",
    "    # Find columns that have at least one non-zero element\n",
    "    cols_with_data = np.unique(coo_matrix.col)\n",
    "    \n",
    "    # Create arrays with all possible row and column indices\n",
    "    all_rows = np.arange(n_rows)\n",
    "    all_cols = np.arange(n_cols)\n",
    "    \n",
    "    # Find rows and columns without data using set difference\n",
    "    empty_rows = np.setdiff1d(all_rows, rows_with_data)\n",
    "    empty_cols = np.setdiff1d(all_cols, cols_with_data)\n",
    "    \n",
    "    return empty_rows, empty_cols"
   ]
  },
  {
   "cell_type": "code",
   "execution_count": null,
   "id": "42d1723e-181a-463b-9849-8c17a8852ba4",
   "metadata": {},
   "outputs": [],
   "source": [
    "_ = ui.train_test_split()"
   ]
  },
  {
   "cell_type": "code",
   "execution_count": null,
   "id": "3693bb76-01d6-4969-b2c3-e462d7c99de4",
   "metadata": {},
   "outputs": [],
   "source": [
    "ui = UserItemData(name='User-Metadata-only')\n",
    "ui.add_positive_interactions(\n",
    "    user_indices=rdf.UserID_ids[rdf.Rating>=4.], \n",
    "    item_indices=rdf.MovieID_ids[rdf.Rating>=4.]\n",
    ")\n",
    "ui.add_negative_interactions(\n",
    "    user_indices=rdf.UserID_ids[rdf.Rating<4.], \n",
    "    item_indices=rdf.MovieID_ids[rdf.Rating<4.]\n",
    ")\n",
    "ui.add_user_features(\n",
    "    user_indices=list(range(ui.n_users)), \n",
    "    feature_indices=list(range(ui.n_users))\n",
    ")\n",
    "ui.add_item_features(\n",
    "    item_indices=tdf.MovieID_ids, \n",
    "    feature_indices=tdf.TagID_ids,\n",
    "    #feature_weights=tdf.Relevance\n",
    ")\n",
    "ui.train_test_split(0.2)\n",
    "ui"
   ]
  },
  {
   "cell_type": "code",
   "execution_count": null,
   "id": "7d1a65a1-59c7-4e8c-9c16-0ddb9605f133",
   "metadata": {},
   "outputs": [],
   "source": [
    "csr = ui.Rpos_coo.tocsr()\n",
    "np.unique(csr.nonzero()[0])"
   ]
  },
  {
   "cell_type": "code",
   "execution_count": null,
   "id": "ab2f7c07-b7b6-4262-bc15-0e806f8664c5",
   "metadata": {},
   "outputs": [],
   "source": []
  },
  {
   "cell_type": "code",
   "execution_count": null,
   "id": "c293f4b3-060b-40ad-9888-3712c5771296",
   "metadata": {},
   "outputs": [],
   "source": [
    "n_items = rdf.MovieID.nunique()\n",
    "n_users = rdf.UserID.nunique()\n",
    "n_item_mfeatures = tdf.TagID.nunique()"
   ]
  },
  {
   "cell_type": "code",
   "execution_count": null,
   "id": "6ffe1cad-edf1-4430-bff3-e02ee82fa36a",
   "metadata": {},
   "outputs": [],
   "source": [
    "n_items = rdf.MovieID.nunique()\n",
    "n_users = rdf.UserID.nunique()\n",
    "n_item_mfeatures = tdf.TagID.nunique()\n",
    "ui_metadata = UserItemData(\n",
    "    name='User-Metadata-only',\n",
    "    n_users=n_users, \n",
    "    n_items = n_items,\n",
    "    n_user_features=n_users,\n",
    "    n_item_features=n_item_mfeatures\n",
    "    \n",
    ")\n",
    "ui_metadata.add_interactions(\n",
    "    user_indices=rdf.UserID_ids[rdf.Rating>=4.], \n",
    "    item_indices=rdf.MovieID_ids[rdf.Rating>=4.],\n",
    "    positive=True\n",
    ")\n",
    "ui_metadata.add_interactions(\n",
    "    user_indices=rdf.UserID_ids[rdf.Rating<4.], \n",
    "    item_indices=rdf.MovieID_ids[rdf.Rating<4.],\n",
    "    positive=False\n",
    ")\n",
    "ui_metadata.add_user_features(\n",
    "    user_indices=list(range(n_users)), \n",
    "    feature_indices=list(range(n_users))\n",
    ")\n",
    "ui_metadata.add_item_features(\n",
    "    item_indices=tdf.MovieID_ids, \n",
    "    feature_indices=tdf.TagID_ids,\n",
    "    #feature_weights=tdf.Relevance\n",
    ")\n",
    "ui_metadata.train_test_split(0.2)\n",
    "ui_metadata"
   ]
  },
  {
   "cell_type": "code",
   "execution_count": null,
   "id": "0c555fe0-f29d-4057-8cc7-2d939dba6580",
   "metadata": {},
   "outputs": [],
   "source": [
    "adam = partial(\n",
    "    torch.optim.Adam,\n",
    "    lr=0.1,\n",
    "    weight_decay=0.0\n",
    ")\n",
    "rs = RecSys(\n",
    "    ui_data = ui_metadata,\n",
    "    n_latent=64,\n",
    "    optimizer=adam,\n",
    "    verbose=False\n",
    ")\n",
    "rs\n",
    "#rs.fit(n_iter=50, batch_size=100000, verbose=False)"
   ]
  },
  {
   "cell_type": "code",
   "execution_count": null,
   "id": "082a3c0a-bfc7-4f29-b99c-864a46cecf8e",
   "metadata": {},
   "outputs": [],
   "source": [
    "rs.fit(n_iter=100, batch_size=100000)"
   ]
  },
  {
   "cell_type": "code",
   "execution_count": null,
   "id": "4cb4952a-70da-4e1b-8b1c-ccd11b198b8c",
   "metadata": {},
   "outputs": [],
   "source": [
    "# rs.fit(n_iter=5, batch_size=100000)"
   ]
  },
  {
   "cell_type": "code",
   "execution_count": null,
   "id": "f1ba5550-757f-4c3b-b732-2fa69edf1723",
   "metadata": {},
   "outputs": [],
   "source": [
    "rs.predict(user_ids=[0,1,2],item_ids=[123, 11]).detach()"
   ]
  },
  {
   "cell_type": "code",
   "execution_count": null,
   "id": "c0654da7-2e83-47ca-916b-3bb40961f5e7",
   "metadata": {},
   "outputs": [],
   "source": [
    "auc_mean = np.array([iy for ix,iy,iz in rs.auc_tracker])\n",
    "auc_std = np.array([iz for ix,iy,iz in rs.auc_tracker])\n",
    "epochs = list(range(len(rs.loss_tracker)))\n",
    "\n",
    "fig, ax = plt.subplots(1,2,figsize=(12,4))\n",
    "ax[0].plot(epochs, rs.loss_tracker, '-r', label='BPR_LOSS')\n",
    "ax[1].plot(epochs, auc_mean, '-b', label='Auc Score')\n",
    "ax[1].fill_between(epochs, auc_mean-1*auc_std, auc_mean+1*auc_std, color='b', alpha=0.2)\n",
    "#ax[1].set_ylim([0,1])\n",
    "for iax in ax:\n",
    "    iax.legend()"
   ]
  },
  {
   "cell_type": "code",
   "execution_count": null,
   "id": "6c776174-be80-421f-a4b2-dd28d12e50ad",
   "metadata": {},
   "outputs": [],
   "source": [
    "valid_users = np.unique(rs.Rpos_train_coo.row)\n",
    "for uid in valid_users:\n",
    "    rs.compute_roc_auc_score(uid)"
   ]
  },
  {
   "cell_type": "code",
   "execution_count": null,
   "id": "0637deb0-2184-4b6c-bbf5-f646de3d2b02",
   "metadata": {},
   "outputs": [],
   "source": [
    "valid_users = np.unique(rs.Rpos_train_coo.row)\n",
    "valid_items_pos = np.unique(rs.Rpos_train_coo.col)\n",
    "valid_items_neg = np.unique(rs.Rpos_train_coo.col)"
   ]
  },
  {
   "cell_type": "code",
   "execution_count": null,
   "id": "bbaf6554-6600-474c-af97-7af1ac34c078",
   "metadata": {},
   "outputs": [],
   "source": [
    "rs.Rpos_train_coo, rs.Rpos_train_lil, rs.Rpos_train_coo.tolil()"
   ]
  },
  {
   "cell_type": "code",
   "execution_count": null,
   "id": "c356fcd3-b767-42c5-80c7-7751707a67df",
   "metadata": {},
   "outputs": [],
   "source": [
    "rs.data.Rpos_coo, rs.Rpos_train_coo, rs.Rpos_test_coo"
   ]
  },
  {
   "cell_type": "code",
   "execution_count": null,
   "id": "986e64fe-4c02-4bb5-835d-4623d536d07e",
   "metadata": {},
   "outputs": [],
   "source": [
    "rs.Rpos_train_lil.rows[uid]"
   ]
  },
  {
   "cell_type": "code",
   "execution_count": null,
   "id": "fba03bcb-e90f-4270-8f78-cc0a49ad7646",
   "metadata": {},
   "outputs": [],
   "source": [
    "# ROC_AUC metric\n",
    "list_of_auc = []\n",
    "for uid in np.random.choice(valid_users, 100):\n",
    "    item_ids_pos = rs.Rpos_train_lil.rows[uid]\n",
    "    item_ids_neg = rs.Rneg_lil.rows[uid]\n",
    "    if (len(item_ids_pos) > 5) & (len(item_ids_neg) > 5):\n",
    "        item_ids = np.concatenate((item_ids_pos, item_ids_neg))\n",
    "        ytrue_binary = np.zeros(len(item_ids), dtype=int)\n",
    "        ytrue_binary[:len(item_ids_pos)] = 1\n",
    "        ypred = rs.predict(\n",
    "            user_ids=[uid],\n",
    "            item_ids=item_ids\n",
    "        )\n",
    "        inds_sorted = np.argsort(ypred.squeeze().tolist())[::-1][:len(item_ids_pos)]\n",
    "        ypred_binary = np.zeros(len(item_ids), dtype=int)\n",
    "        ypred_binary[inds_sorted] = 1\n",
    "        #ypred = torch.heaviside(ypred, torch.tensor([0.])).squeeze().tolist()\n",
    "        #print(uid, len(ypred), len(ytrue),  len(item_ids))\n",
    "        auc_score = sklearn.metrics.roc_auc_score(ytrue_binary, ypred_binary)\n",
    "        #print(ytrue, ypred, auc_score)\n",
    "    list_of_auc.append(auc_score)"
   ]
  },
  {
   "cell_type": "code",
   "execution_count": null,
   "id": "bd7e9dbb-a712-45ad-bdfe-c0193862918d",
   "metadata": {},
   "outputs": [],
   "source": [
    "list_of_auc"
   ]
  },
  {
   "cell_type": "code",
   "execution_count": null,
   "id": "e0d32a52-65ab-47c5-9511-d77ad7040050",
   "metadata": {},
   "outputs": [],
   "source": [
    "for ix,iy in zip(ytrue_binary, ypred_binary):\n",
    "    print(ix, iy)"
   ]
  },
  {
   "cell_type": "code",
   "execution_count": null,
   "id": "edf6ff28-71c0-4cdc-975c-c5f725de2f50",
   "metadata": {},
   "outputs": [],
   "source": [
    "vals, inds = torch.sort(ypred, descending=True)\n",
    "[ix for ix in inds[:len(item_ids_pos)]], len(item_ids_pos)"
   ]
  },
  {
   "cell_type": "code",
   "execution_count": null,
   "id": "65deb5cb-1167-40d1-a169-30f3f4a9ea7f",
   "metadata": {},
   "outputs": [],
   "source": [
    "ypred = [0 for _ in range(len(item_ids))]\n",
    "ypred[inds[:len(item_ids_pos)]] = "
   ]
  },
  {
   "cell_type": "code",
   "execution_count": null,
   "id": "8b095ebb-d50e-4929-94a4-0e346e501373",
   "metadata": {},
   "outputs": [],
   "source": [
    "xx = np.zeros(10)\n",
    "xx[[2,3]] = 1.\n",
    "xx"
   ]
  },
  {
   "cell_type": "code",
   "execution_count": null,
   "id": "8027990f-5c5e-4368-90a1-a9365ab1a65f",
   "metadata": {},
   "outputs": [],
   "source": [
    "uid = 964\n",
    "item_ids_pos = rs.Rpos_train_lil.rows[uid]\n",
    "item_ids_neg = rs.Rneg_lil.rows[uid]\n",
    "print(len(item_ids_pos), len(item_ids_neg))\n",
    "item_ids = item_ids_pos + item_ids_neg\n",
    "ytrue = rs.Rpos_train_lil.data[uid]\n",
    "#ytrue += [0 for ix in rs.Rneg_lil.data[uid]]\n",
    "print(len(item_ids), len(ytrue))"
   ]
  },
  {
   "cell_type": "code",
   "execution_count": null,
   "id": "4f3fe2cf-b62a-40f4-85bd-2a00632f8222",
   "metadata": {},
   "outputs": [],
   "source": [
    "for ix, iy in zip(ytrue, ypred):\n",
    "    print(ix, iy)"
   ]
  },
  {
   "cell_type": "code",
   "execution_count": null,
   "id": "8edbfe6d-2b17-4084-b912-610bbd2619f1",
   "metadata": {},
   "outputs": [],
   "source": []
  },
  {
   "cell_type": "code",
   "execution_count": null,
   "id": "22014fff-8a78-4288-a622-b871ec967cb3",
   "metadata": {},
   "outputs": [],
   "source": [
    "list_of_auc"
   ]
  },
  {
   "cell_type": "code",
   "execution_count": null,
   "id": "b98c8404-15a1-49f4-afe9-3494d47b18d2",
   "metadata": {},
   "outputs": [],
   "source": [
    "for ix,iy, iz in zip(iids, pdata, xx):\n",
    "    print(ix, iy, iz)"
   ]
  },
  {
   "cell_type": "code",
   "execution_count": null,
   "id": "24c1d24f-3a79-408e-b417-800f4209b5e8",
   "metadata": {},
   "outputs": [],
   "source": [
    "users = np.unique(rs.Rpos_test_coo.row)\n",
    "len(users)\n",
    "xx = rs.predict(users)\n",
    "print(xx.shape)\n",
    "xx = torch.tanh(xx)\n",
    "#xx -= torch.min(xx)\n",
    "#xx /= torch.max(xx)\n",
    "#xx = torch.nn.functional.softmax(xx, dim=0)\n",
    "\n",
    "print(xx.shape)"
   ]
  },
  {
   "cell_type": "code",
   "execution_count": null,
   "id": "854b7903-31a8-4688-8dee-4bd6c6448906",
   "metadata": {},
   "outputs": [],
   "source": []
  },
  {
   "cell_type": "code",
   "execution_count": null,
   "id": "ed7b547e-a017-41dc-a964-0730781bc95f",
   "metadata": {},
   "outputs": [],
   "source": []
  },
  {
   "cell_type": "code",
   "execution_count": null,
   "id": "1e2a51ce-9b22-4e61-96e4-f78d487e57b2",
   "metadata": {},
   "outputs": [],
   "source": [
    "yy = rs.Rpos_test_csr[users].tocoo()\n",
    "values = yy.data\n",
    "indices = np.vstack((yy.row, yy.col))\n",
    "\n",
    "i = torch.LongTensor(indices)\n",
    "v = torch.FloatTensor(values)\n",
    "shape = yy.shape\n",
    "\n",
    "yyy = torch.sparse.FloatTensor(i, v, torch.Size(shape))\n"
   ]
  },
  {
   "cell_type": "code",
   "execution_count": null,
   "id": "a632136d-8357-439f-bf03-a8d419987c67",
   "metadata": {},
   "outputs": [],
   "source": [
    "# numpy_array = xx.detach().numpy()\n",
    "hist, bin_edges = torch.histogram(xx, bins=10)\n",
    "# Plot the histogram\n",
    "plt.plot(bin_edges.detach().numpy()[:-1], hist.detach().numpy())\n",
    "plt.xlabel('Value')\n",
    "plt.ylabel('Frequency')\n",
    "plt.title('Histogram of PyTorch Tensor')\n",
    "plt.show()"
   ]
  },
  {
   "cell_type": "code",
   "execution_count": null,
   "id": "1fef9f7d-876e-46a2-ba7e-1101bac91429",
   "metadata": {},
   "outputs": [],
   "source": [
    "y_pred = torch.flatten(xx.detach())\n",
    "y_true = torch.flatten(yyy.to_dense())\n",
    "y_pred, y_true"
   ]
  },
  {
   "cell_type": "code",
   "execution_count": null,
   "id": "d4585ee3-c25d-483e-bdd7-85b24e896137",
   "metadata": {},
   "outputs": [],
   "source": [
    "import torch\n",
    "import sklearn\n",
    "from torcheval.metrics import BinaryAUROC, AUC\n",
    "\n",
    "\n",
    "\n",
    "# # Sample data\n",
    "y_true = torch.tensor([1, 0, 1, 0, 1, 0])\n",
    "y_pred = torch.tensor([0, -1, 0, -0.4, 0.4, 0.4])\n",
    "y_pred = torch.tensor([1, 0, 1, 0, 1, 0])\n",
    "#y_pred = torch.tensor([1, 0, 1, 1, 0, 1])\n",
    "\n",
    "# # Create the metric object\n",
    "# auroc = AUC()\n",
    "\n",
    "# # Update the metric with your data\n",
    "# auroc.update(y_pred, y_true.to_dense())\n",
    "\n",
    "# # Compute the AUC-ROC score\n",
    "# #score = auroc.compute()\n",
    "\n",
    "sklearn.metrics.roc_auc_score(y_true, y_pred)"
   ]
  },
  {
   "cell_type": "code",
   "execution_count": null,
   "id": "8d454d28-f8b6-4c09-bf44-ec26e2c64b62",
   "metadata": {},
   "outputs": [],
   "source": [
    "xx[0].shape, yyy[0].shape"
   ]
  },
  {
   "cell_type": "code",
   "execution_count": null,
   "id": "8f51f442-6dc7-4448-8086-57bf22809307",
   "metadata": {},
   "outputs": [],
   "source": [
    "rs.model.user_latent"
   ]
  },
  {
   "cell_type": "code",
   "execution_count": null,
   "id": "7057895d-9297-42ae-9f21-46cc3d2e4b42",
   "metadata": {},
   "outputs": [],
   "source": []
  },
  {
   "cell_type": "code",
   "execution_count": null,
   "id": "957dd8a9-17f1-48e5-8ab4-aaab7298647a",
   "metadata": {},
   "outputs": [],
   "source": [
    "ui_indicator = UserItemData(\n",
    "    n_users=n_users, \n",
    "    n_items = n_items,\n",
    "    n_user_features=n_users,\n",
    "    n_item_features=n_items\n",
    "    \n",
    ")\n",
    "ui_indicator.add_interactions(\n",
    "    user_indices=rdf.UserID_ids, \n",
    "    item_indices=rdf.MovieID_ids,\n",
    "    weights=rdf.Weights\n",
    ")\n",
    "ui_indicator.add_user_features(\n",
    "    user_indices=list(range(n_users)), \n",
    "    feature_indices=list(range(n_users))\n",
    ")\n",
    "ui_indicator.add_item_features(\n",
    "    item_indices=list(range(n_items)), \n",
    "    feature_indices=list(range(n_items)),\n",
    ")\n",
    "ui_indicator"
   ]
  },
  {
   "cell_type": "code",
   "execution_count": null,
   "id": "19da1643-1ae7-438a-b5c9-94f6b5fdbe54",
   "metadata": {},
   "outputs": [],
   "source": [
    "ui_both = UserItemData(\n",
    "    n_users=n_users, \n",
    "    n_items = n_items,\n",
    "    n_user_features=n_users,\n",
    "    n_item_features=n_items + n_item_mfeatures\n",
    "    \n",
    ")\n",
    "ui_both.add_interactions(\n",
    "    user_indices=rdf.UserID_ids, \n",
    "    item_indices=rdf.MovieID_ids,\n",
    "    weights=rdf.Weights\n",
    ")\n",
    "ui_both.add_user_features(\n",
    "    user_indices=list(range(n_users)), \n",
    "    feature_indices=list(range(n_users))\n",
    ")\n",
    "ui_both.add_item_features(\n",
    "    item_indices=list(range(n_items)) + list(tdf.MovieID_ids), \n",
    "    feature_indices=list(range(n_items)) + [ix+n_items for ix in tdf.TagID_ids],\n",
    ")\n",
    "ui_both"
   ]
  },
  {
   "cell_type": "code",
   "execution_count": null,
   "id": "22790d89-3933-4ab0-b0c5-f536f756d4f6",
   "metadata": {},
   "outputs": [],
   "source": [
    "list(range(5))"
   ]
  },
  {
   "cell_type": "code",
   "execution_count": null,
   "id": "18a46bd9-a474-49da-a65a-452d08c809dc",
   "metadata": {},
   "outputs": [],
   "source": [
    "adam = partial(\n",
    "    torch.optim.Adam,\n",
    "    lr=0.13,\n",
    "    weight_decay=0.001\n",
    ")\n",
    "sgd = partial(\n",
    "    torch.optim.SGD,\n",
    "    lr=0.13,\n",
    "    weight_decay=0.001\n",
    ")"
   ]
  },
  {
   "cell_type": "code",
   "execution_count": null,
   "id": "a0b5a34c-cfe3-457e-8532-0f708bb53f66",
   "metadata": {},
   "outputs": [],
   "source": [
    "rs_metadata = RecSys(\n",
    "    ui_data = ui_metadata,\n",
    "    n_latent=64,\n",
    "    optimizer=adam\n",
    ")\n",
    "rs_metadata.fit(n_iter=50, batch_size=100000, verbose=False)"
   ]
  },
  {
   "cell_type": "code",
   "execution_count": null,
   "id": "dbc12370-6b74-4f77-9d24-b9e6da55847d",
   "metadata": {},
   "outputs": [],
   "source": [
    "rs_indicator = RecSys(\n",
    "    ui_data = ui_indicator,\n",
    "    n_latent=64,\n",
    "    optimizer=adam\n",
    ")\n",
    "rs_indicator.fit(n_iter=50, batch_size=100000, verbose=False)"
   ]
  },
  {
   "cell_type": "code",
   "execution_count": null,
   "id": "bb248ec3-5ad4-420e-b377-4f8b094d083f",
   "metadata": {},
   "outputs": [],
   "source": [
    "rs_both = RecSys(\n",
    "    ui_data = ui_both,\n",
    "    n_latent=64,\n",
    "    optimizer=adam\n",
    ")\n",
    "rs_both.fit(n_iter=50, batch_size=100000, verbose=False)"
   ]
  },
  {
   "cell_type": "code",
   "execution_count": null,
   "id": "92eb4de9-d44f-4ff6-b606-583d2a0dc657",
   "metadata": {},
   "outputs": [],
   "source": [
    "rs_both_sgd = RecSys(\n",
    "    ui_data = ui_both,\n",
    "    n_latent=64,\n",
    "    optimizer=sgd\n",
    ")\n",
    "rs_both_sgd.fit(n_iter=50, batch_size=100000, verbose=False)"
   ]
  },
  {
   "cell_type": "code",
   "execution_count": null,
   "id": "2bab33fe-be1d-4334-8fbf-3f74c6cb1f8f",
   "metadata": {},
   "outputs": [],
   "source": [
    "fig, ax = plt.subplots(figsize=(6,4))\n",
    "ax.plot(rs_indicator.loss_tracker, '-r', label='item-indicator-features-only')\n",
    "ax.plot(rs_metadata.loss_tracker, '-b', label='item-metadata-features-only')\n",
    "ax.plot(rs_both.loss_tracker, '-g', label='item-metadata+indicator-features')\n",
    "ax.legend()"
   ]
  },
  {
   "cell_type": "code",
   "execution_count": null,
   "id": "13814976-3d29-45b9-b26a-af9925c13b17",
   "metadata": {},
   "outputs": [],
   "source": [
    "fig, ax = plt.subplots(figsize=(6,4))\n",
    "ax.plot(rs_indicator.loss_tracker, '-r', label='item-indicator-features-only')\n",
    "ax.plot(rs_metadata.loss_tracker, '-b', label='item-metadata-features-only')\n",
    "ax.plot(rs_both.loss_tracker, '-g', label='item-metadata+indicator-features')\n",
    "ax.legend()"
   ]
  },
  {
   "cell_type": "code",
   "execution_count": null,
   "id": "721703dd-64c0-4f00-bfce-c2fe8190424e",
   "metadata": {},
   "outputs": [],
   "source": [
    "rs.Rneg_coo.shape"
   ]
  },
  {
   "cell_type": "code",
   "execution_count": null,
   "id": "633b3249-84b2-47f5-a9c0-bb05eedc75a9",
   "metadata": {},
   "outputs": [],
   "source": [
    "# look at validation loss as well if you see these oscillations\n"
   ]
  }
 ],
 "metadata": {
  "kernelspec": {
   "display_name": "bpr_env",
   "language": "python",
   "name": "bpr_env"
  },
  "language_info": {
   "codemirror_mode": {
    "name": "ipython",
    "version": 3
   },
   "file_extension": ".py",
   "mimetype": "text/x-python",
   "name": "python",
   "nbconvert_exporter": "python",
   "pygments_lexer": "ipython3",
   "version": "3.13.1"
  }
 },
 "nbformat": 4,
 "nbformat_minor": 5
}
