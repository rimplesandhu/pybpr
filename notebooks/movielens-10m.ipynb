{
 "cells": [
  {
   "cell_type": "code",
   "execution_count": 1,
   "id": "6985b0da",
   "metadata": {},
   "outputs": [],
   "source": [
    "#%load_ext watermark\n",
    "%load_ext autoreload \n",
    "%autoreload 2"
   ]
  },
  {
   "cell_type": "code",
   "execution_count": 2,
   "id": "6f571098",
   "metadata": {},
   "outputs": [],
   "source": [
    "import os\n",
    "import sys\n",
    "import numpy as np\n",
    "import pandas as pd\n",
    "import json\n",
    "from functools import partial\n",
    "import matplotlib.pyplot as plt\n",
    "from pybpr import *"
   ]
  },
  {
   "cell_type": "code",
   "execution_count": 3,
   "id": "4aba674c-ab08-4dcd-aa17-e779ed1beb1f",
   "metadata": {},
   "outputs": [],
   "source": [
    "from pybpr import *\n",
    "data_dir = '/home/rsandhu/zazzle/raw_data'"
   ]
  },
  {
   "cell_type": "code",
   "execution_count": 4,
   "id": "bc18883b-810f-44d5-81c2-53be3b726278",
   "metadata": {},
   "outputs": [
    {
     "data": {
      "text/html": [
       "<div>\n",
       "<style scoped>\n",
       "    .dataframe tbody tr th:only-of-type {\n",
       "        vertical-align: middle;\n",
       "    }\n",
       "\n",
       "    .dataframe tbody tr th {\n",
       "        vertical-align: top;\n",
       "    }\n",
       "\n",
       "    .dataframe thead th {\n",
       "        text-align: right;\n",
       "    }\n",
       "</style>\n",
       "<table border=\"1\" class=\"dataframe\">\n",
       "  <thead>\n",
       "    <tr style=\"text-align: right;\">\n",
       "      <th></th>\n",
       "      <th>TagID</th>\n",
       "      <th>Tag</th>\n",
       "      <th>TagPopularity</th>\n",
       "    </tr>\n",
       "  </thead>\n",
       "  <tbody>\n",
       "    <tr>\n",
       "      <th>0</th>\n",
       "      <td>0</td>\n",
       "      <td>007</td>\n",
       "      <td>61</td>\n",
       "    </tr>\n",
       "    <tr>\n",
       "      <th>1</th>\n",
       "      <td>1</td>\n",
       "      <td>007 (series)</td>\n",
       "      <td>24</td>\n",
       "    </tr>\n",
       "    <tr>\n",
       "      <th>2</th>\n",
       "      <td>2</td>\n",
       "      <td>18th century</td>\n",
       "      <td>37</td>\n",
       "    </tr>\n",
       "    <tr>\n",
       "      <th>3</th>\n",
       "      <td>3</td>\n",
       "      <td>1920s</td>\n",
       "      <td>42</td>\n",
       "    </tr>\n",
       "    <tr>\n",
       "      <th>4</th>\n",
       "      <td>4</td>\n",
       "      <td>1930s</td>\n",
       "      <td>55</td>\n",
       "    </tr>\n",
       "    <tr>\n",
       "      <th>...</th>\n",
       "      <td>...</td>\n",
       "      <td>...</td>\n",
       "      <td>...</td>\n",
       "    </tr>\n",
       "    <tr>\n",
       "      <th>95</th>\n",
       "      <td>95</td>\n",
       "      <td>bad</td>\n",
       "      <td>21</td>\n",
       "    </tr>\n",
       "    <tr>\n",
       "      <th>96</th>\n",
       "      <td>96</td>\n",
       "      <td>bad acting</td>\n",
       "      <td>182</td>\n",
       "    </tr>\n",
       "    <tr>\n",
       "      <th>97</th>\n",
       "      <td>97</td>\n",
       "      <td>bad cgi</td>\n",
       "      <td>34</td>\n",
       "    </tr>\n",
       "    <tr>\n",
       "      <th>98</th>\n",
       "      <td>98</td>\n",
       "      <td>bad ending</td>\n",
       "      <td>104</td>\n",
       "    </tr>\n",
       "    <tr>\n",
       "      <th>99</th>\n",
       "      <td>99</td>\n",
       "      <td>bad plot</td>\n",
       "      <td>95</td>\n",
       "    </tr>\n",
       "  </tbody>\n",
       "</table>\n",
       "<p>100 rows × 3 columns</p>\n",
       "</div>"
      ],
      "text/plain": [
       "    TagID           Tag  TagPopularity\n",
       "0       0           007             61\n",
       "1       1  007 (series)             24\n",
       "2       2  18th century             37\n",
       "3       3         1920s             42\n",
       "4       4         1930s             55\n",
       "..    ...           ...            ...\n",
       "95     95           bad             21\n",
       "96     96    bad acting            182\n",
       "97     97       bad cgi             34\n",
       "98     98    bad ending            104\n",
       "99     99      bad plot             95\n",
       "\n",
       "[100 rows x 3 columns]"
      ]
     },
     "execution_count": 4,
     "metadata": {},
     "output_type": "execute_result"
    }
   ],
   "source": [
    "# tdf = pd.read_csv(os.path.join(data_dir, 'ml-10M100K', 'tags.dat'), sep='::', engine='python', header=None)\n",
    "# tdf.columns = ['UserID','MovieID','Tag','Timestamp']\n",
    "# tdf.head()\n",
    "tdf_tag = pd.read_csv(os.path.join(data_dir, 'tag-genome','tags.dat'), sep='\\t', header=None)\n",
    "tdf_tag.columns = ['TagID','Tag','TagPopularity']\n",
    "tdf_tag.head(100)\n",
    "# tdf_movie = pd.read_csv(os.path.join(data_dir, 'tag-genome','movies.dat'), sep='\\t', header=None)\n",
    "# tdf_movie.columns = ['MovieID','Title','MoviePopularity']\n",
    "# tdf_movie.head()"
   ]
  },
  {
   "cell_type": "code",
   "execution_count": 5,
   "id": "442b46d2-c555-462a-a8bd-cf0c0c30d485",
   "metadata": {},
   "outputs": [
    {
     "data": {
      "text/html": [
       "<div>\n",
       "<style scoped>\n",
       "    .dataframe tbody tr th:only-of-type {\n",
       "        vertical-align: middle;\n",
       "    }\n",
       "\n",
       "    .dataframe tbody tr th {\n",
       "        vertical-align: top;\n",
       "    }\n",
       "\n",
       "    .dataframe thead th {\n",
       "        text-align: right;\n",
       "    }\n",
       "</style>\n",
       "<table border=\"1\" class=\"dataframe\">\n",
       "  <thead>\n",
       "    <tr style=\"text-align: right;\">\n",
       "      <th></th>\n",
       "      <th>MovieID</th>\n",
       "      <th>Title</th>\n",
       "      <th>Genres</th>\n",
       "    </tr>\n",
       "  </thead>\n",
       "  <tbody>\n",
       "    <tr>\n",
       "      <th>0</th>\n",
       "      <td>1</td>\n",
       "      <td>Toy Story (1995)</td>\n",
       "      <td>Adventure|Animation|Children|Comedy|Fantasy</td>\n",
       "    </tr>\n",
       "    <tr>\n",
       "      <th>1</th>\n",
       "      <td>2</td>\n",
       "      <td>Jumanji (1995)</td>\n",
       "      <td>Adventure|Children|Fantasy</td>\n",
       "    </tr>\n",
       "    <tr>\n",
       "      <th>2</th>\n",
       "      <td>3</td>\n",
       "      <td>Grumpier Old Men (1995)</td>\n",
       "      <td>Comedy|Romance</td>\n",
       "    </tr>\n",
       "    <tr>\n",
       "      <th>3</th>\n",
       "      <td>4</td>\n",
       "      <td>Waiting to Exhale (1995)</td>\n",
       "      <td>Comedy|Drama|Romance</td>\n",
       "    </tr>\n",
       "    <tr>\n",
       "      <th>4</th>\n",
       "      <td>5</td>\n",
       "      <td>Father of the Bride Part II (1995)</td>\n",
       "      <td>Comedy</td>\n",
       "    </tr>\n",
       "  </tbody>\n",
       "</table>\n",
       "</div>"
      ],
      "text/plain": [
       "   MovieID                               Title  \\\n",
       "0        1                    Toy Story (1995)   \n",
       "1        2                      Jumanji (1995)   \n",
       "2        3             Grumpier Old Men (1995)   \n",
       "3        4            Waiting to Exhale (1995)   \n",
       "4        5  Father of the Bride Part II (1995)   \n",
       "\n",
       "                                        Genres  \n",
       "0  Adventure|Animation|Children|Comedy|Fantasy  \n",
       "1                   Adventure|Children|Fantasy  \n",
       "2                               Comedy|Romance  \n",
       "3                         Comedy|Drama|Romance  \n",
       "4                                       Comedy  "
      ]
     },
     "execution_count": 5,
     "metadata": {},
     "output_type": "execute_result"
    }
   ],
   "source": [
    "data_dir = '/home/rsandhu/zazzle/raw_data'\n",
    "mdf = pd.read_csv(os.path.join(data_dir, 'ml-10M100K','movies.dat'), sep='::', engine='python', header=None)\n",
    "mdf.columns = ['MovieID', 'Title','Genres']\n",
    "#mdf.set_index('MovieID', inplace=True)\n",
    "mdf.head()"
   ]
  },
  {
   "cell_type": "code",
   "execution_count": 6,
   "id": "7c59bebd-fdec-4dfa-8cb9-bfbce1b5b154",
   "metadata": {},
   "outputs": [
    {
     "data": {
      "text/html": [
       "<div>\n",
       "<style scoped>\n",
       "    .dataframe tbody tr th:only-of-type {\n",
       "        vertical-align: middle;\n",
       "    }\n",
       "\n",
       "    .dataframe tbody tr th {\n",
       "        vertical-align: top;\n",
       "    }\n",
       "\n",
       "    .dataframe thead th {\n",
       "        text-align: right;\n",
       "    }\n",
       "</style>\n",
       "<table border=\"1\" class=\"dataframe\">\n",
       "  <thead>\n",
       "    <tr style=\"text-align: right;\">\n",
       "      <th></th>\n",
       "      <th>MovieID</th>\n",
       "      <th>TagID</th>\n",
       "      <th>Relevance</th>\n",
       "    </tr>\n",
       "  </thead>\n",
       "  <tbody>\n",
       "    <tr>\n",
       "      <th>28</th>\n",
       "      <td>1</td>\n",
       "      <td>28</td>\n",
       "      <td>0.894</td>\n",
       "    </tr>\n",
       "    <tr>\n",
       "      <th>62</th>\n",
       "      <td>1</td>\n",
       "      <td>62</td>\n",
       "      <td>0.979</td>\n",
       "    </tr>\n",
       "    <tr>\n",
       "      <th>63</th>\n",
       "      <td>1</td>\n",
       "      <td>63</td>\n",
       "      <td>0.987</td>\n",
       "    </tr>\n",
       "    <tr>\n",
       "      <th>185</th>\n",
       "      <td>1</td>\n",
       "      <td>185</td>\n",
       "      <td>0.947</td>\n",
       "    </tr>\n",
       "    <tr>\n",
       "      <th>202</th>\n",
       "      <td>1</td>\n",
       "      <td>202</td>\n",
       "      <td>0.898</td>\n",
       "    </tr>\n",
       "  </tbody>\n",
       "</table>\n",
       "</div>"
      ],
      "text/plain": [
       "     MovieID  TagID  Relevance\n",
       "28         1     28      0.894\n",
       "62         1     62      0.979\n",
       "63         1     63      0.987\n",
       "185        1    185      0.947\n",
       "202        1    202      0.898"
      ]
     },
     "execution_count": 6,
     "metadata": {},
     "output_type": "execute_result"
    }
   ],
   "source": [
    "tdf = pd.read_csv(os.path.join(data_dir, 'tag-genome','tag_relevance.dat'), sep='\\t', header=None)\n",
    "tdf.columns = ['MovieID','TagID','Relevance']\n",
    "tdf.drop(index=tdf.index[tdf.Relevance < 0.8], inplace=True)\n",
    "tdf.head()"
   ]
  },
  {
   "cell_type": "code",
   "execution_count": 7,
   "id": "dc5274a3-f499-445e-aa58-af37ae315012",
   "metadata": {},
   "outputs": [
    {
     "data": {
      "text/html": [
       "<div>\n",
       "<style scoped>\n",
       "    .dataframe tbody tr th:only-of-type {\n",
       "        vertical-align: middle;\n",
       "    }\n",
       "\n",
       "    .dataframe tbody tr th {\n",
       "        vertical-align: top;\n",
       "    }\n",
       "\n",
       "    .dataframe thead th {\n",
       "        text-align: right;\n",
       "    }\n",
       "</style>\n",
       "<table border=\"1\" class=\"dataframe\">\n",
       "  <thead>\n",
       "    <tr style=\"text-align: right;\">\n",
       "      <th></th>\n",
       "      <th>UserID</th>\n",
       "      <th>MovieID</th>\n",
       "      <th>Rating</th>\n",
       "      <th>Timestamp</th>\n",
       "    </tr>\n",
       "  </thead>\n",
       "  <tbody>\n",
       "    <tr>\n",
       "      <th>0</th>\n",
       "      <td>1</td>\n",
       "      <td>122</td>\n",
       "      <td>5.0</td>\n",
       "      <td>838985046</td>\n",
       "    </tr>\n",
       "    <tr>\n",
       "      <th>1</th>\n",
       "      <td>1</td>\n",
       "      <td>185</td>\n",
       "      <td>5.0</td>\n",
       "      <td>838983525</td>\n",
       "    </tr>\n",
       "    <tr>\n",
       "      <th>2</th>\n",
       "      <td>1</td>\n",
       "      <td>231</td>\n",
       "      <td>5.0</td>\n",
       "      <td>838983392</td>\n",
       "    </tr>\n",
       "    <tr>\n",
       "      <th>3</th>\n",
       "      <td>1</td>\n",
       "      <td>292</td>\n",
       "      <td>5.0</td>\n",
       "      <td>838983421</td>\n",
       "    </tr>\n",
       "    <tr>\n",
       "      <th>4</th>\n",
       "      <td>1</td>\n",
       "      <td>316</td>\n",
       "      <td>5.0</td>\n",
       "      <td>838983392</td>\n",
       "    </tr>\n",
       "  </tbody>\n",
       "</table>\n",
       "</div>"
      ],
      "text/plain": [
       "   UserID  MovieID  Rating  Timestamp\n",
       "0       1      122     5.0  838985046\n",
       "1       1      185     5.0  838983525\n",
       "2       1      231     5.0  838983392\n",
       "3       1      292     5.0  838983421\n",
       "4       1      316     5.0  838983392"
      ]
     },
     "execution_count": 7,
     "metadata": {},
     "output_type": "execute_result"
    }
   ],
   "source": [
    "rdf = pd.read_csv(os.path.join(data_dir, 'ml-10M100K', 'ratings.dat'), sep='::', engine='python', header=None)\n",
    "rdf.columns= ['UserID','MovieID','Rating','Timestamp']\n",
    "rdf.head()"
   ]
  },
  {
   "cell_type": "code",
   "execution_count": 8,
   "id": "7eea5a54-8f8b-4bb1-a7ce-526f2bb0566a",
   "metadata": {},
   "outputs": [],
   "source": [
    "# rdf = rdf[rdf.MovieID.isin(tdf.MovieID.unique())]\n",
    "# tdf = tdf[tdf.MovieID.isin(rdf.MovieID.unique())]\n",
    "# rdf.MovieID.nunique(), tdf.MovieID.nunique(), tdf.TagID.nunique()"
   ]
  },
  {
   "cell_type": "code",
   "execution_count": 9,
   "id": "83a9d0fa-1465-4d06-8ddf-ffc1fd0bbab9",
   "metadata": {},
   "outputs": [
    {
     "data": {
      "text/plain": [
       "UserItemData(User-Metadata-only)\n",
       "  Fuser     :( 69878× 69878) nnz=    69,878 (0.001%), empty rows/cols=     0/     0\n",
       "  Fitem     :(  9542×  1096) nnz=   101,624 (0.972%), empty rows/cols=     0/     0\n",
       "  Rpos      :( 69878×  9542) nnz= 4,986,252 (0.748%), empty rows/cols=    81/  1326\n",
       "  Rneg      :( 69878×  9542) nnz= 4,940,884 (0.741%), empty rows/cols=    88/  1303"
      ]
     },
     "execution_count": 9,
     "metadata": {},
     "output_type": "execute_result"
    }
   ],
   "source": [
    "ui = UserItemData(name='User-Metadata-only')\n",
    "rdf = rdf[rdf.MovieID.isin(tdf.MovieID.unique())]\n",
    "ui.add_positive_interactions(\n",
    "     user_ids=rdf.UserID[rdf.Rating>=4.], \n",
    "     item_ids=rdf.MovieID[rdf.Rating>=4.]\n",
    ")\n",
    "ui.add_negative_interactions(\n",
    "    user_ids=rdf.UserID[rdf.Rating<4.], \n",
    "    item_ids=rdf.MovieID[rdf.Rating<4.]\n",
    ")\n",
    "ui.add_user_features(\n",
    "    user_ids=rdf.UserID.unique(), \n",
    "    feature_ids=rdf.UserID.unique()\n",
    ")\n",
    "ui.add_item_features(\n",
    "     item_ids=tdf.MovieID, \n",
    "     feature_ids=tdf.TagID\n",
    ")\n",
    "ui"
   ]
  },
  {
   "cell_type": "code",
   "execution_count": null,
   "id": "9eac9b28-478c-4353-bf44-99649a92dc3b",
   "metadata": {},
   "outputs": [
    {
     "name": "stderr",
     "output_type": "stream",
     "text": [
      "Train/Test Split (Rows): 100%|██████████| 105/105 [00:10<00:00,  9.85it/s]\n",
      "Train/Test Split (Cols):   9%|▉         | 120/1344 [00:12<02:07,  9.64it/s]"
     ]
    }
   ],
   "source": [
    "ui.train_test_split(train_ratio_pos=0.8, train_ratio_neg=0.8, show_progress=True)"
   ]
  },
  {
   "cell_type": "code",
   "execution_count": null,
   "id": "b578cd88-35b2-4736-8f5f-2e011bc5bbd3",
   "metadata": {},
   "outputs": [],
   "source": [
    "adam = partial(\n",
    "    torch.optim.Adam,\n",
    "    lr=0.02,\n",
    "    weight_decay=0.0\n",
    ")\n",
    "rs = RecSys(\n",
    "    data = ui,\n",
    "    model= HybridMF(ui.n_user_features, ui.n_item_features, n_latent=64),\n",
    "    optimizer=partial(torch.optim.Adam, lr=0.05, weight_decay=0.0),\n",
    "    output_dir='/kfs2/projects/zazzle/pybpr/notebooks/output/ml-run',\n",
    "    loss_function=bpr_loss,\n",
    "    log_level=2\n",
    ")\n",
    "rs"
   ]
  },
  {
   "cell_type": "code",
   "execution_count": null,
   "id": "dc99b785-ed8e-490b-9a7e-538728ada3f9",
   "metadata": {},
   "outputs": [],
   "source": [
    "rs.fit(n_iter=10, eval_every=1, batch_size=10000, eval_user_size=10000)"
   ]
  },
  {
   "cell_type": "code",
   "execution_count": null,
   "id": "1436bad0-6f92-4d24-97b3-e6cd2618df80",
   "metadata": {},
   "outputs": [],
   "source": [
    "rs.metrics"
   ]
  }
 ],
 "metadata": {
  "kernelspec": {
   "display_name": "bpr_env",
   "language": "python",
   "name": "bpr_env"
  },
  "language_info": {
   "codemirror_mode": {
    "name": "ipython",
    "version": 3
   },
   "file_extension": ".py",
   "mimetype": "text/x-python",
   "name": "python",
   "nbconvert_exporter": "python",
   "pygments_lexer": "ipython3",
   "version": "3.13.1"
  }
 },
 "nbformat": 4,
 "nbformat_minor": 5
}
