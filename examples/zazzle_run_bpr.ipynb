{
 "cells": [
  {
   "cell_type": "markdown",
   "id": "dde5390d",
   "metadata": {},
   "source": [
    "## Application of BPR on Zazzle Data"
   ]
  },
  {
   "cell_type": "code",
   "execution_count": 1,
   "id": "4f4ca103",
   "metadata": {},
   "outputs": [],
   "source": [
    "%load_ext autoreload\n",
    "%autoreload 2"
   ]
  },
  {
   "cell_type": "code",
   "execution_count": 2,
   "id": "4af7d296",
   "metadata": {},
   "outputs": [],
   "source": [
    "import os\n",
    "import sys\n",
    "import itertools\n",
    "import numpy as np\n",
    "import pandas as pd\n",
    "from subprocess import call\n",
    "from pybpr import *\n",
    "import scipy.sparse as sp\n",
    "from functools import reduce\n",
    "import matplotlib.pyplot as plt\n",
    "from functools import partial"
   ]
  },
  {
   "cell_type": "markdown",
   "id": "db159369-ebb0-45ce-9d86-d72abe05153f",
   "metadata": {},
   "source": [
    "## Put Zazzle data in UserItemInteration Class object"
   ]
  },
  {
   "cell_type": "code",
   "execution_count": 3,
   "id": "17296352-cd76-464b-9ce7-dc0cff34d9cd",
   "metadata": {},
   "outputs": [],
   "source": [
    "DATA_DIR = '/projects/zazzle/rsandhu/pybpr/examples/output/zazzle_data'\n",
    "df_v = pd.read_parquet(os.path.join(DATA_DIR, 'view_data.parquet'))\n",
    "df_c = pd.read_parquet(os.path.join(DATA_DIR, 'click_data.parquet'))\n",
    "df_o = pd.read_parquet(os.path.join(DATA_DIR, 'order_data.parquet'))\n",
    "df_v_not_c = pd.read_parquet(os.path.join(\n",
    "    DATA_DIR, 'viewed_not_clicked_data.parquet'))\n",
    "df_c_not_o = pd.read_parquet(os.path.join(\n",
    "    DATA_DIR, 'clicked_not_ordered_data.parquet'))"
   ]
  },
  {
   "cell_type": "code",
   "execution_count": 13,
   "id": "52261621-fc08-47ac-8fcd-d02a133ad222",
   "metadata": {},
   "outputs": [
    {
     "name": "stdout",
     "output_type": "stream",
     "text": [
      "\n",
      "----UserItemInteractions--Sample\n",
      "# of users (active/total): 16455/16462\n",
      "# of items (active/total): 779192/779192\n",
      "# of interactions: 28093326\n",
      "Sparsity in the UI mat: 0.00219\n",
      "Memory used by sparse UI mat: 26.79 MB\n",
      "Generating train-test split..Warning: Test matrix is set as empty/all-zeros\n",
      "\n",
      "----UserItemInteractions--Sample\n",
      "# of users (active/total): 16375/16462\n",
      "# of items (active/total): 313420/779192\n",
      "# of interactions: 833645\n",
      "Sparsity in the UI mat: 6.5e-05\n",
      "Memory used by sparse UI mat: 0.8 MB\n",
      "Generating train-test split..Warning: Test matrix is set as empty/all-zeros\n",
      "\n",
      "----UserItemInteractions--Sample\n",
      "# of users (active/total): 15446/16462\n",
      "# of items (active/total): 250741/779192\n",
      "# of interactions: 567047\n",
      "Sparsity in the UI mat: 4.4e-05\n",
      "Memory used by sparse UI mat: 0.54 MB\n",
      "Generating train-test split..Warning: Test matrix is set as empty/all-zeros\n",
      "\n",
      "----UserItemInteractions--Sample\n",
      "# of users (active/total): 16278/16462\n",
      "# of items (active/total): 139623/779192\n",
      "# of interactions: 266598\n",
      "Sparsity in the UI mat: 2.1e-05\n",
      "Memory used by sparse UI mat: 0.25 MB\n",
      "Generating train-test split..Warning: Test matrix is set as empty/all-zeros\n"
     ]
    }
   ],
   "source": [
    "# viewed not clicked\n",
    "test_ratio = 0.0\n",
    "data_viewed_not_clicked = UserItemInteractions(\n",
    "    users_index=df_v_not_c['user_idx'],\n",
    "    items_index=df_v_not_c['product_idx'],\n",
    "    num_users=num_users,\n",
    "    num_items=num_items\n",
    ")\n",
    "data_viewed_not_clicked.generate_train_test(user_test_ratio=test_ratio)\n",
    "\n",
    "# clicked\n",
    "data_clicked = UserItemInteractions(\n",
    "    users_index=df_c['user_idx'],\n",
    "    items_index=df_c['product_idx'],\n",
    "    num_users=num_users,\n",
    "    num_items=num_items\n",
    ")\n",
    "data_clicked.generate_train_test(user_test_ratio=test_ratio)\n",
    "\n",
    "# clicked not ordered\n",
    "data_clicked_not_ordered = UserItemInteractions(\n",
    "    users_index=df_c_not_o['user_idx'],\n",
    "    items_index=df_c_not_o['product_idx'],\n",
    "    num_users=num_users,\n",
    "    num_items=num_items\n",
    ")\n",
    "data_clicked_not_ordered.generate_train_test(user_test_ratio=test_ratio)\n",
    "\n",
    "# ordered\n",
    "data_ordered = UserItemInteractions(\n",
    "    users_index=df_o['user_idx'],\n",
    "    items_index=df_o['product_idx'],\n",
    "    num_users=num_users,\n",
    "    num_items=num_items\n",
    ")\n",
    "data_ordered.generate_train_test(user_test_ratio=test_ratio)"
   ]
  },
  {
   "cell_type": "markdown",
   "id": "a9d6885d-e0f6-4543-8271-821796e48b72",
   "metadata": {},
   "source": [
    "## BPR "
   ]
  },
  {
   "cell_type": "code",
   "execution_count": 18,
   "id": "783a4e91-67c5-4602-835f-6582375ef52b",
   "metadata": {},
   "outputs": [],
   "source": [
    "bpr1 = BPR(\n",
    "    num_features=200,\n",
    "    reg_lambda=0.0,\n",
    "    num_iters=500,\n",
    "    learning_rate = 0.1,\n",
    "    batch_size=15000,\n",
    "    initial_std=0.0001,\n",
    ")\n",
    "bpr1.initiate(num_users=view_data.num_users, num_items=view_data.num_items)"
   ]
  },
  {
   "cell_type": "code",
   "execution_count": 22,
   "id": "21267e5e-af25-422a-80d7-7f45632ea236",
   "metadata": {},
   "outputs": [
    {
     "name": "stdout",
     "output_type": "stream",
     "text": [
      "BPR-Fit: 100%|██████████| 7500000/7500000 [00:12<00:00, 624548.28it/s]\n",
      "BPR-Fit: 100%|██████████| 7500000/7500000 [00:11<00:00, 626326.06it/s]\n",
      "BPR-Fit: 100%|██████████| 7500000/7500000 [00:12<00:00, 620160.32it/s]\n",
      "BPR-Fit: 100%|██████████| 7500000/7500000 [00:11<00:00, 632093.99it/s]\n",
      "BPR-Fit: 100%|██████████| 7500000/7500000 [00:11<00:00, 630580.84it/s]\n",
      "BPR-Fit: 100%|██████████| 7500000/7500000 [00:11<00:00, 627442.22it/s]\n",
      "BPR-Fit: 100%|██████████| 7500000/7500000 [00:11<00:00, 627930.58it/s]\n",
      "BPR-Fit: 100%|██████████| 7500000/7500000 [00:11<00:00, 625361.69it/s]\n",
      "BPR-Fit: 100%|██████████| 7500000/7500000 [00:11<00:00, 629537.46it/s]\n",
      "BPR-Fit: 100%|██████████| 7500000/7500000 [00:12<00:00, 624987.23it/s]\n"
     ]
    }
   ],
   "source": [
    "pos_data = data_clicked\n",
    "neg_data = data_clicked_not_ordered\n",
    "metric_log_train = []\n",
    "neg_sampler = partial(\n",
    "    uniform_negative_sampler, \n",
    "    uimat=training_data\n",
    ")\n",
    "neg_sampler = partial(\n",
    "    explicit_negative_sampler,\n",
    "    pos_uimat=pos_data.mat,\n",
    "    neg_uimat=neg_data.mat\n",
    ")\n",
    "\n",
    "for _ in range(10):\n",
    "    results = bpr_fit(\n",
    "        bpr_obj=bpr1, \n",
    "        neg_sampler=neg_sampler, \n",
    "        ncores=104\n",
    "    )\n",
    "    mfunc = partial(\n",
    "        bpr1.get_metric_v1,\n",
    "        perc_active_users=0.5,\n",
    "        perc_active_items=0.5,\n",
    "        num_recs=60\n",
    "    )\n",
    "    metric_log_train.append(mfunc(uimat=pos_data.mat))\n",
    "metric_log_train = np.asarray(metric_log_train)"
   ]
  },
  {
   "cell_type": "code",
   "execution_count": 24,
   "id": "9c452ee3-7c48-438a-b502-446f63ff428e",
   "metadata": {},
   "outputs": [
    {
     "data": {
      "text/plain": [
       "array([[0.11666667, 0.21666667, 0.31666667],\n",
       "       [0.13333333, 0.225     , 0.325     ],\n",
       "       [0.14670014, 0.23333333, 0.33333333],\n",
       "       [0.15      , 0.23333333, 0.33333333],\n",
       "       [0.15      , 0.23529412, 0.33333333],\n",
       "       [0.15      , 0.23913043, 0.34482759],\n",
       "       [0.15      , 0.24074074, 0.34375   ],\n",
       "       [0.15686275, 0.24137931, 0.34693878],\n",
       "       [0.15909091, 0.24324324, 0.35      ],\n",
       "       [0.15686275, 0.24390244, 0.34514107]])"
      ]
     },
     "execution_count": 24,
     "metadata": {},
     "output_type": "execute_result"
    }
   ],
   "source": [
    "metric_log_train"
   ]
  },
  {
   "cell_type": "code",
   "execution_count": 41,
   "id": "3560a24e-2464-48e5-ba7b-0ff5e893ab5e",
   "metadata": {},
   "outputs": [
    {
     "name": "stdout",
     "output_type": "stream",
     "text": [
      "Saving the model in /projects/zazzle/rsandhu/pybpr/examples/output\n"
     ]
    }
   ],
   "source": [
    "OUT_DIR ='/projects/zazzle/rsandhu/pybpr/examples/output'\n",
    "bpr1.save_model(dir_name=OUT_DIR)"
   ]
  },
  {
   "cell_type": "code",
   "execution_count": 39,
   "id": "a0208e62-5203-49ed-a958-2f0fa9847e7e",
   "metadata": {},
   "outputs": [
    {
     "name": "stdout",
     "output_type": "stream",
     "text": [
      "Loading the model from /projects/zazzle/rsandhu/pybpr/examples/output\n",
      "NpzFile '/projects/zazzle/rsandhu/pybpr/examples/output/bpr_model.npz' with keys: umat, imat\n"
     ]
    }
   ],
   "source": [
    "bpr1.load_model(OUT_DIR)"
   ]
  },
  {
   "cell_type": "code",
   "execution_count": 43,
   "id": "1e9dd143-279b-46df-926a-d90df9bcc4e5",
   "metadata": {},
   "outputs": [
    {
     "name": "stdout",
     "output_type": "stream",
     "text": [
      "Loading the model from /projects/zazzle/rsandhu/pybpr/examples/output\n",
      "NpzFile '/projects/zazzle/rsandhu/pybpr/examples/output/bpr_model.npz' with keys: umat, imat (16462, 200)\n"
     ]
    }
   ],
   "source": [
    "bpr2 = BPR()\n",
    "bpr2.load_model(OUT_DIR)"
   ]
  },
  {
   "cell_type": "code",
   "execution_count": 47,
   "id": "7672f388-8965-457d-a256-feefc269a204",
   "metadata": {},
   "outputs": [
    {
     "data": {
      "text/plain": [
       "True"
      ]
     },
     "execution_count": 47,
     "metadata": {},
     "output_type": "execute_result"
    }
   ],
   "source": [
    "np.all(bpr2.umat == bpr1.umat)\n",
    "np.all(bpr2.imat == bpr1.imat)"
   ]
  },
  {
   "cell_type": "code",
   "execution_count": 48,
   "id": "8496e277-87c4-4887-b2fd-e8e1ca712dc3",
   "metadata": {},
   "outputs": [
    {
     "data": {
      "text/plain": [
       "BPR(num_features=200, num_iters=100, batch_size=32, initial_std=0.0001, reg_lambda=0.0, learning_rate=0.001, verbose=False)"
      ]
     },
     "execution_count": 48,
     "metadata": {},
     "output_type": "execute_result"
    }
   ],
   "source": [
    "bpr2"
   ]
  },
  {
   "cell_type": "code",
   "execution_count": 49,
   "id": "853a0029-d769-436f-852a-8839319f8ac4",
   "metadata": {},
   "outputs": [
    {
     "data": {
      "text/plain": [
       "BPR(mname='bpr_model', num_features=200, num_iters=500, batch_size=15000, initial_std=0.0001, reg_lambda=0.0, learning_rate=0.1, verbose=False)"
      ]
     },
     "execution_count": 49,
     "metadata": {},
     "output_type": "execute_result"
    }
   ],
   "source": [
    "bpr1"
   ]
  },
  {
   "cell_type": "code",
   "execution_count": null,
   "id": "277bb224-fc10-4ee9-97ad-8d02c6743999",
   "metadata": {},
   "outputs": [],
   "source": []
  }
 ],
 "metadata": {
  "kernelspec": {
   "display_name": "bpr_env",
   "language": "python",
   "name": "bpr_env"
  },
  "language_info": {
   "codemirror_mode": {
    "name": "ipython",
    "version": 3
   },
   "file_extension": ".py",
   "mimetype": "text/x-python",
   "name": "python",
   "nbconvert_exporter": "python",
   "pygments_lexer": "ipython3",
   "version": "3.12.1"
  }
 },
 "nbformat": 4,
 "nbformat_minor": 5
}
