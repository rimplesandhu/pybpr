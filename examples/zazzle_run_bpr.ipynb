{
 "cells": [
  {
   "cell_type": "markdown",
   "id": "dde5390d",
   "metadata": {},
   "source": [
    "## Application of BPR on Zazzle Data"
   ]
  },
  {
   "cell_type": "code",
   "execution_count": 3,
   "id": "4f4ca103",
   "metadata": {},
   "outputs": [
    {
     "name": "stdout",
     "output_type": "stream",
     "text": [
      "The autoreload extension is already loaded. To reload it, use:\n",
      "  %reload_ext autoreload\n"
     ]
    }
   ],
   "source": [
    "%load_ext autoreload\n",
    "%autoreload 2"
   ]
  },
  {
   "cell_type": "code",
   "execution_count": 4,
   "id": "4af7d296",
   "metadata": {},
   "outputs": [
    {
     "ename": "ModuleNotFoundError",
     "evalue": "No module named 'pybpr'",
     "output_type": "error",
     "traceback": [
      "\u001b[0;31m---------------------------------------------------------------------------\u001b[0m",
      "\u001b[0;31mModuleNotFoundError\u001b[0m                       Traceback (most recent call last)",
      "Cell \u001b[0;32mIn[4], line 7\u001b[0m\n\u001b[1;32m      5\u001b[0m \u001b[38;5;28;01mimport\u001b[39;00m \u001b[38;5;21;01mpandas\u001b[39;00m \u001b[38;5;28;01mas\u001b[39;00m \u001b[38;5;21;01mpd\u001b[39;00m\n\u001b[1;32m      6\u001b[0m \u001b[38;5;28;01mfrom\u001b[39;00m \u001b[38;5;21;01msubprocess\u001b[39;00m \u001b[38;5;28;01mimport\u001b[39;00m call\n\u001b[0;32m----> 7\u001b[0m \u001b[38;5;28;01mfrom\u001b[39;00m \u001b[38;5;21;01mpybpr\u001b[39;00m \u001b[38;5;28;01mimport\u001b[39;00m \u001b[38;5;241m*\u001b[39m\n\u001b[1;32m      8\u001b[0m \u001b[38;5;28;01mimport\u001b[39;00m \u001b[38;5;21;01mscipy\u001b[39;00m\u001b[38;5;21;01m.\u001b[39;00m\u001b[38;5;21;01msparse\u001b[39;00m \u001b[38;5;28;01mas\u001b[39;00m \u001b[38;5;21;01msp\u001b[39;00m\n\u001b[1;32m      9\u001b[0m \u001b[38;5;28;01mfrom\u001b[39;00m \u001b[38;5;21;01mfunctools\u001b[39;00m \u001b[38;5;28;01mimport\u001b[39;00m reduce\n",
      "\u001b[0;31mModuleNotFoundError\u001b[0m: No module named 'pybpr'"
     ]
    }
   ],
   "source": [
    "import os\n",
    "import sys\n",
    "import itertools\n",
    "import numpy as np\n",
    "import pandas as pd\n",
    "from subprocess import call\n",
    "from pybpr import *\n",
    "import scipy.sparse as sp\n",
    "from functools import reduce\n",
    "import matplotlib.pyplot as plt\n",
    "from functools import partial"
   ]
  },
  {
   "cell_type": "markdown",
   "id": "db159369-ebb0-45ce-9d86-d72abe05153f",
   "metadata": {},
   "source": [
    "## Put Zazzle data in UserItemInteration Class object"
   ]
  },
  {
   "cell_type": "code",
   "execution_count": null,
   "id": "17296352-cd76-464b-9ce7-dc0cff34d9cd",
   "metadata": {},
   "outputs": [],
   "source": [
    "DATA_DIR = '/projects/zazzle/rsandhu/pybpr/examples/output/zazzle_data'\n",
    "df_v = pd.read_parquet(os.path.join(DATA_DIR, 'view_data.parquet'))\n",
    "df_c = pd.read_parquet(os.path.join(DATA_DIR, 'click_data.parquet'))\n",
    "df_o = pd.read_parquet(os.path.join(DATA_DIR, 'order_data.parquet'))\n",
    "df_v_not_c = pd.read_parquet(os.path.join(\n",
    "    DATA_DIR, 'viewed_not_clicked_data.parquet'))\n",
    "df_c_not_o = pd.read_parquet(os.path.join(\n",
    "    DATA_DIR, 'clicked_not_ordered_data.parquet'))"
   ]
  },
  {
   "cell_type": "code",
   "execution_count": null,
   "id": "52261621-fc08-47ac-8fcd-d02a133ad222",
   "metadata": {},
   "outputs": [],
   "source": [
    "num_users = df_v.user_id.nunique()\n",
    "num_items = df_v.product_id.nunique()\n",
    "\n",
    "# viewed not clicked\n",
    "test_ratio = 0.0\n",
    "data_viewed_not_clicked = UserItemInteractions(\n",
    "    users_index=df_v_not_c['user_idx'],\n",
    "    items_index=df_v_not_c['product_idx'],\n",
    "    num_users=num_users,\n",
    "    num_items=num_items\n",
    ")\n",
    "data_viewed_not_clicked.generate_train_test(user_test_ratio=test_ratio)\n",
    "\n",
    "# clicked\n",
    "data_clicked = UserItemInteractions(\n",
    "    users_index=df_c['user_idx'],\n",
    "    items_index=df_c['product_idx'],\n",
    "    num_users=num_users,\n",
    "    num_items=num_items\n",
    ")\n",
    "data_clicked.generate_train_test(user_test_ratio=test_ratio)\n",
    "\n",
    "# clicked not ordered\n",
    "data_clicked_not_ordered = UserItemInteractions(\n",
    "    users_index=df_c_not_o['user_idx'],\n",
    "    items_index=df_c_not_o['product_idx'],\n",
    "    num_users=num_users,\n",
    "    num_items=num_items\n",
    ")\n",
    "data_clicked_not_ordered.generate_train_test(user_test_ratio=test_ratio)\n",
    "\n",
    "# ordered\n",
    "data_ordered = UserItemInteractions(\n",
    "    users_index=df_o['user_idx'],\n",
    "    items_index=df_o['product_idx'],\n",
    "    num_users=num_users,\n",
    "    num_items=num_items\n",
    ")\n",
    "data_ordered.generate_train_test(user_test_ratio=test_ratio)"
   ]
  },
  {
   "cell_type": "markdown",
   "id": "a9d6885d-e0f6-4543-8271-821796e48b72",
   "metadata": {},
   "source": [
    "## BPR "
   ]
  },
  {
   "cell_type": "code",
   "execution_count": null,
   "id": "783a4e91-67c5-4602-835f-6582375ef52b",
   "metadata": {},
   "outputs": [],
   "source": [
    "bpr1 = BPR(\n",
    "    num_features=200,\n",
    "    reg_lambda=0.0,\n",
    "    num_iters=500,\n",
    "    learning_rate = 0.1,\n",
    "    batch_size=15000,\n",
    "    initial_std=0.0001,\n",
    ")\n",
    "bpr1.initiate(num_users=data_clicked.num_users, num_items=data_clicked.num_items)"
   ]
  },
  {
   "cell_type": "code",
   "execution_count": null,
   "id": "21267e5e-af25-422a-80d7-7f45632ea236",
   "metadata": {},
   "outputs": [],
   "source": [
    "pos_data = data_clicked\n",
    "neg_data = data_clicked_not_ordered\n",
    "metric_log_train = []\n",
    "# neg_sampler = partial(\n",
    "#     uniform_negative_sampler, \n",
    "#     uimat=training_data\n",
    "# )\n",
    "neg_sampler = partial(\n",
    "    explicit_negative_sampler,\n",
    "    pos_uimat=pos_data.mat,\n",
    "    neg_uimat=neg_data.mat\n",
    ")\n",
    "\n",
    "for _ in range(4):\n",
    "    results = bpr_fit(\n",
    "        bpr_obj=bpr1, \n",
    "        neg_sampler=neg_sampler, \n",
    "        ncores=104\n",
    "    )\n",
    "    mfunc = partial(\n",
    "        bpr1.get_metric_v1,\n",
    "        perc_active_users=0.25,\n",
    "        perc_active_items=0.25,\n",
    "        num_recs=60,\n",
    "        max_users_per_batch=1000\n",
    "    )\n",
    "    metric_log_train.append(mfunc(uimat=pos_data.mat))\n",
    "metric_log_train = np.asarray(metric_log_train)"
   ]
  },
  {
   "cell_type": "code",
   "execution_count": null,
   "id": "9c452ee3-7c48-438a-b502-446f63ff428e",
   "metadata": {},
   "outputs": [],
   "source": [
    "metric_log_train"
   ]
  },
  {
   "cell_type": "code",
   "execution_count": null,
   "id": "3560a24e-2464-48e5-ba7b-0ff5e893ab5e",
   "metadata": {},
   "outputs": [],
   "source": [
    "OUT_DIR ='/projects/zazzle/rsandhu/pybpr/examples/output'\n",
    "bpr1.save_model(dir_name=OUT_DIR)"
   ]
  },
  {
   "cell_type": "code",
   "execution_count": null,
   "id": "a0208e62-5203-49ed-a958-2f0fa9847e7e",
   "metadata": {},
   "outputs": [],
   "source": [
    "bpr1.load_model(OUT_DIR)"
   ]
  },
  {
   "cell_type": "code",
   "execution_count": null,
   "id": "1e9dd143-279b-46df-926a-d90df9bcc4e5",
   "metadata": {},
   "outputs": [],
   "source": [
    "bpr2 = BPR()\n",
    "bpr2.load_model(OUT_DIR)"
   ]
  },
  {
   "cell_type": "code",
   "execution_count": null,
   "id": "7672f388-8965-457d-a256-feefc269a204",
   "metadata": {},
   "outputs": [],
   "source": [
    "np.all(bpr2.umat == bpr1.umat)\n",
    "np.all(bpr2.imat == bpr1.imat)"
   ]
  },
  {
   "cell_type": "code",
   "execution_count": null,
   "id": "8496e277-87c4-4887-b2fd-e8e1ca712dc3",
   "metadata": {},
   "outputs": [],
   "source": [
    "bpr2"
   ]
  },
  {
   "cell_type": "code",
   "execution_count": null,
   "id": "853a0029-d769-436f-852a-8839319f8ac4",
   "metadata": {},
   "outputs": [],
   "source": [
    "bpr1"
   ]
  },
  {
   "cell_type": "code",
   "execution_count": null,
   "id": "277bb224-fc10-4ee9-97ad-8d02c6743999",
   "metadata": {},
   "outputs": [],
   "source": [
    "from lightfm import LightFM\n",
    "from lightfm.evaluation import precision_at_k\n",
    "from lightfm.evaluation import auc_score\n",
    "\n",
    "model = LightFM(learning_rate=0.05, loss='bpr')\n",
    "model.fit(train, epochs=10)\n",
    "\n",
    "train_precision = precision_at_k(model, train, k=10).mean()\n",
    "test_precision = precision_at_k(model, test, k=10, train_interactions=train).mean()\n",
    "\n",
    "train_auc = auc_score(model, train).mean()\n",
    "test_auc = auc_score(model, test, train_interactions=train).mean()\n",
    "\n",
    "print('Precision: train %.2f, test %.2f.' % (train_precision, test_precision))\n",
    "print('AUC: train %.2f, test %.2f.' % (train_auc, test_auc))"
   ]
  }
 ],
 "metadata": {
  "kernelspec": {
   "display_name": "bpr_env",
   "language": "python",
   "name": "bpr_env"
  },
  "language_info": {
   "codemirror_mode": {
    "name": "ipython",
    "version": 3
   },
   "file_extension": ".py",
   "mimetype": "text/x-python",
   "name": "python",
   "nbconvert_exporter": "python",
   "pygments_lexer": "ipython3",
   "version": "3.10.13"
  }
 },
 "nbformat": 4,
 "nbformat_minor": 5
}
