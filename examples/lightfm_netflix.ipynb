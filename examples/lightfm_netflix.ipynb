{
 "cells": [
  {
   "cell_type": "code",
   "execution_count": 1,
   "id": "6985b0da",
   "metadata": {},
   "outputs": [],
   "source": [
    "#%load_ext watermark\n",
    "%load_ext autoreload \n",
    "%autoreload 2"
   ]
  },
  {
   "cell_type": "code",
   "execution_count": 2,
   "id": "6f571098",
   "metadata": {},
   "outputs": [],
   "source": [
    "import os\n",
    "import sys\n",
    "from copy import deepcopy\n",
    "import itertools\n",
    "import numpy as np\n",
    "import pandas as pd\n",
    "from tqdm import tqdm\n",
    "from subprocess import call\n",
    "# import pybpr\n",
    "import matplotlib.pyplot as plt\n",
    "from functools import partial\n",
    "from sklearn.feature_extraction import DictVectorizer\n",
    "from scipy.special import expit"
   ]
  },
  {
   "cell_type": "code",
   "execution_count": 4,
   "id": "fa6610e2-b061-44e6-ae65-95b721612cf7",
   "metadata": {},
   "outputs": [],
   "source": [
    "from scipy.sparse import csr_matrix, dok_matrix, spmatrix"
   ]
  },
  {
   "cell_type": "code",
   "execution_count": 3,
   "id": "5b11f1d1-bbd2-4a3a-8bab-bb817e62b185",
   "metadata": {},
   "outputs": [],
   "source": [
    "data_dir = '/home/rsandhu/zazzle/rsandhu/pybpr/examples/data/netflix'\n",
    "df_items = pd.read_csv(os.path.join(data_dir, 'netflix_titles.csv'))"
   ]
  },
  {
   "cell_type": "code",
   "execution_count": 16,
   "id": "8c071337-7df6-46a8-aa47-720aa47ee172",
   "metadata": {},
   "outputs": [
    {
     "ename": "ModuleNotFoundError",
     "evalue": "No module named 'pybpr'",
     "output_type": "error",
     "traceback": [
      "\u001b[0;31m---------------------------------------------------------------------------\u001b[0m",
      "\u001b[0;31mModuleNotFoundError\u001b[0m                       Traceback (most recent call last)",
      "Input \u001b[0;32mIn [16]\u001b[0m, in \u001b[0;36m<cell line: 1>\u001b[0;34m()\u001b[0m\n\u001b[0;32m----> 1\u001b[0m \u001b[38;5;28;01mfrom\u001b[39;00m \u001b[38;5;21;01mpybpr\u001b[39;00m \u001b[38;5;28;01mimport\u001b[39;00m \u001b[38;5;241m*\u001b[39m\n",
      "\u001b[0;31mModuleNotFoundError\u001b[0m: No module named 'pybpr'"
     ]
    }
   ],
   "source": [
    "from pybpr import *"
   ]
  },
  {
   "cell_type": "code",
   "execution_count": 4,
   "id": "4e57dd1b-0fc0-40ff-b822-31dc22a4a181",
   "metadata": {},
   "outputs": [
    {
     "name": "stdout",
     "output_type": "stream",
     "text": [
      "<class 'pandas.core.frame.DataFrame'>\n",
      "RangeIndex: 8807 entries, 0 to 8806\n",
      "Data columns (total 12 columns):\n",
      " #   Column        Non-Null Count  Dtype \n",
      "---  ------        --------------  ----- \n",
      " 0   show_id       8807 non-null   object\n",
      " 1   type          8807 non-null   object\n",
      " 2   title         8807 non-null   object\n",
      " 3   director      6173 non-null   object\n",
      " 4   cast          7982 non-null   object\n",
      " 5   country       7976 non-null   object\n",
      " 6   date_added    8797 non-null   object\n",
      " 7   release_year  8807 non-null   int64 \n",
      " 8   rating        8803 non-null   object\n",
      " 9   duration      8804 non-null   object\n",
      " 10  listed_in     8807 non-null   object\n",
      " 11  description   8807 non-null   object\n",
      "dtypes: int64(1), object(11)\n",
      "memory usage: 825.8+ KB\n"
     ]
    }
   ],
   "source": [
    "df_items.info()"
   ]
  },
  {
   "cell_type": "code",
   "execution_count": 5,
   "id": "4e9213eb-be93-47b8-9b55-b565ef6eb7e4",
   "metadata": {},
   "outputs": [
    {
     "name": "stdout",
     "output_type": "stream",
     "text": [
      "42\n",
      "International Movies\n",
      "LGBTQ Movies\n",
      "Docuseries\n",
      "International TV Shows\n",
      "TV Sci-Fi & Fantasy\n",
      "Spanish-Language TV Shows\n",
      "Action & Adventure\n",
      "Horror Movies\n",
      "Children & Family Movies\n",
      "Crime TV Shows\n",
      "Classic Movies\n",
      "Anime Series\n",
      "TV Thrillers\n",
      "Faith & Spirituality\n",
      "TV Horror\n",
      "British TV Shows\n",
      "Dramas\n",
      "Comedies\n",
      "Anime Features\n",
      "TV Dramas\n",
      "Science & Nature TV\n",
      "TV Comedies\n",
      "Korean TV Shows\n",
      "Music & Musicals\n",
      "TV Shows\n",
      "Stand-Up Comedy & Talk Shows\n",
      "Romantic Movies\n",
      "Thrillers\n",
      "TV Action & Adventure\n",
      "Teen TV Shows\n",
      "Sports Movies\n",
      "Cult Movies\n",
      "Classic & Cult TV\n",
      "Documentaries\n",
      "Kids' TV\n",
      "Romantic TV Shows\n",
      "Sci-Fi & Fantasy\n",
      "Stand-Up Comedy\n",
      "Movies\n",
      "Reality TV\n",
      "TV Mysteries\n",
      "Independent Movies\n"
     ]
    }
   ],
   "source": [
    "attributes = df_items.listed_in.unique().tolist()\n",
    "attributes = [ix.split(', ') for ix in attributes]\n",
    "attributes = list(set([iy for ix in attributes for iy in ix]))\n",
    "#print(len(attributes) == len(set(attributes)))\n",
    "print(len(attributes))\n",
    "for ix in attributes:\n",
    "    print(ix)"
   ]
  },
  {
   "cell_type": "code",
   "execution_count": 6,
   "id": "c13086fd-61b0-47ee-97b4-4d5ba6c1e340",
   "metadata": {},
   "outputs": [
    {
     "data": {
      "text/plain": [
       "[{'Documentaries': 1.0},\n",
       " {'International TV Shows': 1.0, 'TV Dramas': 1.0, 'TV Mysteries': 1.0},\n",
       " {'Crime TV Shows': 1.0,\n",
       "  'International TV Shows': 1.0,\n",
       "  'TV Action & Adventure': 1.0},\n",
       " {'Docuseries': 1.0, 'Reality TV': 1.0},\n",
       " {'International TV Shows': 1.0, 'Romantic TV Shows': 1.0, 'TV Comedies': 1.0}]"
      ]
     },
     "execution_count": 6,
     "metadata": {},
     "output_type": "execute_result"
    }
   ],
   "source": [
    "ilist = df_items.listed_in.tolist()\n",
    "ilist= [{ix:1. for ix in iy.split(', ')} for iy in ilist]\n",
    "ilist[:5]"
   ]
  },
  {
   "cell_type": "code",
   "execution_count": 7,
   "id": "ecbcf7b9-1836-4f21-b481-102234e638dd",
   "metadata": {},
   "outputs": [
    {
     "data": {
      "text/plain": [
       "(8807, 42)"
      ]
     },
     "execution_count": 7,
     "metadata": {},
     "output_type": "execute_result"
    }
   ],
   "source": [
    "v = DictVectorizer(sparse=False)\n",
    "Xmat = v.fit_transform(ilist)\n",
    "Xmat.shape"
   ]
  },
  {
   "cell_type": "code",
   "execution_count": 76,
   "id": "cf354f89-1a91-4fd9-b6a7-4d41c28fe5b8",
   "metadata": {},
   "outputs": [
    {
     "name": "stdout",
     "output_type": "stream",
     "text": [
      "[0.19 0.05 0.09 0.12 0.16 0.13 0.22 0.26 0.12 0.05 0.16 0.1  0.54 1.\n",
      " 0.   0.33 0.41 0.13 0.08 0.11 0.22 0.05 0.2  0.09 0.3  0.11 0.07 0.1\n",
      " 0.11 0.22 0.05 0.09 0.13 0.11 0.11 0.13 0.12 0.12 0.05 0.12 0.12 0.21]\n"
     ]
    },
    {
     "data": {
      "text/plain": [
       "array([[ 4, 10],\n",
       "       [10,  4],\n",
       "       [11, 40],\n",
       "       [13, 14],\n",
       "       [14, 13],\n",
       "       [18, 25],\n",
       "       [18, 34],\n",
       "       [25, 18],\n",
       "       [31, 39],\n",
       "       [34, 18],\n",
       "       [39, 31],\n",
       "       [40, 11]])"
      ]
     },
     "execution_count": 76,
     "metadata": {},
     "output_type": "execute_result"
    }
   ],
   "source": [
    "Cmat = Xmat.T @ Xmat \n",
    "Cmat = np.abs(np.round(np.corrcoef(Cmat),2))\n",
    "print(Cmat[13,:])\n",
    "np.argwhere(Cmat == np.min(Cmat))"
   ]
  },
  {
   "cell_type": "code",
   "execution_count": 77,
   "id": "5189d24a-8e43-45cd-8c87-a471bf79e8a1",
   "metadata": {},
   "outputs": [
    {
     "name": "stdout",
     "output_type": "stream",
     "text": [
      "Faith & Spirituality\n",
      "3  :  Action & Adventure\n",
      "0  :  Anime Features\n",
      "0  :  Anime Series\n",
      "0  :  British TV Shows\n",
      "9  :  Children & Family Movies\n",
      "0  :  Classic & Cult TV\n",
      "0  :  Classic Movies\n",
      "8  :  Comedies\n",
      "0  :  Crime TV Shows\n",
      "0  :  Cult Movies\n",
      "12  :  Documentaries\n",
      "0  :  Docuseries\n",
      "44  :  Dramas\n",
      "65  :  Faith & Spirituality\n",
      "0  :  Horror Movies\n",
      "1  :  Independent Movies\n",
      "18  :  International Movies\n",
      "0  :  International TV Shows\n",
      "0  :  Kids' TV\n",
      "0  :  Korean TV Shows\n",
      "0  :  LGBTQ Movies\n",
      "0  :  Movies\n",
      "2  :  Music & Musicals\n",
      "0  :  Reality TV\n",
      "4  :  Romantic Movies\n",
      "0  :  Romantic TV Shows\n",
      "1  :  Sci-Fi & Fantasy\n",
      "0  :  Science & Nature TV\n",
      "0  :  Spanish-Language TV Shows\n",
      "1  :  Sports Movies\n",
      "0  :  Stand-Up Comedy\n",
      "0  :  Stand-Up Comedy & Talk Shows\n",
      "0  :  TV Action & Adventure\n",
      "0  :  TV Comedies\n",
      "0  :  TV Dramas\n",
      "0  :  TV Horror\n",
      "0  :  TV Mysteries\n",
      "0  :  TV Sci-Fi & Fantasy\n",
      "0  :  TV Shows\n",
      "0  :  TV Thrillers\n",
      "0  :  Teen TV Shows\n",
      "0  :  Thrillers\n"
     ]
    }
   ],
   "source": [
    "Cmat = Xmat.T @ Xmat \n",
    "iz = 13\n",
    "print(v.feature_names_[iz])\n",
    "for ix, iy in zip(Cmat[iz,:],v.feature_names_):\n",
    "    print(int(ix), ' : ', iy)"
   ]
  },
  {
   "cell_type": "code",
   "execution_count": 79,
   "id": "c00de5b2-106f-44ae-9d2b-94880b42682b",
   "metadata": {},
   "outputs": [
    {
     "data": {
      "text/plain": [
       "(array([ 171,  576,  774,  834, 1107, 1156, 1351, 1366, 1474, 2092, 2119,\n",
       "        2380, 2622, 2887, 2951, 3164, 3413, 3556, 4160, 4161, 4765, 4928,\n",
       "        4937, 5058, 5132, 5953, 6010, 6157, 6312, 6438, 6476, 6539, 6637,\n",
       "        6710, 6775, 6802, 6858, 6861, 6862, 6986, 6987, 7049, 7127, 7281,\n",
       "        7304, 7412, 7533, 7578, 7652, 7754, 7928, 7940, 8059, 8239, 8247,\n",
       "        8326, 8327, 8328, 8329, 8339, 8346, 8381, 8400, 8562, 8639]),)"
      ]
     },
     "execution_count": 79,
     "metadata": {},
     "output_type": "execute_result"
    }
   ],
   "source": [
    "np.where(Xmat[:,13] == 1)"
   ]
  },
  {
   "cell_type": "code",
   "execution_count": 80,
   "id": "9cdc162c-3e3c-4629-b91a-faa552635847",
   "metadata": {},
   "outputs": [
    {
     "data": {
      "text/plain": [
       "(array([  28,   42,   43,   44,  200,  210,  211,  229,  236,  237,  238,\n",
       "         239,  299,  307,  332,  353,  396,  398,  441,  463,  479,  550,\n",
       "         556,  557,  586,  607,  610,  611,  612,  643,  728,  740,  796,\n",
       "         804,  822,  836,  853,  887,  929,  962,  964,  996, 1027, 1041,\n",
       "        1087, 1100, 1118, 1119, 1139, 1177, 1222, 1283, 1284, 1297, 1367,\n",
       "        1398, 1447, 1481, 1536, 1629, 1637, 1648, 1652, 1653, 1714, 1775,\n",
       "        1777, 1783, 1784, 1788, 1806, 1816, 1843, 1867, 1879, 1898, 1900,\n",
       "        1970, 2029, 2036, 2091, 2104, 2149, 2342, 2382, 2443, 2463, 2464,\n",
       "        2477, 2589, 2705, 2729, 2749, 2889, 2908, 2933, 2968, 3014, 3060,\n",
       "        3077, 3097, 3102, 3162, 3262, 3379, 3384, 3398, 3421, 3434, 3450,\n",
       "        3568, 3569, 3570, 3638, 3639, 3698, 3729, 3757, 3768, 3800, 3873,\n",
       "        3919, 3922, 3923, 3930, 3948, 3959, 3972, 4059, 4133, 4147, 4165,\n",
       "        4191, 4194, 4195, 4211, 4241, 4277, 4374, 4375, 4382, 4392, 4395,\n",
       "        4510, 4512, 4515, 4524, 4528, 4532, 4538, 4558, 4598, 4624, 4748,\n",
       "        4775, 4799, 4805, 4872, 4943, 5003, 5025, 5042, 5073, 5088, 5091,\n",
       "        5110, 5136, 5226, 5252, 5265, 5302, 5318, 5332, 5637, 5641, 5737,\n",
       "        5852, 5858, 5903, 5955, 5961, 5962, 5975, 5987, 5988, 5991, 5994,\n",
       "        5995, 6022, 6039, 6040, 6068, 6092, 6098, 6119, 6120, 6175, 6180,\n",
       "        6187, 6189, 6208, 6299, 6397, 6415, 6423, 6424, 6458, 6468, 6486,\n",
       "        6503, 6527, 6544, 6547, 6552, 6567, 6584, 6590, 6595, 6600, 6626,\n",
       "        6630, 6634, 6687, 6711, 6753, 6754, 6755, 6760, 6804, 6805, 6830,\n",
       "        6845, 6886, 6896, 6920, 6938, 6939, 6942, 6945, 6946, 6961, 6966,\n",
       "        6973, 6984, 6997, 6999, 7009, 7025, 7034, 7061, 7168, 7203, 7216,\n",
       "        7218, 7236, 7260, 7280, 7286, 7298, 7302, 7361, 7366, 7370, 7389,\n",
       "        7402, 7433, 7476, 7527, 7552, 7555, 7643, 7644, 7645, 7684, 7687,\n",
       "        7704, 7720, 7737, 7831, 7832, 7843, 7857, 7871, 7894, 7955, 7956,\n",
       "        7961, 7962, 7998, 8001, 8013, 8018, 8026, 8027, 8060, 8078, 8089,\n",
       "        8091, 8095, 8138, 8169, 8188, 8198, 8204, 8211, 8212, 8221, 8232,\n",
       "        8237, 8242, 8256, 8274, 8275, 8276, 8279, 8290, 8292, 8297, 8298,\n",
       "        8310, 8322, 8337, 8338, 8342, 8367, 8384, 8399, 8426, 8483, 8484,\n",
       "        8486, 8508, 8522, 8527, 8543, 8548, 8555, 8558, 8559, 8612, 8613,\n",
       "        8621, 8622, 8623, 8624, 8625, 8626, 8638, 8642, 8645, 8698, 8716,\n",
       "        8722, 8760, 8765, 8782, 8804]),)"
      ]
     },
     "execution_count": 80,
     "metadata": {},
     "output_type": "execute_result"
    }
   ],
   "source": [
    "np.where(Xmat[:,14] == 1)"
   ]
  },
  {
   "cell_type": "code",
   "execution_count": 37,
   "id": "5da0c4a4-5ef8-4848-a362-2e09db566481",
   "metadata": {},
   "outputs": [
    {
     "name": "stdout",
     "output_type": "stream",
     "text": [
      "(8849, 20)\n"
     ]
    }
   ],
   "source": [
    "#initiate\n",
    "n_features = len(attributes)\n",
    "n_items = df_items.shape[0]\n",
    "n_latent = 20\n",
    "item_latent_mat = np.random.normal(loc=0.,scale=0.1,size=(n_items+n_features,n_latent))\n",
    "print(item_latent_mat.shape)\n",
    "#np.round(item_latent_mat,2)"
   ]
  },
  {
   "cell_type": "code",
   "execution_count": 38,
   "id": "f5ff91a2-a440-4288-933c-0f532a231f73",
   "metadata": {},
   "outputs": [
    {
     "data": {
      "text/plain": [
       "(42, 20)"
      ]
     },
     "execution_count": 38,
     "metadata": {},
     "output_type": "execute_result"
    }
   ],
   "source": [
    "from sklearn.decomposition import PCA\n",
    "pca = PCA(n_components=n_latent).fit(Xmat)\n",
    "#pca_vecs = np.round(pca.components_,3)\n",
    "pca.components_.T.shape"
   ]
  },
  {
   "cell_type": "code",
   "execution_count": 39,
   "id": "1cb7ae05-2870-4eff-b5cf-79e9cf9565a2",
   "metadata": {},
   "outputs": [
    {
     "data": {
      "text/plain": [
       "array([0.39, 0.48, 0.3 , ..., 0.05, 0.05, 0.99])"
      ]
     },
     "execution_count": 39,
     "metadata": {},
     "output_type": "execute_result"
    }
   ],
   "source": [
    "item_latent_mat[n_items:,:] = pca.components_.T\n",
    "np.round(np.linalg.norm(item_latent_mat, axis=1),2)"
   ]
  },
  {
   "cell_type": "code",
   "execution_count": 41,
   "id": "8e3120ff-29b9-477d-b11e-fb6059fa0464",
   "metadata": {},
   "outputs": [
    {
     "data": {
      "text/plain": [
       "array([0.1, 0.1, 0.1, ..., 1. , 1. , 1. ])"
      ]
     },
     "execution_count": 41,
     "metadata": {},
     "output_type": "execute_result"
    }
   ],
   "source": [
    "for ix in range(n_items):\n",
    "    item_latent_mat[ix,:] /= 10*np.linalg.norm(item_latent_mat[ix,:])\n",
    "for ix in range(n_features):\n",
    "    item_latent_mat[n_items+ix,:] /= np.linalg.norm(item_latent_mat[n_items+ix,:])\n",
    "np.round(np.linalg.norm(item_latent_mat, axis=1),2)"
   ]
  },
  {
   "cell_type": "code",
   "execution_count": 116,
   "id": "b31f6441-acf1-446b-b3e2-0d4f8373b3e2",
   "metadata": {},
   "outputs": [
    {
     "name": "stdout",
     "output_type": "stream",
     "text": [
      "(1000, 20)\n"
     ]
    }
   ],
   "source": [
    "n_users = 1000\n",
    "user_latent_mat = np.random.normal(loc=0.,scale=0.1,size=(n_users,n_latent))\n",
    "for ix in range(user_latent_mat.shape[0]):\n",
    "    user_latent_mat[ix,:] /= 10*np.linalg.norm(user_latent_mat[ix,:])\n",
    "print(user_latent_mat.shape)"
   ]
  },
  {
   "cell_type": "code",
   "execution_count": 117,
   "id": "110f76a4-30b8-463e-a5fe-30c7569e5873",
   "metadata": {},
   "outputs": [],
   "source": [
    "# for user_u in range(n_users):\n",
    "#     print('Recs for user: ', user_u)\n",
    "#     rval = []\n",
    "#     rec = user_latent_mat[user_u].dot(item_latent_mat.T)\n",
    "#     for i in range(n_items):\n",
    "#         inds = list(np.nonzero(Xmat[i,:])[0])\n",
    "#         rval.append(np.sum(rec[inds])) \n",
    "#     item_inds = np.argsort(rval)[::-1][:5]\n",
    "#     print(df_items.title.iloc[item_inds].values.tolist())"
   ]
  },
  {
   "cell_type": "code",
   "execution_count": 148,
   "id": "568e0235-2ea9-495d-9c28-8ce37ced81d3",
   "metadata": {},
   "outputs": [],
   "source": [
    "# interaction\n",
    "int_users = np.repeat(list(range(n_users)),2)\n",
    "int_items = np.tile([28,171], n_users)\n",
    "# for ix, iy in zip(int_users, int_items):\n",
    "#     print(f'User-{ix}', df_items[['title','listed_in']].iloc[iy].values)"
   ]
  },
  {
   "cell_type": "code",
   "execution_count": 149,
   "id": "d2085db2-54e0-41e0-9445-2daf4de59035",
   "metadata": {},
   "outputs": [
    {
     "name": "stderr",
     "output_type": "stream",
     "text": [
      "100%|██████████| 100000/100000 [00:03<00:00, 25446.31it/s]\n"
     ]
    }
   ],
   "source": [
    "#gradients\n",
    "for ix in tqdm(range(100000)): \n",
    "    # pos-neg pairs\n",
    "    user_u = np.random.choice(int_users)\n",
    "    item_pos = int_items[user_u]\n",
    "    item_neg = deepcopy(item_pos)\n",
    "    while item_neg == item_pos:\n",
    "        item_neg = np.random.choice(n_items)\n",
    "    #print(f'::::::::Iter{ix}')\n",
    "    # slice user-item latent mat\n",
    "    user_latent = user_latent_mat[user_u]\n",
    "    #print(np.round(user_latent,2))\n",
    "    pos_inds = list(np.nonzero(Xmat[item_pos,:])[0])#item_df.iloc[item_pos].values.nonzero()[0]\n",
    "    item_latent_pos = item_latent_mat[pos_inds,:]\n",
    "    #print(np.round(item_latent_pos,2))\n",
    "    item_latent_pos = np.sum(item_latent_pos,axis=0)\n",
    "    #print(np.round(item_latent_pos,2))\n",
    "    neg_inds = list(np.nonzero(Xmat[item_neg,:])[0]) #item_df.iloc[item_neg].values.nonzero()[0]\n",
    "    item_latent_neg = item_latent_mat[neg_inds,:]\n",
    "    #print(np.round(item_latent_neg,2))\n",
    "    item_latent_neg = np.sum(item_latent_neg, axis=0)\n",
    "    #print(np.round(item_latent_neg,2))\n",
    "\n",
    "    r_uij = np.dot(user_latent, (item_latent_pos - item_latent_neg))\n",
    "    sigmoid = expit(-r_uij)\n",
    "    sigmoid_tiled = np.tile(sigmoid, (n_latent,))\n",
    "    grad_u = np.multiply(sigmoid_tiled, (item_latent_neg - item_latent_pos))\n",
    "    grad_pos = np.multiply(sigmoid_tiled, -user_latent)\n",
    "    grad_neg = np.multiply(sigmoid_tiled, user_latent)\n",
    "\n",
    "    # bpr update\n",
    "    learning_rate=0.05\n",
    "    user_latent_mat[user_u] -= learning_rate * grad_u\n",
    "    item_latent_mat[item_pos] -= learning_rate * grad_pos\n",
    "    item_latent_mat[item_neg] -= learning_rate * grad_neg\n",
    "    #print('User:\\n', np.round(user_latent_mat,3))\n",
    "    #print('Item:\\n', np.round(item_latent_mat,3))"
   ]
  },
  {
   "cell_type": "code",
   "execution_count": 150,
   "id": "7c2cf335-a770-4054-a2d9-ac0f4a00a6a6",
   "metadata": {},
   "outputs": [
    {
     "name": "stdout",
     "output_type": "stream",
     "text": [
      "El Chema :  Crime TV Shows, Spanish-Language TV Shows, TV Action & Adventure\n",
      "El Chapo :  Crime TV Shows, Spanish-Language TV Shows, TV Action & Adventure\n",
      "Camelia la Texana :  Crime TV Shows, Romantic TV Shows, Spanish-Language TV Shows\n",
      "Creators :  Kids' TV, Spanish-Language TV Shows\n",
      "Heidi, bienvenida a casa :  Kids' TV, Spanish-Language TV Shows\n",
      "Pocoyo :  Kids' TV, Spanish-Language TV Shows\n",
      "Legend Quest: Masters of Myth :  Kids' TV, Spanish-Language TV Shows\n",
      "Silvana Sin Lana :  Romantic TV Shows, Spanish-Language TV Shows, TV Comedies\n",
      "Enemigo íntimo :  Crime TV Shows, Spanish-Language TV Shows, TV Dramas\n",
      "Falsa identidad :  Crime TV Shows, Spanish-Language TV Shows, TV Dramas\n",
      "Ultimate Beastmaster México :  Reality TV, Spanish-Language TV Shows\n",
      "Go! Live Your Way :  Kids' TV, Spanish-Language TV Shows, Teen TV Shows\n",
      "BREAK IT ALL: The History of Rock in Latin America :  Docuseries, Spanish-Language TV Shows\n",
      "Maradona in Mexico :  Docuseries, Spanish-Language TV Shows\n",
      "Street Food: Latin America :  Docuseries, Spanish-Language TV Shows\n",
      "Jenni Rivera: Mariposa de Barrio :  Spanish-Language TV Shows, TV Dramas\n",
      "La Doña :  Spanish-Language TV Shows, TV Dramas\n",
      "El Clon :  Romantic TV Shows, Spanish-Language TV Shows, TV Dramas\n",
      "El Chavo :  Classic & Cult TV, Kids' TV, Spanish-Language TV Shows\n",
      "Sky Rojo :  International TV Shows, Spanish-Language TV Shows, TV Action & Adventure\n"
     ]
    }
   ],
   "source": [
    "user_u = 0\n",
    "rval = []\n",
    "rec = user_latent_mat[user_u].dot(item_latent_mat.T)\n",
    "for i in range(n_items):\n",
    "    inds = list(np.nonzero(Xmat[i,:])[0])\n",
    "    rval.append(np.sum(rec[inds])) \n",
    "item_inds = np.argsort(rval)[::-1][:20]\n",
    "recs = df_items[['title','listed_in']].iloc[item_inds].values\n",
    "for i in recs:\n",
    "    print(i[0], ': ', i[1])"
   ]
  },
  {
   "cell_type": "code",
   "execution_count": null,
   "id": "ef9ce664-012b-4466-8e74-a4d648ef53d4",
   "metadata": {},
   "outputs": [],
   "source": []
  },
  {
   "cell_type": "code",
   "execution_count": null,
   "id": "ea9f3d34-ad0a-482f-a883-2065511ba0a7",
   "metadata": {},
   "outputs": [],
   "source": []
  },
  {
   "cell_type": "code",
   "execution_count": null,
   "id": "7cd88c37-0763-4a7d-b1a7-d93cf2d65bdc",
   "metadata": {},
   "outputs": [],
   "source": []
  },
  {
   "cell_type": "code",
   "execution_count": null,
   "id": "42722867-3159-451d-90d4-5ca8179cc031",
   "metadata": {},
   "outputs": [],
   "source": []
  },
  {
   "cell_type": "code",
   "execution_count": null,
   "id": "ab259e7b-5550-43a7-b761-9d3b51f1a5f5",
   "metadata": {},
   "outputs": [],
   "source": []
  },
  {
   "cell_type": "code",
   "execution_count": null,
   "id": "63b87ee8-3ee2-4e42-b3cd-2e4f5434101a",
   "metadata": {},
   "outputs": [],
   "source": [
    "item_df = pd.DataFrame.from_dict(dict(\n",
    "    item1=[1,0,0,1],\n",
    "    item2=[1,0,0,0],\n",
    "    item3=[0,1,1,0],\n",
    "    item4=[0,0,1,0],\n",
    "    item5=[0,1,0,0]\n",
    "), orient='index', columns=[f'feature{i+1}' for i in range(4)])\n",
    "n_items = item_df.shape[0]\n",
    "n_features = item_df.shape[1]\n",
    "print(n_items, n_features)\n",
    "item_df"
   ]
  },
  {
   "cell_type": "code",
   "execution_count": null,
   "id": "7268a84d-7fd5-42b9-8ec2-f945c9573580",
   "metadata": {},
   "outputs": [],
   "source": []
  },
  {
   "cell_type": "code",
   "execution_count": null,
   "id": "c4f62f17-abce-4fd3-9366-7e8523f50aeb",
   "metadata": {},
   "outputs": [],
   "source": [
    "item_df_identity = pd.DataFrame(np.eye(item_df.shape[0]), dtype=int, index=item_df.index, columns=item_df.index)\n",
    "item_df = pd.concat([item_df_identity, item_df], axis=1)\n",
    "item_df"
   ]
  },
  {
   "cell_type": "code",
   "execution_count": null,
   "id": "355d2dfa-d069-4bb1-b7bf-9737fc0f157b",
   "metadata": {},
   "outputs": [],
   "source": [
    "user_df = pd.DataFrame(np.eye(3), dtype=int, index=[f'user{i+1}' for i in range(3)])\n",
    "user_df.columns = list(user_df.index.values)\n",
    "n_users = user_df.shape[0]\n",
    "user_df"
   ]
  },
  {
   "cell_type": "code",
   "execution_count": null,
   "id": "95cb9622-10ac-4763-8c6a-6e5fb2da044a",
   "metadata": {},
   "outputs": [],
   "source": [
    "# int_df = pd.DataFrame.from_dict(dict(\n",
    "#     user1=[1,0,0,0,0],\n",
    "#     user2=[0,0,1,0,0],\n",
    "#     #user3=[1,0,1,1,0],\n",
    "# ), orient='index', columns=[f'item{i+1}' for i in range(5)])\n",
    "# int_df"
   ]
  },
  {
   "cell_type": "code",
   "execution_count": null,
   "id": "05c55950-a7df-4395-8360-9ecdc7b34efa",
   "metadata": {},
   "outputs": [],
   "source": [
    "#initiate\n",
    "nlatent = 2\n",
    "user_latent_mat = np.random.normal(loc=0.,scale=0.1,size=(user_df.shape[1],nlatent))\n",
    "item_latent_mat = np.random.normal(loc=0.,scale=0.1,size=(item_df.shape[1],nlatent))\n",
    "print(item_latent_mat.shape, user_latent_mat.shape)\n",
    "np.round(item_latent_mat,2)"
   ]
  },
  {
   "cell_type": "code",
   "execution_count": null,
   "id": "156001d0-3230-4196-89ed-b430dae025dd",
   "metadata": {},
   "outputs": [],
   "source": [
    "item_df.values[:, item_df.shape[0]:]"
   ]
  },
  {
   "cell_type": "code",
   "execution_count": null,
   "id": "d0493c5a-b6f5-443b-b8cd-510a791d1a84",
   "metadata": {},
   "outputs": [],
   "source": [
    "from sklearn.decomposition import PCA\n",
    "pca = PCA(n_components=nlatent).fit(item_df.values[:, item_df.shape[0]:])\n",
    "pca_vecs = np.round(pca.components_,3)\n",
    "pca_vecs.T"
   ]
  },
  {
   "cell_type": "code",
   "execution_count": null,
   "id": "53960007-66f5-4bbf-8a5e-60b2bdec5db1",
   "metadata": {},
   "outputs": [],
   "source": [
    "np.round(np.dot(pca_vecs[0,:], pca_vecs[1,:]),2)"
   ]
  },
  {
   "cell_type": "code",
   "execution_count": null,
   "id": "04cd21aa-39c8-4186-ad5e-a1170de7f754",
   "metadata": {},
   "outputs": [],
   "source": [
    "item_latent_mat[item_df.shape[0]:,:] = pca.components_.T\n",
    "np.round(item_latent_mat,2)"
   ]
  },
  {
   "cell_type": "code",
   "execution_count": null,
   "id": "4d4dce2c-04ba-4cca-8600-18dd73897587",
   "metadata": {},
   "outputs": [],
   "source": [
    "np.round(np.linalg.norm(item_latent_mat, axis=1),2)"
   ]
  },
  {
   "cell_type": "code",
   "execution_count": null,
   "id": "bcf5195e-9a9c-4fdd-a81a-68a228683195",
   "metadata": {},
   "outputs": [],
   "source": [
    "for ix in range(n_items):\n",
    "    item_latent_mat[ix,:] /= 100*np.linalg.norm(item_latent_mat[ix,:])\n",
    "for ix in range(n_features):\n",
    "    item_latent_mat[n_items+ix,:] /= np.linalg.norm(item_latent_mat[n_items+ix,:])\n",
    "for ix in range(user_latent_mat.shape[0]):\n",
    "    user_latent_mat[ix,:] /= 10*np.linalg.norm(user_latent_mat[ix,:])\n",
    "np.round(np.linalg.norm(item_latent_mat, axis=1),2)\n",
    "#np.round(np.linalg.norm(user_latent_mat, axis=1),2)"
   ]
  },
  {
   "cell_type": "code",
   "execution_count": null,
   "id": "fcd3172d-a1d4-418f-82c9-d7548bde57ab",
   "metadata": {},
   "outputs": [],
   "source": [
    "np.round(item_latent_mat,2)"
   ]
  },
  {
   "cell_type": "code",
   "execution_count": null,
   "id": "e60d4464-1acb-4836-a9b2-1c80906947b7",
   "metadata": {},
   "outputs": [],
   "source": [
    "np.round(user_latent_mat,2)"
   ]
  },
  {
   "cell_type": "code",
   "execution_count": null,
   "id": "2f5016a8-faa5-42af-baea-a1089d4ca92f",
   "metadata": {},
   "outputs": [],
   "source": [
    "for user_u in range(n_users):\n",
    "    print('Recs for user: ', user_u)\n",
    "    rec = user_latent_mat[user_u].dot(item_latent_mat.T)\n",
    "    for i in range(n_items):\n",
    "        inds = item_df.iloc[i].values.nonzero()[0]\n",
    "        print(i, ':', np.round(np.sum(rec[inds]),3))"
   ]
  },
  {
   "cell_type": "code",
   "execution_count": null,
   "id": "aac49427-e721-4540-9765-6569180c2127",
   "metadata": {},
   "outputs": [],
   "source": [
    "# interaction\n",
    "user_u = 0\n",
    "item_pos = 0\n",
    "item_neg = 1"
   ]
  },
  {
   "cell_type": "code",
   "execution_count": null,
   "id": "6e91f590-208e-44b8-be23-3997e9ac5e8f",
   "metadata": {},
   "outputs": [],
   "source": [
    "#gradients\n",
    "for ix in range(10): \n",
    "    print(f'::::::::Iter{ix}')\n",
    "    # slice user-item latent mat\n",
    "    user_latent = user_latent_mat[user_u]\n",
    "    #print(np.round(user_latent,2))\n",
    "    pos_inds = item_df.iloc[item_pos].values.nonzero()[0]\n",
    "    item_latent_pos = item_latent_mat[pos_inds,:]\n",
    "    #print(np.round(item_latent_pos,2))\n",
    "    item_latent_pos = np.sum(item_latent_pos,axis=0)\n",
    "    #print(np.round(item_latent_pos,2))\n",
    "    neg_inds = item_df.iloc[item_neg].values.nonzero()[0]\n",
    "    item_latent_neg = item_latent_mat[neg_inds,:]\n",
    "    #print(np.round(item_latent_neg,2))\n",
    "    item_latent_neg = np.sum(item_latent_neg, axis=0)\n",
    "    #print(np.round(item_latent_neg,2))\n",
    "\n",
    "    r_uij = np.dot(user_latent, (item_latent_pos - item_latent_neg))\n",
    "    sigmoid = expit(-r_uij)\n",
    "    sigmoid_tiled = np.tile(sigmoid, (nlatent,))\n",
    "    grad_u = np.multiply(sigmoid_tiled, (item_latent_neg - item_latent_pos))\n",
    "    grad_pos = np.multiply(sigmoid_tiled, -user_latent)\n",
    "    grad_neg = np.multiply(sigmoid_tiled, user_latent)\n",
    "\n",
    "    # bpr update\n",
    "    learning_rate=0.1\n",
    "    user_latent_mat[user_u] -= learning_rate * grad_u\n",
    "    item_latent_mat[item_pos] -= learning_rate * grad_pos\n",
    "    item_latent_mat[item_neg] -= learning_rate * grad_neg\n",
    "    print('User:\\n', np.round(user_latent_mat,3))\n",
    "    print('Item:\\n', np.round(item_latent_mat,3))\n",
    "    rec = user_latent_mat[user_u].dot(item_latent_mat.T)\n",
    "    for i in range(n_items):\n",
    "        inds = item_df.iloc[i].values.nonzero()[0]\n",
    "        print(i, ':', np.round(np.sum(rec[inds]),3))\n",
    "    #print('Recs:', np.round(rec,3))"
   ]
  },
  {
   "cell_type": "code",
   "execution_count": null,
   "id": "e9fd55cc-b86c-4aab-aae0-186e0d1b5734",
   "metadata": {},
   "outputs": [],
   "source": []
  }
 ],
 "metadata": {
  "kernelspec": {
   "display_name": "bpr_env",
   "language": "python",
   "name": "bpr_env"
  },
  "language_info": {
   "codemirror_mode": {
    "name": "ipython",
    "version": 3
   },
   "file_extension": ".py",
   "mimetype": "text/x-python",
   "name": "python",
   "nbconvert_exporter": "python",
   "pygments_lexer": "ipython3",
   "version": "3.9.12"
  }
 },
 "nbformat": 4,
 "nbformat_minor": 5
}
