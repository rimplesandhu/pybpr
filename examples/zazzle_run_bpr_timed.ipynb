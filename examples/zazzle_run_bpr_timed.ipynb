{
 "cells": [
  {
   "cell_type": "markdown",
   "id": "dde5390d",
   "metadata": {},
   "source": [
    "## Application of BPR on Zazzle Data"
   ]
  },
  {
   "cell_type": "code",
   "execution_count": 1,
   "id": "4f4ca103",
   "metadata": {},
   "outputs": [],
   "source": [
    "%load_ext autoreload\n",
    "%autoreload 2"
   ]
  },
  {
   "cell_type": "code",
   "execution_count": 2,
   "id": "4af7d296",
   "metadata": {},
   "outputs": [
    {
     "ename": "ModuleNotFoundError",
     "evalue": "No module named 'pybpr'",
     "output_type": "error",
     "traceback": [
      "\u001b[0;31m---------------------------------------------------------------------------\u001b[0m",
      "\u001b[0;31mModuleNotFoundError\u001b[0m                       Traceback (most recent call last)",
      "Cell \u001b[0;32mIn[2], line 9\u001b[0m\n\u001b[1;32m      7\u001b[0m \u001b[38;5;28;01mfrom\u001b[39;00m \u001b[38;5;21;01msubprocess\u001b[39;00m \u001b[38;5;28;01mimport\u001b[39;00m call\n\u001b[1;32m      8\u001b[0m \u001b[38;5;28;01mfrom\u001b[39;00m \u001b[38;5;21;01mcopy\u001b[39;00m \u001b[38;5;28;01mimport\u001b[39;00m deepcopy\n\u001b[0;32m----> 9\u001b[0m \u001b[38;5;28;01mfrom\u001b[39;00m \u001b[38;5;21;01mpybpr\u001b[39;00m \u001b[38;5;28;01mimport\u001b[39;00m \u001b[38;5;241m*\u001b[39m\n\u001b[1;32m     10\u001b[0m \u001b[38;5;28;01mimport\u001b[39;00m \u001b[38;5;21;01mscipy\u001b[39;00m\u001b[38;5;21;01m.\u001b[39;00m\u001b[38;5;21;01msparse\u001b[39;00m \u001b[38;5;28;01mas\u001b[39;00m \u001b[38;5;21;01msp\u001b[39;00m\n\u001b[1;32m     11\u001b[0m \u001b[38;5;28;01mfrom\u001b[39;00m \u001b[38;5;21;01mfunctools\u001b[39;00m \u001b[38;5;28;01mimport\u001b[39;00m reduce\n",
      "\u001b[0;31mModuleNotFoundError\u001b[0m: No module named 'pybpr'"
     ]
    }
   ],
   "source": [
    "import os\n",
    "import sys\n",
    "import itertools\n",
    "import numpy as np\n",
    "import pandas as pd\n",
    "import matplotlib as mpl\n",
    "from subprocess import call\n",
    "from copy import deepcopy\n",
    "from pybpr import *\n",
    "import scipy.sparse as sp\n",
    "from functools import reduce\n",
    "import matplotlib.pyplot as plt\n",
    "from functools import partial\n",
    "from datetime import datetime, timedelta\n",
    "from scipy.special import expit"
   ]
  },
  {
   "cell_type": "code",
   "execution_count": null,
   "id": "17296352-cd76-464b-9ce7-dc0cff34d9cd",
   "metadata": {},
   "outputs": [],
   "source": [
    "# load data\n",
    "DATA_DIR = '/projects/zazzle/rsandhu/pybpr/examples/output/zazzle_data'\n",
    "df_v = pd.read_parquet(os.path.join(DATA_DIR, 'view_data.parquet'))\n",
    "df_c = pd.read_parquet(os.path.join(DATA_DIR, 'click_data.parquet'))\n",
    "df_o = pd.read_parquet(os.path.join(DATA_DIR, 'order_data.parquet'))\n",
    "df_v_not_c = pd.read_parquet(os.path.join(\n",
    "    DATA_DIR, 'viewed_not_clicked_data.parquet'))\n",
    "df_c_not_o = pd.read_parquet(os.path.join(\n",
    "    DATA_DIR, 'clicked_not_ordered_data.parquet'))"
   ]
  },
  {
   "cell_type": "code",
   "execution_count": null,
   "id": "8608118a-da0c-4709-95e3-977dc94b9c24",
   "metadata": {},
   "outputs": [],
   "source": [
    "# put data in a dict format\n",
    "zazzle_data = {\n",
    "    'clicked': df_c,\n",
    "    'ordered': df_o,\n",
    "    'clicked_not_ordered': df_c_not_o,\n",
    "    'viewed_not_clicked': df_v_not_c\n",
    "}\n",
    "for iname, idf in zazzle_data.items():\n",
    "    min_time = datetime.fromtimestamp(idf['date_created'].min())\n",
    "    max_time = datetime.fromtimestamp(idf['date_created'].max())\n",
    "    print(iname, ': ', min_time, ' - ', max_time)"
   ]
  },
  {
   "cell_type": "code",
   "execution_count": null,
   "id": "b8e56513-ef75-4e62-8954-196423f7b72e",
   "metadata": {},
   "outputs": [],
   "source": [
    "# get time weigting\n",
    "fn_train = partial(\n",
    "    get_time_weighting, \n",
    "    datetime_min = datetime(2021,1,1),\n",
    "    datetime_max = datetime(2023,1,1),\n",
    "    scaling_days=180\n",
    ")\n",
    "# fn_train = partial(\n",
    "#     get_time_weighting, \n",
    "#     datetime_min = datetime(2023,1,1),\n",
    "#     datetime_max = datetime(2023,2,1),\n",
    "#     scaling_days=10\n",
    "# )\n",
    "fn_test = partial(\n",
    "    get_time_weighting, \n",
    "    datetime_min = datetime(2023,1,1),\n",
    "    datetime_max = datetime(2025,1,1),\n",
    "    scaling_days=-180\n",
    ")\n",
    "for iname, idf in zazzle_data.items():\n",
    "    idf['time_wgt_train'] = fn_train(idf['date_created'])\n",
    "    idf['time_wgt_test'] = fn_test(idf['date_created'])"
   ]
  },
  {
   "cell_type": "code",
   "execution_count": null,
   "id": "0722fdb6-2837-440f-bbd8-f007c782bbd1",
   "metadata": {},
   "outputs": [],
   "source": [
    "list_of_dates = [datetime(2021,8,1) + timedelta(days=ix*10) for ix in range(100)] \n",
    "dates = mpl.dates.date2num(list_of_dates)\n",
    "list_of_dates = np.array([ix.timestamp() for ix in list_of_dates])\n",
    "fig, ax = plt.subplots(figsize=(6,3))\n",
    "ax.plot(dates, fn_train(list_of_dates), '-r', label='Train')\n",
    "ax.plot(dates, fn_test(list_of_dates), '-b', label='Test')\n",
    "myFmt = mpl.dates.DateFormatter('%Y-%m')\n",
    "ax.xaxis.set_major_formatter(myFmt)\n",
    "ax.set_xlabel('Time')\n",
    "ax.set_ylabel('Time weighting')\n",
    "ax.grid(True)\n",
    "fig.autofmt_xdate()\n",
    "ax.legend()"
   ]
  },
  {
   "cell_type": "code",
   "execution_count": 23,
   "id": "d80060cb-2933-45aa-ab0e-1dc5eb5f5ff0",
   "metadata": {},
   "outputs": [
    {
     "name": "stdout",
     "output_type": "stream",
     "text": [
      "\n",
      "---clicked---\n",
      "# of users, train: 13555/16462\n",
      "# of items, train: 257311/779192\n",
      "# of users, test: 6353/16462\n",
      "# of items, test: 117639/779192\n",
      "# of interactions, train: 621358\n",
      "# of interactions, test: 212287\n",
      "Memory used by train/test mat: 1.19/0.4 MB\n",
      "\n",
      "---ordered---\n",
      "# of users, train: 13179/16462\n",
      "# of items, train: 110833/779192\n",
      "# of users, test: 5598/16462\n",
      "# of items, test: 46891/779192\n",
      "# of interactions, train: 197803\n",
      "# of interactions, test: 68795\n",
      "Memory used by train/test mat: 0.38/0.13 MB\n",
      "\n",
      "---clicked_not_ordered---\n",
      "# of users, train: 12759/16462\n",
      "# of items, train: 201722/779192\n",
      "# of users, test: 5980/16462\n",
      "# of items, test: 89738/779192\n",
      "# of interactions, train: 423555\n",
      "# of interactions, test: 143492\n",
      "Memory used by train/test mat: 0.81/0.27 MB\n",
      "\n",
      "---viewed_not_clicked---\n",
      "# of users, train: 13748/16462\n",
      "# of items, train: 764264/779192\n",
      "# of users, test: 6769/16462\n",
      "# of items, test: 682202/779192\n",
      "# of interactions, train: 20949067\n",
      "# of interactions, test: 7144259\n",
      "Memory used by train/test mat: 39.96/13.63 MB\n"
     ]
    }
   ],
   "source": [
    "# create useriteminteraction instances\n",
    "num_users = df_v.user_id.nunique()\n",
    "num_items = df_v.product_id.nunique()\n",
    "\n",
    "zazzle_ui = {}\n",
    "for iname, idf in zazzle_data.items():\n",
    "    train_bool = idf['time_wgt_train'] > 0.01\n",
    "    zazzle_ui[iname] = UserItemInteractions(\n",
    "        users_index=idf.loc[train_bool,'user_idx'],\n",
    "        items_index=idf.loc[train_bool, 'product_idx'],\n",
    "        num_users=num_users,\n",
    "        num_items=num_items,\n",
    "        weights=idf.loc[train_bool, 'time_wgt_train'],\n",
    "        name=iname\n",
    "    )\n",
    "    test_bool = idf['time_wgt_test'] > 0.01\n",
    "    zazzle_ui[iname].create_test_matrix(\n",
    "        users_index = idf.loc[test_bool,'user_idx'],\n",
    "        items_index = idf.loc[test_bool, 'product_idx']\n",
    "    )\n",
    "    print(zazzle_ui[iname])"
   ]
  },
  {
   "cell_type": "code",
   "execution_count": 24,
   "id": "9af8f87e-4fd4-40a6-aac7-d3aed44adab7",
   "metadata": {},
   "outputs": [
    {
     "name": "stdout",
     "output_type": "stream",
     "text": [
      "positive\n",
      "2022-09-16 05:38:11  :  425228  =  0.81\n",
      "2022-09-16 05:38:11  :  736955  =  0.81\n",
      "2022-09-16 05:38:11  :  743133  =  0.81\n",
      "2022-09-16 05:38:11  :  527840  =  0.81\n",
      "2022-07-22 12:11:39  :  530783  =  0.75\n",
      "2022-07-22 12:11:39  :  413853  =  0.75\n",
      "2022-07-22 12:11:39  :  405897  =  0.75\n",
      "2022-07-22 12:11:39  :  642950  =  0.75\n",
      "2022-07-22 12:11:39  :  507193  =  0.75\n",
      "2022-07-22 12:11:39  :  491377  =  0.75\n",
      "negative\n",
      "2022-09-16 05:20:00  :  690793  =  0.81\n",
      "2022-09-16 05:18:15  :  550388  =  0.81\n",
      "2022-09-16 05:10:11  :  436756  =  0.81\n",
      "2022-09-16 05:07:25  :  481925  =  0.81\n",
      "2022-09-16 05:01:21  :  553371  =  0.81\n",
      "2022-09-16 04:55:48  :  714018  =  0.81\n",
      "2022-07-22 12:06:33  :  464754  =  0.75\n",
      "2022-07-22 11:57:07  :  419772  =  0.75\n",
      "selection\n",
      "405897 0.11\n",
      "413853 0.1\n",
      "425228 0.1\n",
      "491377 0.1\n",
      "507193 0.08\n",
      "527840 0.1\n",
      "530783 0.12\n",
      "642950 0.07\n",
      "736955 0.11\n",
      "743133 0.11\n"
     ]
    }
   ],
   "source": [
    "# spot check time weigting\n",
    "pos_int = 'ordered'\n",
    "neg_int = 'clicked_not_ordered'\n",
    "iuser = 1823#1823\n",
    "idf = zazzle_data[pos_int]\n",
    "idf = idf[idf['user_idx']==iuser].sort_index(ascending=False)\n",
    "jdf = zazzle_data[neg_int]\n",
    "jdf = jdf[jdf['user_idx']==iuser].sort_index(ascending=False)\n",
    "print('positive')\n",
    "for ix, irow in idf.iterrows():\n",
    "    itime = datetime.fromtimestamp(irow['date_created'])\n",
    "    print(itime, ' : ', irow['product_idx'], ' = ', np.around(irow['time_wgt_train'],2))\n",
    "print('negative')\n",
    "for ix, irow in jdf.iterrows():\n",
    "    itime = datetime.fromtimestamp(irow['date_created'])\n",
    "    print(itime, ' : ', irow['product_idx'], ' = ', np.around(irow['time_wgt_train'],2))\n",
    "\n",
    "print('selection')\n",
    "sel_list = []\n",
    "for _ in range(1000):\n",
    "    pos_neg_pair = time_explicit_negative_sampler(\n",
    "        iuser=iuser, \n",
    "        pos_uimat=zazzle_ui['ordered'].mat,\n",
    "        neg_uimat=zazzle_ui['clicked_not_ordered'].mat\n",
    "    )\n",
    "    sel_list.append(pos_neg_pair[0])\n",
    "entry, count = np.unique(np.array(sel_list), return_counts=True)\n",
    "count = count.astype(np.float64)/np.sum(count).astype(np.float64)\n",
    "for ix, iy in zip(entry,count):\n",
    "    print(ix, np.around(iy,2))"
   ]
  },
  {
   "cell_type": "code",
   "execution_count": 25,
   "id": "a61709bd-1293-4854-9dfb-cad390eaa372",
   "metadata": {},
   "outputs": [
    {
     "data": {
      "text/plain": [
       "BPR(mname='bpr_model', num_features=200, num_iters=500, batch_size=10000, initial_std=0.0001, reg_lambda=0.0, learning_rate=0.1, verbose=False)"
      ]
     },
     "execution_count": 25,
     "metadata": {},
     "output_type": "execute_result"
    }
   ],
   "source": [
    "# # pair 1\n",
    "# mat_train_pos = zazzle_ui['ordered'].mat_train\n",
    "# mat_train_neg = zazzle_ui['clicked_not_ordered'].mat_train\n",
    "# mat_test = zazzle_ui['ordered'].mat_test\n",
    "\n",
    "# pair 2\n",
    "mat_train_pos = zazzle_ui['clicked'].mat_train\n",
    "mat_train_neg = zazzle_ui['viewed_not_clicked'].mat_train\n",
    "mat_test = zazzle_ui['clicked'].mat_test\n",
    "\n",
    "bpr_base = BPR(\n",
    "    num_features=200,\n",
    "    reg_lambda=0.0,\n",
    "    num_iters=500,\n",
    "    learning_rate = 0.1,\n",
    "    batch_size=10000,\n",
    "    initial_std=0.0001,\n",
    ")\n",
    "bpr_base"
   ]
  },
  {
   "cell_type": "code",
   "execution_count": 28,
   "id": "50e9fc9f-1c4b-49be-b2cf-79a83acc95d9",
   "metadata": {},
   "outputs": [
    {
     "name": "stdout",
     "output_type": "stream",
     "text": [
      "BPR-Train: 100%|██████████| 5000000/5000000 [00:08<00:00, 595207.14it/s]\n",
      "BPR-Score: 100%|██████████| 4/4 [01:09<00:00, 17.28s/it]\n",
      "BPR-Train: 100%|██████████| 5000000/5000000 [00:08<00:00, 579445.10it/s]\n",
      "BPR-Score: 100%|██████████| 4/4 [01:07<00:00, 16.98s/it]\n"
     ]
    }
   ],
   "source": [
    "#uniform negative sampler\n",
    "neg_sampler_uni = partial(\n",
    "    uniform_negative_sampler, \n",
    "    uimat=mat_train_pos\n",
    ")\n",
    "\n",
    "bpr_uni = bpr_base\n",
    "bpr_uni.initiate(num_users=num_users, num_items=num_items)\n",
    "for _ in range(2):\n",
    "    results = bpr_fit(\n",
    "        bpr_obj=bpr_uni, \n",
    "        neg_sampler=neg_sampler_uni, \n",
    "        ncores=104\n",
    "    )\n",
    "    mfunc = partial(\n",
    "        bpr_uni.get_metric_v1,\n",
    "        perc_active_users=0.99,\n",
    "        perc_active_items=0.99,\n",
    "        num_recs=60,\n",
    "        max_users_per_batch=2000\n",
    "    )\n",
    "    _ = mfunc(uimat=mat_test)"
   ]
  },
  {
   "cell_type": "code",
   "execution_count": 31,
   "id": "8bf00975-8635-462e-a195-45be819edf5c",
   "metadata": {},
   "outputs": [
    {
     "data": {
      "text/plain": [
       "[array([0., 0., 0.]), array([0., 0., 0.])]"
      ]
     },
     "execution_count": 31,
     "metadata": {},
     "output_type": "execute_result"
    }
   ],
   "source": [
    "bpr_uni.metric_tracker"
   ]
  },
  {
   "cell_type": "code",
   "execution_count": 12,
   "id": "db2f17c3-ba23-4528-ac33-c08a79f86e00",
   "metadata": {},
   "outputs": [
    {
     "name": "stdout",
     "output_type": "stream",
     "text": [
      "BPR-Train: 100%|██████████| 5000000/5000000 [00:54<00:00, 91517.34it/s]\n",
      "BPR-Score: 100%|██████████| 64/64 [01:04<00:00,  1.01s/it]\n",
      "BPR-Train: 100%|██████████| 5000000/5000000 [00:54<00:00, 91207.55it/s]\n",
      "BPR-Score: 100%|██████████| 64/64 [01:11<00:00,  1.12s/it]\n",
      "BPR-Train: 100%|██████████| 5000000/5000000 [00:54<00:00, 91533.61it/s]\n",
      "BPR-Score: 100%|██████████| 64/64 [01:18<00:00,  1.23s/it]\n",
      "BPR-Train: 100%|██████████| 5000000/5000000 [00:54<00:00, 91369.43it/s]\n",
      "BPR-Score: 100%|██████████| 64/64 [01:16<00:00,  1.19s/it]\n",
      "BPR-Train: 100%|██████████| 5000000/5000000 [00:54<00:00, 91298.85it/s]\n",
      "BPR-Score: 100%|██████████| 64/64 [01:16<00:00,  1.20s/it]\n"
     ]
    }
   ],
   "source": [
    "#explicit negative sampler\n",
    "neg_sampler_exp = partial(\n",
    "    explicit_negative_sampler, \n",
    "    pos_uimat=mat_train_pos,\n",
    "    neg_uimat=mat_train_neg\n",
    ")\n",
    "\n",
    "bpr_exp = bpr_base\n",
    "bpr_exp.initiate(num_users=num_users, num_items=num_items)\n",
    "for _ in range(5):\n",
    "    results = bpr_fit(\n",
    "        bpr_obj=bpr_exp, \n",
    "        neg_sampler=neg_sampler_exp, \n",
    "        ncores=104\n",
    "    )\n",
    "    mfunc = partial(\n",
    "        bpr_exp.get_metric_v1,\n",
    "        perc_active_users=0.5,\n",
    "        perc_active_items=0.5,\n",
    "        num_recs=60,\n",
    "        max_users_per_batch=100\n",
    "    )\n",
    "    _ = mfunc(uimat=mat_test)"
   ]
  },
  {
   "cell_type": "code",
   "execution_count": 14,
   "id": "1df79602-2476-45e2-a0ac-185726a7c3c3",
   "metadata": {},
   "outputs": [
    {
     "data": {
      "text/plain": [
       "[array([0., 0., 0.]),\n",
       " array([0., 0., 0.]),\n",
       " array([0., 0., 0.]),\n",
       " array([0., 0., 0.]),\n",
       " array([0., 0., 0.])]"
      ]
     },
     "execution_count": 14,
     "metadata": {},
     "output_type": "execute_result"
    }
   ],
   "source": [
    "bpr_exp.metric_tracker"
   ]
  },
  {
   "cell_type": "code",
   "execution_count": 10,
   "id": "59614c2c-cb5e-4b8a-bbc4-57ebfdf7c618",
   "metadata": {},
   "outputs": [
    {
     "name": "stdout",
     "output_type": "stream",
     "text": [
      "BPR-Train:  25%|██▌       | 1250080/5000000 [00:30<01:10, 53184.14it/s]"
     ]
    },
    {
     "name": "stderr",
     "output_type": "stream",
     "text": [
      "Process ForkPoolWorker-2:\n",
      "Process ForkPoolWorker-75:\n",
      "Traceback (most recent call last):\n",
      "Process ForkPoolWorker-68:\n",
      "  File \"/home/rsandhu/.conda-envs/bpr_env/lib/python3.12/multiprocessing/process.py\", line 314, in _bootstrap\n",
      "    self.run()\n",
      "Traceback (most recent call last):\n",
      "  File \"/home/rsandhu/.conda-envs/bpr_env/lib/python3.12/multiprocessing/process.py\", line 314, in _bootstrap\n",
      "    self.run()\n",
      "  File \"/home/rsandhu/.conda-envs/bpr_env/lib/python3.12/multiprocessing/process.py\", line 108, in run\n",
      "    self._target(*self._args, **self._kwargs)\n",
      "  File \"/home/rsandhu/.conda-envs/bpr_env/lib/python3.12/multiprocessing/pool.py\", line 125, in worker\n",
      "    result = (True, func(*args, **kwds))\n",
      "                    ^^^^^^^^^^^^^^^^^^^\n",
      "  File \"/home/rsandhu/.conda-envs/bpr_env/lib/python3.12/multiprocessing/pool.py\", line 48, in mapstar\n",
      "    return list(map(*args))\n",
      "           ^^^^^^^^^^^^^^^^\n",
      "  File \"/kfs2/projects/zazzle/rsandhu/pybpr/pybpr/bpr.py\", line 357, in bpr_update\n",
      "    item_ith, item_jth = negative_sampler(iuser=this_user)\n",
      "                         ^^^^^^^^^^^^^^^^^^^^^^^^^^^^^^^^^\n",
      "  File \"/kfs2/projects/zazzle/rsandhu/pybpr/pybpr/sampling.py\", line 118, in time_explicit_negative_sampler\n",
      "    neg_wgts = neg_uimat.tocsc()[iuser, neg_items].toarray()[0, :]\n",
      "               ^^^^^^^^^^^^^^^^^\n",
      "Process ForkPoolWorker-92:\n",
      "  File \"/home/rsandhu/.conda-envs/bpr_env/lib/python3.12/site-packages/scipy/sparse/_csr.py\", line 186, in tocsc\n",
      "    self.indices.astype(idx_dtype),\n",
      "    ^^^^^^^^^^^^^^^^^^^^^^^^^^^^^^\n",
      "Process ForkPoolWorker-62:\n",
      "Traceback (most recent call last):\n",
      "Traceback (most recent call last):\n",
      "  File \"/home/rsandhu/.conda-envs/bpr_env/lib/python3.12/multiprocessing/process.py\", line 314, in _bootstrap\n",
      "    self.run()\n",
      "Traceback (most recent call last):\n",
      "  File \"/home/rsandhu/.conda-envs/bpr_env/lib/python3.12/multiprocessing/process.py\", line 314, in _bootstrap\n",
      "    self.run()\n",
      "  File \"/home/rsandhu/.conda-envs/bpr_env/lib/python3.12/multiprocessing/process.py\", line 108, in run\n",
      "    self._target(*self._args, **self._kwargs)\n",
      "  File \"/home/rsandhu/.conda-envs/bpr_env/lib/python3.12/multiprocessing/pool.py\", line 125, in worker\n",
      "    result = (True, func(*args, **kwds))\n",
      "                    ^^^^^^^^^^^^^^^^^^^\n",
      "  File \"/home/rsandhu/.conda-envs/bpr_env/lib/python3.12/multiprocessing/pool.py\", line 48, in mapstar\n",
      "    return list(map(*args))\n",
      "           ^^^^^^^^^^^^^^^^\n",
      "  File \"/kfs2/projects/zazzle/rsandhu/pybpr/pybpr/bpr.py\", line 357, in bpr_update\n",
      "    item_ith, item_jth = negative_sampler(iuser=this_user)\n",
      "                         ^^^^^^^^^^^^^^^^^^^^^^^^^^^^^^^^^\n",
      "  File \"/home/rsandhu/.conda-envs/bpr_env/lib/python3.12/multiprocessing/process.py\", line 314, in _bootstrap\n",
      "    self.run()\n",
      "  File \"/home/rsandhu/.conda-envs/bpr_env/lib/python3.12/multiprocessing/process.py\", line 108, in run\n",
      "    self._target(*self._args, **self._kwargs)\n",
      "KeyboardInterrupt\n",
      "  File \"/home/rsandhu/.conda-envs/bpr_env/lib/python3.12/multiprocessing/process.py\", line 108, in run\n",
      "    self._target(*self._args, **self._kwargs)\n",
      "  File \"/kfs2/projects/zazzle/rsandhu/pybpr/pybpr/sampling.py\", line 118, in time_explicit_negative_sampler\n",
      "    neg_wgts = neg_uimat.tocsc()[iuser, neg_items].toarray()[0, :]\n",
      "               ^^^^^^^^^^^^^^^^^\n",
      "  File \"/home/rsandhu/.conda-envs/bpr_env/lib/python3.12/multiprocessing/process.py\", line 108, in run\n",
      "    self._target(*self._args, **self._kwargs)\n",
      "  File \"/home/rsandhu/.conda-envs/bpr_env/lib/python3.12/multiprocessing/pool.py\", line 125, in worker\n",
      "    result = (True, func(*args, **kwds))\n",
      "                    ^^^^^^^^^^^^^^^^^^^\n",
      "  File \"/home/rsandhu/.conda-envs/bpr_env/lib/python3.12/multiprocessing/pool.py\", line 125, in worker\n",
      "    result = (True, func(*args, **kwds))\n",
      "                    ^^^^^^^^^^^^^^^^^^^\n",
      "  File \"/home/rsandhu/.conda-envs/bpr_env/lib/python3.12/multiprocessing/pool.py\", line 48, in mapstar\n",
      "    return list(map(*args))\n",
      "           ^^^^^^^^^^^^^^^^\n",
      "  File \"/kfs2/projects/zazzle/rsandhu/pybpr/pybpr/bpr.py\", line 357, in bpr_update\n",
      "    item_ith, item_jth = negative_sampler(iuser=this_user)\n",
      "                         ^^^^^^^^^^^^^^^^^^^^^^^^^^^^^^^^^\n",
      "  File \"/home/rsandhu/.conda-envs/bpr_env/lib/python3.12/multiprocessing/pool.py\", line 48, in mapstar\n",
      "    return list(map(*args))\n",
      "           ^^^^^^^^^^^^^^^^\n",
      "  File \"/kfs2/projects/zazzle/rsandhu/pybpr/pybpr/sampling.py\", line 118, in time_explicit_negative_sampler\n",
      "    neg_wgts = neg_uimat.tocsc()[iuser, neg_items].toarray()[0, :]\n",
      "               ^^^^^^^^^^^^^^^^^\n",
      "  File \"/home/rsandhu/.conda-envs/bpr_env/lib/python3.12/site-packages/scipy/sparse/_csr.py\", line 184, in tocsc\n",
      "    csr_tocsc(self.shape[0], self.shape[1],\n",
      "KeyboardInterrupt\n",
      "Process ForkPoolWorker-69:\n",
      "Traceback (most recent call last):\n",
      "  File \"/home/rsandhu/.conda-envs/bpr_env/lib/python3.12/multiprocessing/process.py\", line 314, in _bootstrap\n",
      "    self.run()\n",
      "  File \"/home/rsandhu/.conda-envs/bpr_env/lib/python3.12/multiprocessing/process.py\", line 108, in run\n",
      "    self._target(*self._args, **self._kwargs)\n",
      "  File \"/home/rsandhu/.conda-envs/bpr_env/lib/python3.12/multiprocessing/pool.py\", line 125, in worker\n",
      "    result = (True, func(*args, **kwds))\n",
      "                    ^^^^^^^^^^^^^^^^^^^\n",
      "  File \"/home/rsandhu/.conda-envs/bpr_env/lib/python3.12/multiprocessing/pool.py\", line 48, in mapstar\n",
      "    return list(map(*args))\n",
      "           ^^^^^^^^^^^^^^^^\n",
      "  File \"/kfs2/projects/zazzle/rsandhu/pybpr/pybpr/bpr.py\", line 357, in bpr_update\n",
      "    item_ith, item_jth = negative_sampler(iuser=this_user)\n",
      "                         ^^^^^^^^^^^^^^^^^^^^^^^^^^^^^^^^^\n",
      "  File \"/kfs2/projects/zazzle/rsandhu/pybpr/pybpr/bpr.py\", line 357, in bpr_update\n",
      "    item_ith, item_jth = negative_sampler(iuser=this_user)\n",
      "                         ^^^^^^^^^^^^^^^^^^^^^^^^^^^^^^^^^\n",
      "  File \"/kfs2/projects/zazzle/rsandhu/pybpr/pybpr/sampling.py\", line 118, in time_explicit_negative_sampler\n",
      "    neg_wgts = neg_uimat.tocsc()[iuser, neg_items].toarray()[0, :]\n",
      "               ^^^^^^^^^^^^^^^^^\n",
      "  File \"/home/rsandhu/.conda-envs/bpr_env/lib/python3.12/site-packages/scipy/sparse/_csr.py\", line 184, in tocsc\n",
      "    csr_tocsc(self.shape[0], self.shape[1],\n",
      "KeyboardInterrupt\n",
      "  File \"/kfs2/projects/zazzle/rsandhu/pybpr/pybpr/sampling.py\", line 118, in time_explicit_negative_sampler\n",
      "    neg_wgts = neg_uimat.tocsc()[iuser, neg_items].toarray()[0, :]\n",
      "               ^^^^^^^^^^^^^^^^^\n",
      "  File \"/home/rsandhu/.conda-envs/bpr_env/lib/python3.12/multiprocessing/pool.py\", line 125, in worker\n",
      "    result = (True, func(*args, **kwds))\n",
      "                    ^^^^^^^^^^^^^^^^^^^\n",
      "  File \"/home/rsandhu/.conda-envs/bpr_env/lib/python3.12/site-packages/scipy/sparse/_csr.py\", line 184, in tocsc\n",
      "    csr_tocsc(self.shape[0], self.shape[1],\n",
      "  File \"/home/rsandhu/.conda-envs/bpr_env/lib/python3.12/site-packages/scipy/sparse/_csr.py\", line 184, in tocsc\n",
      "    csr_tocsc(self.shape[0], self.shape[1],\n",
      "KeyboardInterrupt\n",
      "KeyboardInterrupt\n",
      "  File \"/home/rsandhu/.conda-envs/bpr_env/lib/python3.12/multiprocessing/pool.py\", line 48, in mapstar\n",
      "    return list(map(*args))\n",
      "           ^^^^^^^^^^^^^^^^\n",
      "  File \"/kfs2/projects/zazzle/rsandhu/pybpr/pybpr/bpr.py\", line 357, in bpr_update\n",
      "    item_ith, item_jth = negative_sampler(iuser=this_user)\n",
      "                         ^^^^^^^^^^^^^^^^^^^^^^^^^^^^^^^^^\n",
      "  File \"/kfs2/projects/zazzle/rsandhu/pybpr/pybpr/sampling.py\", line 118, in time_explicit_negative_sampler\n",
      "    neg_wgts = neg_uimat.tocsc()[iuser, neg_items].toarray()[0, :]\n",
      "               ^^^^^^^^^^^^^^^^^\n",
      "  File \"/home/rsandhu/.conda-envs/bpr_env/lib/python3.12/site-packages/scipy/sparse/_csr.py\", line 184, in tocsc\n",
      "    csr_tocsc(self.shape[0], self.shape[1],\n",
      "KeyboardInterrupt\n"
     ]
    },
    {
     "name": "stdout",
     "output_type": "stream",
     "text": [
      "BPR-Train:  25%|██▌       | 1274119/5000000 [01:32<04:31, 13729.07it/s]"
     ]
    },
    {
     "name": "stderr",
     "output_type": "stream",
     "text": [
      "Process ForkPoolWorker-5:\n",
      "Traceback (most recent call last):\n",
      "  File \"/home/rsandhu/.conda-envs/bpr_env/lib/python3.12/multiprocessing/process.py\", line 314, in _bootstrap\n",
      "    self.run()\n",
      "Process ForkPoolWorker-73:\n",
      "  File \"/home/rsandhu/.conda-envs/bpr_env/lib/python3.12/multiprocessing/process.py\", line 108, in run\n",
      "    self._target(*self._args, **self._kwargs)\n",
      "  File \"/home/rsandhu/.conda-envs/bpr_env/lib/python3.12/multiprocessing/pool.py\", line 125, in worker\n",
      "    result = (True, func(*args, **kwds))\n",
      "                    ^^^^^^^^^^^^^^^^^^^\n",
      "  File \"/home/rsandhu/.conda-envs/bpr_env/lib/python3.12/multiprocessing/pool.py\", line 48, in mapstar\n",
      "    return list(map(*args))\n",
      "           ^^^^^^^^^^^^^^^^\n",
      "  File \"/kfs2/projects/zazzle/rsandhu/pybpr/pybpr/bpr.py\", line 357, in bpr_update\n",
      "    item_ith, item_jth = negative_sampler(iuser=this_user)\n",
      "                         ^^^^^^^^^^^^^^^^^^^^^^^^^^^^^^^^^\n",
      "  File \"/kfs2/projects/zazzle/rsandhu/pybpr/pybpr/sampling.py\", line 118, in time_explicit_negative_sampler\n",
      "    neg_wgts = neg_uimat.tocsc()[iuser, neg_items].toarray()[0, :]\n",
      "               ^^^^^^^^^^^^^^^^^\n",
      "  File \"/home/rsandhu/.conda-envs/bpr_env/lib/python3.12/site-packages/scipy/sparse/_csr.py\", line 184, in tocsc\n",
      "    csr_tocsc(self.shape[0], self.shape[1],\n",
      "KeyboardInterrupt\n",
      "Traceback (most recent call last):\n",
      "  File \"/home/rsandhu/.conda-envs/bpr_env/lib/python3.12/multiprocessing/process.py\", line 314, in _bootstrap\n",
      "    self.run()\n",
      "  File \"/home/rsandhu/.conda-envs/bpr_env/lib/python3.12/multiprocessing/process.py\", line 108, in run\n",
      "    self._target(*self._args, **self._kwargs)\n",
      "  File \"/home/rsandhu/.conda-envs/bpr_env/lib/python3.12/multiprocessing/pool.py\", line 125, in worker\n",
      "    result = (True, func(*args, **kwds))\n",
      "                    ^^^^^^^^^^^^^^^^^^^\n",
      "  File \"/home/rsandhu/.conda-envs/bpr_env/lib/python3.12/multiprocessing/pool.py\", line 48, in mapstar\n",
      "    return list(map(*args))\n",
      "           ^^^^^^^^^^^^^^^^\n",
      "  File \"/kfs2/projects/zazzle/rsandhu/pybpr/pybpr/bpr.py\", line 357, in bpr_update\n",
      "    item_ith, item_jth = negative_sampler(iuser=this_user)\n",
      "                         ^^^^^^^^^^^^^^^^^^^^^^^^^^^^^^^^^\n",
      "  File \"/kfs2/projects/zazzle/rsandhu/pybpr/pybpr/sampling.py\", line 118, in time_explicit_negative_sampler\n",
      "    neg_wgts = neg_uimat.tocsc()[iuser, neg_items].toarray()[0, :]\n",
      "               ^^^^^^^^^^^^^^^^^\n",
      "  File \"/home/rsandhu/.conda-envs/bpr_env/lib/python3.12/site-packages/scipy/sparse/_csr.py\", line 184, in tocsc\n",
      "    csr_tocsc(self.shape[0], self.shape[1],\n",
      "KeyboardInterrupt\n",
      "Process ForkPoolWorker-83:\n",
      "Traceback (most recent call last):\n",
      "  File \"/home/rsandhu/.conda-envs/bpr_env/lib/python3.12/multiprocessing/process.py\", line 314, in _bootstrap\n",
      "    self.run()\n",
      "  File \"/home/rsandhu/.conda-envs/bpr_env/lib/python3.12/multiprocessing/process.py\", line 108, in run\n",
      "    self._target(*self._args, **self._kwargs)\n",
      "  File \"/home/rsandhu/.conda-envs/bpr_env/lib/python3.12/multiprocessing/pool.py\", line 125, in worker\n",
      "    result = (True, func(*args, **kwds))\n",
      "                    ^^^^^^^^^^^^^^^^^^^\n",
      "  File \"/home/rsandhu/.conda-envs/bpr_env/lib/python3.12/multiprocessing/pool.py\", line 48, in mapstar\n",
      "    return list(map(*args))\n",
      "           ^^^^^^^^^^^^^^^^\n",
      "  File \"/kfs2/projects/zazzle/rsandhu/pybpr/pybpr/bpr.py\", line 357, in bpr_update\n",
      "    item_ith, item_jth = negative_sampler(iuser=this_user)\n",
      "                         ^^^^^^^^^^^^^^^^^^^^^^^^^^^^^^^^^\n",
      "  File \"/kfs2/projects/zazzle/rsandhu/pybpr/pybpr/sampling.py\", line 118, in time_explicit_negative_sampler\n",
      "    neg_wgts = neg_uimat.tocsc()[iuser, neg_items].toarray()[0, :]\n",
      "               ^^^^^^^^^^^^^^^^^\n",
      "Process ForkPoolWorker-31:\n",
      "  File \"/home/rsandhu/.conda-envs/bpr_env/lib/python3.12/site-packages/scipy/sparse/_csr.py\", line 184, in tocsc\n",
      "    csr_tocsc(self.shape[0], self.shape[1],\n",
      "KeyboardInterrupt\n",
      "Traceback (most recent call last):\n",
      "  File \"/home/rsandhu/.conda-envs/bpr_env/lib/python3.12/multiprocessing/process.py\", line 314, in _bootstrap\n",
      "    self.run()\n",
      "  File \"/home/rsandhu/.conda-envs/bpr_env/lib/python3.12/multiprocessing/process.py\", line 108, in run\n",
      "    self._target(*self._args, **self._kwargs)\n",
      "  File \"/home/rsandhu/.conda-envs/bpr_env/lib/python3.12/multiprocessing/pool.py\", line 125, in worker\n",
      "    result = (True, func(*args, **kwds))\n",
      "                    ^^^^^^^^^^^^^^^^^^^\n",
      "  File \"/home/rsandhu/.conda-envs/bpr_env/lib/python3.12/multiprocessing/pool.py\", line 48, in mapstar\n",
      "    return list(map(*args))\n",
      "           ^^^^^^^^^^^^^^^^\n",
      "  File \"/kfs2/projects/zazzle/rsandhu/pybpr/pybpr/bpr.py\", line 357, in bpr_update\n",
      "    item_ith, item_jth = negative_sampler(iuser=this_user)\n",
      "                         ^^^^^^^^^^^^^^^^^^^^^^^^^^^^^^^^^\n",
      "  File \"/kfs2/projects/zazzle/rsandhu/pybpr/pybpr/sampling.py\", line 118, in time_explicit_negative_sampler\n",
      "    neg_wgts = neg_uimat.tocsc()[iuser, neg_items].toarray()[0, :]\n",
      "               ^^^^^^^^^^^^^^^^^\n",
      "  File \"/home/rsandhu/.conda-envs/bpr_env/lib/python3.12/site-packages/scipy/sparse/_csr.py\", line 184, in tocsc\n",
      "    csr_tocsc(self.shape[0], self.shape[1],\n",
      "KeyboardInterrupt\n",
      "Process ForkPoolWorker-45:\n",
      "Traceback (most recent call last):\n",
      "  File \"/home/rsandhu/.conda-envs/bpr_env/lib/python3.12/multiprocessing/process.py\", line 314, in _bootstrap\n",
      "    self.run()\n",
      "  File \"/home/rsandhu/.conda-envs/bpr_env/lib/python3.12/multiprocessing/process.py\", line 108, in run\n",
      "    self._target(*self._args, **self._kwargs)\n",
      "  File \"/home/rsandhu/.conda-envs/bpr_env/lib/python3.12/multiprocessing/pool.py\", line 125, in worker\n",
      "    result = (True, func(*args, **kwds))\n",
      "                    ^^^^^^^^^^^^^^^^^^^\n",
      "  File \"/home/rsandhu/.conda-envs/bpr_env/lib/python3.12/multiprocessing/pool.py\", line 48, in mapstar\n",
      "    return list(map(*args))\n",
      "           ^^^^^^^^^^^^^^^^\n",
      "  File \"/kfs2/projects/zazzle/rsandhu/pybpr/pybpr/bpr.py\", line 357, in bpr_update\n",
      "    item_ith, item_jth = negative_sampler(iuser=this_user)\n",
      "                         ^^^^^^^^^^^^^^^^^^^^^^^^^^^^^^^^^\n",
      "  File \"/kfs2/projects/zazzle/rsandhu/pybpr/pybpr/sampling.py\", line 118, in time_explicit_negative_sampler\n",
      "    neg_wgts = neg_uimat.tocsc()[iuser, neg_items].toarray()[0, :]\n",
      "               ^^^^^^^^^^^^^^^^^\n",
      "  File \"/home/rsandhu/.conda-envs/bpr_env/lib/python3.12/site-packages/scipy/sparse/_csr.py\", line 184, in tocsc\n",
      "    csr_tocsc(self.shape[0], self.shape[1],\n",
      "KeyboardInterrupt\n",
      "Process ForkPoolWorker-65:\n"
     ]
    },
    {
     "name": "stdout",
     "output_type": "stream",
     "text": [
      "\n"
     ]
    },
    {
     "ename": "KeyboardInterrupt",
     "evalue": "",
     "output_type": "error",
     "traceback": [
      "\u001b[0;31m---------------------------------------------------------------------------\u001b[0m",
      "\u001b[0;31mKeyboardInterrupt\u001b[0m                         Traceback (most recent call last)",
      "Cell \u001b[0;32mIn[10], line 11\u001b[0m\n\u001b[1;32m      9\u001b[0m bpr_texp\u001b[38;5;241m.\u001b[39minitiate(num_users\u001b[38;5;241m=\u001b[39mnum_users, num_items\u001b[38;5;241m=\u001b[39mnum_items)\n\u001b[1;32m     10\u001b[0m \u001b[38;5;28;01mfor\u001b[39;00m _ \u001b[38;5;129;01min\u001b[39;00m \u001b[38;5;28mrange\u001b[39m(\u001b[38;5;241m5\u001b[39m):\n\u001b[0;32m---> 11\u001b[0m     results \u001b[38;5;241m=\u001b[39m \u001b[43mbpr_fit\u001b[49m\u001b[43m(\u001b[49m\n\u001b[1;32m     12\u001b[0m \u001b[43m        \u001b[49m\u001b[43mbpr_obj\u001b[49m\u001b[38;5;241;43m=\u001b[39;49m\u001b[43mbpr_texp\u001b[49m\u001b[43m,\u001b[49m\u001b[43m \u001b[49m\n\u001b[1;32m     13\u001b[0m \u001b[43m        \u001b[49m\u001b[43mneg_sampler\u001b[49m\u001b[38;5;241;43m=\u001b[39;49m\u001b[43mneg_sampler_texp\u001b[49m\u001b[43m,\u001b[49m\u001b[43m \u001b[49m\n\u001b[1;32m     14\u001b[0m \u001b[43m        \u001b[49m\u001b[43mncores\u001b[49m\u001b[38;5;241;43m=\u001b[39;49m\u001b[38;5;241;43m104\u001b[39;49m\n\u001b[1;32m     15\u001b[0m \u001b[43m    \u001b[49m\u001b[43m)\u001b[49m\n\u001b[1;32m     16\u001b[0m     mfunc \u001b[38;5;241m=\u001b[39m partial(\n\u001b[1;32m     17\u001b[0m         bpr_texp\u001b[38;5;241m.\u001b[39mget_metric_v1,\n\u001b[1;32m     18\u001b[0m         perc_active_users\u001b[38;5;241m=\u001b[39m\u001b[38;5;241m0.5\u001b[39m,\n\u001b[0;32m   (...)\u001b[0m\n\u001b[1;32m     21\u001b[0m         max_users_per_batch\u001b[38;5;241m=\u001b[39m\u001b[38;5;241m100\u001b[39m\n\u001b[1;32m     22\u001b[0m     )\n\u001b[1;32m     23\u001b[0m     _ \u001b[38;5;241m=\u001b[39m mfunc(uimat\u001b[38;5;241m=\u001b[39mmat_train_pos)\n",
      "File \u001b[0;32m/kfs2/projects/zazzle/rsandhu/pybpr/pybpr/bpr.py:405\u001b[0m, in \u001b[0;36mbpr_fit\u001b[0;34m(bpr_obj, neg_sampler, ncores)\u001b[0m\n\u001b[1;32m    402\u001b[0m \u001b[38;5;28;01melse\u001b[39;00m:\n\u001b[1;32m    403\u001b[0m     \u001b[38;5;66;03m# with ParallelPool(ncpus=ncores) as p:\u001b[39;00m\n\u001b[1;32m    404\u001b[0m     \u001b[38;5;28;01mwith\u001b[39;00m mp\u001b[38;5;241m.\u001b[39mPool(ncores) \u001b[38;5;28;01mas\u001b[39;00m p:\n\u001b[0;32m--> 405\u001b[0m         \u001b[43mp\u001b[49m\u001b[38;5;241;43m.\u001b[39;49m\u001b[43mmap\u001b[49m\u001b[43m(\u001b[49m\u001b[43mfn\u001b[49m\u001b[43m,\u001b[49m\u001b[43m \u001b[49m\u001b[43mpbar\u001b[49m\u001b[43m)\u001b[49m\n",
      "File \u001b[0;32m~/.conda-envs/bpr_env/lib/python3.12/multiprocessing/pool.py:367\u001b[0m, in \u001b[0;36mPool.map\u001b[0;34m(self, func, iterable, chunksize)\u001b[0m\n\u001b[1;32m    362\u001b[0m \u001b[38;5;28;01mdef\u001b[39;00m \u001b[38;5;21mmap\u001b[39m(\u001b[38;5;28mself\u001b[39m, func, iterable, chunksize\u001b[38;5;241m=\u001b[39m\u001b[38;5;28;01mNone\u001b[39;00m):\n\u001b[1;32m    363\u001b[0m \u001b[38;5;250m    \u001b[39m\u001b[38;5;124;03m'''\u001b[39;00m\n\u001b[1;32m    364\u001b[0m \u001b[38;5;124;03m    Apply `func` to each element in `iterable`, collecting the results\u001b[39;00m\n\u001b[1;32m    365\u001b[0m \u001b[38;5;124;03m    in a list that is returned.\u001b[39;00m\n\u001b[1;32m    366\u001b[0m \u001b[38;5;124;03m    '''\u001b[39;00m\n\u001b[0;32m--> 367\u001b[0m     \u001b[38;5;28;01mreturn\u001b[39;00m \u001b[38;5;28;43mself\u001b[39;49m\u001b[38;5;241;43m.\u001b[39;49m\u001b[43m_map_async\u001b[49m\u001b[43m(\u001b[49m\u001b[43mfunc\u001b[49m\u001b[43m,\u001b[49m\u001b[43m \u001b[49m\u001b[43miterable\u001b[49m\u001b[43m,\u001b[49m\u001b[43m \u001b[49m\u001b[43mmapstar\u001b[49m\u001b[43m,\u001b[49m\u001b[43m \u001b[49m\u001b[43mchunksize\u001b[49m\u001b[43m)\u001b[49m\u001b[38;5;241;43m.\u001b[39;49m\u001b[43mget\u001b[49m\u001b[43m(\u001b[49m\u001b[43m)\u001b[49m\n",
      "File \u001b[0;32m~/.conda-envs/bpr_env/lib/python3.12/multiprocessing/pool.py:768\u001b[0m, in \u001b[0;36mApplyResult.get\u001b[0;34m(self, timeout)\u001b[0m\n\u001b[1;32m    767\u001b[0m \u001b[38;5;28;01mdef\u001b[39;00m \u001b[38;5;21mget\u001b[39m(\u001b[38;5;28mself\u001b[39m, timeout\u001b[38;5;241m=\u001b[39m\u001b[38;5;28;01mNone\u001b[39;00m):\n\u001b[0;32m--> 768\u001b[0m     \u001b[38;5;28;43mself\u001b[39;49m\u001b[38;5;241;43m.\u001b[39;49m\u001b[43mwait\u001b[49m\u001b[43m(\u001b[49m\u001b[43mtimeout\u001b[49m\u001b[43m)\u001b[49m\n\u001b[1;32m    769\u001b[0m     \u001b[38;5;28;01mif\u001b[39;00m \u001b[38;5;129;01mnot\u001b[39;00m \u001b[38;5;28mself\u001b[39m\u001b[38;5;241m.\u001b[39mready():\n\u001b[1;32m    770\u001b[0m         \u001b[38;5;28;01mraise\u001b[39;00m \u001b[38;5;167;01mTimeoutError\u001b[39;00m\n",
      "File \u001b[0;32m~/.conda-envs/bpr_env/lib/python3.12/multiprocessing/pool.py:765\u001b[0m, in \u001b[0;36mApplyResult.wait\u001b[0;34m(self, timeout)\u001b[0m\n\u001b[1;32m    764\u001b[0m \u001b[38;5;28;01mdef\u001b[39;00m \u001b[38;5;21mwait\u001b[39m(\u001b[38;5;28mself\u001b[39m, timeout\u001b[38;5;241m=\u001b[39m\u001b[38;5;28;01mNone\u001b[39;00m):\n\u001b[0;32m--> 765\u001b[0m     \u001b[38;5;28;43mself\u001b[39;49m\u001b[38;5;241;43m.\u001b[39;49m\u001b[43m_event\u001b[49m\u001b[38;5;241;43m.\u001b[39;49m\u001b[43mwait\u001b[49m\u001b[43m(\u001b[49m\u001b[43mtimeout\u001b[49m\u001b[43m)\u001b[49m\n",
      "File \u001b[0;32m~/.conda-envs/bpr_env/lib/python3.12/threading.py:655\u001b[0m, in \u001b[0;36mEvent.wait\u001b[0;34m(self, timeout)\u001b[0m\n\u001b[1;32m    653\u001b[0m signaled \u001b[38;5;241m=\u001b[39m \u001b[38;5;28mself\u001b[39m\u001b[38;5;241m.\u001b[39m_flag\n\u001b[1;32m    654\u001b[0m \u001b[38;5;28;01mif\u001b[39;00m \u001b[38;5;129;01mnot\u001b[39;00m signaled:\n\u001b[0;32m--> 655\u001b[0m     signaled \u001b[38;5;241m=\u001b[39m \u001b[38;5;28;43mself\u001b[39;49m\u001b[38;5;241;43m.\u001b[39;49m\u001b[43m_cond\u001b[49m\u001b[38;5;241;43m.\u001b[39;49m\u001b[43mwait\u001b[49m\u001b[43m(\u001b[49m\u001b[43mtimeout\u001b[49m\u001b[43m)\u001b[49m\n\u001b[1;32m    656\u001b[0m \u001b[38;5;28;01mreturn\u001b[39;00m signaled\n",
      "File \u001b[0;32m~/.conda-envs/bpr_env/lib/python3.12/threading.py:355\u001b[0m, in \u001b[0;36mCondition.wait\u001b[0;34m(self, timeout)\u001b[0m\n\u001b[1;32m    353\u001b[0m \u001b[38;5;28;01mtry\u001b[39;00m:    \u001b[38;5;66;03m# restore state no matter what (e.g., KeyboardInterrupt)\u001b[39;00m\n\u001b[1;32m    354\u001b[0m     \u001b[38;5;28;01mif\u001b[39;00m timeout \u001b[38;5;129;01mis\u001b[39;00m \u001b[38;5;28;01mNone\u001b[39;00m:\n\u001b[0;32m--> 355\u001b[0m         \u001b[43mwaiter\u001b[49m\u001b[38;5;241;43m.\u001b[39;49m\u001b[43macquire\u001b[49m\u001b[43m(\u001b[49m\u001b[43m)\u001b[49m\n\u001b[1;32m    356\u001b[0m         gotit \u001b[38;5;241m=\u001b[39m \u001b[38;5;28;01mTrue\u001b[39;00m\n\u001b[1;32m    357\u001b[0m     \u001b[38;5;28;01melse\u001b[39;00m:\n",
      "\u001b[0;31mKeyboardInterrupt\u001b[0m: "
     ]
    }
   ],
   "source": [
    "#time explicit negative sampler\n",
    "neg_sampler_texp = partial(\n",
    "    time_explicit_negative_sampler, \n",
    "    pos_uimat=mat_train_pos,\n",
    "    neg_uimat=mat_train_neg\n",
    ")\n",
    "\n",
    "bpr_texp = bpr_base\n",
    "bpr_texp.initiate(num_users=num_users, num_items=num_items)\n",
    "for _ in range(5):\n",
    "    results = bpr_fit(\n",
    "        bpr_obj=bpr_texp, \n",
    "        neg_sampler=neg_sampler_texp, \n",
    "        ncores=104\n",
    "    )\n",
    "    mfunc = partial(\n",
    "        bpr_texp.get_metric_v1,\n",
    "        perc_active_users=0.5,\n",
    "        perc_active_items=0.5,\n",
    "        num_recs=60,\n",
    "        max_users_per_batch=100\n",
    "    )\n",
    "    _ = mfunc(uimat=mat_train_pos)"
   ]
  },
  {
   "cell_type": "code",
   "execution_count": null,
   "id": "2f4593f5-3d2b-49fe-a5be-0e728116fd0a",
   "metadata": {},
   "outputs": [],
   "source": []
  },
  {
   "cell_type": "code",
   "execution_count": null,
   "id": "a61c46a9-b1a9-43e8-9bed-3948bf9e35f0",
   "metadata": {},
   "outputs": [],
   "source": [
    "bpr_uni.metric_tracker"
   ]
  },
  {
   "cell_type": "code",
   "execution_count": null,
   "id": "57446b03-b9fe-4d12-a87e-d3d2b7e03317",
   "metadata": {},
   "outputs": [],
   "source": [
    "_ = plt.hist(np.asarray(mat_test.sum(axis=1)), bins=40, range=(1,60))"
   ]
  },
  {
   "cell_type": "code",
   "execution_count": null,
   "id": "663ca6b3-b40d-4744-b69a-cd50701c5d1d",
   "metadata": {},
   "outputs": [],
   "source": [
    "np.flip(np.sort(np.asarray(mat_test.sum(axis=1)).flatten()))[:50]"
   ]
  },
  {
   "cell_type": "code",
   "execution_count": null,
   "id": "8842a173-5f4b-494b-84a5-0ae5a27d2ab0",
   "metadata": {},
   "outputs": [],
   "source": [
    "mat_test.dtype == np.float16"
   ]
  },
  {
   "cell_type": "code",
   "execution_count": null,
   "id": "3fd40262-bc64-4845-be88-bb1b2400bd98",
   "metadata": {},
   "outputs": [],
   "source": [
    "\n",
    "# # explicit negative sampler\n",
    "# neg_sampler_exp = partial(\n",
    "#     explicit_negative_sampler,\n",
    "#     pos_uimat=mat_train_pos,\n",
    "#     neg_uimat=mat_train_neg\n",
    "# )\n",
    "# # timed explicit negative sampler\n",
    "# neg_sampler_texp = partial(\n",
    "#     time_explicit_negative_sampler,\n",
    "#     pos_uimat=mat_train_pos,\n",
    "#     neg_uimat=mat_train_neg\n",
    "# )\n",
    "\n",
    "# bpr1 = BPR(\n",
    "#     num_features=200,\n",
    "#     reg_lambda=0.0,\n",
    "#     num_iters=500,\n",
    "#     learning_rate = 0.1,\n",
    "#     batch_size=10000,\n",
    "#     initial_std=0.0001,\n",
    "# )\n"
   ]
  },
  {
   "cell_type": "code",
   "execution_count": null,
   "id": "b801d51a-145a-4b5d-8ad6-66fa78572b06",
   "metadata": {},
   "outputs": [],
   "source": [
    "num_items"
   ]
  },
  {
   "cell_type": "code",
   "execution_count": null,
   "id": "7c589596-48a0-47c2-b254-b34edebdf53f",
   "metadata": {},
   "outputs": [],
   "source": [
    "# def get_time_weighting(x, cutoff_days, scaling_days):\n",
    "#     scale = timedelta(days=scaling_days).total_seconds()\n",
    "#     cutoff = timedelta(days=cutoff_days).total_seconds()\n",
    "#     iday = timedelta(days=x).total_seconds()\n",
    "#     return expit(-(iday-cutoff)/scale)\n",
    "\n",
    "# fig, ax = plt.subplots(figsize=(5,3))\n",
    "# x = np.linspace(0,40,41)\n",
    "# weekly_fn = partial(get_time_weighting, cutoff_days=7, scaling_days=1)\n",
    "# ax.plot(x, [weekly_fn(ix) for ix in x],'-r', label='Weekly BPR')\n",
    "# monthly_fn = partial(get_time_weighting, cutoff_days=25, scaling_days=2)\n",
    "# ax.plot(x, [monthly_fn(ix) for ix in x],'-b', label='Monthly BPR')\n",
    "# ax.grid(True)\n",
    "# ax.legend()\n",
    "# ax.set_xlabel('Time lag (days)')\n",
    "# ax.set_ylabel('Time weighting')"
   ]
  },
  {
   "cell_type": "code",
   "execution_count": null,
   "id": "1409f88b-d7e3-433a-8d71-cf5f2a5ec016",
   "metadata": {},
   "outputs": [],
   "source": [
    "df_c['date_created]"
   ]
  },
  {
   "cell_type": "code",
   "execution_count": null,
   "id": "a89005f6-5f74-4a3b-b455-7a78937dea88",
   "metadata": {},
   "outputs": [],
   "source": []
  },
  {
   "cell_type": "code",
   "execution_count": null,
   "id": "e99e84c9-55e8-4603-9117-bb13fe18f8c3",
   "metadata": {},
   "outputs": [],
   "source": [
    "tlags"
   ]
  },
  {
   "cell_type": "code",
   "execution_count": null,
   "id": "78e5b33c-128d-4e7f-b301-c5d9c2f747d6",
   "metadata": {},
   "outputs": [],
   "source": []
  },
  {
   "cell_type": "code",
   "execution_count": null,
   "id": "6e240338-3673-45ef-b78f-03f2921c6489",
   "metadata": {},
   "outputs": [],
   "source": []
  },
  {
   "cell_type": "code",
   "execution_count": null,
   "id": "888f8648-0823-4e82-ad8c-23c106f60d07",
   "metadata": {},
   "outputs": [],
   "source": []
  },
  {
   "cell_type": "code",
   "execution_count": null,
   "id": "52261621-fc08-47ac-8fcd-d02a133ad222",
   "metadata": {},
   "outputs": [],
   "source": [
    "num_users = df_v.user_id.nunique()\n",
    "num_items = df_v.product_id.nunique()\n",
    "\n",
    "# viewed not clicked\n",
    "test_ratio = 0.0\n",
    "data_viewed_not_clicked = UserItemInteractions(\n",
    "    users_index=df_v_not_c['user_idx'],\n",
    "    items_index=df_v_not_c['product_idx'],\n",
    "    num_users=num_users,\n",
    "    num_items=num_items\n",
    ")\n",
    "data_viewed_not_clicked.generate_train_test(user_test_ratio=test_ratio)\n",
    "\n",
    "# clicked\n",
    "data_clicked = UserItemInteractions(\n",
    "    users_index=df_c['user_idx'],\n",
    "    items_index=df_c['product_idx'],\n",
    "    num_users=num_users,\n",
    "    num_items=num_items\n",
    ")\n",
    "data_clicked.generate_train_test(user_test_ratio=test_ratio)\n",
    "\n",
    "# clicked not ordered\n",
    "data_clicked_not_ordered = UserItemInteractions(\n",
    "    users_index=df_c_not_o['user_idx'],\n",
    "    items_index=df_c_not_o['product_idx'],\n",
    "    num_users=num_users,\n",
    "    num_items=num_items\n",
    ")\n",
    "data_clicked_not_ordered.generate_train_test(user_test_ratio=test_ratio)\n",
    "\n",
    "# ordered\n",
    "data_ordered = UserItemInteractions(\n",
    "    users_index=df_o['user_idx'],\n",
    "    items_index=df_o['product_idx'],\n",
    "    num_users=num_users,\n",
    "    num_items=num_items\n",
    ")\n",
    "data_ordered.generate_train_test(user_test_ratio=test_ratio)"
   ]
  },
  {
   "cell_type": "markdown",
   "id": "a9d6885d-e0f6-4543-8271-821796e48b72",
   "metadata": {},
   "source": [
    "## BPR "
   ]
  },
  {
   "cell_type": "code",
   "execution_count": null,
   "id": "783a4e91-67c5-4602-835f-6582375ef52b",
   "metadata": {},
   "outputs": [],
   "source": [
    "bpr1 = BPR(\n",
    "    num_features=200,\n",
    "    reg_lambda=0.0,\n",
    "    num_iters=500,\n",
    "    learning_rate = 0.1,\n",
    "    batch_size=15000,\n",
    "    initial_std=0.0001,\n",
    ")\n",
    "bpr1.initiate(num_users=data_clicked.num_users, num_items=data_clicked.num_items)"
   ]
  },
  {
   "cell_type": "code",
   "execution_count": null,
   "id": "21267e5e-af25-422a-80d7-7f45632ea236",
   "metadata": {},
   "outputs": [],
   "source": [
    "pos_data = data_clicked\n",
    "neg_data = data_clicked_not_ordered\n",
    "metric_log_train = []\n",
    "# neg_sampler = partial(\n",
    "#     uniform_negative_sampler, \n",
    "#     uimat=training_data\n",
    "# )\n",
    "neg_sampler = partial(\n",
    "    explicit_negative_sampler,\n",
    "    pos_uimat=pos_data.mat,\n",
    "    neg_uimat=neg_data.mat\n",
    ")\n",
    "\n",
    "for _ in range(4):\n",
    "    results = bpr_fit(\n",
    "        bpr_obj=bpr1, \n",
    "        neg_sampler=neg_sampler, \n",
    "        ncores=104\n",
    "    )\n",
    "    mfunc = partial(\n",
    "        bpr1.get_metric_v1,\n",
    "        perc_active_users=0.25,\n",
    "        perc_active_items=0.25,\n",
    "        num_recs=60,\n",
    "        max_users_per_batch=1000\n",
    "    )\n",
    "    metric_log_train.append(mfunc(uimat=pos_data.mat))\n",
    "metric_log_train = np.asarray(metric_log_train)"
   ]
  },
  {
   "cell_type": "code",
   "execution_count": null,
   "id": "9c452ee3-7c48-438a-b502-446f63ff428e",
   "metadata": {},
   "outputs": [],
   "source": [
    "metric_log_train"
   ]
  },
  {
   "cell_type": "code",
   "execution_count": null,
   "id": "3560a24e-2464-48e5-ba7b-0ff5e893ab5e",
   "metadata": {},
   "outputs": [],
   "source": [
    "OUT_DIR ='/projects/zazzle/rsandhu/pybpr/examples/output'\n",
    "bpr1.save_model(dir_name=OUT_DIR)"
   ]
  },
  {
   "cell_type": "code",
   "execution_count": null,
   "id": "a0208e62-5203-49ed-a958-2f0fa9847e7e",
   "metadata": {},
   "outputs": [],
   "source": [
    "bpr1.load_model(OUT_DIR)"
   ]
  },
  {
   "cell_type": "code",
   "execution_count": null,
   "id": "1e9dd143-279b-46df-926a-d90df9bcc4e5",
   "metadata": {},
   "outputs": [],
   "source": [
    "bpr2 = BPR()\n",
    "bpr2.load_model(OUT_DIR)"
   ]
  },
  {
   "cell_type": "code",
   "execution_count": null,
   "id": "7672f388-8965-457d-a256-feefc269a204",
   "metadata": {},
   "outputs": [],
   "source": [
    "np.all(bpr2.umat == bpr1.umat)\n",
    "np.all(bpr2.imat == bpr1.imat)"
   ]
  },
  {
   "cell_type": "code",
   "execution_count": null,
   "id": "8496e277-87c4-4887-b2fd-e8e1ca712dc3",
   "metadata": {},
   "outputs": [],
   "source": [
    "bpr2"
   ]
  },
  {
   "cell_type": "code",
   "execution_count": null,
   "id": "853a0029-d769-436f-852a-8839319f8ac4",
   "metadata": {},
   "outputs": [],
   "source": [
    "bpr1"
   ]
  },
  {
   "cell_type": "code",
   "execution_count": null,
   "id": "277bb224-fc10-4ee9-97ad-8d02c6743999",
   "metadata": {},
   "outputs": [],
   "source": []
  }
 ],
 "metadata": {
  "kernelspec": {
   "display_name": "bpr_env",
   "language": "python",
   "name": "bpr_env"
  },
  "language_info": {
   "codemirror_mode": {
    "name": "ipython",
    "version": 3
   },
   "file_extension": ".py",
   "mimetype": "text/x-python",
   "name": "python",
   "nbconvert_exporter": "python",
   "pygments_lexer": "ipython3",
   "version": "3.10.13"
  }
 },
 "nbformat": 4,
 "nbformat_minor": 5
}
