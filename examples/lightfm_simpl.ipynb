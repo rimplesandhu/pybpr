{
 "cells": [
  {
   "cell_type": "code",
   "execution_count": 1,
   "id": "6985b0da",
   "metadata": {},
   "outputs": [],
   "source": [
    "#%load_ext watermark\n",
    "%load_ext autoreload \n",
    "%autoreload 2"
   ]
  },
  {
   "cell_type": "code",
   "execution_count": 2,
   "id": "6f571098",
   "metadata": {},
   "outputs": [],
   "source": [
    "import os\n",
    "import sys\n",
    "import itertools\n",
    "import numpy as np\n",
    "import pandas as pd\n",
    "from subprocess import call\n",
    "# import pybpr\n",
    "import matplotlib.pyplot as plt\n",
    "from functools import partial\n",
    "from sklearn.feature_extraction import DictVectorizer\n",
    "from scipy.special import expit"
   ]
  },
  {
   "cell_type": "code",
   "execution_count": 3,
   "id": "63b87ee8-3ee2-4e42-b3cd-2e4f5434101a",
   "metadata": {},
   "outputs": [
    {
     "name": "stdout",
     "output_type": "stream",
     "text": [
      "5 4\n"
     ]
    },
    {
     "data": {
      "text/html": [
       "<div>\n",
       "<style scoped>\n",
       "    .dataframe tbody tr th:only-of-type {\n",
       "        vertical-align: middle;\n",
       "    }\n",
       "\n",
       "    .dataframe tbody tr th {\n",
       "        vertical-align: top;\n",
       "    }\n",
       "\n",
       "    .dataframe thead th {\n",
       "        text-align: right;\n",
       "    }\n",
       "</style>\n",
       "<table border=\"1\" class=\"dataframe\">\n",
       "  <thead>\n",
       "    <tr style=\"text-align: right;\">\n",
       "      <th></th>\n",
       "      <th>feature1</th>\n",
       "      <th>feature2</th>\n",
       "      <th>feature3</th>\n",
       "      <th>feature4</th>\n",
       "    </tr>\n",
       "  </thead>\n",
       "  <tbody>\n",
       "    <tr>\n",
       "      <th>item1</th>\n",
       "      <td>1</td>\n",
       "      <td>0</td>\n",
       "      <td>0</td>\n",
       "      <td>1</td>\n",
       "    </tr>\n",
       "    <tr>\n",
       "      <th>item2</th>\n",
       "      <td>1</td>\n",
       "      <td>0</td>\n",
       "      <td>0</td>\n",
       "      <td>1</td>\n",
       "    </tr>\n",
       "    <tr>\n",
       "      <th>item3</th>\n",
       "      <td>0</td>\n",
       "      <td>1</td>\n",
       "      <td>1</td>\n",
       "      <td>0</td>\n",
       "    </tr>\n",
       "    <tr>\n",
       "      <th>item4</th>\n",
       "      <td>0</td>\n",
       "      <td>1</td>\n",
       "      <td>1</td>\n",
       "      <td>0</td>\n",
       "    </tr>\n",
       "    <tr>\n",
       "      <th>item5</th>\n",
       "      <td>0</td>\n",
       "      <td>1</td>\n",
       "      <td>1</td>\n",
       "      <td>0</td>\n",
       "    </tr>\n",
       "  </tbody>\n",
       "</table>\n",
       "</div>"
      ],
      "text/plain": [
       "       feature1  feature2  feature3  feature4\n",
       "item1         1         0         0         1\n",
       "item2         1         0         0         1\n",
       "item3         0         1         1         0\n",
       "item4         0         1         1         0\n",
       "item5         0         1         1         0"
      ]
     },
     "execution_count": 3,
     "metadata": {},
     "output_type": "execute_result"
    }
   ],
   "source": [
    "item_df = pd.DataFrame.from_dict(dict(\n",
    "    item1=[1,0,0,1],\n",
    "    item2=[1,0,0,1],\n",
    "    item3=[0,1,1,0],\n",
    "    item4=[0,1,1,0],\n",
    "    item5=[0,1,1,0]\n",
    "), orient='index', columns=[f'feature{i+1}' for i in range(4)])\n",
    "n_items = item_df.shape[0]\n",
    "n_features = item_df.shape[1]\n",
    "print(n_items, n_features)\n",
    "item_df"
   ]
  },
  {
   "cell_type": "code",
   "execution_count": 4,
   "id": "c4f62f17-abce-4fd3-9366-7e8523f50aeb",
   "metadata": {},
   "outputs": [
    {
     "data": {
      "text/html": [
       "<div>\n",
       "<style scoped>\n",
       "    .dataframe tbody tr th:only-of-type {\n",
       "        vertical-align: middle;\n",
       "    }\n",
       "\n",
       "    .dataframe tbody tr th {\n",
       "        vertical-align: top;\n",
       "    }\n",
       "\n",
       "    .dataframe thead th {\n",
       "        text-align: right;\n",
       "    }\n",
       "</style>\n",
       "<table border=\"1\" class=\"dataframe\">\n",
       "  <thead>\n",
       "    <tr style=\"text-align: right;\">\n",
       "      <th></th>\n",
       "      <th>item1</th>\n",
       "      <th>item2</th>\n",
       "      <th>item3</th>\n",
       "      <th>item4</th>\n",
       "      <th>item5</th>\n",
       "      <th>feature1</th>\n",
       "      <th>feature2</th>\n",
       "      <th>feature3</th>\n",
       "      <th>feature4</th>\n",
       "    </tr>\n",
       "  </thead>\n",
       "  <tbody>\n",
       "    <tr>\n",
       "      <th>item1</th>\n",
       "      <td>1</td>\n",
       "      <td>0</td>\n",
       "      <td>0</td>\n",
       "      <td>0</td>\n",
       "      <td>0</td>\n",
       "      <td>1</td>\n",
       "      <td>0</td>\n",
       "      <td>0</td>\n",
       "      <td>1</td>\n",
       "    </tr>\n",
       "    <tr>\n",
       "      <th>item2</th>\n",
       "      <td>0</td>\n",
       "      <td>1</td>\n",
       "      <td>0</td>\n",
       "      <td>0</td>\n",
       "      <td>0</td>\n",
       "      <td>1</td>\n",
       "      <td>0</td>\n",
       "      <td>0</td>\n",
       "      <td>1</td>\n",
       "    </tr>\n",
       "    <tr>\n",
       "      <th>item3</th>\n",
       "      <td>0</td>\n",
       "      <td>0</td>\n",
       "      <td>1</td>\n",
       "      <td>0</td>\n",
       "      <td>0</td>\n",
       "      <td>0</td>\n",
       "      <td>1</td>\n",
       "      <td>1</td>\n",
       "      <td>0</td>\n",
       "    </tr>\n",
       "    <tr>\n",
       "      <th>item4</th>\n",
       "      <td>0</td>\n",
       "      <td>0</td>\n",
       "      <td>0</td>\n",
       "      <td>1</td>\n",
       "      <td>0</td>\n",
       "      <td>0</td>\n",
       "      <td>1</td>\n",
       "      <td>1</td>\n",
       "      <td>0</td>\n",
       "    </tr>\n",
       "    <tr>\n",
       "      <th>item5</th>\n",
       "      <td>0</td>\n",
       "      <td>0</td>\n",
       "      <td>0</td>\n",
       "      <td>0</td>\n",
       "      <td>1</td>\n",
       "      <td>0</td>\n",
       "      <td>1</td>\n",
       "      <td>1</td>\n",
       "      <td>0</td>\n",
       "    </tr>\n",
       "  </tbody>\n",
       "</table>\n",
       "</div>"
      ],
      "text/plain": [
       "       item1  item2  item3  item4  item5  feature1  feature2  feature3  \\\n",
       "item1      1      0      0      0      0         1         0         0   \n",
       "item2      0      1      0      0      0         1         0         0   \n",
       "item3      0      0      1      0      0         0         1         1   \n",
       "item4      0      0      0      1      0         0         1         1   \n",
       "item5      0      0      0      0      1         0         1         1   \n",
       "\n",
       "       feature4  \n",
       "item1         1  \n",
       "item2         1  \n",
       "item3         0  \n",
       "item4         0  \n",
       "item5         0  "
      ]
     },
     "execution_count": 4,
     "metadata": {},
     "output_type": "execute_result"
    }
   ],
   "source": [
    "item_df_identity = pd.DataFrame(np.eye(item_df.shape[0]), dtype=int, index=item_df.index, columns=item_df.index)\n",
    "item_df = pd.concat([item_df_identity, item_df], axis=1)\n",
    "item_df"
   ]
  },
  {
   "cell_type": "code",
   "execution_count": 5,
   "id": "355d2dfa-d069-4bb1-b7bf-9737fc0f157b",
   "metadata": {},
   "outputs": [
    {
     "data": {
      "text/html": [
       "<div>\n",
       "<style scoped>\n",
       "    .dataframe tbody tr th:only-of-type {\n",
       "        vertical-align: middle;\n",
       "    }\n",
       "\n",
       "    .dataframe tbody tr th {\n",
       "        vertical-align: top;\n",
       "    }\n",
       "\n",
       "    .dataframe thead th {\n",
       "        text-align: right;\n",
       "    }\n",
       "</style>\n",
       "<table border=\"1\" class=\"dataframe\">\n",
       "  <thead>\n",
       "    <tr style=\"text-align: right;\">\n",
       "      <th></th>\n",
       "      <th>user1</th>\n",
       "      <th>user2</th>\n",
       "      <th>user3</th>\n",
       "    </tr>\n",
       "  </thead>\n",
       "  <tbody>\n",
       "    <tr>\n",
       "      <th>user1</th>\n",
       "      <td>1</td>\n",
       "      <td>0</td>\n",
       "      <td>0</td>\n",
       "    </tr>\n",
       "    <tr>\n",
       "      <th>user2</th>\n",
       "      <td>0</td>\n",
       "      <td>1</td>\n",
       "      <td>0</td>\n",
       "    </tr>\n",
       "    <tr>\n",
       "      <th>user3</th>\n",
       "      <td>0</td>\n",
       "      <td>0</td>\n",
       "      <td>1</td>\n",
       "    </tr>\n",
       "  </tbody>\n",
       "</table>\n",
       "</div>"
      ],
      "text/plain": [
       "       user1  user2  user3\n",
       "user1      1      0      0\n",
       "user2      0      1      0\n",
       "user3      0      0      1"
      ]
     },
     "execution_count": 5,
     "metadata": {},
     "output_type": "execute_result"
    }
   ],
   "source": [
    "user_df = pd.DataFrame(np.eye(3), dtype=int, index=[f'user{i+1}' for i in range(3)])\n",
    "user_df.columns = list(user_df.index.values)\n",
    "n_users = user_df.shape[0]\n",
    "user_df"
   ]
  },
  {
   "cell_type": "code",
   "execution_count": 6,
   "id": "95cb9622-10ac-4763-8c6a-6e5fb2da044a",
   "metadata": {},
   "outputs": [],
   "source": [
    "# int_df = pd.DataFrame.from_dict(dict(\n",
    "#     user1=[1,0,0,0,0],\n",
    "#     user2=[0,0,1,0,0],\n",
    "#     #user3=[1,0,1,1,0],\n",
    "# ), orient='index', columns=[f'item{i+1}' for i in range(5)])\n",
    "# int_df"
   ]
  },
  {
   "cell_type": "code",
   "execution_count": 7,
   "id": "05c55950-a7df-4395-8360-9ecdc7b34efa",
   "metadata": {},
   "outputs": [
    {
     "name": "stdout",
     "output_type": "stream",
     "text": [
      "(9, 2) (3, 2)\n"
     ]
    },
    {
     "data": {
      "text/plain": [
       "array([[-0.03,  0.06],\n",
       "       [ 0.06, -0.09],\n",
       "       [ 0.17,  0.12],\n",
       "       [-0.11, -0.03],\n",
       "       [ 0.15,  0.03],\n",
       "       [-0.18, -0.14],\n",
       "       [-0.01,  0.06],\n",
       "       [-0.1 , -0.03],\n",
       "       [-0.01,  0.05]])"
      ]
     },
     "execution_count": 7,
     "metadata": {},
     "output_type": "execute_result"
    }
   ],
   "source": [
    "#initiate\n",
    "nlatent = 2\n",
    "user_latent_mat = np.random.normal(loc=0.,scale=0.1,size=(user_df.shape[1],nlatent))\n",
    "item_latent_mat = np.random.normal(loc=0.,scale=0.1,size=(item_df.shape[1],nlatent))\n",
    "print(item_latent_mat.shape, user_latent_mat.shape)\n",
    "np.round(item_latent_mat,2)"
   ]
  },
  {
   "cell_type": "code",
   "execution_count": 8,
   "id": "156001d0-3230-4196-89ed-b430dae025dd",
   "metadata": {},
   "outputs": [
    {
     "data": {
      "text/plain": [
       "array([[1, 0, 0, 1],\n",
       "       [1, 0, 0, 1],\n",
       "       [0, 1, 1, 0],\n",
       "       [0, 1, 1, 0],\n",
       "       [0, 1, 1, 0]])"
      ]
     },
     "execution_count": 8,
     "metadata": {},
     "output_type": "execute_result"
    }
   ],
   "source": [
    "item_df.values[:, item_df.shape[0]:]"
   ]
  },
  {
   "cell_type": "code",
   "execution_count": 9,
   "id": "d0493c5a-b6f5-443b-b8cd-510a791d1a84",
   "metadata": {},
   "outputs": [
    {
     "data": {
      "text/plain": [
       "array([[ 0.5  , -0.866],\n",
       "       [-0.5  , -0.289],\n",
       "       [-0.5  , -0.289],\n",
       "       [ 0.5  ,  0.289]])"
      ]
     },
     "execution_count": 9,
     "metadata": {},
     "output_type": "execute_result"
    }
   ],
   "source": [
    "from sklearn.decomposition import PCA\n",
    "pca = PCA(n_components=nlatent).fit(item_df.values[:, item_df.shape[0]:])\n",
    "pca_vecs = np.round(pca.components_,3)\n",
    "pca_vecs.T"
   ]
  },
  {
   "cell_type": "code",
   "execution_count": 10,
   "id": "53960007-66f5-4bbf-8a5e-60b2bdec5db1",
   "metadata": {},
   "outputs": [
    {
     "data": {
      "text/plain": [
       "0.0"
      ]
     },
     "execution_count": 10,
     "metadata": {},
     "output_type": "execute_result"
    }
   ],
   "source": [
    "np.round(np.dot(pca_vecs[0,:], pca_vecs[1,:]),2)"
   ]
  },
  {
   "cell_type": "code",
   "execution_count": 11,
   "id": "04cd21aa-39c8-4186-ad5e-a1170de7f754",
   "metadata": {},
   "outputs": [
    {
     "data": {
      "text/plain": [
       "array([[-0.03,  0.06],\n",
       "       [ 0.06, -0.09],\n",
       "       [ 0.17,  0.12],\n",
       "       [-0.11, -0.03],\n",
       "       [ 0.15,  0.03],\n",
       "       [ 0.5 , -0.87],\n",
       "       [-0.5 , -0.29],\n",
       "       [-0.5 , -0.29],\n",
       "       [ 0.5 ,  0.29]])"
      ]
     },
     "execution_count": 11,
     "metadata": {},
     "output_type": "execute_result"
    }
   ],
   "source": [
    "item_latent_mat[item_df.shape[0]:,:] = pca.components_.T\n",
    "np.round(item_latent_mat,2)"
   ]
  },
  {
   "cell_type": "code",
   "execution_count": 12,
   "id": "4d4dce2c-04ba-4cca-8600-18dd73897587",
   "metadata": {},
   "outputs": [
    {
     "data": {
      "text/plain": [
       "array([0.06, 0.1 , 0.21, 0.11, 0.15, 1.  , 0.58, 0.58, 0.58])"
      ]
     },
     "execution_count": 12,
     "metadata": {},
     "output_type": "execute_result"
    }
   ],
   "source": [
    "np.round(np.linalg.norm(item_latent_mat, axis=1),2)"
   ]
  },
  {
   "cell_type": "code",
   "execution_count": 13,
   "id": "bcf5195e-9a9c-4fdd-a81a-68a228683195",
   "metadata": {},
   "outputs": [
    {
     "data": {
      "text/plain": [
       "array([0.01, 0.01, 0.01, 0.01, 0.01, 1.  , 1.  , 1.  , 1.  ])"
      ]
     },
     "execution_count": 13,
     "metadata": {},
     "output_type": "execute_result"
    }
   ],
   "source": [
    "for ix in range(n_items):\n",
    "    item_latent_mat[ix,:] /= 100*np.linalg.norm(item_latent_mat[ix,:])\n",
    "for ix in range(n_features):\n",
    "    item_latent_mat[n_items+ix,:] /= np.linalg.norm(item_latent_mat[n_items+ix,:])\n",
    "for ix in range(user_latent_mat.shape[0]):\n",
    "    user_latent_mat[ix,:] /= 10*np.linalg.norm(user_latent_mat[ix,:])\n",
    "np.round(np.linalg.norm(item_latent_mat, axis=1),2)\n",
    "#np.round(np.linalg.norm(user_latent_mat, axis=1),2)"
   ]
  },
  {
   "cell_type": "code",
   "execution_count": 14,
   "id": "fcd3172d-a1d4-418f-82c9-d7548bde57ab",
   "metadata": {},
   "outputs": [
    {
     "data": {
      "text/plain": [
       "array([[-0.  ,  0.01],\n",
       "       [ 0.01, -0.01],\n",
       "       [ 0.01,  0.01],\n",
       "       [-0.01, -0.  ],\n",
       "       [ 0.01,  0.  ],\n",
       "       [ 0.5 , -0.87],\n",
       "       [-0.87, -0.5 ],\n",
       "       [-0.87, -0.5 ],\n",
       "       [ 0.87,  0.5 ]])"
      ]
     },
     "execution_count": 14,
     "metadata": {},
     "output_type": "execute_result"
    }
   ],
   "source": [
    "np.round(item_latent_mat,2)"
   ]
  },
  {
   "cell_type": "code",
   "execution_count": 15,
   "id": "e60d4464-1acb-4836-a9b2-1c80906947b7",
   "metadata": {},
   "outputs": [
    {
     "data": {
      "text/plain": [
       "array([[ 0.08,  0.06],\n",
       "       [ 0.08, -0.07],\n",
       "       [-0.07, -0.08]])"
      ]
     },
     "execution_count": 15,
     "metadata": {},
     "output_type": "execute_result"
    }
   ],
   "source": [
    "np.round(user_latent_mat,2)"
   ]
  },
  {
   "cell_type": "code",
   "execution_count": 16,
   "id": "2f5016a8-faa5-42af-baea-a1089d4ca92f",
   "metadata": {},
   "outputs": [
    {
     "name": "stdout",
     "output_type": "stream",
     "text": [
      "Recs for user:  0\n",
      "0 : 0.091\n",
      "1 : 0.091\n",
      "2 : -0.198\n",
      "3 : -0.2\n",
      "4 : -0.198\n",
      "Recs for user:  1\n",
      "0 : 0.126\n",
      "1 : 0.128\n",
      "2 : -0.065\n",
      "3 : -0.066\n",
      "4 : -0.064\n",
      "Recs for user:  2\n",
      "0 : -0.062\n",
      "1 : -0.062\n",
      "2 : 0.188\n",
      "3 : 0.19\n",
      "4 : 0.188\n"
     ]
    }
   ],
   "source": [
    "for user_u in range(n_users):\n",
    "    print('Recs for user: ', user_u)\n",
    "    rec = user_latent_mat[user_u].dot(item_latent_mat.T)\n",
    "    for i in range(n_items):\n",
    "        inds = item_df.iloc[i].values.nonzero()[0]\n",
    "        print(i, ':', np.round(np.sum(rec[inds]),3))"
   ]
  },
  {
   "cell_type": "code",
   "execution_count": 19,
   "id": "aac49427-e721-4540-9765-6569180c2127",
   "metadata": {},
   "outputs": [],
   "source": [
    "# interaction\n",
    "user_u = 0\n",
    "item_pos = 0\n",
    "item_neg = 1"
   ]
  },
  {
   "cell_type": "code",
   "execution_count": 20,
   "id": "6e91f590-208e-44b8-be23-3997e9ac5e8f",
   "metadata": {},
   "outputs": [
    {
     "name": "stdout",
     "output_type": "stream",
     "text": [
      "::::::::Iter0\n",
      "User:\n",
      " [[ 0.716  0.038]\n",
      " [ 0.097 -0.024]\n",
      " [-0.028  0.096]]\n",
      "Item:\n",
      " [[ 0.103 -0.017]\n",
      " [-0.025 -0.003]\n",
      " [-0.075  0.017]\n",
      " [ 0.006  0.008]\n",
      " [-0.006 -0.008]\n",
      " [ 0.5   -0.866]\n",
      " [-0.866 -0.5  ]\n",
      " [-0.866 -0.5  ]\n",
      " [ 0.866  0.5  ]]\n",
      "0 : 1.037\n",
      "1 : 0.946\n",
      "2 : -1.331\n",
      "3 : -1.273\n",
      "4 : -1.283\n",
      "::::::::Iter1\n",
      "User:\n",
      " [[ 0.722  0.038]\n",
      " [ 0.097 -0.024]\n",
      " [-0.028  0.096]]\n",
      "Item:\n",
      " [[ 0.137 -0.015]\n",
      " [-0.059 -0.005]\n",
      " [-0.075  0.017]\n",
      " [ 0.006  0.008]\n",
      " [-0.006 -0.008]\n",
      " [ 0.5   -0.866]\n",
      " [-0.866 -0.5  ]\n",
      " [-0.866 -0.5  ]\n",
      " [ 0.866  0.5  ]]\n",
      "0 : 1.071\n",
      "1 : 0.93\n",
      "2 : -1.342\n",
      "3 : -1.283\n",
      "4 : -1.292\n",
      "::::::::Iter2\n",
      "User:\n",
      " [[ 0.731  0.037]\n",
      " [ 0.097 -0.024]\n",
      " [-0.028  0.096]]\n",
      "Item:\n",
      " [[ 0.171 -0.013]\n",
      " [-0.093 -0.007]\n",
      " [-0.075  0.017]\n",
      " [ 0.006  0.008]\n",
      " [-0.006 -0.008]\n",
      " [ 0.5   -0.866]\n",
      " [-0.866 -0.5  ]\n",
      " [-0.866 -0.5  ]\n",
      " [ 0.866  0.5  ]]\n",
      "0 : 1.109\n",
      "1 : 0.917\n",
      "2 : -1.358\n",
      "3 : -1.299\n",
      "4 : -1.308\n",
      "::::::::Iter3\n",
      "User:\n",
      " [[ 0.743  0.037]\n",
      " [ 0.097 -0.024]\n",
      " [-0.028  0.096]]\n",
      "Item:\n",
      " [[ 0.204 -0.012]\n",
      " [-0.126 -0.008]\n",
      " [-0.075  0.017]\n",
      " [ 0.006  0.008]\n",
      " [-0.006 -0.008]\n",
      " [ 0.5   -0.866]\n",
      " [-0.866 -0.5  ]\n",
      " [-0.866 -0.5  ]\n",
      " [ 0.866  0.5  ]]\n",
      "0 : 1.152\n",
      "1 : 0.908\n",
      "2 : -1.379\n",
      "3 : -1.319\n",
      "4 : -1.328\n",
      "::::::::Iter4\n",
      "User:\n",
      " [[ 0.757  0.037]\n",
      " [ 0.097 -0.024]\n",
      " [-0.028  0.096]]\n",
      "Item:\n",
      " [[ 0.236 -0.01 ]\n",
      " [-0.158 -0.01 ]\n",
      " [-0.075  0.017]\n",
      " [ 0.006  0.008]\n",
      " [-0.006 -0.008]\n",
      " [ 0.5   -0.866]\n",
      " [-0.866 -0.5  ]\n",
      " [-0.866 -0.5  ]\n",
      " [ 0.866  0.5  ]]\n",
      "0 : 1.2\n",
      "1 : 0.901\n",
      "2 : -1.405\n",
      "3 : -1.344\n",
      "4 : -1.353\n",
      "::::::::Iter5\n",
      "User:\n",
      " [[ 0.774  0.037]\n",
      " [ 0.097 -0.024]\n",
      " [-0.028  0.096]]\n",
      "Item:\n",
      " [[ 0.269 -0.009]\n",
      " [-0.191 -0.011]\n",
      " [-0.075  0.017]\n",
      " [ 0.006  0.008]\n",
      " [-0.006 -0.008]\n",
      " [ 0.5   -0.866]\n",
      " [-0.866 -0.5  ]\n",
      " [-0.866 -0.5  ]\n",
      " [ 0.866  0.5  ]]\n",
      "0 : 1.252\n",
      "1 : 0.896\n",
      "2 : -1.435\n",
      "3 : -1.373\n",
      "4 : -1.382\n",
      "::::::::Iter6\n",
      "User:\n",
      " [[ 0.793  0.037]\n",
      " [ 0.097 -0.024]\n",
      " [-0.028  0.096]]\n",
      "Item:\n",
      " [[ 0.3   -0.007]\n",
      " [-0.223 -0.013]\n",
      " [-0.075  0.017]\n",
      " [ 0.006  0.008]\n",
      " [-0.006 -0.008]\n",
      " [ 0.5   -0.866]\n",
      " [-0.866 -0.5  ]\n",
      " [-0.866 -0.5  ]\n",
      " [ 0.866  0.5  ]]\n",
      "0 : 1.308\n",
      "1 : 0.893\n",
      "2 : -1.47\n",
      "3 : -1.405\n",
      "4 : -1.415\n",
      "::::::::Iter7\n",
      "User:\n",
      " [[ 0.814  0.037]\n",
      " [ 0.097 -0.024]\n",
      " [-0.028  0.096]]\n",
      "Item:\n",
      " [[ 0.332 -0.006]\n",
      " [-0.254 -0.014]\n",
      " [-0.075  0.017]\n",
      " [ 0.006  0.008]\n",
      " [-0.006 -0.008]\n",
      " [ 0.5   -0.866]\n",
      " [-0.866 -0.5  ]\n",
      " [-0.866 -0.5  ]\n",
      " [ 0.866  0.5  ]]\n",
      "0 : 1.368\n",
      "1 : 0.891\n",
      "2 : -1.507\n",
      "3 : -1.442\n",
      "4 : -1.452\n",
      "::::::::Iter8\n",
      "User:\n",
      " [[ 0.836  0.037]\n",
      " [ 0.097 -0.024]\n",
      " [-0.028  0.096]]\n",
      "Item:\n",
      " [[ 0.363 -0.004]\n",
      " [-0.285 -0.016]\n",
      " [-0.075  0.017]\n",
      " [ 0.006  0.008]\n",
      " [-0.006 -0.008]\n",
      " [ 0.5   -0.866]\n",
      " [-0.866 -0.5  ]\n",
      " [-0.866 -0.5  ]\n",
      " [ 0.866  0.5  ]]\n",
      "0 : 1.433\n",
      "1 : 0.89\n",
      "2 : -1.548\n",
      "3 : -1.481\n",
      "4 : -1.491\n",
      "::::::::Iter9\n",
      "User:\n",
      " [[ 0.86   0.038]\n",
      " [ 0.097 -0.024]\n",
      " [-0.028  0.096]]\n",
      "Item:\n",
      " [[ 0.394 -0.003]\n",
      " [-0.316 -0.017]\n",
      " [-0.075  0.017]\n",
      " [ 0.006  0.008]\n",
      " [-0.006 -0.008]\n",
      " [ 0.5   -0.866]\n",
      " [-0.866 -0.5  ]\n",
      " [-0.866 -0.5  ]\n",
      " [ 0.866  0.5  ]]\n",
      "0 : 1.5\n",
      "1 : 0.889\n",
      "2 : -1.592\n",
      "3 : -1.522\n",
      "4 : -1.533\n"
     ]
    }
   ],
   "source": [
    "#gradients\n",
    "for ix in range(10): \n",
    "    print(f'::::::::Iter{ix}')\n",
    "    # slice user-item latent mat\n",
    "    user_latent = user_latent_mat[user_u]\n",
    "    #print(np.round(user_latent,2))\n",
    "    pos_inds = item_df.iloc[item_pos].values.nonzero()[0]\n",
    "    item_latent_pos = item_latent_mat[pos_inds,:]\n",
    "    #print(np.round(item_latent_pos,2))\n",
    "    item_latent_pos = np.sum(item_latent_pos,axis=0)\n",
    "    #print(np.round(item_latent_pos,2))\n",
    "    neg_inds = item_df.iloc[item_neg].values.nonzero()[0]\n",
    "    item_latent_neg = item_latent_mat[neg_inds,:]\n",
    "    #print(np.round(item_latent_neg,2))\n",
    "    item_latent_neg = np.sum(item_latent_neg, axis=0)\n",
    "    #print(np.round(item_latent_neg,2))\n",
    "\n",
    "    r_uij = np.dot(user_latent, (item_latent_pos - item_latent_neg))\n",
    "    sigmoid = expit(-r_uij)\n",
    "    sigmoid_tiled = np.tile(sigmoid, (nlatent,))\n",
    "    grad_u = np.multiply(sigmoid_tiled, (item_latent_neg - item_latent_pos))\n",
    "    grad_pos = np.multiply(sigmoid_tiled, -user_latent)\n",
    "    grad_neg = np.multiply(sigmoid_tiled, user_latent)\n",
    "\n",
    "    # bpr update\n",
    "    learning_rate=0.1\n",
    "    user_latent_mat[user_u] -= learning_rate * grad_u\n",
    "    item_latent_mat[item_pos] -= learning_rate * grad_pos\n",
    "    item_latent_mat[item_neg] -= learning_rate * grad_neg\n",
    "    print('User:\\n', np.round(user_latent_mat,3))\n",
    "    print('Item:\\n', np.round(item_latent_mat,3))\n",
    "    rec = user_latent_mat[user_u].dot(item_latent_mat.T)\n",
    "    for i in range(n_items):\n",
    "        inds = item_df.iloc[i].values.nonzero()[0]\n",
    "        print(i, ':', np.round(np.sum(rec[inds]),3))\n",
    "    #print('Recs:', np.round(rec,3))"
   ]
  },
  {
   "cell_type": "code",
   "execution_count": null,
   "id": "e9fd55cc-b86c-4aab-aae0-186e0d1b5734",
   "metadata": {},
   "outputs": [],
   "source": []
  }
 ],
 "metadata": {
  "kernelspec": {
   "display_name": "bpr_env",
   "language": "python",
   "name": "bpr_env"
  },
  "language_info": {
   "codemirror_mode": {
    "name": "ipython",
    "version": 3
   },
   "file_extension": ".py",
   "mimetype": "text/x-python",
   "name": "python",
   "nbconvert_exporter": "python",
   "pygments_lexer": "ipython3",
   "version": "3.10.13"
  }
 },
 "nbformat": 4,
 "nbformat_minor": 5
}
