{
 "cells": [
  {
   "cell_type": "markdown",
   "id": "dde5390d",
   "metadata": {},
   "source": [
    "## Application of BPR on Zazzle Data"
   ]
  },
  {
   "cell_type": "code",
   "execution_count": 1,
   "id": "4f4ca103",
   "metadata": {},
   "outputs": [],
   "source": [
    "%load_ext autoreload\n",
    "%autoreload 2"
   ]
  },
  {
   "cell_type": "code",
   "execution_count": 2,
   "id": "4af7d296",
   "metadata": {},
   "outputs": [],
   "source": [
    "import os\n",
    "import sys\n",
    "import itertools\n",
    "import numpy as np\n",
    "import pandas as pd\n",
    "from subprocess import call\n",
    "from pybpr import *\n",
    "import scipy.sparse as sp\n",
    "from functools import reduce\n",
    "import matplotlib.pyplot as plt\n",
    "from functools import partial"
   ]
  },
  {
   "cell_type": "markdown",
   "id": "db159369-ebb0-45ce-9d86-d72abe05153f",
   "metadata": {},
   "source": [
    "## Put Zazzle data in UserItemInteration Class object"
   ]
  },
  {
   "cell_type": "code",
   "execution_count": 3,
   "id": "17296352-cd76-464b-9ce7-dc0cff34d9cd",
   "metadata": {},
   "outputs": [],
   "source": [
    "DATA_DIR = '/kfs2/projects/zazzle/rsandhu/pybpr/examples/data/zazzle_big'\n",
    "df_v = pd.read_parquet(os.path.join(DATA_DIR, 'view_data.parquet'))\n",
    "df_c = pd.read_parquet(os.path.join(DATA_DIR, 'click_data.parquet'))\n",
    "df_o = pd.read_parquet(os.path.join(DATA_DIR, 'order_data.parquet'))\n",
    "df_v_not_c = pd.read_parquet(os.path.join(\n",
    "    DATA_DIR, 'viewed_not_clicked_data.parquet'))\n",
    "df_c_not_o = pd.read_parquet(os.path.join(\n",
    "    DATA_DIR, 'clicked_not_ordered_data.parquet'))"
   ]
  },
  {
   "cell_type": "code",
   "execution_count": 4,
   "id": "819540d0-503f-4c32-b91b-dc832d18c962",
   "metadata": {},
   "outputs": [
    {
     "data": {
      "text/plain": [
       "(16462, 779192)"
      ]
     },
     "execution_count": 4,
     "metadata": {},
     "output_type": "execute_result"
    }
   ],
   "source": [
    "df_v.user_id.nunique(), df_v.product_id.nunique()\n",
    "df_v.user_idx.nunique(), df_v.product_idx.nunique()"
   ]
  },
  {
   "cell_type": "code",
   "execution_count": 5,
   "id": "52261621-fc08-47ac-8fcd-d02a133ad222",
   "metadata": {},
   "outputs": [
    {
     "name": "stdout",
     "output_type": "stream",
     "text": [
      "\n",
      "----UserItemInteractions--Sample\n",
      "# of users (active/total): 16455/16462\n",
      "# of items (active/total): 779192/779192\n",
      "# of interactions: 28093326\n",
      "Sparsity in the UI mat: 0.00219\n",
      "Memory used by sparse UI mat: 26.79 MB\n",
      "Generating train-test split..Warning: Test matrix is set as empty/all-zeros\n",
      "\n",
      "----UserItemInteractions--Sample\n",
      "# of users (active/total): 16375/16462\n",
      "# of items (active/total): 313420/779192\n",
      "# of interactions: 833645\n",
      "Sparsity in the UI mat: 6.5e-05\n",
      "Memory used by sparse UI mat: 0.8 MB\n",
      "Generating train-test split..Warning: Test matrix is set as empty/all-zeros\n",
      "\n",
      "----UserItemInteractions--Sample\n",
      "# of users (active/total): 15446/16462\n",
      "# of items (active/total): 250741/779192\n",
      "# of interactions: 567047\n",
      "Sparsity in the UI mat: 4.4e-05\n",
      "Memory used by sparse UI mat: 0.54 MB\n",
      "Generating train-test split..Warning: Test matrix is set as empty/all-zeros\n",
      "\n",
      "----UserItemInteractions--Sample\n",
      "# of users (active/total): 16278/16462\n",
      "# of items (active/total): 139623/779192\n",
      "# of interactions: 266598\n",
      "Sparsity in the UI mat: 2.1e-05\n",
      "Memory used by sparse UI mat: 0.25 MB\n",
      "Generating train-test split..Warning: Test matrix is set as empty/all-zeros\n"
     ]
    }
   ],
   "source": [
    "# viewed not clicked\n",
    "num_users = df_v.user_id.nunique()\n",
    "num_items = df_v.product_id.nunique()\n",
    "\n",
    "test_ratio = 0.0\n",
    "data_viewed_not_clicked = UserItemInteractions(\n",
    "    users_index=df_v_not_c['user_idx'],\n",
    "    items_index=df_v_not_c['product_idx'],\n",
    "    num_users=num_users,\n",
    "    num_items=num_items\n",
    ")\n",
    "data_viewed_not_clicked.generate_train_test(user_test_ratio=test_ratio)\n",
    "\n",
    "# clicked\n",
    "data_clicked = UserItemInteractions(\n",
    "    users_index=df_c['user_idx'],\n",
    "    items_index=df_c['product_idx'],\n",
    "    num_users=num_users,\n",
    "    num_items=num_items\n",
    ")\n",
    "data_clicked.generate_train_test(user_test_ratio=test_ratio)\n",
    "\n",
    "# clicked not ordered\n",
    "data_clicked_not_ordered = UserItemInteractions(\n",
    "    users_index=df_c_not_o['user_idx'],\n",
    "    items_index=df_c_not_o['product_idx'],\n",
    "    num_users=num_users,\n",
    "    num_items=num_items\n",
    ")\n",
    "data_clicked_not_ordered.generate_train_test(user_test_ratio=test_ratio)\n",
    "\n",
    "# ordered\n",
    "data_ordered = UserItemInteractions(\n",
    "    users_index=df_o['user_idx'],\n",
    "    items_index=df_o['product_idx'],\n",
    "    num_users=num_users,\n",
    "    num_items=num_items\n",
    ")\n",
    "data_ordered.generate_train_test(user_test_ratio=test_ratio)"
   ]
  },
  {
   "cell_type": "markdown",
   "id": "a9d6885d-e0f6-4543-8271-821796e48b72",
   "metadata": {},
   "source": [
    "## BPR "
   ]
  },
  {
   "cell_type": "code",
   "execution_count": 6,
   "id": "783a4e91-67c5-4602-835f-6582375ef52b",
   "metadata": {},
   "outputs": [],
   "source": [
    "bpr1 = BPR(\n",
    "    num_features=200,\n",
    "    reg_lambda=0.0,\n",
    "    num_iters=500,\n",
    "    learning_rate = 0.1,\n",
    "    batch_size=15000,\n",
    "    initial_std=0.0001,\n",
    ")\n",
    "bpr1.initiate(num_users=num_users, num_items=num_items)"
   ]
  },
  {
   "cell_type": "code",
   "execution_count": 7,
   "id": "21267e5e-af25-422a-80d7-7f45632ea236",
   "metadata": {},
   "outputs": [
    {
     "name": "stdout",
     "output_type": "stream",
     "text": [
      "BPR-Train: 100%|██████████| 7500000/7500000 [00:11<00:00, 647046.78it/s]\n",
      "BPR-Score: 100%|██████████| 52/52 [00:40<00:00,  1.29it/s]\n",
      "[0.00769231 0.03182456 0.0697285 ]\n",
      "BPR-Train: 100%|██████████| 7500000/7500000 [00:11<00:00, 643123.98it/s]\n",
      "BPR-Score: 100%|██████████| 52/52 [00:41<00:00,  1.25it/s]\n",
      "[0.03163094 0.07814036 0.1755354 ]\n",
      "BPR-Train: 100%|██████████| 7500000/7500000 [00:11<00:00, 644451.60it/s]\n",
      "BPR-Score: 100%|██████████| 52/52 [00:41<00:00,  1.27it/s]\n",
      "[0.06220211 0.14851007 0.26101208]\n",
      "BPR-Train: 100%|██████████| 7500000/7500000 [00:11<00:00, 646940.51it/s]\n",
      "BPR-Score: 100%|██████████| 52/52 [00:40<00:00,  1.28it/s]\n",
      "[0.09404842 0.19460033 0.29784134]\n",
      "BPR-Train: 100%|██████████| 7500000/7500000 [00:11<00:00, 627729.08it/s]\n",
      "BPR-Score: 100%|██████████| 52/52 [00:41<00:00,  1.25it/s]\n",
      "[0.1196142  0.21527029 0.31494886]\n",
      "BPR-Train: 100%|██████████| 7500000/7500000 [00:12<00:00, 622368.39it/s]\n",
      "BPR-Score: 100%|██████████| 52/52 [00:42<00:00,  1.23it/s]\n",
      "[0.13495134 0.22530432 0.32633533]\n",
      "BPR-Train: 100%|██████████| 7500000/7500000 [00:11<00:00, 630408.43it/s]\n",
      "BPR-Score: 100%|██████████| 52/52 [00:41<00:00,  1.26it/s]\n",
      "[0.14422648 0.23291903 0.33295608]\n",
      "BPR-Train: 100%|██████████| 7500000/7500000 [00:11<00:00, 640205.38it/s]\n",
      "BPR-Score: 100%|██████████| 52/52 [00:41<00:00,  1.25it/s]\n",
      "[0.14893725 0.23710542 0.3383495 ]\n",
      "BPR-Train: 100%|██████████| 7500000/7500000 [00:11<00:00, 642624.22it/s]\n",
      "BPR-Score: 100%|██████████| 52/52 [00:41<00:00,  1.26it/s]\n",
      "[0.15213999 0.23810571 0.33915178]\n",
      "BPR-Train: 100%|██████████| 7500000/7500000 [00:12<00:00, 616902.69it/s]\n",
      "BPR-Score: 100%|██████████| 52/52 [00:40<00:00,  1.27it/s]\n",
      "[0.15562881 0.24067921 0.3434442 ]\n"
     ]
    }
   ],
   "source": [
    "pos_data = data_clicked\n",
    "neg_data = data_clicked_not_ordered\n",
    "metric_log_train = []\n",
    "# neg_sampler = partial(\n",
    "#     uniform_negative_sampler, \n",
    "#     uimat=training_data\n",
    "# )\n",
    "neg_sampler = partial(\n",
    "    explicit_negative_sampler,\n",
    "    pos_uimat=pos_data.mat,\n",
    "    neg_uimat=neg_data.mat\n",
    ")\n",
    "\n",
    "for _ in range(10):\n",
    "    results = bpr_fit(\n",
    "        bpr_obj=bpr1, \n",
    "        neg_sampler=neg_sampler, \n",
    "        ncores=104\n",
    "    )\n",
    "    mfunc = partial(\n",
    "        bpr1.get_metric_v1,\n",
    "        perc_active_users=0.5,\n",
    "        perc_active_items=0.5,\n",
    "        num_recs=60,\n",
    "        max_users_per_batch=160,\n",
    "        percentiles=[0.25,0.5, 0.75],\n",
    "        seed=1234\n",
    "    )\n",
    "    iscore = mfunc(uimat=pos_data.mat)\n",
    "    metric_log_train.append(iscore)\n",
    "    print(iscore)\n",
    "metric_log_train = np.asarray(metric_log_train)"
   ]
  },
  {
   "cell_type": "code",
   "execution_count": 8,
   "id": "3560a24e-2464-48e5-ba7b-0ff5e893ab5e",
   "metadata": {},
   "outputs": [
    {
     "name": "stdout",
     "output_type": "stream",
     "text": [
      "Saving the model in /projects/zazzle/rsandhu/pybpr/examples/output\n"
     ]
    }
   ],
   "source": [
    "OUT_DIR ='/projects/zazzle/rsandhu/pybpr/examples/output'\n",
    "bpr1.save_model(dir_name=OUT_DIR)"
   ]
  },
  {
   "cell_type": "code",
   "execution_count": 9,
   "id": "a0208e62-5203-49ed-a958-2f0fa9847e7e",
   "metadata": {},
   "outputs": [
    {
     "name": "stdout",
     "output_type": "stream",
     "text": [
      "Loading the model from /projects/zazzle/rsandhu/pybpr/examples/output\n",
      "NpzFile '/projects/zazzle/rsandhu/pybpr/examples/output/bpr_model.npz' with keys: umat, imat (16462, 200)\n"
     ]
    }
   ],
   "source": [
    "bpr1.load_model(OUT_DIR)"
   ]
  },
  {
   "cell_type": "code",
   "execution_count": 10,
   "id": "1e9dd143-279b-46df-926a-d90df9bcc4e5",
   "metadata": {},
   "outputs": [
    {
     "name": "stdout",
     "output_type": "stream",
     "text": [
      "Loading the model from /projects/zazzle/rsandhu/pybpr/examples/output\n",
      "NpzFile '/projects/zazzle/rsandhu/pybpr/examples/output/bpr_model.npz' with keys: umat, imat (16462, 200)\n"
     ]
    }
   ],
   "source": [
    "bpr2 = BPR()\n",
    "bpr2.load_model(OUT_DIR)"
   ]
  },
  {
   "cell_type": "code",
   "execution_count": 11,
   "id": "7672f388-8965-457d-a256-feefc269a204",
   "metadata": {},
   "outputs": [
    {
     "data": {
      "text/plain": [
       "True"
      ]
     },
     "execution_count": 11,
     "metadata": {},
     "output_type": "execute_result"
    }
   ],
   "source": [
    "np.all(bpr2.umat == bpr1.umat)\n",
    "np.all(bpr2.imat == bpr1.imat)"
   ]
  },
  {
   "cell_type": "code",
   "execution_count": 12,
   "id": "8496e277-87c4-4887-b2fd-e8e1ca712dc3",
   "metadata": {},
   "outputs": [
    {
     "data": {
      "text/plain": [
       "BPR(mname='bpr_model', num_features=200, num_iters=100, batch_size=32, initial_std=0.0001, reg_lambda=0.0, learning_rate=0.001, verbose=False)"
      ]
     },
     "execution_count": 12,
     "metadata": {},
     "output_type": "execute_result"
    }
   ],
   "source": [
    "bpr2"
   ]
  },
  {
   "cell_type": "code",
   "execution_count": 13,
   "id": "853a0029-d769-436f-852a-8839319f8ac4",
   "metadata": {},
   "outputs": [
    {
     "data": {
      "text/plain": [
       "BPR(mname='bpr_model', num_features=200, num_iters=500, batch_size=15000, initial_std=0.0001, reg_lambda=0.0, learning_rate=0.1, verbose=False)"
      ]
     },
     "execution_count": 13,
     "metadata": {},
     "output_type": "execute_result"
    }
   ],
   "source": [
    "bpr1"
   ]
  },
  {
   "cell_type": "code",
   "execution_count": null,
   "id": "277bb224-fc10-4ee9-97ad-8d02c6743999",
   "metadata": {},
   "outputs": [],
   "source": []
  }
 ],
 "metadata": {
  "kernelspec": {
   "display_name": "bpr_env",
   "language": "python",
   "name": "bpr_env"
  },
  "language_info": {
   "codemirror_mode": {
    "name": "ipython",
    "version": 3
   },
   "file_extension": ".py",
   "mimetype": "text/x-python",
   "name": "python",
   "nbconvert_exporter": "python",
   "pygments_lexer": "ipython3",
   "version": "3.12.1"
  }
 },
 "nbformat": 4,
 "nbformat_minor": 5
}
