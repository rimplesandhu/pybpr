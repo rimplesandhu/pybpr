{
 "cells": [
  {
   "cell_type": "markdown",
   "id": "dde5390d",
   "metadata": {},
   "source": [
    "## Application of BPR on Zazzle Data"
   ]
  },
  {
   "cell_type": "code",
   "execution_count": 1,
   "id": "4f4ca103",
   "metadata": {},
   "outputs": [],
   "source": [
    "%load_ext autoreload\n",
    "%autoreload 2"
   ]
  },
  {
   "cell_type": "code",
   "execution_count": 2,
   "id": "4af7d296",
   "metadata": {},
   "outputs": [],
   "source": [
    "import os\n",
    "import sys\n",
    "import itertools\n",
    "import numpy as np\n",
    "import pandas as pd\n",
    "from subprocess import call\n",
    "from pybpr import *\n",
    "import scipy.sparse as sp\n",
    "from functools import reduce\n",
    "import matplotlib.pyplot as plt\n",
    "from functools import partial"
   ]
  },
  {
   "cell_type": "markdown",
   "id": "43c1561b-beb6-4222-b3a7-1ac4a51e5452",
   "metadata": {},
   "source": [
    "## Process data from Zazzle"
   ]
  },
  {
   "cell_type": "code",
   "execution_count": 3,
   "id": "ee706802",
   "metadata": {},
   "outputs": [
    {
     "name": "stdout",
     "output_type": "stream",
     "text": [
      "CPU times: user 6.05 s, sys: 2.18 s, total: 8.22 s\n",
      "Wall time: 10.4 s\n"
     ]
    }
   ],
   "source": [
    "%%time\n",
    "data_dir = os.path.join(os.path.curdir, 'data', 'NREL')\n",
    "files = [os.path.join(data_dir,f'Clicks_{str(ix).zfill(4)}_part_00.parquet') for ix in range(80)]\n",
    "df = pd.concat([pd.read_parquet(ifile) for ifile in files])\n",
    "cdf = df[df['is_click']].copy() # click data\n",
    "vdf = df[~df['is_click']].copy() # not click is view data\n",
    "#df_click = df_click[~df_click['is_click']].copy()"
   ]
  },
  {
   "cell_type": "code",
   "execution_count": 4,
   "id": "fae7ffba",
   "metadata": {},
   "outputs": [
    {
     "name": "stdout",
     "output_type": "stream",
     "text": [
      "CPU times: user 133 ms, sys: 106 ms, total: 239 ms\n",
      "Wall time: 1.58 s\n"
     ]
    }
   ],
   "source": [
    "%%time\n",
    "files = [os.path.join(data_dir,f'OrderItems_{str(ix).zfill(4)}_part_00.parquet') for ix in range(80)]\n",
    "odf = pd.concat([pd.read_parquet(ifile) for ifile in files])"
   ]
  },
  {
   "cell_type": "code",
   "execution_count": 5,
   "id": "3b1c792e",
   "metadata": {},
   "outputs": [
    {
     "name": "stdout",
     "output_type": "stream",
     "text": [
      "CPU times: user 2.56 s, sys: 956 ms, total: 3.52 s\n",
      "Wall time: 5.95 s\n"
     ]
    }
   ],
   "source": [
    "%%time\n",
    "files = [os.path.join(data_dir,f'Products_{str(ix).zfill(4)}_part_00.parquet') for ix in range(80)]\n",
    "pdf = pd.concat([pd.read_parquet(ifile) for ifile in files])"
   ]
  },
  {
   "cell_type": "code",
   "execution_count": 6,
   "id": "0ff44497",
   "metadata": {},
   "outputs": [],
   "source": [
    "vdf.drop(columns=['is_click','cleaned_url'], inplace=True, errors='ignore')\n",
    "cdf.drop(columns=['is_click','cleaned_url'], inplace=True, errors='ignore')\n",
    "cdf = pd.concat([cdf, odf]) # ensures order data is part of click data\n",
    "vdf = pd.concat([vdf, cdf]) # ensures click data is part of view data"
   ]
  },
  {
   "cell_type": "code",
   "execution_count": 7,
   "id": "2af0015f-9bc4-48b4-8494-70d5bda5128a",
   "metadata": {},
   "outputs": [
    {
     "data": {
      "text/html": [
       "<div>\n",
       "<style scoped>\n",
       "    .dataframe tbody tr th:only-of-type {\n",
       "        vertical-align: middle;\n",
       "    }\n",
       "\n",
       "    .dataframe tbody tr th {\n",
       "        vertical-align: top;\n",
       "    }\n",
       "\n",
       "    .dataframe thead th {\n",
       "        text-align: right;\n",
       "    }\n",
       "</style>\n",
       "<table border=\"1\" class=\"dataframe\">\n",
       "  <thead>\n",
       "    <tr style=\"text-align: right;\">\n",
       "      <th></th>\n",
       "      <th>user_id</th>\n",
       "      <th>date_created</th>\n",
       "      <th>product_id</th>\n",
       "    </tr>\n",
       "  </thead>\n",
       "  <tbody>\n",
       "    <tr>\n",
       "      <th>0</th>\n",
       "      <td>011fd642-8268-4b30-a9ab-038ffa5a33b6</td>\n",
       "      <td>1675585562</td>\n",
       "      <td>256455388267258097</td>\n",
       "    </tr>\n",
       "    <tr>\n",
       "      <th>1</th>\n",
       "      <td>011fd642-8268-4b30-a9ab-038ffa5a33b6</td>\n",
       "      <td>1675585562</td>\n",
       "      <td>228981329284404608</td>\n",
       "    </tr>\n",
       "    <tr>\n",
       "      <th>2</th>\n",
       "      <td>011fd642-8268-4b30-a9ab-038ffa5a33b6</td>\n",
       "      <td>1678206962</td>\n",
       "      <td>256009884926995133</td>\n",
       "    </tr>\n",
       "    <tr>\n",
       "      <th>3</th>\n",
       "      <td>011fd642-8268-4b30-a9ab-038ffa5a33b6</td>\n",
       "      <td>1678206962</td>\n",
       "      <td>256944911110360906</td>\n",
       "    </tr>\n",
       "    <tr>\n",
       "      <th>4</th>\n",
       "      <td>011fd642-8268-4b30-a9ab-038ffa5a33b6</td>\n",
       "      <td>1678206962</td>\n",
       "      <td>256996950913031084</td>\n",
       "    </tr>\n",
       "  </tbody>\n",
       "</table>\n",
       "</div>"
      ],
      "text/plain": [
       "                                user_id  date_created          product_id\n",
       "0  011fd642-8268-4b30-a9ab-038ffa5a33b6    1675585562  256455388267258097\n",
       "1  011fd642-8268-4b30-a9ab-038ffa5a33b6    1675585562  228981329284404608\n",
       "2  011fd642-8268-4b30-a9ab-038ffa5a33b6    1678206962  256009884926995133\n",
       "3  011fd642-8268-4b30-a9ab-038ffa5a33b6    1678206962  256944911110360906\n",
       "4  011fd642-8268-4b30-a9ab-038ffa5a33b6    1678206962  256996950913031084"
      ]
     },
     "execution_count": 7,
     "metadata": {},
     "output_type": "execute_result"
    }
   ],
   "source": [
    "odf.head()"
   ]
  },
  {
   "cell_type": "code",
   "execution_count": 8,
   "id": "bb30d18f",
   "metadata": {},
   "outputs": [],
   "source": [
    "# remove repeated entries\n",
    "cdf.drop_duplicates(subset=['user_id','product_id'], keep='last', inplace=True)\n",
    "vdf.drop_duplicates(subset=['user_id','product_id'], keep='last', inplace=True)\n",
    "odf.drop_duplicates(subset=['user_id','product_id'], keep='last', inplace=True)"
   ]
  },
  {
   "cell_type": "code",
   "execution_count": 9,
   "id": "696efd75-1cca-4e35-85ca-2279063dc82b",
   "metadata": {},
   "outputs": [
    {
     "name": "stdout",
     "output_type": "stream",
     "text": [
      "Views:  int=28927112 u=16511 i=779192\n",
      "Clicks: int=833698 u=16402 i=313452\n",
      "Orders: int=266638 u=16302 i=139654\n"
     ]
    }
   ],
   "source": [
    "print(f'Views:  int={vdf.shape[0]} u={vdf.user_id.nunique()} i={vdf.product_id.nunique()}')\n",
    "print(f'Clicks: int={cdf.shape[0]} u={cdf.user_id.nunique()} i={cdf.product_id.nunique()}')\n",
    "print(f'Orders: int={odf.shape[0]} u={odf.user_id.nunique()} i={odf.product_id.nunique()}')"
   ]
  },
  {
   "cell_type": "code",
   "execution_count": 10,
   "id": "c4d4238b",
   "metadata": {},
   "outputs": [
    {
     "name": "stdout",
     "output_type": "stream",
     "text": [
      "Valid Users = 16462\n",
      "Valid Items = 779192\n"
     ]
    }
   ],
   "source": [
    "# make sure atleast some interaction data for each user/item\n",
    "idf = vdf.groupby('user_id')['product_id'].count().gt(5)\n",
    "valid_users = idf[idf].index.to_numpy()\n",
    "jdf = vdf.groupby('product_id')['user_id'].count().gt(5)\n",
    "valid_items = jdf[jdf].index.to_numpy()\n",
    "print(f'Valid Users = {valid_users.shape[0]}')\n",
    "print(f'Valid Items = {valid_items.shape[0]}')"
   ]
  },
  {
   "cell_type": "code",
   "execution_count": 11,
   "id": "3ec55c86",
   "metadata": {},
   "outputs": [
    {
     "name": "stdout",
     "output_type": "stream",
     "text": [
      "16462 16375 16278\n",
      "779192 313420 139623\n"
     ]
    }
   ],
   "source": [
    "common_users = reduce(np.intersect1d, (vdf.user_id, cdf.user_id, odf.user_id, valid_users))\n",
    "common_users = valid_users\n",
    "vdf = vdf[vdf.user_id.isin(common_users)].copy()\n",
    "cdf = cdf[cdf.user_id.isin(common_users)].copy()\n",
    "odf = odf[odf.user_id.isin(common_users)].copy()\n",
    "print(vdf.user_id.nunique(), cdf.user_id.nunique(), odf.user_id.nunique())\n",
    "common_items = reduce(np.intersect1d, (vdf.product_id, cdf.product_id, odf.product_id, valid_items))\n",
    "common_items=valid_items\n",
    "vdf = vdf[vdf.product_id.isin(common_items)].copy()\n",
    "cdf = cdf[cdf.product_id.isin(common_items)].copy()\n",
    "odf = odf[odf.product_id.isin(common_items)].copy()\n",
    "print(vdf.product_id.nunique(), cdf.product_id.nunique(), odf.product_id.nunique())"
   ]
  },
  {
   "cell_type": "code",
   "execution_count": 12,
   "id": "de7f0ef1",
   "metadata": {},
   "outputs": [],
   "source": [
    "# %%time\n",
    "# # get indices for users and products\n",
    "# for cname in ['user_id','product_id']:\n",
    "#     vdf[cname] = vdf[cname].astype('category')\n",
    "#     vdf[f'{cname}x'] = vdf[cname].cat.codes.astype(int)\n",
    "#     cdf[cname] = pd.Categorical(\n",
    "#         cdf[cname], \n",
    "#         categories=vdf[cname].unique(), \n",
    "#         ordered=False\n",
    "#     )\n",
    "#     cdf[f'{cname}x'] = cdf[cname].cat.codes.astype(int)\n",
    "#     odf[cname] = pd.Categorical(\n",
    "#         odf[cname], \n",
    "#         categories=vdf[cname].unique(), \n",
    "#         ordered=False\n",
    "#     )\n",
    "#     odf[f'{cname}x'] = odf[cname].cat.codes.astype(int)\n",
    "# cname='product_id'\n",
    "# pdf[cname] = pd.Categorical(\n",
    "#     pdf[cname], \n",
    "#     categories=vdf[cname].unique(), \n",
    "#     ordered=False\n",
    "# )\n",
    "# pdf[f'{cname}x'] = pdf[cname].cat.codes.astype(int)\n",
    "# # odf.groupby('product_id')['user_id'].count().sort_values()"
   ]
  },
  {
   "cell_type": "code",
   "execution_count": 13,
   "id": "12a89ba5-47d7-49aa-87e3-39cd350498a7",
   "metadata": {},
   "outputs": [],
   "source": [
    "# add index columns\n",
    "vdf, (cdf, odf, pdf) = generate_user_item_indices(\n",
    "    parent_df = vdf, \n",
    "    children_dfs = [cdf, odf, pdf],\n",
    "    userid_column = 'user_id',\n",
    "    itemid_column = 'product_id',\n",
    "    index_suffix='x'\n",
    ")"
   ]
  },
  {
   "cell_type": "code",
   "execution_count": 14,
   "id": "868c62d0-cce9-4e49-8116-fc5c6b9142ed",
   "metadata": {},
   "outputs": [],
   "source": [
    "vdf.reset_index(inplace=True, drop=True)\n",
    "cdf.reset_index(inplace=True, drop=True)\n",
    "odf.reset_index(inplace=True, drop=True)"
   ]
  },
  {
   "cell_type": "code",
   "execution_count": 15,
   "id": "73ba399c-c4e7-448b-bba8-492aa6941d5d",
   "metadata": {},
   "outputs": [],
   "source": [
    "vdf.to_parquet(os.path.join(os.path.curdir, 'output', 'zazzle_data', 'view_data.parquet'))\n",
    "cdf.to_parquet(os.path.join(os.path.curdir, 'output', 'zazzle_data', 'click_data.parquet'))\n",
    "odf.to_parquet(os.path.join(os.path.curdir, 'output', 'zazzle_data', 'order_data.parquet'))"
   ]
  },
  {
   "cell_type": "markdown",
   "id": "974f429d-1b8c-4fe9-8a8f-329ee323ee06",
   "metadata": {},
   "source": [
    "## Create pos/neg pair datasets"
   ]
  },
  {
   "cell_type": "code",
   "execution_count": 16,
   "id": "2b8132ca-83b5-4332-bee0-6341c27c68fe",
   "metadata": {},
   "outputs": [],
   "source": [
    "idf = vdf.merge(cdf, on=['user_id','product_id'], how='left', indicator=True)\n",
    "df_viewed_but_not_clicked = vdf[(idf['_merge']=='left_only').values]"
   ]
  },
  {
   "cell_type": "code",
   "execution_count": 17,
   "id": "be5db395-7817-4289-98b6-86a845c2a2be",
   "metadata": {},
   "outputs": [],
   "source": [
    "idf = cdf.merge(odf, on=['user_id','product_id'], how='left', indicator=True)\n",
    "df_clicked_but_not_ordered = cdf[(idf['_merge']=='left_only').values]"
   ]
  },
  {
   "cell_type": "code",
   "execution_count": 18,
   "id": "2184f6fe-d3dc-4855-bd81-82dab78a7937",
   "metadata": {},
   "outputs": [
    {
     "data": {
      "text/plain": [
       "(567047, 266598, 833645)"
      ]
     },
     "execution_count": 18,
     "metadata": {},
     "output_type": "execute_result"
    }
   ],
   "source": [
    "# check if compatible\n",
    "df_viewed_but_not_clicked.shape[0], cdf.shape[0], vdf.shape[0]\n",
    "df_clicked_but_not_ordered.shape[0], odf.shape[0], cdf.shape[0]"
   ]
  },
  {
   "cell_type": "code",
   "execution_count": 19,
   "id": "d2a1fb73-bdd8-4bb4-9b6e-521a968651d7",
   "metadata": {},
   "outputs": [],
   "source": [
    "df_viewed_but_not_clicked.to_parquet(os.path.join(os.path.curdir, 'output', 'zazzle_data', 'viewed_not_clicked_data.parquet'))\n",
    "df_clicked_but_not_ordered.to_parquet(os.path.join(os.path.curdir, 'output', 'zazzle_data', 'clicked_not_ordered_data.parquet'))"
   ]
  },
  {
   "cell_type": "markdown",
   "id": "568209fa-a0e8-457b-8caa-ee5ede1bbcc0",
   "metadata": {},
   "source": [
    "## Plotting"
   ]
  },
  {
   "cell_type": "code",
   "execution_count": 20,
   "id": "1e9e2329-fbd3-41ed-9f81-5e13d646bdbf",
   "metadata": {},
   "outputs": [
    {
     "data": {
      "text/plain": [
       "Text(0, 0.5, 'CDF')"
      ]
     },
     "execution_count": 20,
     "metadata": {},
     "output_type": "execute_result"
    },
    {
     "data": {
      "image/png": "[encoded data removed]",
      "text/plain": [
       "<Figure size 500x300 with 1 Axes>"
      ]
     },
     "metadata": {},
     "output_type": "display_data"
    }
   ],
   "source": [
    "fig, ax = plt.subplots(figsize=(5,3))\n",
    "iter_dict = {'Views': vdf, 'Clicks':cdf, 'Orders':odf}\n",
    "for ilbl, idf in iter_dict.items():\n",
    "    data = idf.groupby('user_idx')['product_idx'].count().values\n",
    "    xbins, ylocs = get_cdf(data, bins=100, range=(0,200))\n",
    "    ax.plot(xbins, ylocs, label=ilbl) \n",
    "ax.legend()\n",
    "ax.grid(True)\n",
    "ax.set_xlabel('Number of interactions')\n",
    "ax.set_ylabel('CDF')"
   ]
  },
  {
   "cell_type": "code",
   "execution_count": null,
   "id": "6ecd775e-b7a8-4aec-b2ea-780ba3cb9303",
   "metadata": {},
   "outputs": [],
   "source": []
  }
 ],
 "metadata": {
  "kernelspec": {
   "display_name": "bpr_env",
   "language": "python",
   "name": "bpr_env"
  },
  "language_info": {
   "codemirror_mode": {
    "name": "ipython",
    "version": 3
   },
   "file_extension": ".py",
   "mimetype": "text/x-python",
   "name": "python",
   "nbconvert_exporter": "python",
   "pygments_lexer": "ipython3",
   "version": "3.12.1"
  }
 },
 "nbformat": 4,
 "nbformat_minor": 5
}
